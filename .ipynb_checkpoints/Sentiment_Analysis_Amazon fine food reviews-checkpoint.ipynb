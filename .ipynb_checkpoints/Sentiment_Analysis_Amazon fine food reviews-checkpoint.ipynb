{
 "cells": [
  {
   "cell_type": "code",
   "execution_count": 4,
   "id": "45c6914d-acc2-42a8-8d9b-e8e6be7b31f3",
   "metadata": {},
   "outputs": [],
   "source": [
    "import pandas as pd\n",
    "import sqlite3"
   ]
  },
  {
   "cell_type": "code",
   "execution_count": 12,
   "id": "b97d36fb-cb83-49f3-96b2-9507ca5d574c",
   "metadata": {},
   "outputs": [],
   "source": [
    "connection = sqlite3.connect(r\"C:\\Users\\DeLL\\Downloads\\database.sqlite\\database.sqlite\")"
   ]
  },
  {
   "cell_type": "code",
   "execution_count": 13,
   "id": "3a9624d8-c179-4128-83eb-c06d38030671",
   "metadata": {},
   "outputs": [
    {
     "data": {
      "text/html": [
       "<div>\n",
       "<style scoped>\n",
       "    .dataframe tbody tr th:only-of-type {\n",
       "        vertical-align: middle;\n",
       "    }\n",
       "\n",
       "    .dataframe tbody tr th {\n",
       "        vertical-align: top;\n",
       "    }\n",
       "\n",
       "    .dataframe thead th {\n",
       "        text-align: right;\n",
       "    }\n",
       "</style>\n",
       "<table border=\"1\" class=\"dataframe\">\n",
       "  <thead>\n",
       "    <tr style=\"text-align: right;\">\n",
       "      <th></th>\n",
       "      <th>Id</th>\n",
       "      <th>ProductId</th>\n",
       "      <th>UserId</th>\n",
       "      <th>ProfileName</th>\n",
       "      <th>HelpfulnessNumerator</th>\n",
       "      <th>HelpfulnessDenominator</th>\n",
       "      <th>Score</th>\n",
       "      <th>Time</th>\n",
       "      <th>Summary</th>\n",
       "      <th>Text</th>\n",
       "    </tr>\n",
       "  </thead>\n",
       "  <tbody>\n",
       "    <tr>\n",
       "      <th>0</th>\n",
       "      <td>1</td>\n",
       "      <td>B001E4KFG0</td>\n",
       "      <td>A3SGXH7AUHU8GW</td>\n",
       "      <td>delmartian</td>\n",
       "      <td>1</td>\n",
       "      <td>1</td>\n",
       "      <td>5</td>\n",
       "      <td>1303862400</td>\n",
       "      <td>Good Quality Dog Food</td>\n",
       "      <td>I have bought several of the Vitality canned d...</td>\n",
       "    </tr>\n",
       "    <tr>\n",
       "      <th>1</th>\n",
       "      <td>2</td>\n",
       "      <td>B00813GRG4</td>\n",
       "      <td>A1D87F6ZCVE5NK</td>\n",
       "      <td>dll pa</td>\n",
       "      <td>0</td>\n",
       "      <td>0</td>\n",
       "      <td>1</td>\n",
       "      <td>1346976000</td>\n",
       "      <td>Not as Advertised</td>\n",
       "      <td>Product arrived labeled as Jumbo Salted Peanut...</td>\n",
       "    </tr>\n",
       "    <tr>\n",
       "      <th>2</th>\n",
       "      <td>3</td>\n",
       "      <td>B000LQOCH0</td>\n",
       "      <td>ABXLMWJIXXAIN</td>\n",
       "      <td>Natalia Corres \"Natalia Corres\"</td>\n",
       "      <td>1</td>\n",
       "      <td>1</td>\n",
       "      <td>4</td>\n",
       "      <td>1219017600</td>\n",
       "      <td>\"Delight\" says it all</td>\n",
       "      <td>This is a confection that has been around a fe...</td>\n",
       "    </tr>\n",
       "    <tr>\n",
       "      <th>3</th>\n",
       "      <td>4</td>\n",
       "      <td>B000UA0QIQ</td>\n",
       "      <td>A395BORC6FGVXV</td>\n",
       "      <td>Karl</td>\n",
       "      <td>3</td>\n",
       "      <td>3</td>\n",
       "      <td>2</td>\n",
       "      <td>1307923200</td>\n",
       "      <td>Cough Medicine</td>\n",
       "      <td>If you are looking for the secret ingredient i...</td>\n",
       "    </tr>\n",
       "    <tr>\n",
       "      <th>4</th>\n",
       "      <td>5</td>\n",
       "      <td>B006K2ZZ7K</td>\n",
       "      <td>A1UQRSCLF8GW1T</td>\n",
       "      <td>Michael D. Bigham \"M. Wassir\"</td>\n",
       "      <td>0</td>\n",
       "      <td>0</td>\n",
       "      <td>5</td>\n",
       "      <td>1350777600</td>\n",
       "      <td>Great taffy</td>\n",
       "      <td>Great taffy at a great price.  There was a wid...</td>\n",
       "    </tr>\n",
       "    <tr>\n",
       "      <th>...</th>\n",
       "      <td>...</td>\n",
       "      <td>...</td>\n",
       "      <td>...</td>\n",
       "      <td>...</td>\n",
       "      <td>...</td>\n",
       "      <td>...</td>\n",
       "      <td>...</td>\n",
       "      <td>...</td>\n",
       "      <td>...</td>\n",
       "      <td>...</td>\n",
       "    </tr>\n",
       "    <tr>\n",
       "      <th>568449</th>\n",
       "      <td>568450</td>\n",
       "      <td>B001EO7N10</td>\n",
       "      <td>A28KG5XORO54AY</td>\n",
       "      <td>Lettie D. Carter</td>\n",
       "      <td>0</td>\n",
       "      <td>0</td>\n",
       "      <td>5</td>\n",
       "      <td>1299628800</td>\n",
       "      <td>Will not do without</td>\n",
       "      <td>Great for sesame chicken..this is a good if no...</td>\n",
       "    </tr>\n",
       "    <tr>\n",
       "      <th>568450</th>\n",
       "      <td>568451</td>\n",
       "      <td>B003S1WTCU</td>\n",
       "      <td>A3I8AFVPEE8KI5</td>\n",
       "      <td>R. Sawyer</td>\n",
       "      <td>0</td>\n",
       "      <td>0</td>\n",
       "      <td>2</td>\n",
       "      <td>1331251200</td>\n",
       "      <td>disappointed</td>\n",
       "      <td>I'm disappointed with the flavor. The chocolat...</td>\n",
       "    </tr>\n",
       "    <tr>\n",
       "      <th>568451</th>\n",
       "      <td>568452</td>\n",
       "      <td>B004I613EE</td>\n",
       "      <td>A121AA1GQV751Z</td>\n",
       "      <td>pksd \"pk_007\"</td>\n",
       "      <td>2</td>\n",
       "      <td>2</td>\n",
       "      <td>5</td>\n",
       "      <td>1329782400</td>\n",
       "      <td>Perfect for our maltipoo</td>\n",
       "      <td>These stars are small, so you can give 10-15 o...</td>\n",
       "    </tr>\n",
       "    <tr>\n",
       "      <th>568452</th>\n",
       "      <td>568453</td>\n",
       "      <td>B004I613EE</td>\n",
       "      <td>A3IBEVCTXKNOH</td>\n",
       "      <td>Kathy A. Welch \"katwel\"</td>\n",
       "      <td>1</td>\n",
       "      <td>1</td>\n",
       "      <td>5</td>\n",
       "      <td>1331596800</td>\n",
       "      <td>Favorite Training and reward treat</td>\n",
       "      <td>These are the BEST treats for training and rew...</td>\n",
       "    </tr>\n",
       "    <tr>\n",
       "      <th>568453</th>\n",
       "      <td>568454</td>\n",
       "      <td>B001LR2CU2</td>\n",
       "      <td>A3LGQPJCZVL9UC</td>\n",
       "      <td>srfell17</td>\n",
       "      <td>0</td>\n",
       "      <td>0</td>\n",
       "      <td>5</td>\n",
       "      <td>1338422400</td>\n",
       "      <td>Great Honey</td>\n",
       "      <td>I am very satisfied ,product is as advertised,...</td>\n",
       "    </tr>\n",
       "  </tbody>\n",
       "</table>\n",
       "<p>568454 rows × 10 columns</p>\n",
       "</div>"
      ],
      "text/plain": [
       "            Id   ProductId          UserId                      ProfileName  \\\n",
       "0            1  B001E4KFG0  A3SGXH7AUHU8GW                       delmartian   \n",
       "1            2  B00813GRG4  A1D87F6ZCVE5NK                           dll pa   \n",
       "2            3  B000LQOCH0   ABXLMWJIXXAIN  Natalia Corres \"Natalia Corres\"   \n",
       "3            4  B000UA0QIQ  A395BORC6FGVXV                             Karl   \n",
       "4            5  B006K2ZZ7K  A1UQRSCLF8GW1T    Michael D. Bigham \"M. Wassir\"   \n",
       "...        ...         ...             ...                              ...   \n",
       "568449  568450  B001EO7N10  A28KG5XORO54AY                 Lettie D. Carter   \n",
       "568450  568451  B003S1WTCU  A3I8AFVPEE8KI5                        R. Sawyer   \n",
       "568451  568452  B004I613EE  A121AA1GQV751Z                    pksd \"pk_007\"   \n",
       "568452  568453  B004I613EE   A3IBEVCTXKNOH          Kathy A. Welch \"katwel\"   \n",
       "568453  568454  B001LR2CU2  A3LGQPJCZVL9UC                         srfell17   \n",
       "\n",
       "        HelpfulnessNumerator  HelpfulnessDenominator  Score        Time  \\\n",
       "0                          1                       1      5  1303862400   \n",
       "1                          0                       0      1  1346976000   \n",
       "2                          1                       1      4  1219017600   \n",
       "3                          3                       3      2  1307923200   \n",
       "4                          0                       0      5  1350777600   \n",
       "...                      ...                     ...    ...         ...   \n",
       "568449                     0                       0      5  1299628800   \n",
       "568450                     0                       0      2  1331251200   \n",
       "568451                     2                       2      5  1329782400   \n",
       "568452                     1                       1      5  1331596800   \n",
       "568453                     0                       0      5  1338422400   \n",
       "\n",
       "                                   Summary  \\\n",
       "0                    Good Quality Dog Food   \n",
       "1                        Not as Advertised   \n",
       "2                    \"Delight\" says it all   \n",
       "3                           Cough Medicine   \n",
       "4                              Great taffy   \n",
       "...                                    ...   \n",
       "568449                 Will not do without   \n",
       "568450                        disappointed   \n",
       "568451            Perfect for our maltipoo   \n",
       "568452  Favorite Training and reward treat   \n",
       "568453                         Great Honey   \n",
       "\n",
       "                                                     Text  \n",
       "0       I have bought several of the Vitality canned d...  \n",
       "1       Product arrived labeled as Jumbo Salted Peanut...  \n",
       "2       This is a confection that has been around a fe...  \n",
       "3       If you are looking for the secret ingredient i...  \n",
       "4       Great taffy at a great price.  There was a wid...  \n",
       "...                                                   ...  \n",
       "568449  Great for sesame chicken..this is a good if no...  \n",
       "568450  I'm disappointed with the flavor. The chocolat...  \n",
       "568451  These stars are small, so you can give 10-15 o...  \n",
       "568452  These are the BEST treats for training and rew...  \n",
       "568453  I am very satisfied ,product is as advertised,...  \n",
       "\n",
       "[568454 rows x 10 columns]"
      ]
     },
     "execution_count": 13,
     "metadata": {},
     "output_type": "execute_result"
    }
   ],
   "source": [
    "df = pd.read_sql_query('SELECT * FROM Reviews', connection)\n",
    "connection.close()\n",
    "df"
   ]
  },
  {
   "cell_type": "code",
   "execution_count": null,
   "id": "a04fe22e-df74-4312-b0e9-3bca7b7c3cca",
   "metadata": {},
   "outputs": [],
   "source": []
  },
  {
   "cell_type": "code",
   "execution_count": 14,
   "id": "936bd0d8-e538-4157-8503-40522db6ce93",
   "metadata": {},
   "outputs": [],
   "source": [
    "from vaderSentiment.vaderSentiment import SentimentIntensityAnalyzer"
   ]
  },
  {
   "cell_type": "code",
   "execution_count": 15,
   "id": "2eeabdc1-00e9-4414-9ea0-8e48a22efb5a",
   "metadata": {},
   "outputs": [],
   "source": [
    "analyzer = SentimentIntensityAnalyzer()"
   ]
  },
  {
   "cell_type": "code",
   "execution_count": 16,
   "id": "f7fc82cd-a4a8-4c90-86c1-a8f3bbd1446e",
   "metadata": {},
   "outputs": [],
   "source": [
    "df['true_sentiment'] = df['Score'].apply(lambda x : 'Postive' if x > 3 else ('Negative' if x < 3 else 'Neutral'))"
   ]
  },
  {
   "cell_type": "code",
   "execution_count": 21,
   "id": "f10bbecf-6a2e-4261-a7aa-646681b40947",
   "metadata": {},
   "outputs": [
    {
     "data": {
      "text/plain": [
       "40    5\n",
       "41    5\n",
       "42    5\n",
       "43    5\n",
       "44    5\n",
       "45    3\n",
       "46    5\n",
       "47    3\n",
       "48    4\n",
       "49    3\n",
       "Name: Score, dtype: int64"
      ]
     },
     "execution_count": 21,
     "metadata": {},
     "output_type": "execute_result"
    }
   ],
   "source": [
    "df['Score'][40:50]"
   ]
  },
  {
   "cell_type": "code",
   "execution_count": 22,
   "id": "3eca8708-3d1d-48c1-a546-2c02dfe2e7a2",
   "metadata": {},
   "outputs": [
    {
     "data": {
      "text/plain": [
       "40    Postive\n",
       "41    Postive\n",
       "42    Postive\n",
       "43    Postive\n",
       "44    Postive\n",
       "45    Neutral\n",
       "46    Postive\n",
       "47    Neutral\n",
       "48    Postive\n",
       "49    Neutral\n",
       "Name: true_sentiment, dtype: object"
      ]
     },
     "execution_count": 22,
     "metadata": {},
     "output_type": "execute_result"
    }
   ],
   "source": [
    "df['true_sentiment'][40:50]"
   ]
  },
  {
   "cell_type": "code",
   "execution_count": 23,
   "id": "752488d6-0d7d-4bec-b8c8-aad7cab5ba99",
   "metadata": {},
   "outputs": [],
   "source": [
    "import spacy\n",
    "nlp = spacy.load('en_core_web_sm')"
   ]
  },
  {
   "cell_type": "code",
   "execution_count": null,
   "id": "802a9efa-f312-4dcf-ac62-6000e8fbe665",
   "metadata": {},
   "outputs": [],
   "source": []
  },
  {
   "cell_type": "code",
   "execution_count": 26,
   "id": "af5230cc-3f3d-4161-bbb5-7837d77816fe",
   "metadata": {},
   "outputs": [
    {
     "ename": "KeyboardInterrupt",
     "evalue": "",
     "output_type": "error",
     "traceback": [
      "\u001b[1;31m---------------------------------------------------------------------------\u001b[0m",
      "\u001b[1;31mKeyboardInterrupt\u001b[0m                         Traceback (most recent call last)",
      "Cell \u001b[1;32mIn[26], line 3\u001b[0m\n\u001b[0;32m      1\u001b[0m text_prop \u001b[38;5;241m=\u001b[39m []\n\u001b[0;32m      2\u001b[0m \u001b[38;5;28;01mfor\u001b[39;00m i \u001b[38;5;129;01min\u001b[39;00m df[\u001b[38;5;124m'\u001b[39m\u001b[38;5;124mText\u001b[39m\u001b[38;5;124m'\u001b[39m]:\n\u001b[1;32m----> 3\u001b[0m     i \u001b[38;5;241m=\u001b[39m nlp(i)\n\u001b[0;32m      4\u001b[0m     text_prop_token \u001b[38;5;241m=\u001b[39m {}\n\u001b[0;32m      5\u001b[0m     \u001b[38;5;28;01mfor\u001b[39;00m token \u001b[38;5;129;01min\u001b[39;00m i:\n",
      "File \u001b[1;32m~\\anaconda3\\Lib\\site-packages\\spacy\\language.py:1049\u001b[0m, in \u001b[0;36mLanguage.__call__\u001b[1;34m(self, text, disable, component_cfg)\u001b[0m\n\u001b[0;32m   1047\u001b[0m     error_handler \u001b[38;5;241m=\u001b[39m proc\u001b[38;5;241m.\u001b[39mget_error_handler()\n\u001b[0;32m   1048\u001b[0m \u001b[38;5;28;01mtry\u001b[39;00m:\n\u001b[1;32m-> 1049\u001b[0m     doc \u001b[38;5;241m=\u001b[39m proc(doc, \u001b[38;5;241m*\u001b[39m\u001b[38;5;241m*\u001b[39mcomponent_cfg\u001b[38;5;241m.\u001b[39mget(name, {}))  \u001b[38;5;66;03m# type: ignore[call-arg]\u001b[39;00m\n\u001b[0;32m   1050\u001b[0m \u001b[38;5;28;01mexcept\u001b[39;00m \u001b[38;5;167;01mKeyError\u001b[39;00m \u001b[38;5;28;01mas\u001b[39;00m e:\n\u001b[0;32m   1051\u001b[0m     \u001b[38;5;66;03m# This typically happens if a component is not initialized\u001b[39;00m\n\u001b[0;32m   1052\u001b[0m     \u001b[38;5;28;01mraise\u001b[39;00m \u001b[38;5;167;01mValueError\u001b[39;00m(Errors\u001b[38;5;241m.\u001b[39mE109\u001b[38;5;241m.\u001b[39mformat(name\u001b[38;5;241m=\u001b[39mname)) \u001b[38;5;28;01mfrom\u001b[39;00m \u001b[38;5;21;01me\u001b[39;00m\n",
      "\u001b[1;31mKeyboardInterrupt\u001b[0m: "
     ]
    }
   ],
   "source": [
    "text_prop = []\n",
    "for i in df['Text']:\n",
    "    i = nlp(i)\n",
    "    text_prop_token = {}\n",
    "    for token in i:\n",
    "        text_prop_token['Text'] = token.text\n",
    "        text_prop_token['Pos'] = token.pos_\n",
    "        text_prop_token['Dependency'] = token.dep_\n",
    "    for token in i.ents:\n",
    "        text_prop_token['NER'] = token.label_\n",
    "    text_prop.append(text_prop_token)\n",
    "\n",
    "text_prop"
   ]
  },
  {
   "cell_type": "code",
   "execution_count": 27,
   "id": "d2724ecd-3c9e-463e-8840-a1ef7dee9363",
   "metadata": {},
   "outputs": [],
   "source": [
    "def sentiment_analyzer(text):\n",
    "    doc = nlp(text)\n",
    "    sentiment = analyzer.polarity_scores(text)\n",
    "    sentiment_score = sentiment['compound']\n",
    "    if sentiment_score > 0.05:\n",
    "        sentiment_label = 'postitive'\n",
    "    elif sentiment_score < -0.05:\n",
    "        sentiment_label = 'Negative'\n",
    "    else:\n",
    "        sentiment_label = 'Neutral'\n",
    "        \n",
    "    return sentiment_label"
   ]
  },
  {
   "cell_type": "code",
   "execution_count": 31,
   "id": "ce1151a7-2307-4adc-ab22-fd6c3c921e74",
   "metadata": {},
   "outputs": [],
   "source": [
    "df = df.iloc[:5000]"
   ]
  },
  {
   "cell_type": "code",
   "execution_count": 32,
   "id": "f148e53a-5fae-4d31-a892-58a4fbe1e9d2",
   "metadata": {},
   "outputs": [
    {
     "data": {
      "text/plain": [
       "(5000, 11)"
      ]
     },
     "execution_count": 32,
     "metadata": {},
     "output_type": "execute_result"
    }
   ],
   "source": [
    "df.shape"
   ]
  },
  {
   "cell_type": "code",
   "execution_count": 33,
   "id": "2fad29b9-6e68-4907-bfc9-ae8a024f8192",
   "metadata": {},
   "outputs": [
    {
     "name": "stderr",
     "output_type": "stream",
     "text": [
      "C:\\Users\\DeLL\\AppData\\Local\\Temp\\ipykernel_5416\\3047910380.py:1: SettingWithCopyWarning: \n",
      "A value is trying to be set on a copy of a slice from a DataFrame.\n",
      "Try using .loc[row_indexer,col_indexer] = value instead\n",
      "\n",
      "See the caveats in the documentation: https://pandas.pydata.org/pandas-docs/stable/user_guide/indexing.html#returning-a-view-versus-a-copy\n",
      "  df['predicted_label'] = df['Text'].apply(sentiment_analyzer)\n"
     ]
    }
   ],
   "source": [
    "df['predicted_label'] = df['Text'].apply(sentiment_analyzer)"
   ]
  },
  {
   "cell_type": "code",
   "execution_count": 34,
   "id": "6043a7ef-cbc3-4bf0-a182-782196943f8c",
   "metadata": {},
   "outputs": [
    {
     "data": {
      "text/html": [
       "<div>\n",
       "<style scoped>\n",
       "    .dataframe tbody tr th:only-of-type {\n",
       "        vertical-align: middle;\n",
       "    }\n",
       "\n",
       "    .dataframe tbody tr th {\n",
       "        vertical-align: top;\n",
       "    }\n",
       "\n",
       "    .dataframe thead th {\n",
       "        text-align: right;\n",
       "    }\n",
       "</style>\n",
       "<table border=\"1\" class=\"dataframe\">\n",
       "  <thead>\n",
       "    <tr style=\"text-align: right;\">\n",
       "      <th></th>\n",
       "      <th>Id</th>\n",
       "      <th>ProductId</th>\n",
       "      <th>UserId</th>\n",
       "      <th>ProfileName</th>\n",
       "      <th>HelpfulnessNumerator</th>\n",
       "      <th>HelpfulnessDenominator</th>\n",
       "      <th>Score</th>\n",
       "      <th>Time</th>\n",
       "      <th>Summary</th>\n",
       "      <th>Text</th>\n",
       "      <th>true_sentiment</th>\n",
       "      <th>predicted_label</th>\n",
       "    </tr>\n",
       "  </thead>\n",
       "  <tbody>\n",
       "    <tr>\n",
       "      <th>0</th>\n",
       "      <td>1</td>\n",
       "      <td>B001E4KFG0</td>\n",
       "      <td>A3SGXH7AUHU8GW</td>\n",
       "      <td>delmartian</td>\n",
       "      <td>1</td>\n",
       "      <td>1</td>\n",
       "      <td>5</td>\n",
       "      <td>1303862400</td>\n",
       "      <td>Good Quality Dog Food</td>\n",
       "      <td>I have bought several of the Vitality canned d...</td>\n",
       "      <td>Postive</td>\n",
       "      <td>postitive</td>\n",
       "    </tr>\n",
       "    <tr>\n",
       "      <th>1</th>\n",
       "      <td>2</td>\n",
       "      <td>B00813GRG4</td>\n",
       "      <td>A1D87F6ZCVE5NK</td>\n",
       "      <td>dll pa</td>\n",
       "      <td>0</td>\n",
       "      <td>0</td>\n",
       "      <td>1</td>\n",
       "      <td>1346976000</td>\n",
       "      <td>Not as Advertised</td>\n",
       "      <td>Product arrived labeled as Jumbo Salted Peanut...</td>\n",
       "      <td>Negative</td>\n",
       "      <td>Negative</td>\n",
       "    </tr>\n",
       "    <tr>\n",
       "      <th>2</th>\n",
       "      <td>3</td>\n",
       "      <td>B000LQOCH0</td>\n",
       "      <td>ABXLMWJIXXAIN</td>\n",
       "      <td>Natalia Corres \"Natalia Corres\"</td>\n",
       "      <td>1</td>\n",
       "      <td>1</td>\n",
       "      <td>4</td>\n",
       "      <td>1219017600</td>\n",
       "      <td>\"Delight\" says it all</td>\n",
       "      <td>This is a confection that has been around a fe...</td>\n",
       "      <td>Postive</td>\n",
       "      <td>postitive</td>\n",
       "    </tr>\n",
       "    <tr>\n",
       "      <th>3</th>\n",
       "      <td>4</td>\n",
       "      <td>B000UA0QIQ</td>\n",
       "      <td>A395BORC6FGVXV</td>\n",
       "      <td>Karl</td>\n",
       "      <td>3</td>\n",
       "      <td>3</td>\n",
       "      <td>2</td>\n",
       "      <td>1307923200</td>\n",
       "      <td>Cough Medicine</td>\n",
       "      <td>If you are looking for the secret ingredient i...</td>\n",
       "      <td>Negative</td>\n",
       "      <td>postitive</td>\n",
       "    </tr>\n",
       "    <tr>\n",
       "      <th>4</th>\n",
       "      <td>5</td>\n",
       "      <td>B006K2ZZ7K</td>\n",
       "      <td>A1UQRSCLF8GW1T</td>\n",
       "      <td>Michael D. Bigham \"M. Wassir\"</td>\n",
       "      <td>0</td>\n",
       "      <td>0</td>\n",
       "      <td>5</td>\n",
       "      <td>1350777600</td>\n",
       "      <td>Great taffy</td>\n",
       "      <td>Great taffy at a great price.  There was a wid...</td>\n",
       "      <td>Postive</td>\n",
       "      <td>postitive</td>\n",
       "    </tr>\n",
       "  </tbody>\n",
       "</table>\n",
       "</div>"
      ],
      "text/plain": [
       "   Id   ProductId          UserId                      ProfileName  \\\n",
       "0   1  B001E4KFG0  A3SGXH7AUHU8GW                       delmartian   \n",
       "1   2  B00813GRG4  A1D87F6ZCVE5NK                           dll pa   \n",
       "2   3  B000LQOCH0   ABXLMWJIXXAIN  Natalia Corres \"Natalia Corres\"   \n",
       "3   4  B000UA0QIQ  A395BORC6FGVXV                             Karl   \n",
       "4   5  B006K2ZZ7K  A1UQRSCLF8GW1T    Michael D. Bigham \"M. Wassir\"   \n",
       "\n",
       "   HelpfulnessNumerator  HelpfulnessDenominator  Score        Time  \\\n",
       "0                     1                       1      5  1303862400   \n",
       "1                     0                       0      1  1346976000   \n",
       "2                     1                       1      4  1219017600   \n",
       "3                     3                       3      2  1307923200   \n",
       "4                     0                       0      5  1350777600   \n",
       "\n",
       "                 Summary                                               Text  \\\n",
       "0  Good Quality Dog Food  I have bought several of the Vitality canned d...   \n",
       "1      Not as Advertised  Product arrived labeled as Jumbo Salted Peanut...   \n",
       "2  \"Delight\" says it all  This is a confection that has been around a fe...   \n",
       "3         Cough Medicine  If you are looking for the secret ingredient i...   \n",
       "4            Great taffy  Great taffy at a great price.  There was a wid...   \n",
       "\n",
       "  true_sentiment predicted_label  \n",
       "0        Postive       postitive  \n",
       "1       Negative        Negative  \n",
       "2        Postive       postitive  \n",
       "3       Negative       postitive  \n",
       "4        Postive       postitive  "
      ]
     },
     "execution_count": 34,
     "metadata": {},
     "output_type": "execute_result"
    }
   ],
   "source": [
    "df.head()"
   ]
  },
  {
   "cell_type": "code",
   "execution_count": 35,
   "id": "bde6a439-1dbf-47c2-b835-88aee8fa6d71",
   "metadata": {},
   "outputs": [],
   "source": [
    "from sklearn.metrics import accuracy_score, f1_score, classification_report"
   ]
  },
  {
   "cell_type": "code",
   "execution_count": 36,
   "id": "7920782d-0ab0-404a-bdb7-9e5d8d468834",
   "metadata": {},
   "outputs": [
    {
     "data": {
      "text/plain": [
       "0.0658"
      ]
     },
     "execution_count": 36,
     "metadata": {},
     "output_type": "execute_result"
    }
   ],
   "source": [
    "accuracy_score(df['true_sentiment'], df['predicted_label'])"
   ]
  },
  {
   "cell_type": "code",
   "execution_count": null,
   "id": "4f8ee037-9374-46cc-9fa0-5b1ab7f6c65e",
   "metadata": {},
   "outputs": [],
   "source": []
  },
  {
   "cell_type": "markdown",
   "id": "291121b8-c4e5-442a-ae4d-576f5b543c4b",
   "metadata": {},
   "source": [
    "## Actual Method"
   ]
  },
  {
   "cell_type": "code",
   "execution_count": 1,
   "id": "a54c06f0-d009-4f3d-b64b-8ac4a7da787b",
   "metadata": {},
   "outputs": [],
   "source": [
    "import os\n",
    "import pandas as pd\n",
    "import numpy as np\n",
    "import matplotlib.pyplot as plt\n",
    "import seaborn as sns\n",
    "%matplotlib inline\n",
    "sns.set()\n",
    "import warnings\n",
    "warnings.filterwarnings('ignore')\n",
    "import nltk\n",
    "from nltk.corpus import stopwords\n",
    "from sklearn.feature_extraction.text import CountVectorizer, TfidfVectorizer\n",
    "from nltk.stem.wordnet import WordNetLemmatizer\n",
    "import sqlite3"
   ]
  },
  {
   "cell_type": "code",
   "execution_count": 2,
   "id": "047fb3cf-7971-45d7-b864-7f13d8b2546a",
   "metadata": {},
   "outputs": [
    {
     "data": {
      "text/plain": [
       "<sqlite3.Connection at 0x1a5030ff880>"
      ]
     },
     "execution_count": 2,
     "metadata": {},
     "output_type": "execute_result"
    }
   ],
   "source": [
    "connection = sqlite3.connect(r\"C:\\Users\\DeLL\\Downloads\\database.sqlite\\database.sqlite\")\n",
    "connection"
   ]
  },
  {
   "cell_type": "code",
   "execution_count": 3,
   "id": "9558fdd6-67b3-4f86-a7e9-1e6d644b28b1",
   "metadata": {},
   "outputs": [
    {
     "data": {
      "text/plain": [
       "(5000, 10)"
      ]
     },
     "execution_count": 3,
     "metadata": {},
     "output_type": "execute_result"
    }
   ],
   "source": [
    "df = pd.read_sql_query('Select * from Reviews where Score != 3 LIMIT 5000', connection)\n",
    "df.shape"
   ]
  },
  {
   "cell_type": "code",
   "execution_count": 4,
   "id": "7ca21bb1-7cef-4201-b958-37839da88ee4",
   "metadata": {},
   "outputs": [
    {
     "data": {
      "text/plain": [
       "Score\n",
       "5    3420\n",
       "4     767\n",
       "1     504\n",
       "2     309\n",
       "Name: count, dtype: int64"
      ]
     },
     "execution_count": 4,
     "metadata": {},
     "output_type": "execute_result"
    }
   ],
   "source": [
    "df['Score'].value_counts()"
   ]
  },
  {
   "cell_type": "code",
   "execution_count": 5,
   "id": "e76f9f8c-f7e5-41a0-b65c-8e45194dd843",
   "metadata": {},
   "outputs": [],
   "source": [
    "def threshold(x):\n",
    "    if x < 3:\n",
    "        return 0\n",
    "    return 1"
   ]
  },
  {
   "cell_type": "code",
   "execution_count": 6,
   "id": "7763dba0-c014-489b-85a4-b61ecb1f871b",
   "metadata": {},
   "outputs": [],
   "source": [
    "df['Score'] = df['Score'].apply(threshold)"
   ]
  },
  {
   "cell_type": "code",
   "execution_count": 7,
   "id": "be82ce65-8c12-4b95-8ad1-3214c07d6ef5",
   "metadata": {},
   "outputs": [
    {
     "data": {
      "text/plain": [
       "Score\n",
       "1    4187\n",
       "0     813\n",
       "Name: count, dtype: int64"
      ]
     },
     "execution_count": 7,
     "metadata": {},
     "output_type": "execute_result"
    }
   ],
   "source": [
    "df['Score'].value_counts()"
   ]
  },
  {
   "cell_type": "code",
   "execution_count": 8,
   "id": "bad6a49d-8d39-4b86-89d3-ce66ead9b039",
   "metadata": {},
   "outputs": [
    {
     "data": {
      "text/plain": [
       "0"
      ]
     },
     "execution_count": 8,
     "metadata": {},
     "output_type": "execute_result"
    }
   ],
   "source": [
    "df.duplicated().sum()"
   ]
  },
  {
   "cell_type": "code",
   "execution_count": 9,
   "id": "99281788-12f2-49cc-914e-c029aeebdcac",
   "metadata": {},
   "outputs": [],
   "source": [
    "final = df[df.HelpfulnessNumerator <= df.HelpfulnessDenominator]"
   ]
  },
  {
   "cell_type": "code",
   "execution_count": 10,
   "id": "ffd74231-4d32-431e-a9fd-cf1b46cf37af",
   "metadata": {},
   "outputs": [
    {
     "data": {
      "text/plain": [
       "(5000, 10)"
      ]
     },
     "execution_count": 10,
     "metadata": {},
     "output_type": "execute_result"
    }
   ],
   "source": [
    "final.shape"
   ]
  },
  {
   "cell_type": "markdown",
   "id": "f9d23af5-371a-48e8-9c8d-9ca5f6bf8c0e",
   "metadata": {},
   "source": [
    "# NLP Concept"
   ]
  },
  {
   "cell_type": "code",
   "execution_count": 11,
   "id": "39f6eb9a-79d1-45a7-baef-ce991eef984d",
   "metadata": {},
   "outputs": [],
   "source": [
    "import spacy\n",
    "nlp = spacy.load('en_core_web_sm')"
   ]
  },
  {
   "cell_type": "code",
   "execution_count": 12,
   "id": "d3d4f1dc-feee-4a87-b22e-55c4246a6b37",
   "metadata": {},
   "outputs": [],
   "source": [
    "nltk_stopwords = stopwords.words('english')\n",
    "spacy_stopwords = nlp.Defaults.stop_words"
   ]
  },
  {
   "cell_type": "code",
   "execution_count": 72,
   "id": "ecb5a817-4360-4435-bef7-0b527d681271",
   "metadata": {},
   "outputs": [
    {
     "data": {
      "text/plain": [
       "{\"'d\",\n",
       " \"'ll\",\n",
       " \"'m\",\n",
       " \"'re\",\n",
       " \"'s\",\n",
       " \"'ve\",\n",
       " 'a',\n",
       " 'about',\n",
       " 'above',\n",
       " 'across',\n",
       " 'after',\n",
       " 'afterwards',\n",
       " 'again',\n",
       " 'against',\n",
       " 'all',\n",
       " 'almost',\n",
       " 'alone',\n",
       " 'along',\n",
       " 'already',\n",
       " 'also',\n",
       " 'although',\n",
       " 'always',\n",
       " 'am',\n",
       " 'among',\n",
       " 'amongst',\n",
       " 'amount',\n",
       " 'an',\n",
       " 'and',\n",
       " 'another',\n",
       " 'any',\n",
       " 'anyhow',\n",
       " 'anyone',\n",
       " 'anything',\n",
       " 'anyway',\n",
       " 'anywhere',\n",
       " 'are',\n",
       " 'around',\n",
       " 'as',\n",
       " 'at',\n",
       " 'back',\n",
       " 'be',\n",
       " 'became',\n",
       " 'because',\n",
       " 'become',\n",
       " 'becomes',\n",
       " 'becoming',\n",
       " 'been',\n",
       " 'before',\n",
       " 'beforehand',\n",
       " 'behind',\n",
       " 'being',\n",
       " 'below',\n",
       " 'beside',\n",
       " 'besides',\n",
       " 'between',\n",
       " 'beyond',\n",
       " 'both',\n",
       " 'bottom',\n",
       " 'but',\n",
       " 'by',\n",
       " 'ca',\n",
       " 'call',\n",
       " 'can',\n",
       " 'cannot',\n",
       " 'could',\n",
       " 'did',\n",
       " 'do',\n",
       " 'does',\n",
       " 'doing',\n",
       " 'done',\n",
       " 'down',\n",
       " 'due',\n",
       " 'during',\n",
       " 'each',\n",
       " 'eight',\n",
       " 'either',\n",
       " 'eleven',\n",
       " 'else',\n",
       " 'elsewhere',\n",
       " 'empty',\n",
       " 'enough',\n",
       " 'even',\n",
       " 'ever',\n",
       " 'every',\n",
       " 'everyone',\n",
       " 'everything',\n",
       " 'everywhere',\n",
       " 'except',\n",
       " 'few',\n",
       " 'fifteen',\n",
       " 'fifty',\n",
       " 'first',\n",
       " 'five',\n",
       " 'for',\n",
       " 'former',\n",
       " 'formerly',\n",
       " 'forty',\n",
       " 'four',\n",
       " 'from',\n",
       " 'front',\n",
       " 'full',\n",
       " 'further',\n",
       " 'get',\n",
       " 'give',\n",
       " 'go',\n",
       " 'had',\n",
       " 'has',\n",
       " 'have',\n",
       " 'he',\n",
       " 'hence',\n",
       " 'her',\n",
       " 'here',\n",
       " 'hereafter',\n",
       " 'hereby',\n",
       " 'herein',\n",
       " 'hereupon',\n",
       " 'hers',\n",
       " 'herself',\n",
       " 'him',\n",
       " 'himself',\n",
       " 'his',\n",
       " 'how',\n",
       " 'however',\n",
       " 'hundred',\n",
       " 'i',\n",
       " 'if',\n",
       " 'in',\n",
       " 'indeed',\n",
       " 'into',\n",
       " 'is',\n",
       " 'it',\n",
       " 'its',\n",
       " 'itself',\n",
       " 'just',\n",
       " 'keep',\n",
       " 'last',\n",
       " 'latter',\n",
       " 'latterly',\n",
       " 'least',\n",
       " 'less',\n",
       " 'made',\n",
       " 'make',\n",
       " 'many',\n",
       " 'may',\n",
       " 'me',\n",
       " 'meanwhile',\n",
       " 'might',\n",
       " 'mine',\n",
       " 'more',\n",
       " 'moreover',\n",
       " 'most',\n",
       " 'mostly',\n",
       " 'move',\n",
       " 'much',\n",
       " 'must',\n",
       " 'my',\n",
       " 'myself',\n",
       " \"n't\",\n",
       " 'name',\n",
       " 'namely',\n",
       " 'neither',\n",
       " 'never',\n",
       " 'nevertheless',\n",
       " 'next',\n",
       " 'nine',\n",
       " 'no',\n",
       " 'nobody',\n",
       " 'none',\n",
       " 'noone',\n",
       " 'nor',\n",
       " 'not',\n",
       " 'nothing',\n",
       " 'now',\n",
       " 'nowhere',\n",
       " 'n‘t',\n",
       " 'n’t',\n",
       " 'of',\n",
       " 'off',\n",
       " 'often',\n",
       " 'on',\n",
       " 'once',\n",
       " 'one',\n",
       " 'only',\n",
       " 'onto',\n",
       " 'or',\n",
       " 'other',\n",
       " 'others',\n",
       " 'otherwise',\n",
       " 'our',\n",
       " 'ours',\n",
       " 'ourselves',\n",
       " 'out',\n",
       " 'over',\n",
       " 'own',\n",
       " 'part',\n",
       " 'per',\n",
       " 'perhaps',\n",
       " 'please',\n",
       " 'put',\n",
       " 'quite',\n",
       " 'rather',\n",
       " 're',\n",
       " 'really',\n",
       " 'regarding',\n",
       " 'same',\n",
       " 'say',\n",
       " 'see',\n",
       " 'seem',\n",
       " 'seemed',\n",
       " 'seeming',\n",
       " 'seems',\n",
       " 'serious',\n",
       " 'several',\n",
       " 'she',\n",
       " 'should',\n",
       " 'show',\n",
       " 'side',\n",
       " 'since',\n",
       " 'six',\n",
       " 'sixty',\n",
       " 'so',\n",
       " 'some',\n",
       " 'somehow',\n",
       " 'someone',\n",
       " 'something',\n",
       " 'sometime',\n",
       " 'sometimes',\n",
       " 'somewhere',\n",
       " 'still',\n",
       " 'such',\n",
       " 'take',\n",
       " 'ten',\n",
       " 'than',\n",
       " 'that',\n",
       " 'the',\n",
       " 'their',\n",
       " 'them',\n",
       " 'themselves',\n",
       " 'then',\n",
       " 'thence',\n",
       " 'there',\n",
       " 'thereafter',\n",
       " 'thereby',\n",
       " 'therefore',\n",
       " 'therein',\n",
       " 'thereupon',\n",
       " 'these',\n",
       " 'they',\n",
       " 'third',\n",
       " 'this',\n",
       " 'those',\n",
       " 'though',\n",
       " 'three',\n",
       " 'through',\n",
       " 'throughout',\n",
       " 'thru',\n",
       " 'thus',\n",
       " 'to',\n",
       " 'together',\n",
       " 'too',\n",
       " 'top',\n",
       " 'toward',\n",
       " 'towards',\n",
       " 'twelve',\n",
       " 'twenty',\n",
       " 'two',\n",
       " 'under',\n",
       " 'unless',\n",
       " 'until',\n",
       " 'up',\n",
       " 'upon',\n",
       " 'us',\n",
       " 'used',\n",
       " 'using',\n",
       " 'various',\n",
       " 'very',\n",
       " 'via',\n",
       " 'was',\n",
       " 'we',\n",
       " 'well',\n",
       " 'were',\n",
       " 'what',\n",
       " 'whatever',\n",
       " 'when',\n",
       " 'whence',\n",
       " 'whenever',\n",
       " 'where',\n",
       " 'whereafter',\n",
       " 'whereas',\n",
       " 'whereby',\n",
       " 'wherein',\n",
       " 'whereupon',\n",
       " 'wherever',\n",
       " 'whether',\n",
       " 'which',\n",
       " 'while',\n",
       " 'whither',\n",
       " 'who',\n",
       " 'whoever',\n",
       " 'whole',\n",
       " 'whom',\n",
       " 'whose',\n",
       " 'why',\n",
       " 'will',\n",
       " 'with',\n",
       " 'within',\n",
       " 'without',\n",
       " 'would',\n",
       " 'yet',\n",
       " 'you',\n",
       " 'your',\n",
       " 'yours',\n",
       " 'yourself',\n",
       " 'yourselves',\n",
       " '‘d',\n",
       " '‘ll',\n",
       " '‘m',\n",
       " '‘re',\n",
       " '‘s',\n",
       " '‘ve',\n",
       " '’d',\n",
       " '’ll',\n",
       " '’m',\n",
       " '’re',\n",
       " '’s',\n",
       " '’ve'}"
      ]
     },
     "execution_count": 72,
     "metadata": {},
     "output_type": "execute_result"
    }
   ],
   "source": [
    "spacy_stopwords"
   ]
  },
  {
   "cell_type": "code",
   "execution_count": 13,
   "id": "68ed2252-fc08-458a-ae32-537e37adcfb1",
   "metadata": {},
   "outputs": [],
   "source": [
    "all_stopwords = ['i',\n",
    " 'me',\n",
    " 'my',\n",
    " 'myself',\n",
    " 'we',\n",
    " 'our',\n",
    " 'ours',\n",
    " 'ourselves',\n",
    " 'you',\n",
    " \"you're\",\n",
    " \"you've\",\n",
    " \"you'll\",\n",
    " \"you'd\",\n",
    " 'your',\n",
    " 'yours',\n",
    " 'yourself',\n",
    " 'yourselves',\n",
    " 'he',\n",
    " 'him',\n",
    " 'his',\n",
    " 'himself',\n",
    " 'she',\n",
    " \"she's\",\n",
    " 'her',\n",
    " 'hers',\n",
    " 'herself',\n",
    " 'it',\n",
    " \"it's\",\n",
    " 'its',\n",
    " 'itself',\n",
    " 'they',\n",
    " 'them',\n",
    " 'their',\n",
    " 'theirs',\n",
    " 'themselves',\n",
    " 'what',\n",
    " 'which',\n",
    " 'who',\n",
    " 'whom',\n",
    " 'this',\n",
    " 'that',\n",
    " \"that'll\",\n",
    " 'these',\n",
    " 'those',\n",
    " 'am',\n",
    " 'is',\n",
    " 'are',\n",
    " 'was',\n",
    " 'were',\n",
    " 'be',\n",
    " 'been',\n",
    " 'being',\n",
    " 'have',\n",
    " 'has',\n",
    " 'had',\n",
    " 'having',\n",
    " 'do',\n",
    " 'does',\n",
    " 'did',\n",
    " 'doing',\n",
    " 'a',\n",
    " 'an',\n",
    " 'the',\n",
    " 'and',\n",
    " 'but',\n",
    " 'if',\n",
    " 'or',\n",
    " 'because',\n",
    " 'as',\n",
    " 'until',\n",
    " 'while',\n",
    " 'of',\n",
    " 'at',\n",
    " 'by',\n",
    " 'for',\n",
    " 'with',\n",
    " 'about',\n",
    " 'against',\n",
    " 'between',\n",
    " 'into',\n",
    " 'through',\n",
    " 'during',\n",
    " 'before',\n",
    " 'after',\n",
    " 'above',\n",
    " 'below',\n",
    " 'to',\n",
    " 'from',\n",
    " 'up',\n",
    " 'down',\n",
    " 'in',\n",
    " 'out',\n",
    " 'on',\n",
    " 'off',\n",
    " 'over',\n",
    " 'under',\n",
    " 'again',\n",
    " 'further',\n",
    " 'then',\n",
    " 'once',\n",
    " 'here',\n",
    " 'there',\n",
    " 'when',\n",
    " 'where',\n",
    " 'why',\n",
    " 'how',\n",
    " 'all',\n",
    " 'any',\n",
    " 'both',\n",
    " 'each',\n",
    " 'few',\n",
    " 'more',\n",
    " 'most',\n",
    " 'other',\n",
    " 'some',\n",
    " 'such',\n",
    " 'no',\n",
    " 'nor',\n",
    " 'not',\n",
    " 'only',\n",
    " 'own',\n",
    " 'same',\n",
    " 'so',\n",
    " 'than',\n",
    " 'too',\n",
    " 'very',\n",
    " 's',\n",
    " 't',\n",
    " 'can',\n",
    " 'will',\n",
    " 'just',\n",
    " 'don',\n",
    " \"don't\",\n",
    " 'should',\n",
    " \"should've\",\n",
    " 'now',\n",
    " 'd',\n",
    " 'll',\n",
    " 'm',\n",
    " 'o',\n",
    " 're',\n",
    " 've',\n",
    " 'y',\n",
    " 'ain',\n",
    " 'aren',\n",
    " \"aren't\",\n",
    " 'couldn',\n",
    " \"couldn't\",\n",
    " 'didn',\n",
    " \"didn't\",\n",
    " 'doesn',\n",
    " \"doesn't\",\n",
    " 'hadn',\n",
    " \"hadn't\",\n",
    " 'hasn',\n",
    " \"hasn't\",\n",
    " 'haven',\n",
    " \"haven't\",\n",
    " 'isn',\n",
    " \"isn't\",\n",
    " 'ma',\n",
    " 'mightn',\n",
    " \"mightn't\",\n",
    " 'mustn',\n",
    " \"mustn't\",\n",
    " 'needn',\n",
    " \"needn't\",\n",
    " 'shan',\n",
    " \"shan't\",\n",
    " 'shouldn',\n",
    " \"shouldn't\",\n",
    " 'wasn',\n",
    " \"wasn't\",\n",
    " 'weren',\n",
    " \"weren't\",\n",
    " 'won',\n",
    " \"won't\",\n",
    " 'wouldn',\n",
    " \"wouldn't\",\n",
    "  \"'d\",\n",
    " \"'ll\",\n",
    " \"'m\",\n",
    " \"'re\",\n",
    " \"'s\",\n",
    " \"'ve\",\n",
    " 'a',\n",
    " 'about',\n",
    " 'above',\n",
    " 'across',\n",
    " 'after',\n",
    " 'afterwards',\n",
    " 'again',\n",
    " 'against',\n",
    " 'all',\n",
    " 'almost',\n",
    " 'alone',\n",
    " 'along',\n",
    " 'already',\n",
    " 'also',\n",
    " 'although',\n",
    " 'always',\n",
    " 'am',\n",
    " 'among',\n",
    " 'amongst',\n",
    " 'amount',\n",
    " 'an',\n",
    " 'and',\n",
    " 'another',\n",
    " 'any',\n",
    " 'anyhow',\n",
    " 'anyone',\n",
    " 'anything',\n",
    " 'anyway',\n",
    " 'anywhere',\n",
    " 'are',\n",
    " 'around',\n",
    " 'as',\n",
    " 'at',\n",
    " 'back',\n",
    " 'be',\n",
    " 'became',\n",
    " 'because',\n",
    " 'become',\n",
    " 'becomes',\n",
    " 'becoming',\n",
    " 'been',\n",
    " 'before',\n",
    " 'beforehand',\n",
    " 'behind',\n",
    " 'being',\n",
    " 'below',\n",
    " 'beside',\n",
    " 'besides',\n",
    " 'between',\n",
    " 'beyond',\n",
    " 'both',\n",
    " 'bottom',\n",
    " 'but',\n",
    " 'by',\n",
    " 'ca',\n",
    " 'call',\n",
    " 'can',\n",
    " 'cannot',\n",
    " 'could',\n",
    " 'did',\n",
    " 'do',\n",
    " 'does',\n",
    " 'doing',\n",
    " 'done',\n",
    " 'down',\n",
    " 'due',\n",
    " 'during',\n",
    " 'each',\n",
    " 'eight',\n",
    " 'either',\n",
    " 'eleven',\n",
    " 'else',\n",
    " 'elsewhere',\n",
    " 'empty',\n",
    " 'enough',\n",
    " 'even',\n",
    " 'ever',\n",
    " 'every',\n",
    " 'everyone',\n",
    " 'everything',\n",
    " 'everywhere',\n",
    " 'except',\n",
    " 'few',\n",
    " 'fifteen',\n",
    " 'fifty',\n",
    " 'first',\n",
    " 'five',\n",
    " 'for',\n",
    " 'former',\n",
    " 'formerly',\n",
    " 'forty',\n",
    " 'four',\n",
    " 'from',\n",
    " 'front',\n",
    " 'full',\n",
    " 'further',\n",
    " 'get',\n",
    " 'give',\n",
    " 'go',\n",
    " 'had',\n",
    " 'has',\n",
    " 'have',\n",
    " 'he',\n",
    " 'hence',\n",
    " 'her',\n",
    " 'here',\n",
    " 'hereafter',\n",
    " 'hereby',\n",
    " 'herein',\n",
    " 'hereupon',\n",
    " 'hers',\n",
    " 'herself',\n",
    " 'him',\n",
    " 'himself',\n",
    " 'his',\n",
    " 'how',\n",
    " 'however',\n",
    " 'hundred',\n",
    " 'i',\n",
    " 'if',\n",
    " 'in',\n",
    " 'indeed',\n",
    " 'into',\n",
    " 'is',\n",
    " 'it',\n",
    " 'its',\n",
    " 'itself',\n",
    " 'just',\n",
    " 'keep',\n",
    " 'last',\n",
    " 'latter',\n",
    " 'latterly',\n",
    " 'least',\n",
    " 'less',\n",
    " 'made',\n",
    " 'make',\n",
    " 'many',\n",
    " 'may',\n",
    " 'me',\n",
    " 'meanwhile',\n",
    " 'might',\n",
    " 'mine',\n",
    " 'more',\n",
    " 'moreover',\n",
    " 'most',\n",
    " 'mostly',\n",
    " 'move',\n",
    " 'much',\n",
    " 'must',\n",
    " 'my',\n",
    " 'myself',\n",
    " \"n't\",\n",
    " 'name',\n",
    " 'namely',\n",
    " 'neither',\n",
    " 'never',\n",
    " 'nevertheless',\n",
    " 'next',\n",
    " 'nine',\n",
    " 'no',\n",
    " 'nobody',\n",
    " 'none',\n",
    " 'noone',\n",
    " 'nor',\n",
    " 'not',\n",
    " 'nothing',\n",
    " 'now',\n",
    " 'nowhere',\n",
    " 'n‘t',\n",
    " 'n’t',\n",
    " 'of',\n",
    " 'off',\n",
    " 'often',\n",
    " 'on',\n",
    " 'once',\n",
    " 'one',\n",
    " 'only',\n",
    " 'onto',\n",
    " 'or',\n",
    " 'other',\n",
    " 'others',\n",
    " 'otherwise',\n",
    " 'our',\n",
    " 'ours',\n",
    " 'ourselves',\n",
    " 'out',\n",
    " 'over',\n",
    " 'own',\n",
    " 'part',\n",
    " 'per',\n",
    " 'perhaps',\n",
    " 'please',\n",
    " 'put',\n",
    " 'quite',\n",
    " 'rather',\n",
    " 're',\n",
    " 'really',\n",
    " 'regarding',\n",
    " 'same',\n",
    " 'say',\n",
    " 'see',\n",
    " 'seem',\n",
    " 'seemed',\n",
    " 'seeming',\n",
    " 'seems',\n",
    " 'serious',\n",
    " 'several',\n",
    " 'she',\n",
    " 'should',\n",
    " 'show',\n",
    " 'side',\n",
    " 'since',\n",
    " 'six',\n",
    " 'sixty',\n",
    " 'so',\n",
    " 'some',\n",
    " 'somehow',\n",
    " 'someone',\n",
    " 'something',\n",
    " 'sometime',\n",
    " 'sometimes',\n",
    " 'somewhere',\n",
    " 'still',\n",
    " 'such',\n",
    " 'take',\n",
    " 'ten',\n",
    " 'than',\n",
    " 'that',\n",
    " 'the',\n",
    " 'their',\n",
    " 'them',\n",
    " 'themselves',\n",
    " 'then',\n",
    " 'thence',\n",
    " 'there',\n",
    " 'thereafter',\n",
    " 'thereby',\n",
    " 'therefore',\n",
    " 'therein',\n",
    " 'thereupon',\n",
    " 'these',\n",
    " 'they',\n",
    " 'third',\n",
    " 'this',\n",
    " 'those',\n",
    " 'though',\n",
    " 'three',\n",
    " 'through',\n",
    " 'throughout',\n",
    " 'thru',\n",
    " 'thus',\n",
    " 'to',\n",
    " 'together',\n",
    " 'too',\n",
    " 'top',\n",
    " 'toward',\n",
    " 'towards',\n",
    " 'twelve',\n",
    " 'twenty',\n",
    " 'two',\n",
    " 'under',\n",
    " 'unless',\n",
    " 'until',\n",
    " 'up',\n",
    " 'upon',\n",
    " 'us',\n",
    " 'used',\n",
    " 'using',\n",
    " 'various',\n",
    " 'very',\n",
    " 'via',\n",
    " 'was',\n",
    " 'we',\n",
    " 'well',\n",
    " 'were',\n",
    " 'what',\n",
    " 'whatever',\n",
    " 'when',\n",
    " 'whence',\n",
    " 'whenever',\n",
    " 'where',\n",
    " 'whereafter',\n",
    " 'whereas',\n",
    " 'whereby',\n",
    " 'wherein',\n",
    " 'whereupon',\n",
    " 'wherever',\n",
    " 'whether',\n",
    " 'which',\n",
    " 'while',\n",
    " 'whither',\n",
    " 'who',\n",
    " 'whoever',\n",
    " 'whole',\n",
    " 'whom',\n",
    " 'whose',\n",
    " 'why',\n",
    " 'will',\n",
    " 'with',\n",
    " 'within',\n",
    " 'without',\n",
    " 'would',\n",
    " 'yet',\n",
    " 'you',\n",
    " 'your',\n",
    " 'yours',\n",
    " 'yourself',\n",
    " 'yourselves',\n",
    " '‘d',\n",
    " '‘ll',\n",
    " '‘m',\n",
    " '‘re',\n",
    " '‘s',\n",
    " '‘ve',\n",
    " '’d',\n",
    " '’ll',\n",
    " '’m',\n",
    " '’re',\n",
    " '’s',\n",
    " '’ve']"
   ]
  },
  {
   "cell_type": "code",
   "execution_count": 14,
   "id": "a4956b69-a85d-4dce-913b-a7d14e51dc26",
   "metadata": {},
   "outputs": [],
   "source": [
    "all_stopwords = set(all_stopwords)"
   ]
  },
  {
   "cell_type": "code",
   "execution_count": 17,
   "id": "d0f3f67c-92b8-4e56-99bc-deec2a91ce41",
   "metadata": {},
   "outputs": [],
   "source": [
    "from tqdm import tqdm\n",
    "import re\n",
    "from bs4 import BeautifulSoup"
   ]
  },
  {
   "cell_type": "code",
   "execution_count": 19,
   "id": "fe66d791-3a6f-4448-955a-f23945702805",
   "metadata": {},
   "outputs": [
    {
     "name": "stderr",
     "output_type": "stream",
     "text": [
      "100%|████████████████████████████████████████████████████████████████████████████| 5000/5000 [00:02<00:00, 2417.55it/s]\n"
     ]
    }
   ],
   "source": [
    "preprocessed_reviews = []\n",
    "\n",
    "for sentence in tqdm(final['Text'].values):\n",
    "    sentence = re.sub(r'http\\S+', ' ', sentence)\n",
    "    sentence = BeautifulSoup(sentence, 'lxml').get_text()\n",
    "    sentence = re.sub(r'[^A-Za-z]+', ' ', sentence)\n",
    "    sentence = ' '.join(e.lower() for e in sentence.split() if e.lower() not in all_stopwords)\n",
    "    preprocessed_reviews.append(sentence.strip())"
   ]
  },
  {
   "cell_type": "code",
   "execution_count": 20,
   "id": "c39fb85a-d9e3-4d0a-acca-7de65dd2e48a",
   "metadata": {},
   "outputs": [
    {
     "data": {
      "text/plain": [
       "['bought vitality canned dog food products found good quality product looks like stew processed meat smells better labrador finicky appreciates product better',\n",
       " 'product arrived labeled jumbo salted peanuts peanuts actually small sized unsalted sure error vendor intended represent product jumbo',\n",
       " 'confection centuries light pillowy citrus gelatin nuts case filberts cut tiny squares liberally coated powdered sugar tiny mouthful heaven chewy flavorful highly recommend yummy treat familiar story c lewis lion witch wardrobe treat seduces edmund selling brother sisters witch',\n",
       " 'looking secret ingredient robitussin believe found got addition root beer extract ordered good cherry soda flavor medicinal',\n",
       " 'great taffy great price wide assortment yummy taffy delivery quick taffy lover deal',\n",
       " 'got wild hair taffy ordered pound bag taffy enjoyable flavors watermelon root beer melon peppermint grape etc complaint bit red black licorice flavored pieces particular favorites kids husband lasted weeks recommend brand taffy delightful treat',\n",
       " 'saltwater taffy great flavors soft chewy candy individually wrapped candies stuck happen expensive version fralinger highly recommend candy served beach themed party loved',\n",
       " 'taffy good soft chewy flavors amazing definitely recommend buying satisfying',\n",
       " 'right sprouting cats eat grass love rotate wheatgrass rye',\n",
       " 'healthy dog food good digestion good small puppies dog eats required feeding',\n",
       " 'know cactus tequila unique combination ingredients flavour hot sauce makes kind picked bottle trip brought home totally blown away realized simply find city bummed magic internet case sauce ecstatic love hot sauce mean love hot sauce want sauce tastelessly burns throat grab bottle tequila picante gourmet de inclan realize taste want use sauce thank personal incredible service',\n",
       " 'boys needed lose weight food floor chubby guy protein rich product food higher skinny boy jump higher food sits going stale food chubby boy losing ounce week',\n",
       " 'cats happily eating felidae platinum years got new bag shape food different tried new food bowls bowls sit kitties touch food noticed similar reviews related formula changes past unfortunately need find new food cats eat',\n",
       " 'good flavor came securely packed fresh delicious love twizzlers',\n",
       " 'strawberry twizzlers guilty pleasure yummy pounds son',\n",
       " 'daughter loves twizzlers shipment pounds hit spot exactly expect packages strawberry twizzlers',\n",
       " 'love eating good watching tv looking movies sweet like transfer zip lock baggie stay fresh time eating',\n",
       " 'satisfied twizzler purchase shared enjoyed definitely ordering',\n",
       " 'twizzlers strawberry childhood favorite candy lancaster pennsylvania candies inc oldest confectionery firms united states subsidiary hershey company company established young smylie apple licorice twists green color blue raspberry licorice twists like alli dry cool place recommended fridge according guinness book records longest licorice twist measured feet weighted pounds kg candies inc record breaking twist guinness world record july product kosher thank',\n",
       " 'candy delivered fast purchased reasonable price home bound unable store perfect',\n",
       " 'husband twizzlers addict bought times amazon government employees living overseas country assigned fresh tasty packed arrive timely manner',\n",
       " 'bought husband currently overseas loves apparently staff likes generous amounts twizzlers ounce bag worth price',\n",
       " 'remember buying candy kid quality dropped years superb product disappointed',\n",
       " 'love candy weight watchers cut craving',\n",
       " 'lived yrs miss twizzlers visit visits stock yum sell mexico faithful buyer able buy right',\n",
       " 'product received advertised',\n",
       " 'candy red flavor plan chewy buy',\n",
       " 'glad amazon carried batteries hard time finding unique size need garage door opener great deal price',\n",
       " 'got mum diabetic needs watch sugar intake father simply chooses limit unnecessary sugar intake sweet tooth loved toffees guess sugar free great eat pretty guilt free impressed ordered w dark chocolate office eat instead snacking sugary sweets excellent',\n",
       " 'know cactus tequila unique combination ingredients flavour hot sauce makes kind picked bottle trip brought home totally blown away realized simply find city bummed magic internet case sauce ecstatic love hot sauce mean love hot sauce want sauce tastelessly burns throat grab bottle tequila picante gourmet de inclan realize taste want use sauce thank personal incredible service',\n",
       " 'huge coffee fan mother purchased little machine talked trying latte macciato coffee shop better like products usually non coffee drinker little dolche guesto machine super easy use prepares good coffee latte cappuccino etc minute water heated recommend dolce gusto good price getting',\n",
       " 'offer great price great taste thanks amazon selling product staral',\n",
       " 'mccann instant oatmeal great oatmeal scrape minutes prepare escaping fact best instant oatmeal near good store brand oatmeal requiring stovetop preparation mccann good gets instant oatmeal better organic natural brands tried varieties mccann variety pack taste good prepared microwave adding boiling water convenient extreme time issue mccann use actual cane sugar instead high fructose corn syrup helped decide buy product real sugar tastes better harmful stuff thing like mccann use thickeners oats plus water plus heat creamy tasty oatmeal need guar gum convenience product maybe guar gum sitting bowl instant mccann thick gluey',\n",
       " 'good instant oatmeal best oatmeal brand uses cane sugar instead high fructouse corn syrup better sweetness doctors form sugar better great cold morning time mccann steel cut oats apple cinnamon best maple brown sugar regular good plus require doctoring actually tell flavors apart',\n",
       " 'instant oatmeal soggy minute water hits bowl mccann instant oatmeal holds texture excellent flavor good time mccann regular oat meal excellent bit longer prepare time morning best instant brand eaten close second non instant variety mccann instant irish oatmeal variety pack regular apples cinnamon maple brown sugar count boxes pack',\n",
       " 'mccann instant irish oatmeal variety pack regular apples cinnamon maple brown sugar count boxes pack fan mccann steel cut oats thought instant variety try found hardy meal sweet great folks like post bariatric surgery need food palatable easily digestible fiber bloat',\n",
       " 'celiac disease product lifesaver better getting half price grocery health food store love mccann instant oatmeal flavors thanks abby',\n",
       " 'need know oatmeal instant half cup low fat milk add raisins nuke seconds expensive kroger store brand oatmeal maybe little tastier better texture oatmeal mmm convenient',\n",
       " 'visiting friend nate morning coffee came storage room packet mccanns instant irish oatmeal suggested try use stash nate dose chance ended trying apple cinn found tastefull water powdered milk goes good j coffee slice toast ready world day jerry reith',\n",
       " 'ordered wife reccomended daughter morning likes flavors happy happy',\n",
       " 'variety packs taste great morning cents meal understand earth buying stuff maple brown sugar terrific followed apples cinnamon followed regular tired ole thing taste great boil water small pot packet bowl pour boiling water watch expand x size taste good takes minutes prepare sure earth convenient healthy quick excellent quality extremely cheap',\n",
       " 'mccann makes oatmeal oatmeal connoisseur likes raw pellet state cooks half hour sloth addled instant microwave minutes good sure beauty instant variety available different flavors regular variety pack allows different tastes explored giving chance experience difference mccann known oatmeals personally like mccann cooks thicker body brand america apples cinnamon tends little liquidy want experiment water add watt microwave oatmeal cooks minute seven seconds watch handle time water use bad thing consider bad thing offering buy lot end count boxes good family oatmeal eaters single person love oatmeal',\n",
       " 'mccann oatmeal morning ordering amazon able save box great product tastes great healthy',\n",
       " 'mccann oatmeal good quality choice favorite apples cinnamon find overly sugary good hot breakfast minutes excellent',\n",
       " 'like mccann steel cut oats find cook tastes better grocery store brands convenient keeps eating oatmeal regularly good thing',\n",
       " 'good oatmeal like apple cinnamon best follow directions package comes soupy taste like oatmeal thick add milk',\n",
       " 'like maple brown sugar flavor regular fine brown sugar added apples cinnamon flavor ok quick easy satisfying breakfast order brand variety maple brown sugar',\n",
       " 'oatmeal good mushy soft like quaker oats way',\n",
       " 'got free package bottle bloody mary mix bought seller advertising worked lol tried shared buddies loved im buy noticed reviews hot burn mouth forever hot nice temp perfect',\n",
       " 'stock time looked vermont country store weston find jaw harp cranberry horseradish sauce fartless black bean salsa apple cider jelly newton cradle art motion staple vermont maple syrup ass kickin peanuts hot activate perspiration glands ears arms requires beverage advertised glass cold milk box kleenex nose run look like ordinary peanuts giving ideas work suspect people hitting goodies absence especially colleague greg going work earliest opportunity contents ordinary planters peanuts crying nose running return shaken ensure spices evenly distributed important wash hands consumption touch eyes nuts ass kickin peanuts p sharing peanuts deliberately probably greg jaw harp christmas insulted',\n",
       " 'roast home stove popcorn popper outside course beans coffee bean direct green mexican altura suited method second cracks distinct roasted beans medium slightly dark great results time aroma strong persistent taste smooth velvety lively',\n",
       " 'roast large cast iron pan grill bag time smell wonderful roasted beans taste delicious importantly coffee smooth bitter aftertaste numerous occasions send roasted beans home friends like',\n",
       " 'deal awesome arrived halloween indicated satisfy trick treaters love quality product expensive local store candy',\n",
       " 'chocolate great variety family loves family goes fast perfect variety kit kat reeses',\n",
       " 'great product nice combination chocolates perfect size bags plenty shipped promptly kids neighborhood liked candies',\n",
       " 'halloween sent bag daughters class share chocolate fresh enjoyed',\n",
       " 'bag candy online pretty expensive cheaper order compete grocery stores good combination favorite candy',\n",
       " 'arrived days stale eat bags',\n",
       " 'endurolyte product years pill powder form long desert rides dirt bike found camelbak water heavily laced endurolyte powder overly tasty effective got cramp mile rides desert racing buggy camelbaks laced powder fizz great product firstly hammer endurolyte product great endurance athlete world use products second convenient handly tablets dissovle fizz tastes great imagine getting nice cool drink body starving hydration electrolytes getting salty taste refreshing lemon lime mango camelbaks fizz drop tablet bottled water exercise nice flavored water chock electrolytes recommend product hammer product highly',\n",
       " 'product serves source electrolytes long run bike ride tried flavors like grapefruit flavor taste actually like slight carbonation use hammer products like product line',\n",
       " 'stuff works preventing cramping middle stages rides pop water bottle set flavor fine goes easy',\n",
       " 'low carb diet little tablets thing years ago started cycling years heart arrhythmia longer rides high heat drinking plain water little research thought electrolytes issue gatorade option loaded carbohydrates looked low carb alternative zero carb sports drinks help day ran bike shop tried tube voila problem solved shared friends particular problems leg cramps resolved guys got right superbly formulated simply work',\n",
       " 'purchased mango flavor like mango hint sweetness unfortunately hint aftertaste like licorice consuming sports nutrition products decades familiar come like taste products tried mango flavor appealing tasted terrible bad notice bad taste sip',\n",
       " 'sooooo deliscious bad ate em fast gained pds fault',\n",
       " 'albanese gummi bears rings good tasty high quality bears little faces local candy store type gummi stuff bears rings snakes balls worms lb twin packs pound bags screaming deal far concerned probably pounds deep friggin things consumed',\n",
       " 'grape gummy bears hard find area fact pretty talk grape gummy bears think lying bought lbs bears little bit bigger brands kind sour kick strong love grape flavored candy soda pretty good company makes grape gummy bears little bit better opinion worth price like use gummy bears home popsicles flavored sports drink salt sports drink makes softer popsicles gummy bears awesome frozen delicious',\n",
       " 'ordered raspberry latice tarts directly fantasicakes website dinner party hosting arrived fresh intact good size froze half later use pastry lover best tasted pastry soft jam good taste great gone time guests impressed',\n",
       " 'buyer beware sweetener everybody maltitol alcohol sugar undigestible body know short time consuming unsuspecting digest extreme intestinal bloating cramping massive amounts gas person experience nausea diarrhea headaches experienced learned lesson hard way years ago fell love sugar free chocolates suzanne sommers sell thought found sugar free chocolate nirvana taste bliss short lived terrible effects maltitol kicked discomfort unlike felt blew like balloon painful abdominal cramping symptoms passed unpleasant hard believe low calorie sweetener culprit symptoms gone stopped eating chocolate hunch maltitol unfortunately confirmed year later purchased delicious sugar free popcorn local market taste amazing looking label wondering possibly yummy new sugarfree treat taste good heart sank followed little asterisk sugarfree sweetener label read maltitol tiny little letters thank goodness eaten little ended effects shorter duration people use maltitol heart content like bad reaction case like maltitol',\n",
       " 'okay way buy',\n",
       " 'tea flavor brunch artifial flavors returnable wasted bucks',\n",
       " 'looked like perfect snack trail mix unfortunately arrived solid mass melted chocolate left pantry days opened room temperature gooey fridge breaking hunks taste good chocolate grainy melting solidifying order online store pick',\n",
       " 'taste good purchasing different brand similar taste texture agree reviewer ordering summer insulating packaging ice packs melt warm weather like chocolate food items order cold weather buy',\n",
       " 'know tea good granted south know enjoyed tea sweet sweet tastes crisp',\n",
       " 'peppermint stick delicious fun eat dad got christmas remembered similar little girl love',\n",
       " 'great gift ages purchased giant canes recipients loved kept eat',\n",
       " 'know product title says molecular gastronomy let scare looking food science earth use coffee creamer coffee blonde sweet flavored creamers bad kinds fat honestly hate use manufactured food items think good body hand hate cold milk cream like hot coffee stumbled amazon day got idea making creamer bought low fat non instant milk powder regular milk powder non instant lowfat milk little sweeter tastes fresher regular instant low fat milk dissolve good cold water problem hot coffee play ratios heavy cream coffee rich think powder expensive use like mixing flavoring bough cocoa bean powder vanilla bean powder caster superfine sugar mix small batches spices like cinnamon nutmeg flavored creamers wanted use fake sweetner powder instead small amounts store jelly canning jars use little food chopper food processor blend sugar heavier sinks let settle bit opening stuff tastes way better storebought creamers fun experiment come flavors going try essential oils good chocolate orange mix ingredients mentioned online time experiment maybe use low fat milk add flavorings great housewarming host ess gifts sure molecular people able tell sure experiment cooking main reason bought creamer worked great',\n",
       " 'dogs love food bought specifically dogs food allergies works great hot spots tummy problems love ships right door free shipping',\n",
       " 'dog ton allergies environmental food prescription dog food tested allergies got test learned allergic prescription brand finally found dog food environmental triggers happy finally eat know cause pain',\n",
       " 'shepherd collie mix ibs vet recommended limited ingredient food helped symptoms likes buy amazon cheaper free shipping',\n",
       " 'natural balance dry dog food lamb meal brown rice recipe wonders jack russell awful food allergy food hope food find allergic problem eating dry normally mix natural balance dry lamb brown rice natural balance wet lamb brown rice like better started feeding dog bichon loves dog allergy stomach issue want dog eat better food difference pet',\n",
       " 'great food love idea food ages breeds real convenience good product dogs eat gas poop regular perfect consistency mom ask',\n",
       " 'standard poodle pomeranian wonderful food switched different food price couple times end going right natural balance',\n",
       " 'great dog food dog severs allergies brand feed',\n",
       " 'food great ages dogs year old puppy soft hardly sick food good especially amazon prime shipping',\n",
       " 'golden retriever picky dogs met experimenting types food found loves natural balance like natural balance fact multiple flavors dry wet varieties mix dry food little wet food golden loves furthermore like mixing flavors time think meal day day little boring figured tend stay away fish type smells additionally started purchasing amazon petco wet food box couple cans came home surprise realized save time bought dog food buy amazon definitely recommend stamp approval natural balance dog food eaten dog love',\n",
       " 'food pet store delivered door price slightly',\n",
       " 'pleased natural balance dog food dogs issues dog foods past recommend natural balance grain free possible allergic grains switching issues helpful different kibble size larger smaller sized dogs',\n",
       " 'year old basenji jack russell mix loves dog food noticeably healthier energetic switched standard dog foods earlier year despite higher cost natural dog foods find eats significantly natural balance dog foods stays happy normal dog foods eat cups dog food day recommended serving size eats cup cup natural balance dog food day account actually getting bang buck natural dog foods buy long normal dog foods healthier happier dog boot add fact free day shipping amazon prime sold',\n",
       " 'pup experienced allergies forms hotspots itching dog foods cheap buy food crazy preservatives cause health problems pets food works wonders reducing allergies dog loves food message ramsey frankenstein approved',\n",
       " 'english bulldog skin allergies summer got age vet recommended wean food previous owner gave iams lamb rice new kind second tried working dogs need limited diet sensitive additives proteins commonly found commercial dog food like chicken beef',\n",
       " 'fed golden retriever hated eat gave terrible diarrhea buying super expensive',\n",
       " 'mouth says love thee let count ways like apple products item draw shipping cost heavy',\n",
       " 'arrived slightly thawed parents accept company helpful issued refund',\n",
       " 'crust tarts perfect husband loves crazy sour tart taste eat crust hubby takes filling kids think great maybe',\n",
       " 'absolutely scrumptuous husband love customer expensive ship cost shipping tartlets',\n",
       " 'nice alternative apple pie love fact slicing dicing easy prepare loved fact fresh needed',\n",
       " 'like creme brulee loved easy sprinkle sugar came broil look amazing taste great guess thought went way took minutes ordering',\n",
       " 'bought pickled asparagus amish market love bite saw discount rack local safeway cleaned better ones amish market fantastic jars bonus clove garlic going order pack household wont waste',\n",
       " 'love asparagus recently pickled asparagus oh goodness friend introduced exact brand believe great stuff tasted loved bought pack got jars left gonna need',\n",
       " 'presently diet fresh easy neighborhood grocery looking possible diet foods wanted things tasty non fat low calories came home dozen items discovered tillen farms pickled crispy asparagus liked asparagus enjoyed brands pickled asparagus tillen farms brand good best recall excellent flavor big clove garlic jar looking forward eating believe good asparagus tastes right says calories jar idea good diet food gary peterson',\n",
       " 'diappointed flavor texture mix usually like low carb things tried diappointed specific',\n",
       " 'drinking tea long time purchase doctor office available glad buy amazon com drink tea day like folks drink coffee wonderful taste',\n",
       " 'drinking royal king natural organic green tea tea bags x g day tea years buy boxes time save shipping years drink coffee morning till night finally realized drinking coffee healthy finally resolved improve health stopped drinking coffee tried alternative drinks replace coffee habit found green tea good tasting health benefits green tea drinks actually makes healthier coffe drinks healthier drink quality cold water opinion price royal king natural organic green tea best tasting teas green tea beautiful golden color taste bright fresh recommend adding tiny organic bee farms raw honey tea add sweetness health benefits treat expense tea tribute xi hu long jing fantastic tea practical drink day tea afford cons latest shipment package shown amazon page different shipped shipped displays naturally high polyphenol catechins key contributive element possible health effects tea amazon package displays caffene free sure green tea caffene free con tea bag rips open unwrap string tea bag string stuck tea bag bag hot water unstick',\n",
       " 'best teas tasted clean bright fresh great delivery quality try',\n",
       " 'love love green tea hard find area places internet charge big price usually boxes merchant definitely order seller thanks depend green tea fix everyday',\n",
       " 'love tea helps curb eating day mom given friends try',\n",
       " 'italian lived italy years buy cookies everyday breakfast italian espresso find bay area great',\n",
       " 'spent summers italy biscotti given breakfast food mid day snack simple delicious sold good brought bags recent trip italy great found amazon note great open bag smell contents pour glass milk dip macines milk great routine treat kids',\n",
       " 'heard little product local pet store tried small bag cats years respectively female younger took right away older male unfortunately weaned junk cat food corn meal etc usually refuse diet change actually liked older male overweight trying switch soft food doctor request totally refused posh cat consumes calories fatty know eating good food course know product cost feline food market feeding animals lousy alternatives marketed healthy commercials cats eating vegetarian diet corn meal right stay stay tuned updating review months cat food cats upgraded stars good food garfield eats little big cat exercise let face female cat years old couple months healthy tiny happy agile tried chicken version holistic select garfield seemd miss sardine version went ordered duck version update try',\n",
       " 'started buying noticed year old cat starting lose spunk decided time start buying real cat food garbage super markets found pet store million choices sure brands good went try great purchase cat past months active kitten coat sooo soft mainly loved taste highly recommend brand friends family animals',\n",
       " 'lot research find best food cat excellent food according holistic veterinarian probiotics kibble step important best thing cat loved immediately stop mixing old food eat holistic select',\n",
       " 'cat food recommended vet year old cleo cat trouble keeping food loosing weight stopped problems eat satisfied eating helps justify added price aids digestion ok sorry smells gone ya know mean add experiencing problems cats lot benifits cat food',\n",
       " 'year old male cat chronic urinary tract infections feed dry food combination wet food water added uri ease combination keeps uti control switch type dry food uti gets worse cats enjoy food expensive best solution',\n",
       " 'educated feline nutrition allowed cats addicted dry cat food offered canned dry wish fed premium quality canned food limited dry food year old cats year old cats good quality dry foods eat wellness innova innova manufacturer recently purchased procter gamble began looking replacement offering samples local holistic pet store holistic select usual wellness innova eat finicky cats recommend trying holistic select good quality food palatable finicky eaters',\n",
       " 'holistic vet recommended brands tried cats prefer especially sardine version best coats soft clean eyes clear want rude delicately waste far odorous cats eat mcdonalds junk found stores definite plus health benefits obvious highly recommend holistic select',\n",
       " 'cats allergic fish beef formula eat better ingredients prescription diets available vet kitties active soft shiny fur fat dry food reduces tartar buildup teeth',\n",
       " 'cats thrive extremely dry cat food definitely hair ball throw ups fur great fit weight vendor ships extremely fast amazon suppliers book',\n",
       " 'fan hot spicy maruchan ramen long time enjoy spice love ramen love product bad way expensive amazon walmart',\n",
       " 'eating ramen noodles little kid found better flavor hot spicy chicken hot chilihead like sure good',\n",
       " 'fan ramen quick easy meal finding amazon decent price delivered door case amazing situation find',\n",
       " 'bit wuss soup tastes imagine fire taste typically like spicy food good flavor find case soup flavor killed burn',\n",
       " 'loved spicy flavor found liking broth noodles usually opposite heat bother like hot hot foods',\n",
       " 'got sale roughly cents cup half price local grocery stores plus rarely stock spicy flavors things great snack office time constantly crunched escape real meal favorite flavors instant lunch buy time goes sale',\n",
       " 'bought allot different flavors happens favorites getting soon',\n",
       " 'love flavor ramen eat flavors anymore taste bland comparison convenience delivered home prime days pay shipping price amazon bad cheaper run pick case grocery store',\n",
       " 'best investment ginger unbelievable fibrous like real ginger spicy kick perfect sugar calms worth lbs getting soon use topper ginger cupcakes cookies',\n",
       " 'delicious australian ginger live compares favorably australian ginger purchased cities enjoy traveling',\n",
       " 'trying brands cheaper brands stupid ginger soooo worth money tender moist let',\n",
       " 'son acid reflux birth medication available improvement older gentleman came work place told product automatically ordered expecting better results things tried surprise heartburn symptoms day starting eating piece ginger morning eat actually enjoy product god send thank',\n",
       " 'bought office people sweet snack bite size easier people grab couple pieces entire licorice stick complaint bags broke open shipping',\n",
       " 'twizzlers brand licorice better known brand package free h good deal black cherry good taste strawberry taste delicate barely',\n",
       " 'love tasty infact think addicted buying packs bags reasonable going target getting bag savings bag use subscribe save product love subscribe save',\n",
       " 'looking messy version licorice children sure try soft easy chew hands sticky gross car summer beach etc love flavos mix chocolate nice snack great item great price highly recommend',\n",
       " 'fan newman pineapple salsa looking comparable salsa best tasting salsas daughters love like super chunky salsa berry mango nice smooth texture small mango pieces salsa sweet sweet mild nice little kick price steal',\n",
       " 'salsa smelled delicious think probably unfortunately person amazon packer probably little stuffing work especially bottoms bottoms broken bottles reached computer told returns cause food item looked customer service tag found new face lift proud new face lift place contact emergencies like buy lot stuff comes styrofoam boxes ship thingsespecially salsa cardboard box stripe large bubble wrap matter carrier fed ex careful going break line especially glass container barbara l',\n",
       " 'best salsas found long time stay away variety pack come worth money',\n",
       " 'best cornmeal regular cornbread hot water cornbread meal outstanding fried oysters meal gave great texture flovor',\n",
       " 'fabulous marinade love use chicken baked oven grill flavor flair dinner parties receive rave reviews guests definitely worth price super cheap super easy love',\n",
       " 'works chicken fish beef pork fast easy makes taste excellent plus buying bulk box stores',\n",
       " 'got brother jorge cruise diet decided try actually tastes pretty good',\n",
       " 'singles sell store box singles sure amazon selling box singles hazelnut coffee creamer favorite truly good buy',\n",
       " 'awesome yummy flavor got healthy alternative desserts normally eat glad things jello desserts taste good good definitentally purchasing product flavor wonderful',\n",
       " 'went grocery stores looking flavor jello green tomato jam recipe finally found jello wonderful evidently carried stores summer harvest time fall find town jello tastes like watermelon jam recipe takes like watermelon jam great regular jello yummy',\n",
       " 'deal healthiest salt use box family year problem iodized sea salt raise blood pressure regular salt',\n",
       " 'perfect size sea salt table picnic basket love shakes clumping flows freely',\n",
       " 'length minsthe expiration date months day bought product tuna tomato combination delicious items order amazon month edit added short video combination looks like wearing headlamps good job focusing tuna film look like people view product',\n",
       " 'heard safcol brand tired trying typical pouches starkist chicken sea surprised thought bit better brands seasoning',\n",
       " 'best tasting tuna pack opinion great snack satisfying tomato',\n",
       " 'familiar safcol brand tuna addict gave shot tuna tastes like good quality found tomato basil flavor bit bland better plain pack punch hoping great option low calorie low fat meal',\n",
       " 'found tastier plain tuna pouches excellent quality need dress micro power minute shazam believe little heating brings flavor',\n",
       " 'seriously product tasteless come better tasting products calories better special k bar cookie snack pack season combine share flavor',\n",
       " 'read pomegranate molasses try eaten little bit time wow decadent dark syrupy sour little sweet dab forget dessert unique flavor pleasing metallic undertone yum going try making fesenjan',\n",
       " 'moroccan recipes syrup brilliant mixed beverage swirled topping sliced oranges soaked orange water wonderful wonderful stuff',\n",
       " 'know long sat shelf old cook throw half skins damaged clear sign dried beans past prime return ask refund food returnable find different brand use servings beans throw away',\n",
       " 'smaller runts look consistency unfortunately taste like banana runts taste good yucky stuff trying return vendor',\n",
       " 'purchased giveaway baby shower jungle theme worked perfect small bags candy purchased want small bags purchase larger bag',\n",
       " 'drunk ricore mother allowed drink caffeine love stuff milk smoother tastier instant coffee milk french live bring boxes ricore opportunity savora hidden gem bringback check',\n",
       " 'drink mother brought visit home brittany france thought delicious wish bit cheaper love product',\n",
       " 'wait try cinnamon coffee cake fresh eggs creamy sour cream madagascar bourbon vanilla topped filled cinnamon streusel cinnamon coffee cake available online fair share cinnamon coffee cakes let tell fantasicakes cinnamon coffee cake takes cake size price quality taste cake arrived fast carefully packaged arrived perfect condition comes large tub white icing drizzle serving believe large size actually fed family enjoy breakfast days cake thick solid sponge cake type consistency moist filling flavors die sticky cinnamon outside sweet cinnamon vanilla swirled inside cake icing tops beautifully gives moist sticky sweet flavor pair cake morning coffee got perfect breakfast treat',\n",
       " 'love growing stopped drinking water lemon juice brand years ago stuff strong pour mouth alive feeling going feels like product went changes added water strong stronger use product good taste quality cheaper brand names thought fast hey lemon stuff love goes bad good product wish hit mouth chug sensation like',\n",
       " 'best lemon juice tried recurring customer high quality product season fresh lemos supplement need citrus kitchen refreshments continue buying',\n",
       " 'lemon juice kitchen year round powerful flavor need zest dish add spritz water nearly day buy product',\n",
       " 'fast delivery good product lemon juice concentrate find stores handy add sauces dressings etc pain squeeze fresh juice everytime need nevermind lemons hand begin',\n",
       " 'good frozen lemon juice good slightly odd flavor preservative sure wish order frozen juice',\n",
       " 'believe told relaxing beverage seriously drink getting ready nap bedtime plans drive perform activity recommended feel arms legs tingle relaxation short time eyes start droopy place love stuff',\n",
       " 'bought grocery outlet seattle tacoma case tweleve paying yes dollar like taste great bad low calorie buy whacked price',\n",
       " 'great product taste great works exactly described superb natural sleep aid amazing',\n",
       " 'chocolate chip cookies brm garbanzo bean flour results fantastic brown sugar chocolate mask bean taste reviews mentioned friends discern difference classic cccs texture body elasticity meaning reduced tendency fall apart occurs gluten free flours nice chewy cccs regular flour added bonus high protein fiber level calculate g fiber cookie fills satisfied smaller servings glycemic index significantly lower highly recommend flour cccs thing',\n",
       " 'great stuff tasty banana bread good quality lowest price town',\n",
       " 'trouble finding locally delivery fast hunting flour aisle local grocery stores',\n",
       " 'packet glaze secret making european style fresh fruit tarts pie auction church friend requested strawberry offered amazing relatively healthy fruit tarts baking base layering uncooked fresh sliced fruit pouring contents packets harden room temperature hold fruit slice tart let beauty arranged fruit seen glaze cheesecakes hold fruit topping place personally like cheesecake rich fruit glazed cheesecake gorgeous admit slice fruit layer cheesecake springform pan pour glaze let set remove springform clear layer fruit cheesecake cherries strawberries sliced mangos nice best thin slices lemons gently poached sugar syrup layered cake use base sponge cake baked shallow form bases pate sucre kind french pastry bit like sugar cookie works fluted straight sided forms mini tarts muffin pan pre baking mold layer pie crust commercial crust works prefer pate sucre holds shape better substantial better crumb blind bake muffin tins lined pate pop fill fresh fruits berries great pour glaze people layer creme patisserie pastry cream like custard stabilized flour fruit happen think taste best baking glaze shelf ingredients vegan tapioca starch carrageenan dextrose cream tartar locust bean gum looking vegan tofu cheesecake use use fruit tarts nut crust base',\n",
       " 'scotties hot spots week hot spots gone smell kinda strong bad tolerablel',\n",
       " 'bought coffee cheaper ganocafe organic reishi mushroom healthy antioxidants expect taste good actually days totally worth sisters ganocafe introducing expensive similar coffee follow product weeks',\n",
       " 'coffee great organic ingredients pesticides worry plus tastes good healing effects ganoderma',\n",
       " 'like people mentioned coffee great taste tried different instant coffees better ones favorites want try organic africafe pure instant coffee',\n",
       " 'tastes great gives energy jitters love product wish came sort resealable jar hard plastic container instead zip lock pouch zip lock ripped quit working awhile product fantastic crazy packaging',\n",
       " 'little guys tasty refreshing usually eat salads lunch terrible things breath eat lunch small find sufficiently resolves problem sugar free sugar actually help smelly bacteria grow great tasty think lunch good bulk value buy highly recommend mints cheers',\n",
       " 'like better regular altoids costly better like',\n",
       " 'little tins sugar free mints great deal perfict mints tin right cary safer teeth ones sugar price dollars resonable great shareing looking mint try ones youll glad',\n",
       " 'pros packaging shipping price sold year expiration date eat share boxes fresh like regular wintergreen powdery form real mint cons',\n",
       " 'mints strong great taste convenient size carry pocket purse',\n",
       " 'huge supply working plenty spare effective buying grocery store time want mint',\n",
       " 'small containers fill little tins half filled price charged rip exotic ingredient costly gold contained tiny squares cereal ploy filled factory settled transport manufacturers honest dealings',\n",
       " 'love use containers medicine advil purse desk suitcase line felt earrings perfect little size disguise small valuables traveling love mints tiny powerful burning mouth',\n",
       " 'received shown mother law likes walgreens quit carrying great amazon',\n",
       " 'case office tin desk visitors help folks stop grab mints pop like candy meet find keeps coming tin co worker asked save tins use pillboxes safety pin boxes like said theyre real hit able hands candy dish good alternative nice garlic lunch gave item stars tasty sugar version mints sugar free item good sugar counterpart fact tin wrapped plastic like waste irritating remove totally wrap easy deal',\n",
       " 'tiny altoids great quick breath freshening small box great portability compact run probably couple months wait buy',\n",
       " 'loved wintergreen altoid smalls come write review packaging small convenience altoids smaller square shape blue hue delicious taste opinion definitely prefer regular size altoids continue purchasing highly recommended',\n",
       " 'fresh scent taste easy eat tin hours use favors loved',\n",
       " 'hard find wintergreen smalls sugar free stores red smalls peppermint common flavor wintergreen refreshing absolutely delicious driving cross country cuts turn daughter hand wintergreen pulls puts hand right world',\n",
       " 'like regular altoids breath mints pleasant tasting little candies cute convenient tin far goes mintiness strong wintergreens definitely weaker peppermint minis dragon breath person mints small effect breath freshen breath short maybe minutes point think icebreakers frost mints best sugar free breath mints',\n",
       " 'fed cats lot stuff boy cats picky eaters loved purina loved nutro loved iams love feed review based affectionate owners love certain age instructed vet consider senior foods lower carb foods catties fatties tried types food evinced change litter super stink small kibble cats barfed chew swallow felidae trick problems speak consistent litter bearable nose cats love kibble sized appropriate chewing kicker feeding cats felidae demeanor improved coats super soft lush new improvements directly attribute food loyal felidae consumers additionally absence corn product feed lessen remove reactions friends cat allergies',\n",
       " 'started cat felidae platinum weeks ago loves older cat somewhat overweight grouchy temperament mixed previous food figured ate felidae left old food felidae days old food entirely sweeter happier cat think agree better easily digested case happy purchaser felidae agree previous reviewer cats like clearly',\n",
       " 'cats youngest years old oldest ancient vet told years ago youngest blob lays looks like footstool arthritic skinny success canidae platinum senior dogs figured try cats low ash purina urinary tract formula entire lives thankfully ut problems buster youngest blob months plus felidae senior overweight cats active tell feeling better changed food felidae prissy ancient started play tease dogs getting chase purina wanted sleep think cat fairly early weight problems effective glucosamine certainly help older fur balls happier life',\n",
       " 'good thing worked kibble time slowly shifting percentage felidae national junk food brand bowl natural time cats mess moved',\n",
       " 'canidae felidae changed formula cats like change comes food change putting label noticed color food changed smell notice reviewd canidae happened time dogs issues prior change food lost cats moved new home cats upset change enviorment loud noise stop eating depends cat stopped eating lost lot weight took vet took months normal year better formula food changed started noitce eating started bug asked shop owner feed store knowledge change food customers yelling dogs food making dogs sick right away changed cats food started chowing suffered bit like dogs cats sensitve animals changes thier food cause stop eating thinking purchasing food rescued fixed cats picky eaters change formula death found change formula urge problems consumer affairs website fda website write letter let know affected animal canidae care change affected animals tell buy horrible',\n",
       " 'buy order case remember time tasted anchovy stuffed olive tried brands online brand favorite',\n",
       " 'order olives lot un like olives subtle flavors brine great cheeses favorite appetizer treats guests',\n",
       " 'hey description says grams roughly ounces way approximate price gram',\n",
       " 'friend drinking tea years introduced tea months ago took store bought pound lb retail store little shipping online merchant think great drinking earl grey english breakfast irish breakfast lapsang souchong assam etc lb shipping aside lapsang souchong think great replacement rest looking strong bodied black tea character boring current favorite afternoon tea extremely jaded tea snob love',\n",
       " 'love strong bodied quality tea typically drink assam irish breakfast early grey tea reviewer noted price pound discouraging searching quality bodied tea bitter palatable price point certainly fits bill unlike teas tend better form e iced vs hot tea excellent forms certainly recommend prefers smooth bodied quality tea cost arm leg',\n",
       " 'drink tea plain sugar milk pleasant aroma price amazon cheaper local grocery store reviewer right think herbal smell aroma label imperial blend kind implied herb exactly black tea drinker tea surprise affordable usually prefer white chinese tea like white peony expensive requires lower temperature water black tea aroma kind remind softness white tea',\n",
       " 'tried variety ahmad tea particularly like brand easier come imperial blend believe complex balanced ones tried body like good cup assam means overpower delightful clean taste darjeerling complete long lasting note bergamot enjoy best evening gives satisfying relaxing finish busy day interested specifics use teaspoons lose tea stainless steel infuser oz mug let steep f water min infuser drink sugar milk savor sophistication',\n",
       " 'tried literally dozens teas introduced russian custom preparing drinking tea ahmad imperial blend probably favorite fact equally delicious hot iced buy packs needed amazon rapidly family loves friends homes try box love',\n",
       " 'excellent tea best especially great prepare samovar',\n",
       " 'herbal additives blend destroy real tea taste people like herbal taste',\n",
       " 'makes tasty super easy meal fast high calories instructions saute veggies recommend cooking chicken chicken takes longer cook raw chicken ontop veggies makes slimy mess snow peas carrots dont like little corn added red pepper flakes heat served ontop rice came wonderful dinner table mins',\n",
       " 'think tried bloody mary mixer market time sugar worst corn syrup mixer natural ingredients tasty little kick enjoy',\n",
       " 'little spicy stuff rocks use v milder version best bloody caesar half mix half clamato',\n",
       " 'took pickle taste aim hooked bottle hand',\n",
       " 'candy described middle hard silky smooth filling described looks tastes like way past expiration date reccommend paid good chunk cash',\n",
       " 'started drinking power slim tea hcg diet help curb cravings liked tried hooked satisfying drink time energy gives extra pick afternoons helps going day matter long',\n",
       " 'trying wu yi teas like particularly subtle citrus taste natural sweetness ingredients include organic wu li cliff oolong tea mg organic black tea mg organic green tea extract mg proprietary blend mg plus ginseng panax orange peel lemon grass guarana ingredients natual orange citrus flavors goal drink tea coffee enjoying trying different kind tea day coming',\n",
       " 'live citron falksalt wonderful watermelon fish food requiring salt world try red juicy watermelon wonderful experience',\n",
       " 'terrible artificial lemon taste like pledge lemon furniture polish use plain flake salt fresh grated lemon zest',\n",
       " 'things huge love way crystals crunch flavor overpowering subtle lemony flavor favorite good plenty flavored salt long time buy',\n",
       " 'taste white cheddar flat breads like regular cracker bad bought wanted cheese taste huge disappointment misleading packaging box photo box bought store makes look like long flatbreads expanding length width box wrong plastic tray holds crackers smaller leaving small flatbreads bad company states use biodegradable eco friendly packaging fail huge box ridiculously small crackers ecofriendly buy feel ripped crackers like sesame tarragon littlemore bang buck flavor',\n",
       " 'ultimate puppy food kibbles great small breeds high digestible nutrients opposed fillers companies use waste results high quality ingredients hunting training showing handling breeds dogs nearly years multiple national champions highly satisfied eukanuba quality results obtained feeding foods recent purchases wag amazon com prices best found good shipping immediately items stock',\n",
       " 'recommendation bought puppies lhasa bichon mix lhasa poodle mix continue food weaned somewhat expensive food terribly pleased loaded stuff headed home let small dogs seen gas issues consistently foul gas consistently usually sitting laps know dogs got bag stuff purchased amazon great price got lb bag price think lb bag petco continued gas mean loved food wrong loved mix water like soft food gas worse think responsible speed chowed blame food gluttony eventually switched food farting think high fat content undoubtedly necessary small puppies need diet think advised longer useful said year yeah right try dealing gas long mos age switched puppychow better granted like humans like lot better',\n",
       " 'delicate green tea smooth light taste subtle floral tones bitter aftertaste years drinking ahmad teas disappointed superb quality ahmad teas remained consistent years happy find ahmad teas available thanks amazon stores carry area miles away current deal pack superb cheaper find locally great tasting tea happy recommend',\n",
       " 'fresh great way little chocolate life million calories taste like chocolate pudding',\n",
       " 'like ceylon tea variety certainly enjoy appreciate tea happy find ahmad teas available thanks amazon surprised negative review years drinking ahmad teas disappointed superb quality ahmad teas remained consistent years current deal pack good cheaper find locally highly recommended note listing description confusing packet tea weighs grams equals pounds ounces',\n",
       " 'enjoying tea years tea good mornings afternoons evenings local store went buisiness thanks amazon use bodum tea press prepare pot',\n",
       " 'hi black tea everyday past years habit ahmad tea favorite brands highly recommend like black tea think going remain favorite years',\n",
       " 'tried despite review found exactly tea buy russian italian groceries',\n",
       " 'ahmad tea excellent looseleaf tea eith hot making iced tea great flavor lingering aftertaste',\n",
       " 'drinking tea past years usually buying box visiting large metropolitan areas middle eastern stores carry loose ahmad teas usually pound box considered unremarkable robust tea aroma taste beautiful reddish color good tea drink decent base mixes tea sort freshly opened package characteristic tea smell brewed tea weak flat tasteless product anymore lot tea money quality drink lipton bags worse',\n",
       " 'love love love deal way fun pick teas chocolates ciders coffees outfits assemble samplers boring choosing narrower range sellers nice answer questions email slightly confusing ordering method easy want great packaging forget ship fast kups tossed loose box cares',\n",
       " 'tried random sampler packs overloaded decafs extra bolds teas great way exactly brands style want received order couple days exactly ordered second order ordering item',\n",
       " 'good products fast shipping equals happy little pricey hand pick good flavors cant find def worth price',\n",
       " 'daily basis gums healty teeth clean free plack',\n",
       " 'wow product impressive bought oz blueberry pleased packaging price shipping powder dissolves instantly water mixing tsp small glass water drinking tastes great add smoothies juiced fruit juices product economical compared purchasing fresh blueberries especially waste mold overripe berries thrown away think add baked unbaked foods excited add superfoods diet fast easy way definitely trying flavors soon',\n",
       " 'minutes tentacle bitten ball inside cracked half durable dog toy disappointed dog',\n",
       " 'chemical sensitive sugar free product year use maybe week drink bottle boost energy hour depending feel imo replace coffee sweet early afternoon start fade drink bottle workout drinking guayaki yerba mate teas years compared toxic energy boosters highly recommend product clean leave nasty chems body try judge review body reacts differently',\n",
       " 'felt energized minutes lasted minutes paid drink drunk cup coffee saved money',\n",
       " 'yes probably healthier hour energy starbucks shots looking avoid caffeine overload energy drinks w high dosage caffeine believe caffeine content guayaki shot ml probably lower un healthy energy shot drinks believe people avoid brands b c contain caffeine sugar react caffeine guayaki good buy definitely feel energy boost w guayaki shot w caffeine effects irritability nervousness mood swings caffeine overdose stopped drinking coffee looks organic energy drinks safe sensitive caffeine great buy loaded w sugar taste easy pleasant loaded w bunch chemicals like hour shots starbucks drinks energy boost lasts hours takes minutes kick probably depends body weight note want feel energized day protein drink thing morning stay away heavy fattening foods day feel sluggish sleepy',\n",
       " 'nature valley nut lovers variety pack perfect sure peanut butter bar excellent loved roasted almond roasted pecan peanut butter definately buy seller quick shipping fresh',\n",
       " 'wish read review purchasing gallons oil health issues reeks like chemical rubber smell smell coming black rubber gasket lid called report situation company sabrina told pay send sample tested lab unbelievable good customer service indicate pay product returned refund including shipping product faulty period order company recommend based horrible customer service lack responsibility ownership',\n",
       " 'product strong taste crayola crayons process trying different brands coconut oils cooking purposes opening plastic container aroma crayons immediately fills room flavor permeates food cooked suspect source problem plastic plastic container experienced brands purchased date favorite coconut oil distributed barleans flavor fantastic supply gallon sized tub dr mercola best product size category',\n",
       " 'shipped sister follows gluten free eating plan reports versatile easier grinding almonds crispy crust chicken fish filets uses place bread crumbs meatloaf meatballs stays moist added place wheat flour baking good product good value',\n",
       " 'healthy mixed llasa tibetan terrier adores healthy breath smell teeth good shape products great healthy product',\n",
       " 'great healthy chew wk old beagle rio loves taste sure beats arm',\n",
       " 'enjoy product hard time finding affordable store found look sugar use thanks',\n",
       " 'sugar raw tm harvest cane w burningto delivered hc sdear sugar raw folks buy product care environment like know care burn cane fields maui adds co worsens climate change smoke burning damaging lungs workers workers children residents maui love product want change burn harvesting continue buy knowing contributing global warming lung disease',\n",
       " 'love sugar muscavado sugar great use place regular white sugar recommend',\n",
       " 'product exactly advertised savings half retail price easy store individual packaging',\n",
       " 'buy sugar years eat sugar sugar called turbinado sugar misleading picked brand says real turbinado sugar brands local food store sugar brown colored caramel find needed sweet water days ago sugar raw glass water brown glass got pure white sugar crystals shame producer u try sugar mouth seconds spit pure white crystals wondering consumers hold company liable practice',\n",
       " 'sugar raw flavor profile better white sugar suppose better wish bags resealable',\n",
       " 'delicious sugar pretty light brown color delicious aroma granules big bigger plain refined sugar makes difficult cream butter sugar use recipe melt sugar baking use brew beer plan boil melt great product perfect sugar granules bit finer',\n",
       " 'use raw sugar little smaller normal crystals good buy',\n",
       " 'sugar good use coffee cereal etc week white sugar white sugar taste terrible plus read raw sugar contains lot minerals missing diets product delivered fast packaged complaint price wish find raw sugar cheaper happy buy bulk cheapest found',\n",
       " 'love sugar price wise cheaper buy amazon compared',\n",
       " 'love sugar tastes better overly sweet tasting regular sugar baking items turn good price amazon set good makes easy use everyday stuff',\n",
       " 'bad sugar raw like better natural sugars better consistency know matter better color unfortunately natural paper bags got torn bit box look like box damaged tell happened sort pain clean half bag spilled inside box kitchen opened sure solution order happens switch brands ship unnatural plastic bag',\n",
       " 'great service items arrived faster expected efficient use seller highly recommend seller thank excellent service',\n",
       " 'ignore star comments check bag main ingredient fact grain brown rice second rice flower gluten free add binder corn flour comes celiac disease sunchips contain wheat key binder chip cookie cereal excellent product spouse buy lot gluten free absolutely delicious',\n",
       " 'best flavor addicted good far best live need anymore',\n",
       " 'healthy products taste good taste good try downhill chips occasion tasty served guests twice times wanted know nice gluten free friends borderline diabetic eat',\n",
       " 'found crisps local walmart figured try yummy regular chips big chip fan problem eat entire bag sitting crisps big thumbs',\n",
       " 'best tasting crisps eaten buy special occassions know eat bag',\n",
       " 'paid ounce pkg lunch today bought brown rice good carb soon tasted tasted like corn chip checked ingredients deceptive masa corn flour listed ingredients overwhelms taste buy sunchips money similar taste',\n",
       " 'use rotel mild love product saves daily basis trying cook lower fat healthier foods hurry stuff makes easier notice canned tomatos weird tin taste spagehetti sauce reason product tastes good dump beans heat eat add chili powder chili soup indian dishes spicey spaghetti sauce prefer canned salsas works things like quesadillas drain liquid local grocery stores carry carry like pay amazon inflated price order case like paying higher price love love love product',\n",
       " 'price product certainly raises attention compairing amazon price local stores rotel local kroger dissapointing',\n",
       " 'fantastic product wish readily available stores taste greatest oz shot gone second tastes like concentrated sweet tea record hour energy tastes far worse taste results got mg caffeine equivalent big red bulls monsters stand sucralose sugar substitutes shot sized energy drinks sugar sugar g horrible drink oz red bulls day caffeine gives far better energy subtle preference black coffee drink cups day anymore overall steaz right real organic ingredients moderate amounts create big results',\n",
       " 'early work work super tired middle afternoon drinking hour energy usually extra strength day worked gave jittery feeling headachy husband got try skeptical works better hour energy jittery headache feeling mind taste reminds inside fig newton mmm price ok amazon grocery store yike organic feel good right feeling good',\n",
       " 'bought husband said best energy shots takes mornings works hard day good stuff',\n",
       " 'want organic energy shot choices steaz assorted flavors guayaki guayaki yerba mate actually steaz energy shot energy drinks use sambazon acai similarities ingredients great energy burst hours steaz energy shot withdrawals headaches plan drinking day lunch work help cut iced coffees helping calorie intake ordering packs subscribe save month great value',\n",
       " 'looking natural energy shot works found steaz energy shot favorite recently gastric bypass surgery tons sugar allergic sucralose splenda energy drinks tried bazi energy shots work steaz definitely taste taste like coca cola bad looking natural energy try',\n",
       " 'tried guayaki energy shots like taste natural caffeine tastes better like cold sure husband road trips little cooler ice waters stops coffee especially turnpikes way expensive worth shot normally split sensitive caffeine natural kind little weird drink thing coffee husband drinks shot gets nice wake boost recommend sinthetic shots feel good putting body ordering soon sure',\n",
       " 'feeling extremely tired late afternoon software engineer entirely unacceptable asked nice lady counter local foods market extra energy need day excitedly returned suspicious little green bottle hours drinking brain working unnatural speeds summarize experiences believe works explain needed drink plenty water personally feel helped energy level feeling tired day hate coffee shot preferably eat woot',\n",
       " 'energy shot truly work terrible taste know expect getting water handy chaser helps glad found gives energy need chemicals found beverages helped kick addiction diet coke aspartame laced caffeinated beverages yay',\n",
       " 'tried hour energy red rain nos energy shots favorite terms taste effect plus somewhat reassuring know natural ingredients wonder putting body brands purchase box months past years',\n",
       " 'looking energy boost artificial sweeteners chemicals great option taste decent nice smooth uplift jitters',\n",
       " 'found steaz berry energy shots local organic market bought bottles cost dollars fell love instantly drink delicious taste yerba mate acai juice like slightly bitter fruity chocolate honey tea sensitive sucralose splenda energy drinks days hate taste love steaz actual sugar artificial sweeteners rush gives slow medical conditions including fibromyalgia saps energy causes intense pain like steaz helps clear away fatigue fog things caffeine jitters mg caffeine bottle expensive buy bottles separately stores started looking online bulk price thrilled found pack amazon signed amazon prime specifically product hah',\n",
       " 'tried energy shots makes feel good energized sides effects best taste taste like medicine tea fresh taste love',\n",
       " 'drive otr road truck helps alert sugar high crash autoship like price good seen bucks store',\n",
       " 'products takes pretty good leave gittery subscibe save prime membership pay shot wife tried drinks like going style moderate effective use weight training recommend product looking healthier alternative high sugar unnatural products gives results awesome energy drink',\n",
       " 'use product daily provides steady stream energy jittery crash helps practice portion control acts slight appetite suppressant',\n",
       " 'buying drinking year energy boost excellent continuous hour effect recent shipments improved flavor slightly getting drink flavor heinous fake flavors found non organic energy shots',\n",
       " 'time misled reviews amazon like hr energy find rain ok thought try product based reviews boy sorry gagged getting bottle nose pinched leaves worst medicinal taste mouth tic tacs rid worst hour yawning drowsy like things taste weird tea flavored cough syrup work buy know bottles big fail',\n",
       " 'loved mold wished occasion use suckers daughter birthday going way mold salvaged liked kept use occasions price matter served main purpose',\n",
       " 'try vanilla tootsie rolls regular chocolate ones good best',\n",
       " 'try like addicted easy prepare tastes great absorbs flavors cook price good worth purchase like type couscous like try eaten hot room temp cold salad variety greens flavors takes flavors mixed cooked couscous broth oilive oil added flavor rocked taste buds big time',\n",
       " 'tri color couscous good flavor fun eat love texture cook chicken broth add minced garlic chopped herbs parsley cilantro red pepper flakes end cooking add olive oil makes wonderful dish highly recommend',\n",
       " 'tried find israeli couscous number upsacale grocery stores luck decided try good ole amazon com selected product good add herbs great dish add pasta type salad good hooked great flavor easy prepare',\n",
       " 'package came label torn cooking instructions know normally cook couscous tried cup water cup couscous brought boil let sit covered min mushy tasteless thrown rest container',\n",
       " 'think buying product know price unit compare items online store',\n",
       " 'love ordering bean coffee amazon like product review usually big fan flavored coffee thought try husband started grinding smell house flavored coffees smell taste going order flavor company try',\n",
       " 'love coffee wish came ground grinder use blender instead worth flavored coffees tried flavored odor reach coffee manages',\n",
       " 'brand coffee available local stores time believe company local drinking time tired particularly fond turtle sundae flavors good bad turns expensive order amazon door run local walmart brainer try like rich flavored coffee like',\n",
       " 'hot love tasty little sweet usually scoff salsas labeled hot lives billing',\n",
       " 'consume jar weeks adding fajitas corn chip dip hot awhile medium salsa suprema mild thought maybe cut ate going hot salsa ranchera hot people hot flavor bright forward similarly hot salsa victoria duller taste guess earthy salsa brighter mouth like hotter sauces tried lose resemblance yummy salsa taste hot happens tabasco sauce example drawback la victoria larger bottle salsa ranchera salsa victoria sell sam club good deal watch sales',\n",
       " 'service great meant buy swiss chalet chicken sauce marinade love sauce try marinade',\n",
       " 'use frequently like asian dishes week love product fast shipping usual buy',\n",
       " 'individually wrapped pieces delicious wish mildly sweet sugar free aftertaste traditional marzipan aholic enjoy',\n",
       " 'husbands stocking christmas hit',\n",
       " 'cancelled order cancelled problem positive note',\n",
       " 'love convenience singles best creamer taste like big bottle stick purse work',\n",
       " 'creamers come packs taken work opened home far found single broken leaking creamer usually way cream sugar coffee easy cut sweetness allow creamers cup think definitely best option buying creamers amazon listings lot complaints creamers breaking shipping',\n",
       " 'international delight fans completely dissapointed product problem shipment creamer thinner international delight happy',\n",
       " 'obvious convenience portability individual creamers liked item specifically packaging believe reviews read coffee creamer cups amazon creamer options coffeemate international delight multiple negative reviews shipment arriving broken cups thanks sloppy packaging issue shipment arrived dispensing boxes shown photo boxes tightly packed thick cardboard box good beating damaging inner boxes cups broken waste sloppy drippy mess plus boxes means kitchen bathroom moved mini keurig upgraded kitchen keurig best idea husband work reserve whichever runs looking mini creamers deterred like negative packaging reviews options best bet bonus auto delivery price reasonable',\n",
       " 'seller nice price good reason stop ording bacause went sugar free time watch fat product',\n",
       " 'purchased coffee mate singles use work coffee tea bags great require refrigeration',\n",
       " 'received items timely manner receipt removed pack consume pop tart stale left awful taste mouth',\n",
       " 'found new spring pop tarts bought whim kids amazed delighted fun colorful amazingly detailed artwork pop tarts fantastic school snacks lunch boxes school treats tie ribbon bright thinking spring gift challenge finding stores way kellogg fantastic product',\n",
       " 'yes cup right went town looking coffee invited non profit organization banquet delicious food amazing delicious coffee paid extra bucks right way worth money highly recommend',\n",
       " 'taste like stale order coffee th year annerversery reception hall stuff tasted like douwe egberts hall possibly stale coffee',\n",
       " 'serveice delivery seller excellent product order bad taste iam sure old tastes throw right away coudl drink',\n",
       " 'honestly best seasoning salt land tightens dish spicy perfectly seasoned perfect purchase oz mamma jamma',\n",
       " 'order arrived advertised chances use awesome flavor exactly hoped finish entire gallon definnantly order',\n",
       " 'like lot sesame oil use salads regularly great quality flavor aroma beat organic',\n",
       " 'bought set son months started taking went eat cut cantaloupe apple banana sweet potatoes times restaurant son busy long actually eat great overly worried choking big chunks got try new foods hesitate buy',\n",
       " 'slightly different version different brand son started months enjoys messy eats sticky juicy like banana watermelon trouble cleaning tried scrubbing nail vegetable brush works pretty takes time run food food mill blender cut clean chair floor dog picture',\n",
       " 'great idea daughter love think difficult wash mean like toss water come absolutely recommend',\n",
       " 'loved product fruits food want new baby choke ice baby teething worked great food like bananas impossible clean',\n",
       " 'product amazing know people little ones use love super easy clean use ordering impression package fyi',\n",
       " 'ordered coffee themed wedding arrived fight friends smelled tasted good literally hide box wedding big hit wedding day left tables great tasting product lowest price seen',\n",
       " 'delicious chocolate excellent espresso bean perfect roast purpose crunchy bitter',\n",
       " 'product exactly advertised fresh unfortunately candy dish office going fast need reorder demand',\n",
       " 'chocolate covered espresso beans wonderful chocolate dark rich bean inside delightful blend flavors caffine zing',\n",
       " 'popchips good following weight watchers lost pounds goal popchips salty crunchy indulgence taste good',\n",
       " 'purchased dozens bags pancake mix great product way highest price seen foods carries item sale canadian dollars canada cheaper baker box website company selling product amazon pack charging gives thought amazon find competitive prices',\n",
       " 'sugar sweet denied advertised melt baked liege waffles gaufres larger pebbles belgian pearl grains smaller think pretzel salt seed pearls',\n",
       " 'exactly looking bake chouquettes puffs small sugar pearls works great yum',\n",
       " 'looking missing taste exactly taste india loved remember days india definitely recommend',\n",
       " 'bought strawberry extract hoping spruce strawberry wine ended flavor original expected common problem fruit wines good strawberry flavor add sugary concoction baking good dessert drink strawberry flavor add existing flavor presto licking lips maybe fingers interested found right addition liquid volume oz extract gallon liquid',\n",
       " 'great stuff dependable especially million brands choose love stuff high end desires apollo olive oils california buy lot stuff buy',\n",
       " 'tried heard till recently weavers favorite running list types looking favorite found darned smooth bite taste little pricy worth worse price wise starbucks peets running list happens love far',\n",
       " 'strict peet coffee lover reticent switch brands weaver heart taste clean strong ethos correct organic baby packaging zen appropriate caffeinated heart',\n",
       " 'ahead drink brands served neighborhood cafe sure stash weaver peru organic bean home serve friends family deserve best coffee corner cafe people drink average coffee know better travel mug filled weaver coffee home enjoy real cup joe er weaver',\n",
       " 'bitter tasting coffee enhanced cream honey definately cup coffee oh bitter',\n",
       " 'im learning latin american south american coffees distinct coffee caramelish finish peets coffee fanatics learned weavers roaster roaster peet hooked reviewd french organic blend coffee perfect afternoon drink met weavers team warner brothers party gave half pound french roast fans wont dissapointed',\n",
       " 'like eating need energy boost searching snack fiber plus chocolate bad thing',\n",
       " 'favorite bars combo raisons dark choc wonderful filling hard find stores thankful subsrcibe save',\n",
       " 'fiance loves dark chocolate nut granola bars grocery stores carry anymore amazon came happier',\n",
       " 'buying quaker oats granola bars nature valley chewy bars better tasting great snack chocolate peanuts raisins better',\n",
       " 'hard husband eat breakfast school takes bars happy hard find flavor local grocery stores amazon com came reasonable price came husband breakfast ready runs door mornings like bar evening night snack',\n",
       " 'nantucket blend coffee favorites suprised single box time ordered pack fault reading closer order price count',\n",
       " 'green mountain nantucket blend k cups good cup coffee generally drink morning good small large cup settings highly recommended cfh',\n",
       " 'received keurig elite christmas excited break open sample pack pods try different blends flavors pods box green mountain coffee brand tried company researched online largest range keurig pods bought competitors produce coffee brand names unfortunately immediately disappointed quality coffee tried dark magic decaf breakfast blend underwhelming completely set writing green mountain altogther gm pod left mindset waste want figured forgetting completely glad nantucket blend perfectly pleasing cup coffee nice flavorful thick pungent unlike gm blends tried added flavored creamer measures caribou blend pods standard cup coffee new exciting pleasing definitely better keurig options able test run pods accumulated probably pick box know green mountain completely disappointing definitely open trying coffees promotion getting bewer ordered',\n",
       " 'green mountain favorite brand nantucket favorite coffee green mountain smooth flavor strong weak',\n",
       " 'looking replacement timothy kona blend longer carried amazon coffee green mountain nice strong like milder coffees',\n",
       " 'green mountains best blends coffee opinion love everyday blend perfect stregnth excellent blend',\n",
       " 'fantastic chicken noodle soup best eaten large hearty chunks chicken vegetables nice large noodles soup bodied seasoned right glad amazon carries product find vermont',\n",
       " 'oil years best eating bread cooking love regular use sorry tired great dipping bread cooking omelet green beans',\n",
       " 'oh gosh good like people eating ketchup life thought hubby brought jar home tomato flavor amazing buy store ketchup',\n",
       " 'sir kensington great job updating classic ketchup wonderful product refreshed taste ketchup great update leaves disappointed given heinz restaurant heinz die hard fans ketchup wish knew ketchup chemical aftertaste found heinz sure ketchup try forget spiced variety purchasing pack classic spiced variety sir kensington experience definitely way',\n",
       " 'ridiculous best gourmet ketchup tasted pricey wow love stuff great gift hard buy loves ketchup yummy',\n",
       " 'tomatoes star classic flavor clean fresh perfect avocado chicken sandwich spicy flavor complex best ketchup tried good foods crazy',\n",
       " 'condiments overpriced terrible classic disgustingly sweet spiced tastes like bad spicy marinara sauce chain restaurant',\n",
       " 'porcini mushrooms cooking plus years roland extra fancy porcinis purchased best including mushrooms bought italy transported usa',\n",
       " 'pretty pleased mushrooms large pieces hydrated good flavor estimate contents broken medium small pieces likely shaking transit problem break large pieces smaller ones recipes small ounce small minced size dust like pieces useful add gravies like gets wasted label says product china italy specified proportion country fond dried mushrooms lack texture fresh ones convenience hand big plus additionally find broth hydrate adds wonderful flavor soups stews save time add flavor add dried mushrooms directly soup stew hydrating helps meld flavors fond adding cooking water boiling pasta pasta picks wonderful earthy flavor cooks mushroom infused water time roland brand got price dip amazon warehouse certainly buy highly recommend',\n",
       " 'peanut lover larger cocktail peanuts people christmas gift list ask year',\n",
       " 'cashews nice big vast majority number small pieces bag pretty expected cashews absolutely excellent cashew brittle order took week arrive pretty decent considering shipped country came double bagged clear plastic bags lb portions highly convenient throw bags freezer ready work great value price',\n",
       " 'shriveled ones taste fine use vegan sauces recipes running food processor look perfect anyways price great deal half find store',\n",
       " 'ordered fair bit searching online ordering smaller oz bags admit bit sceptical ordered cheap idea good bad cashews order came pretty fast like days cashews fresh like broken pieces lb bags sealed clear tape found odd turned good deal considering second pack stayed fresh till opened trick actually air tight box stay fresh longer negative think price went abt lb bought',\n",
       " 'nuts arrived fresh tasty broken dirty looking like cashews',\n",
       " 'bought boyfriend likes honey roasted pecans salads couple restaurants plus likes nuts pecans almonds peanuts loved actually ordered cans instead gift tin work place stay fresh longer think freshness issue long lol',\n",
       " 'cat day probably longer tryed walk right stuff time know hungery absolutely interest swear die starvation wiff',\n",
       " 'got free order placed believe cats loved buy sure',\n",
       " 'great ham soup base ham beans seasoned greenbeans great flavor',\n",
       " 'ham base loaded msg realize ordered return food item',\n",
       " 'discover mix amazon bought food store like mix pancakes came delicious fluffy small secret try add seltzer water instead regular',\n",
       " 'appreciate fact buy product online free shipping great mix good wonderful texture thanks amazon',\n",
       " 'arrowhead mills buttermilk pancake mix favorite mix tastes great cooks light fluffy super easy water think better milk love pure organic maple syrup',\n",
       " 'pancakes taste great recipe adjustments son egg allergy great camping time like able pancakes fresh eggs available',\n",
       " 'hey great waffles pancakes add mix tho recipies bag thin lot fun arrowhead mills buttermilk pancake waffle mix serve fried eggs real maple syrup awesome gourmet pancakes waffles like serve hilton handy extra bags hand cant beat subscribe save price mix organic',\n",
       " 'glad found mix pancakes eggs son allergy taste fine family like ways',\n",
       " 'mix poorly packaged breaks open easily shipping nearly bag order spilled shipping box bags come unsealed tears packages',\n",
       " 'awful thought food supposed taste good eat ice cream taste mouth bad',\n",
       " 'worst bottle wine sure cook thin body transparent color characteristic good pinot taste bitter complexity expect pinot noir price looking low mid price pinot noir maybe bottle sealed went vinegar reviews wine favorable',\n",
       " 'good tasting light chip value nutrition munchies good alternative eating potato chips',\n",
       " 'wonderful warm flavored tea especially colder weather tea sweet soothing chamomile fragrance subtle sweet better chamomile teas find hard sleep times cup sweet chamomile tea help like sweet taste try bigelow chamomile mango herbal tea highly recommend',\n",
       " 'best mint chocolate syrup far pale flavor comparison seven ingredients sauce including organic natural mint flavor past ice cream heavy flavors like butterscotch chocolate chips oreo cookies caramel et al mint flavor mint chocolate sauces pale buy plain vanilla chocolate ice cream minty flavor santa cruz organic mint chocolate syrup stands overpower flavor ice cream calories mint flavor apparent taste use sparingly oz container bit longer syrups',\n",
       " 'simple product simply good extra ingredients hard pronounce scouring internet finding bit thinner consistency usual syrup use caution time squeeze great people like mint stronger mint flavor chocolate use coffee bit half half tastes great simple better',\n",
       " 'grande item delicious fish ultimate flavor best purposes sent case mother recently diagnosed diabetes loves main entree cooking patties',\n",
       " 'ordered product time kirkland signature salmon raincoast trading co salmon tasty equally good quality salmon kirkland raincoast arrived perfect condition kirkland cans dented badly recommend product likes boneless skinless canned salmon',\n",
       " 'tea tastes good tea indian restaurant better getting teabag making english way lot water bit milk creamy tasty criticism sachets box directions use sachet ml water approximately half cup good cup tea use means box good cups tea delicious dinner drink buy sachets box',\n",
       " 'love product cant find locally little way stores love chicken pork chop bags store look lastplace found meat market',\n",
       " 'best way cook roast local grocery went buisness find product till looked continue product available',\n",
       " 'pleasure find french products web markets area bargain carry mccormacks bland tasteless seasonings flavorful cooking bag mix find',\n",
       " 'like oreo oreo cakester got try double stuff cakesters best note shipping slow maybe chances better',\n",
       " 'surprised good family friends laughed told bought ready mix little salt pepper spinach cheese great easy meal',\n",
       " 'thing marmite like hate love live english thing language adopted trade metaphor victoria beckham marmite meaning like etc amazon world favor making weird wonderful stuff available affordable price time looked g jar british stores l county x costs england amazon supplier quick efficient marmite end year decide send jars son japan good job amazon',\n",
       " 'vile miserable pancake toddler morning actually cried know flat anemic appearance salty bitter taste wheat flour organic mix buttermilk baking soda sls sea salt going nature path buttermilk pancake mix went straight garbage',\n",
       " 'whats fantastic chocolate chip cookie thing improved offered bushel box run fast hope way dinosaur',\n",
       " 'arrived time packaged green plastic wrap cookies fresh boxes found local grocery store complaints cookies ate',\n",
       " 'expecting like cookies like chocolate chip cookies prefer soft cookie crisp ones famous amos cookies pertty turned cookies rich depth flavor comes quality ingredients chips real chocolate melt redilly mouth creating moist experience chewing truly great cookies',\n",
       " 'fattening good right heard admittedly unreliable person',\n",
       " 'great cutting fat resemble regular chips like extremely dry hard',\n",
       " 'met kettle brand chip like chips great loaded potato flavor flavorful like sweet onion chips better list great tasting potato chips kettle chips great chips f money',\n",
       " 'buying bags time hefty markup nearby stores decided try bulk ordering snack foods amazon pleased price products jalapeno kettle chips overly spicy slow building spice starts subtly grows eat bag embarrassed times chips arrived packed fresh nearly year time expired pretty impressive chips importantly price bag better local store live near expensive city play role price difference hesitate order box run',\n",
       " 'buy vending size bag important kettle oz bag good size bit salt vinegar flavor satisfying',\n",
       " 'glad find ounce size bag bit hard find single serving chip bags vend wide plump air bag size good bbq flavor',\n",
       " 'best chips buy tried kettle varieties slight taste jalapeno delicious perfect sandwich like addicted chip addicts anonymous',\n",
       " 'title says great flavor hint spice excellent crunch eat kettle chips truck load house like flavors far away favorite bags shipment wish amazon larger bags subscribe save buy sure',\n",
       " 'wow eaten potato chips day kettle chips best non baked chips eaten decided try sweet onion chips favorite like onions buy definitely reorder mentioned best eaten flavor great',\n",
       " 'love kettle brand potato chips kettle brand large variety unique flavors quality chips blows potato chips water ingredients list printed bag thing bad oil frying chips love filled nasty chemicals ordered cheddar sour cream krinkle cut ones great torn',\n",
       " 'comparison chips taste like real deal snack sized bags regular brand grocery store work portion control reduced fat yes subscribe save cheaper grocery store',\n",
       " 'love kettle brand chips love honey dijon years decided try flavors sea salt vinegar chips tangy sour lips pucker eat time got big bags steal amazon personally flavor mom aunt love hate potato chips',\n",
       " 'chips thick crunchy absolutely love taste perfect like buy smaller bags cant trust large bag taste good',\n",
       " 'enjoy chips got instead usual jalapeno ones company bit flavor change think better slightly like jalapenos great flavor overpowering small bag size prevents overeating larger bag',\n",
       " 'love chips buy pack month bags right size snacking prevent eating way larger bags jalapeno spice subtle overpowering gives great flavor',\n",
       " 'strongest tasting salt vinegar chips vinegar flavor think close going dousing vinegar powder cape cod salt vinegar twice flavorful additionally reviewers said good bit potassium neighbor rda serving',\n",
       " 'ordering sea salt chips year love daughter picked local grocery store new favorite ordering',\n",
       " 'favorite gluten free dairy free flavored chips salt vinegar chips contain dairy nice find ones eat vinegar flavor intense good',\n",
       " 'kettle brand potato chips spicy thai flavor taste like food eaten thai restaurant ingredients listed include garlic powder onion powder parsley jalapeno spices sure spices sure tastes like lemongrass yum chips thick cut crunch come seriously heavy duty bag tried open like regular chip bags pulling sides apart way bag thick wondered plastic started looking scissors decided company chips bag nice provided way open sure small slit simple directions tear easy think',\n",
       " 'kettle best brand market know turn humble potato fit gods think salt pepper chips new favorite flavors pure real great highly addictive hope come low fat version low fat chips excellent need flavors',\n",
       " 'salt vinegar chips definitely favorite type potato chip ones kettle tasty enjoyed thoroughly wish healthy option great taste',\n",
       " 'like thick chips trans fat natural according info bag flavor subjective thing oz bags eating time set limit bag cons reviewer said lot oil chips place paper napkin plate pour chips wait mins eating napkin soak oil gross oil chip napkin soak true way rid oil',\n",
       " 'tangy prevents eating handful trick crisp savory',\n",
       " 'fan kettle chips open bag kettle chips know going quality chips exception live printed package new york cheddar chips subtle flavor taste cheddar smack face like supermarket brand chips taste lingers definite plus aspect kettle chips fact chip nice crisp crunch mouth burnt chips bags purchase negative flavoring chips uneven chips pack nice cheddar punch taste plain big flaw happens getting seasoned ruin bag overall quality chips fantastic flavor great wont disappointed especially cheddar lover',\n",
       " 'tried varieties bbq chips hands best market r salty greasy great crispy crunch plenty good bbq flavor hint sweetness brands fall short bag bag mouth wateringly delicious st',\n",
       " 'kettle chis best favorite flavor tried salt pepper kind sure personal preference crunchy real potato chips',\n",
       " 'chips right crunch enjoy taste chips consistent fairly distribution seasoning like oz size bags right chips',\n",
       " 'subscribed case months comes month convenience favorite chips handy want frito lay managed crowd chip vendor pretty local stores best way ensure steady supply items want items frito lay wants ounce bags larger buying subway example find works large good snack share single bag lunch size perfect ensuring fantastically crunchy chips fresh chip clip needed problem subscribed cases year yummy chips pantry makes easy increase ones kettle chip consumption definitely hide case kids',\n",
       " 'best deal delivery fast chips delicious fresh love',\n",
       " 'husband love chips personally think flavor perfect try',\n",
       " 'barbeque flavor chips perfect spicy hint sweetness little smokey chips extra crunchy thick substantial hard makes wonderful snack great accompaniment burgers hot dogs brats chicken casual entree',\n",
       " 'hesitant buy local grocery store lunds sale bought bag found going simply flavored chips like cheddar vinegar usually results disappointment tried thai asian inspired chips target archer farms awful kettle spicy thai chips awesome considering buying bulk amazon taste complicated stimulates different parts palate taste sensations prevalent real thai food baked chip sweet salty spicy sour know balanced chip addicting',\n",
       " 'professional potato chip muncher thee best market rich taste flavor impossible finish entire bag true meaning decadence',\n",
       " 'hands absolute best salt vinegar chips buy great strong flavor left addicted certainly favorite chips highly recommend trying',\n",
       " 'oh love chips hard find find usually bag great cheap amazon',\n",
       " 'love chips little weird review potato chips chips great crunch right plus right salt salty bland little oily ok best thing oz package buy larger bag harder resist eating oz package allows little portion control sure use scissors open cause chips packaged freshness open easily enjoy',\n",
       " 'past couple years eaten reviewed kinds styles chips best big disappointments eaten lantchips varieties way best group kettle chips rightly salted irritated pringles products kettle good flavor small size overwhelming oiliness takes away flavors good choice amazon stock lantchips time days choice',\n",
       " 'chips good bad create moral dilemmas constantly wou strong large bbq habit bringing new bag work days lot time treadmill beware',\n",
       " 'kettle chips flavors hit miss flavors terrible simple delicious probably best flavors pros thick crunchy potato chips light salt compromise taste eco friendly business giving lip servicecons occasional burnt chip bag pain open tab pull time end tearing entire bag use scissors instead',\n",
       " 'bought chips little sandwich shop sonoma vacation sure expect package bite know think flavors hit yum bit spicy overpowering lots crunchy sweet spicy goodness sold trying find close live',\n",
       " 'admit chips good highly addictive stop eating crunchy seasoned right flavor salt perfect believe chips salty finish small bag eating',\n",
       " 'best chips sure beat cooked way better brands tangy crisp satisfy craving time chips buy thank amazon letting buy online bulk save money time',\n",
       " 'addicted salty tangy flavors opened bag sea salt vinegar kettle brand chips knew perfect complement vegetable trays cucumber carrot celery cherry tomatoes skip dip balance tangy chips alternating bites raw vegetable oregonian proud share delectable snacks friends especially living outside state experienced gourmet chips tell kettle brand potato chips microbrews beer kettle brand potato chips unmistakable light gold color rich flavor amazing crunch kettle brand chips healthier snacking option major chip brands kettle brand chips trans fats msg artificial flavors colorings company line organic potato chips products certified kosher recommend annette solomon reporter salem statesman journal recently noted glass wine goes nicely chips solomon wrote missing wonderful pairing chips spicy want select semi sweet white wine moderate acid subdue strong flavors ginger lime garlic cilantro powering classically german style riesling fits parameters perfectly',\n",
       " 'honey dijon chips bring terrific balance salty tangy sweet crunchy brands tried use mustard flavor overpowers honey dijon pairing chips great dish bbq plate baked beans coleslaw potato salad grilled meat naturally great beer oregonian proud share delectable snacks friends especially living outside state experienced gourmet chips tell kettle brand potato chips microbrews beer kettle brand potato chips unmistakable light gold color rich flavor amazing crunch kettle brand chips healthier snacking option major chip brands kettle brand chips trans fats msg artificial flavors colorings company line organic potato chips products certified kosher recommend kettle chips flavors annette solomon reporter salem statesman journal recently noted glass wine goes nicely chips solomon wrote missing wonderful pairing chips spicy want select semi sweet white wine moderate acid subdue strong flavors ginger lime garlic cilantro powering classically german style riesling fits parameters perfectly',\n",
       " 'chips remind long obsolete brand chips middle school far tastiest chips impossible walk past aisle picking trademark blue bag putting bag clip bag',\n",
       " 'far favorite chips extremely crunchy similar kettle style chips extreme vinegar flavor differentiates lesser fried potato snacks tried brands salt vinegar come close',\n",
       " 'good need cheese wish krinkle cut prefer salt pepper krinkle cut better texture brand better frito lay good price amazon free shipping similar tim zack chips crispy note hardest bags open hand use knife scissors everytime',\n",
       " 'took chips pretty good healthy sure eaten family friends',\n",
       " 'delicious oz bags bit big school lunches definitely serving',\n",
       " 'recently tried flavor brand surprised delicious chips best thing lot brown chips bsg favorite bought amazon shared family friends little disappointed far brown chips bags flavor good like better yogurt green onion flavor salty onion flavor better eaten kettle chips recommend try bag buying bulk thicker crunchier lays fresh bag',\n",
       " 'pleased amazon packaging chips crushed broken fresh liked brand flavor chips tasty',\n",
       " 'chips best tasted filled chemicals taste tangy vinegar potato greasy perfectly crispy like salt vinegar tanginess bother try definitely zip love children friends love year old loves',\n",
       " 'chips great deal kettle special deal case chips hard find vegas favorite flavor shipping fast sooner expected',\n",
       " 'fantastic beat taste resist spice lover',\n",
       " 'eat risk open bag stop good salty',\n",
       " 'eat chips love great buy arrived quick packed great expiration date ways away awhile enjoy great natural potato flavor love brown russet hardy flavor fit description tee',\n",
       " 'simply fell love chips refused share friends experience lot cheese favored chips salty little greasy ny cheddar kettle changed mind thanks amazon great discounts buy store anymore',\n",
       " 'bought box chips father day gift dad loves yummy substantial regular chips',\n",
       " 'chips tasty price right packaged buy',\n",
       " 'like kettle chips disappointed order cooked bought bigger sized bag costco chips cooked perfectly know different buy chips',\n",
       " 'reason amazon ship alaska sent grandchildren got enjoy good chips amazon rethink shipping alaska thing order groceries online',\n",
       " 'husband likes lot bit different greasy salty taste usual chips buy browner like chips pretty sturdy texture bad takes getting eating chips better health calories fat',\n",
       " 'got order ok bit light cheddar flavoring herb taste eludes',\n",
       " 'love kettle brand chips disappointing little sour cream onion flavor',\n",
       " 'took said good russet potato chip flavoring sudden seconds spread senses taste buds happy close thai food potato chip chips spicy satisfy craving spice hint sweetness makes habit forming flavoring included garlic ginger jalapeno cilantro spices felt great eat buy treat',\n",
       " 'agree review chips sore mouth tender gums chips hard taste delightful enjoy salt vinegar combo unfortunately bag received case cooked dark golden brown chips bag definitely need improve',\n",
       " 'love kettle chips lightly salted feel guilty eating buy foods buying amazon saved money purchased times happy chips delivery',\n",
       " 'friend brought work claim change life life fairly unchanged chips like kettle chips find kettle chips thick greasy flavor chips amazing type hot refreshing enjoy spicy hot things try convert',\n",
       " 'happen like better sea salt vinegar chip found country',\n",
       " 'best potato chips tasted easy half bag stopping texture crunchiness perfect salt vinegar combination know taste better chips judging nutrition facts healthier somewhat fibrous good bit potassium vitamin c skin potatoes chips bit thicker normal like kettle chips great',\n",
       " 'rarely eat chips saw tried amazing love cheddar chips thin crunch delicious flavor recommend',\n",
       " 'easily best potato chip look ingredients ginger types hot pepper wrong obviously like spicy food like spicy food probably love hot hint sweetness flavor combo prevalent lot thai food',\n",
       " 'kettle chips spicy thai potato chips perfect sweet savory spicy want good meal better potato chip kettle cooked chips uniquely shaped bit browned sliced perfectly thick thin actually great crunch bite breaking tooth flavor tremendous describe thai vague sweet tangy flavor kick great big hit ginger like spice overly spicy people handle fact chips absolutely artificial ingredients trans fat makes fabulous addition muncher snack cupboard',\n",
       " 'okay eat potato chips spicy find hard eatvery makes indulgence thatrescues people overindulgence',\n",
       " 'write reviews kettle brand chips best tasted flavor dynamite feeling iffy honey dijon recommend cheddar beer absolutely amazing healthy lil fat eaten lot chips day kettle takes cake enjoy eat fast',\n",
       " 'bought office ordering today weeks shop amazon brought door',\n",
       " 'great value like package size vinegary order brand great chips',\n",
       " 'perfect favorite season variety spices exactly suit tastes salt',\n",
       " 'amazon suggestion star review like said gave star review spicy thai chips chips perfect people enjoy spicy chip taste buds appreciate added sweetness ginger flavor thing dislike chips rest flavors serving size half bag eat half save rest later',\n",
       " 'favorite home like ones sea salt like barbeque flavored ruffly chips ridges thickly cut plain slice potatoes thick crunchy great texture mouth great taste sea salt ones favorite salt salt feel like drink gallon water chips enjoy',\n",
       " 'best unsalted chips tried best potato flavor came said',\n",
       " 'great chips great price odds like fish chips soaked malt vinegar love best salt vinegar chips love flavor mind spectacular deli sandwiches found v palatable intelligent species know afternoon snack course run heavy brained hearty breathed like mind summary like taste bitter sweet salty vinegar crispy chip boot wont pucker sight handily bagged morsels time committed case chips mmmmm vinegar',\n",
       " 'looking forward trying chips love cheese super disappointed big fan kettle chips tasted somewhat stale plain supposed cheddar taste taste annoying recommend flavor salt vinegar buffalo bleu favorite',\n",
       " 'worst chips gone mouth entire life sour cream onion case chive chips favorite recently kettle brand honey dijon mustard took slot found sour cream onion try soon opened bag chips smelled powdered milk chip coated powdered sour cream awful tastes like rancid milk sour like sour cream rancid powdery texture extremely unappealing basically hated chips recommend chips particular affinity powdery chalky texture chip rancid onion flavor hard time believing person exists plan contacting kettle sharing thoughts hopefully reassess seasoning wonderful kettle style chips',\n",
       " 'kettle chips look feel taste like lays chips favorite crinkle cut hefty longer favorite',\n",
       " 'great price excellent chip cents ounce bag bargain tasty chip let try impressed commented good taste find kettle chip disappointed',\n",
       " 'love chips bought stock entire school year chips taste great packages sealed good condition arrived box hand tatters holes complely squished know result customs voyage receive bit disgruntling given falling apart luckily victims chips',\n",
       " 'totally orgasmic chips best spicy chip tasted signed subscribe save option case contained sized bags chips price unit equals package cost plain chips add free shipping fast delivery deal steal run like stole computer order spicy thai chips p paid going price ahead curve enjoy',\n",
       " 'seriously tasty tasty tasty fresh problem pack lend wanting multiple trips cupboard helpings grabbing multiple bags begin pace saying wrong fan salt vinegar classic flavor ounce bags double size kid bags size ones small gas station racks good size adult somewhat healthier snack typical bag fried chips calories bag bad think line delicious',\n",
       " 'despite coming extremely large box found great value bags preserved reasonable expiration date months away definitely recommend',\n",
       " 'nasty greasy rich blood plus lacked major flavor spicy jalapeno flavor dissapointed chips hearing great things chips telling yuck yuck yuck pain chips day maybe better kettle chip brand staying clear chips wish zero stars',\n",
       " 'like spicy like spicy enjoyed crunchy kettle cooked chips',\n",
       " 'salt free product purchased chips greasy',\n",
       " 'best potato chips money buy salt taste masks lingering potatoey awesomeness wolfed bag beauties chip perfect thickness teeth excited time mouth chips perfect like god delivered gabriel know amazon carries leave house buy eat',\n",
       " 'discovered kettle chips sea salt vinegar shopping trader joe daughter mindy believe tasty best chip eaten love bite munching things favor thicker chips crumble devouring delightfully crunchy salt vinegar combination heavenly tried create original line describe palate pleasing taste treat beat manufacturer said tongue puckering tang crunch poetic health values kettle chips peeled preparation getting nutrition potassium vitamin c mother approve fact hand cooked small batches enjoy kettle chips afternoon snack favorite soda iced tea delicious tuna sandwich hot dog lunch actually kettle chips perfect sweets course problem delicious stop eating reason chose smaller packets figured month good girl kept appetite control hid kids sake fewer calories try hard succeeded far easy told love reviewed betty dravis millennium babe prophecy',\n",
       " 'need salt hide taste potato chips chips prove taste potato comes instead masked ok snack food salt trans fats mean healthiest potato chips low salt diet like available means eat chips kettle best',\n",
       " 'potato chips excellent trans fats taste absolutely delicious mood potatoe chips kettles brand buy great product enjoy highly recommend enjoy',\n",
       " 'feels strange review chips compelled absolute favorite chips kettle lots flavors regular lightly salted thicker greasy bag plus looked burned actually burned sugar potato makes dark love open bag find browned chips lays wise place chip snob thanks kettle like edy breyer ice cream products worth money best best',\n",
       " 'tried lot v chips best real sea salt real vinegar mouth watering flavor crispiness faint heart flavor authentic',\n",
       " 'kettle brand chips crunchy regular plain old lays potato chips soft end soft crunchy spectrum ruffles brand potato chips considered crunchiest kettle brand chips far crunchy tender mouth bad teeth dentures want steer clear kettle brand love chips sea salt vinegar chips super tangy enjoy taking swigs vinegar bottles time time dissapointed salt vinegar chips chips soft vinegar taste whimpy chemically rest assured kettle sea salt vinegar gourmet flavor vinegar flavor chemical flavor called whimpy',\n",
       " 'loved chips chips buy discovered england quickly fan year ago picked bag sale local supermarket finding odd sale took advantage opening bag found chips close kettle chips uniform whitish yellow color flavor way lovely extra crisp brown chips gone completely disappointed e mailed kettle following happened bought bag chips day different taste tastes cheaper know noticed chips cooked browner colored chips flavor hoping changed ingredients process produce product weird batch buying kettle chips years wondering receive reply thanks letting know experience kettle brand chips sounds like received bag slipped inspections apologize potatoes vary seasonally account variation color chips taste great thanks providing best code bag helps passing comments staff sending coupons replace purchase kettle brand flavors nut butters believing great experience purchase case buy product suggest avoiding best date rare instance bag case slipped inspections time thanks letting know expect coupons arrive weeks let know help bag good time picked bags chips like bad bag pretty sure changed product reduce cost research found kettle bought private equity company cookie cutter management processes probably employed kettle acquire company high quality brand recognition sell product mass merchants lower quality cost product increase margin finally sell company customer base starts realize brand longer quality brand increased profits company valuable paper nice profit investors customer employees lose course unsuspecting buyer exploited brand stay away kettle chips longer',\n",
       " 'brought party month buffet think like saltless potato chips week friends pantry oh gosh good wrong think bland real potato flavor wonderfully crisp fresh tasting amazon buy case want dips truly delicious',\n",
       " 'backyard bbq kettle chips great deal promo code nice larger size bag kettle chips grocery store ounces polish family lunch arrived fresh crumbles chips amazon grocery great flavor natural',\n",
       " 'tried herrs utz wise pringles lays etc kettle tasted best quantity salt optimum required serving size ounce finish packet time total calories ounce bag slightly higher ok compromised taste issue packets burnt chips taste bad kettle care packing ensure burnt chips thanks amazon bags bucks free shipping coupon',\n",
       " 'chips tangy hoped expected poore brothers better choice hard core salt n vinegar fans',\n",
       " 'got kettle chips sea salt vinegar oz bags impressed tasted kind flat eating bag looked bag noticed hole bag size sesame seed started looking unopened bags type hole bags multiple holes bag hole size dime bag like rodent got box shipped holes packed way quality control let ship fired needless eating anymore kettle products expect refund kettle amazon martin',\n",
       " 'chilling fridge boost flavor corn chips nachos tastebuds singing like janet jackson associated wardrobe risks highly recommended',\n",
       " 'originally produced england best chips tasted unfortunately bought conglomerate taste plain nasty hard crispy thinner lacking flavour real shame',\n",
       " 'opening numerous bags found chips flavoring completely plain gross happen',\n",
       " 'getting worried read reviews specifically star reviews faults reviewers find merchandise prevent buying wow sure hate kettle chips backyard barbecue ounce bags pack bought ounce bags liked lot decided subscribe good measure got orders ounce bags yes love potato chips especially kettle chips backyard barbecue flavour hate hate changed realized talking flavours amazon deep wisdom obviously seen fit comments concerning flavours kettle brands potato chips course advantages potato chip lovers like enjoy eating flavour brand varieties comparisons easily potato chip lovers person favourite flavour reviewing sort united nations potato chip lovers different united love potato chips rest world benefit example tightly knit er expanding group think realizing thesedifferent flavour reviews cause little confusion dismay begin amazon mentioned kettle potato chip review forum happy report kettle chips backyard barbeque flavour totally delicious ounce bags hopefully product ounce bags taste definitely chips adults children stronger adult taste buds withstand strong flavour chips strongest flavour jalapeno pepper chip far strong backyard barbeque chips kettle right sweetness honey powder onion sugar edge stonger flavours paprika chili pepper cayenne pepper natural smoke flavour come list ingredients sweeteners complete list ingredients kettle backyard barbecue chips ounce bags hopefully ounce bags follows potatoesvegetable oil safflower sunflower oil honey powder dried cane sugar honey rice powdersugarsaltonion powdertomato powderpaprikatorula yeastgarlic powderchili peppercitric acidcayenne pepperpaprika oleoresin colour natural smoke flavournaturally cooked natural ingredients combination true taste treat course ptato chips moderation key potatoes contain lot potassium gives energy othr good things damage kindneys vegetable oil great oil starch potatoes hurt eyes natural smoke flavour yummy sugar large amounts linked cancer productionas far starch potatoes oil thiscan ameliorated bit drinking tea good eyes far potassium energy good bad kidneys sugar natural smoke flavour leading cancer production thing good e r n twice times month allow potato chip diet eat large bag equivalent small ones potato chips day supplement tea coffee lemonade servings carnation instant breakfast essentials like dark chocolate flavour adds fewer calories normally eat normal meals day plus snacks teaches eat l w l big bag little bags lasts long like excercise sensible eating rest month keeping scale nearby weighing twice day day taken pounds months backyard barbeque flavour potato chips kettle totally scrumptious jalapino chips tasted good far spicy taste buds meet potato chip like eat kettle backyard barbeque flavour potato chips combination potatoes sweetness spices truly favourites favourite flavoured potato perfection',\n",
       " 'bought local supermarket enjoyed salty leave tongue roof mouth burning keeps eating occasionally stale items amazon com unedible beware quality food items website special close dates case expired stale unedible',\n",
       " 'chips good stop eating long reason gave stars instead think bags little hard open sure need potato chip bag sturdy need scissors hand open easier',\n",
       " 'kettle brand chips good oily crunchy flavorful suspect company bought recipe changed worse better big brand chip try good health kettle style olive oil chips instead good kettle brand r p kettle brand chips',\n",
       " 'absolutely forget confirmed reviewers chips total garbage like chewing styrofoam packaging peanuts positively awful hyperbole exaggeration buy kettle brand reportedly great premium brand literally mass market chip tried tastes better stale rancid tasting virtually salty taste whatsoever completely awful',\n",
       " 'chips nasty thought spilled drink bag chips soaked grease nasty',\n",
       " 'like salt vinegar chips salty eating actual pinches salt drinking actual vinegar doubt like chips saltiest sourest chips reason stops throwing away paid boxes dont like waste food brown chips especially bad salty sour taste overcooked burnt rare kind kind extreme taste like chips actually high tolerance sour taste bag chips bit difficulty normal people try home',\n",
       " 'bought brand trial tired pingos claims natural argument point bag fried brown color suffer eating fried chips open bags looks like throw away know bad luck bag selling sure buy brand',\n",
       " 'good wish baked found baked salt potato chips wish post',\n",
       " 'ordered kettle chips following flavvorssalt fresh ground peppertuscan cheesen cheddar hersthey tasted variety pack suggest u order ordering large size wish return unopened bags',\n",
       " 'purchased low salt low salt chips bag literally dripping oil encountered problem potato chip brands unappetizing wants oil buy recommend',\n",
       " 'looking strong v flavor definitely mild comparison live tx tell tried v chips ahold best best heb storebrand world market bob zapp bad chip standpoint typically great kettle crunch looking v flavor touch',\n",
       " 'know case chips received allowed sample chips buffet style setting agreed slightly salty person jokingly stated terrific melting ice snow salt ordered expectations similar lay kettle mesquite potato chips kettle brands outback bbq chips exact opposite sorry folks better expectations chips little salty looking forward amazon finally getting lay kettle mesquite potato chips stock got star bbq powder flavorful unique',\n",
       " 'chips greasy taste burnt grease bag chips saturated especially bag trans fat free need lot greasy',\n",
       " 'waste money kettle brand potato chips bought case case cheddar sour cream cases ended garbage',\n",
       " 'defintely tasty madhouse munchies family favorite kettle dark burnt broken bits taste greasy oily light crunch oh',\n",
       " 'love sour food bear strong sour taste open bag sour smell strong like',\n",
       " 'like vinegar avoid chips called vinegar sea salt sea salt vinegar',\n",
       " 'loved kettle brand sea salt vinegar chips time tried fact able find line great price wonderful definitely purchase quick simple snack lunch goes great cold sandwich',\n",
       " 'eat spicy thai flavor time msg makes body unhappy flavored chips msg free changed recipe instead real food ingredients like processed chemical garbage bunch salt msg stuffed label yeast extract removed msg label know worst taste horrible instead crisp oily character cooked like kettle instead color uniformity baked lays spicy thai flavor tastes like sour cream onion ranch gone rancid shame kettle chips slowly moving flavor time new cheap ingredient list manufacturing method dont fooled paying premium price chips premium product anymore',\n",
       " 'chips great bags bag noticed remaining bags damaged holes bag black sticky stains outside reviewers bought time claiming found rodent holes bags chips chips came sealed kettle box hard screwed screwed chips health hazard holes bag like game roulette',\n",
       " 'waiting ridiculous time case oz bags arrive opening box noticed bag chewed open mouse know box outside porch son gets home going pictures taken email amazon outside amazon box intact kettle chips people amazon warehouse know buy amazon tell disgusted purchase makes sick think included pictures page poor little mousie high cholesterol update forgot mention offered email pictures mouse damage amazon told want',\n",
       " 'kettle chips best potato chip god invented lord thanks day delivering unto incredulously delicious blend ginger spice veritable cornucopia flavor actually changed diet strict regiment spicy thai sea salt vinegar flavors alternating days lost lbs mention myriad health benefits experiencing life kettle chips',\n",
       " 'daughter autism craves hot spice pungent foods absolute favorite chips calls sour chips wants lunch time love crispy kettle way cooked',\n",
       " 'great fan potato chips thai food happy kettle chips decided meld great loves concept chips spicy burning hole tongue nice hint sweetness makes habit forming careful treat definitely worth indulging',\n",
       " 'terrible believe received item single bag opened stationed afghanistan gonna snack team going missions embarrassed bags opened spilt box gross box filled grease stains idk airplane ride way box insulated bubble wrap instead paper unhappy stale crusty chips bag soldiers enjoy',\n",
       " 'reading reviews got nervous opened bag recent order expecting worst worries bags great shape expiration dates june chips bag taste like supposed good world way bags thirty dollars ton expensive going price local grocery store yay team',\n",
       " 'kettle branch potato chips new york cheddar good like kettle fried potato chips waaaay salty burnt taste rancid cheese flavoring oil fried old want like brand chips try new flavors tried sorts brands kettle cooked chips hit spot',\n",
       " 'glad able find site love flavor crunchy box packed inside box bags end crumbs bags survived tact',\n",
       " 'chips taste awesome unlike flavored chips actually sure plenty flavory salty goodness gets individual chip pass gas near pretty ladies consumption totally know',\n",
       " 'kettle chips careful flavors nauseating said fantastic plain chips thick cuts potato fried dark golden brown crunchy lightly salted sea salt recommend chips regret people burnt website quick look immediate difference kettle brand potato chips beautiful tawny gold cooking natural sugars select potatoes caramelize creating chips light gold deep amber results flavors deep rich colors artisanal display bag said chips oily true explain website kettle foods exclusively use expeller pressed high monounsaturated sunflower safflower oil kettle brand products oils naturally free trans fatty acids hydrogenated way taken extra step sending products independent party labs test presence trans fats results indicate trans fat free meaning detected zero trans fats listed packaging oiliness natural happens quality oil find chips natural potato flavor fan unsalted potato chips watching salt intake unsalted chips best period',\n",
       " 'best chips eaten came visited costplus world market store opelika al tiger town mall big fan dijon flavored decided chips try hooked probably ended buying dozen bags months time searched alabama northwestern state find later tried find world market hoover patton creek shopping center carry flavor learned available amazon com available prime shipping bought soon read kettle chips honey dijon ounce bags pack pretty big box filled bags delicious morsels order soon suggest buy bulk form enjoy disappointed great hamburgers hot dogs perfect spring coming summer outdoor activities cook outs word chips hidden gem lost world snack foods buy today fall love like',\n",
       " 'addicted life tasted chips tried brands sea salt vinegar flavor got stick blue bag chips',\n",
       " 'addicted salty tangy flavors opened bag sea salt vinegar kettle brand chips knew perfect complement vegetable trays cucumber carrot celery cherry tomatoes skip dip balance tangy chips alternating bites raw vegetable oregonian proud share delectable snacks friends especially living outside state experienced gourmet chips tell kettle brand potato chips microbrews beer kettle brand potato chips unmistakable light gold color rich flavor amazing crunch kettle brand chips healthier snacking option major chip brands kettle brand chips trans fats msg artificial flavors colorings company line organic potato chips products certified kosher recommend annette solomon reporter salem statesman journal recently noted glass wine goes nicely chips solomon wrote missing wonderful pairing chips spicy want select semi sweet white wine moderate acid subdue strong flavors ginger lime garlic cilantro powering classically german style riesling fits parameters perfectly',\n",
       " 'bought sale amazon nice crispy thick chips definitely great buy catch sale',\n",
       " 'like order kettle spicy thai chips amazon hard find locally probably aggrieved know recipe changed like regular potatoe chips paid husband gets eat like spicy thai fine yuck',\n",
       " 'found new taste treat big potato chips sure come late discover think good processing ingredients list actually pretty good trans fats etc want indulgence thicker tasty mass produced potato chips come know flavorful honey dijon potato chip incredibly good flavorful combination sweet tangy salty overly hot spicy excellent want snack good got worth calories',\n",
       " 'real good product love chips customers wrong wit best',\n",
       " 'love chips family hooked chips eat',\n",
       " 'know covered like potato chips like em sale limit intake',\n",
       " 'looking probably know like chips great deal problems going stale oz bags great size snack help avoid eating',\n",
       " 'admit oversalted chip addictive think gone far skin literally peeled lips inside mouth eating surprised market',\n",
       " 'mg sodium serving chips crisp dip low salt ketchup adds bit flavor',\n",
       " 'found product kettle chips unsalted fabulous found accident amazon hunting local stores crisp tasty salt',\n",
       " 'saw spicy thai chips knew try love spicy love thai food chips super spicy actually taste sort sweet degrees flavor spiciness lingering taste bites definitely good unique chip absolutely hate sweet chips try different flavor little sweet',\n",
       " 'smiles thank lord found healthy snack food unsalted tastes great gave finding potato chip like thing ask kettle change texture slightly hard crunchy problem prefer softer kettle happen thank',\n",
       " 'favorite everybody way sort taste like oriental flavor ramen kick wrong combination jalapeno ginger bit rich everydayforamonth snacking case purchase recommend trying single bag buying entire case oz size longer available shame eat entire oz bag',\n",
       " 'salt vinegar chips favorite flavor think tried brand far best like sodium content high like excessively greasy right balance salt vinegar taste',\n",
       " 'package arrived double boxed wrapped inside box holds goods perfect single dent rough mark outstanding packaging product best chips planet salt n vinegar flavor best chips actually sure probably like bite try mention particular flavor held numerous surveys comparisons manufactures',\n",
       " 'love jalapeno chips kettle try nice cruncy kick jalapeno delicious addicting recommended',\n",
       " 'son bought package jalapeno potato chips couple weeks ago addicted kettle chips appear somewhat better terms fats etc chips peruses dietary information second individual chips nice crisp good crunch value munch away jalapeno kick overly hot course products labelled spicy kick bland slow noticeable burn jalapeno preference bit heat understand consumers prefer somewhat decent spicyness pretty happy product weeks bought purchase package week foray local grocery store',\n",
       " 'looking pictures showing crushed box write review bought chips numerous times amazon warehouse deals time came packaged perfectly sale end summer received cases boxes chips fresh hard eat bag hid garage remembered went way eat far pictures person contacted amazon ok amazon great handling complaints person given perfect customer service called amazon thanks great tasting product good price quick shipping buy soon',\n",
       " 'good bad chips like plain potato chips like thicker brands fresh box crunchy salty bag lot generally finish reason oily chips look transparent know mean taste oil bit overwhelming spicy chips like spice salt says think buy best date bags march ordered end october',\n",
       " 'second purchase kettle potato chips love time tried bought carton bags kettle chips oz bag single size serving snack meal chips delicious baked fried lightly salted sea salt fat preservatives artificial use real food ingredients ask great tasting chip',\n",
       " 'achieve potato chip nirvana simple buy chips tomorrow eat repeat best old school bbq flavor therekettle qualityincredible price amazondid mention delicious terrific bargain',\n",
       " 'found years ago health food store bought bag found stopping store week chips new york cheddar flavor good hard time eating bag',\n",
       " 'enjoy step gained lbs month buying pack sized bags damn warn tastes awesome finish crash diet order box case',\n",
       " 'best spicy chips pleasure eating start sweet eat spice builds fantastic want commit case pick bag local foods stock realize amazing got case right loving bite note brand kettle brand delicious varieties personal favorite highly recommend backyard bbq honey dijon sweet onion buffalo bleu salt pepper death valley chipotle lays aint got nothin kettle brand',\n",
       " 'eaten brands unsalted potato chips terrible expect bought tasted amazed enjoyed unsalted potato chips natural potato flavor thick crunchy chips bad thing bag pain open use scissors save aggravation',\n",
       " 'kettle brand chips probably best potato chips tasted far thick bite love creative flavors favorite kettle chip happens honey dijon think great combination sweet salty tangy perfect snack attacks know exactly want especially love curled chips extra texture crunch oz bags perfect problem controlling portions like',\n",
       " 'oregonian point sharing oregon snacks friends visit state tell kettle brand potato chips microbrew beer kettle brand potato chips unmistakable light gold color rich flavor amazing crunch kettle brand chips healthier snacking option major chip brands kettle brand chips trans fats msg artificial flavors colorings company line organic potato chips products certified kosher annette solomon reporter salem statesman journal noted glass wine goes nicely spicy thai chips solomon wrote missing wonderful pairing chips spicy want select semi sweet white wine moderate acid subdue strong flavors ginger lime garlic cilantro powering classically german style riesling fits parameters perfectly recommend honey dijon chips bring terrific balance salty tangy sweet crunchy brands tried use mustard flavor overpowers honey dijon pairing honey dijon chips great dish bbq plate baked beans coleslaw potato salad grilled meat naturally great beer sea salt vinegar chips perfect complement vegetable trays cucumber carrot celery cherry tomatoes skip dip balance tangy chips alternating bites raw vegetable summary highly recommend kettle brand chips great buy amazon com',\n",
       " 'addicted salty tangy flavors opened bag sea salt vinegar kettle brand chips knew perfect complement vegetable trays cucumber carrot celery cherry tomatoes skip dip balance tangy chips alternating bites raw vegetable oregonian proud share delectable snacks friends especially living outside state experienced gourmet chips tell kettle brand potato chips microbrews beer kettle brand potato chips unmistakable light gold color rich flavor amazing crunch kettle brand chips healthier snacking option major chip brands kettle brand chips trans fats msg artificial flavors colorings company line organic potato chips products certified kosher recommend annette solomon reporter salem statesman journal recently noted glass wine goes nicely chips solomon wrote missing wonderful pairing chips spicy want select semi sweet white wine moderate acid subdue strong flavors ginger lime garlic cilantro powering classically german style riesling fits parameters perfectly',\n",
       " 'kettle chips thicker crunchier greasier times chips honey dijon flavor great overwhelming salty taste cheaper chips oz size great adult size snack',\n",
       " 'liked salt vinegar chips time stronger flavor bag vinegar overflowing right chip doesnt stop finished bag addictive like salt vinegar ultimate chips compares',\n",
       " 'tasted good spicy like spicy stay away price paid good buy',\n",
       " 'seriously delicious especially like plain potato chips concern oily understand kettle chips fried small batches open bag thing strong bag need scissors coating oil inside bag chips suggest blot shake paper towels consuming way yummy potato taste satisfying crunch delicious',\n",
       " 'bags difficult open aid tool scissors try scissors crispy taste like chips advertised salted definitely healthy feel grease fingers eating grease bag high quality chips deserve table',\n",
       " 'kettle foods inc makes best tasting potato chips eaten variety flavors classic barbeque unique spicy thai find right flavor mouth taste wonderful natural chips cooked safflower sunflower oil zero cholesterol gogreenmart product week kettle foods inc green giant company highlighted environmental practices convert waste oils biodiesel power company cars roof solar panel system creates kwh annually production offset additional u energy usage buying renewable energy credits efforts future care present rejuvenate neighboring acre wetland eco system recent building construction earned gold rating leadership energy environmental design leed mouth thank environment',\n",
       " 'amazing chips cheeses blue cheese subtle blue cheese haters like enjoy',\n",
       " 'chips delectably delicious low sodium diet totally truely love snack chips bursting flavor tell missing salt kiss worth chip beleive total makeout',\n",
       " 'salty like regular supermarket chips snack overwhelm guilt gotta chips kettle chips lightly salted chips searching cholesterol trans fats artificial manufacturing process actually kind home quality excellent product',\n",
       " 'agree company motto natural obsession tried small bag local store immediately bought bulk online save percent flavor strong best paired food mild flavor like steamed vegetables plain grain bread compete clash food',\n",
       " 'new york cheddar flavor favorite kettle brand potato chips flavorful crunchy mouth happy unfortunately opposite backside mom eat entire bag stomach spend afternoon bathroom stars online price amazon better seen combined amazon prime getting great deal chips',\n",
       " 'new favorite fan salt vinegar honey dijons replaced new number strong taste loving honey mustard flavor hope like price wise deal purchased grocery shipping given product stars easily price taste fabulous disappointed',\n",
       " 'chips good ended eating bag day cause good glad dextrose like lays',\n",
       " 'best chips beat taste like honey mustard definitely like eat wont stop addicting stuff',\n",
       " 'thinking cheese flavored chips love herbs delicious cheese overpowering yummy crispy',\n",
       " 'spicy thai chips best tasting chips market kettle foods changed ingredients ginger important missing notice removed ginger attitude bag sadly changing ingredients ruined chips good anymore spice level virtually non existent original new ingredient listings original ingredientsselect potatoes safflower sunflower oil honey powder evaporated cane syrup honey salt garlic powder jalapeno pepper ground ginger onion powder habanero pepper dried parsley citric acid cilantro extract ginger oil cayenne pepper white pepper lime oil new ingredientspotatoes safflower sunflower oil sugar dried cane syrup salt maltodextrin yeast extract spices garlic powder onion powder dried parsley jalapeno powder citric acid natural flavors lime extracti assuming changed ingredients order cut costs new owner blue diamond want rid great taste naturally bags consider maltodextrin natural great job kettle way ruin great thing',\n",
       " 'sent week past fresh date stock chips noticeably fresh taste order edit add dangers expired stock bags rat hole black marks inside hole obviously rat unfortunately chip mouth saw hole bad form amazon',\n",
       " 'try good feel like indulging delicious gourmet potato chips new york chedder potato chips flavor like natural food store chips tangy crunchy satisfy potato chip fix like brand',\n",
       " 'problem order case good half time best kettle chip best case worse potatos mealy old throw order expensive good fresh potatos best case prompted write potatos weird like sour going bad wrote company makes want best kettle chip try ones best try ordering creeping soured potatos noticing caring',\n",
       " 'got sea salt vinegar chips kettle salt vinegar chips white bag allowed anyways impression wow chips price got z x bags wow price tell high quality chips packaging cheaper chips expecting mellow things ones sour taste mind tons flavor chips sour taste like lot strong aftertaste want try salt vinegar chips suggest try price chips definately worth thick crunchy like expensive chips high quality restaurants recommend stars',\n",
       " 'long enjoyed brand chip began think seriously limiting salt intake particularly pleased find granted bought somewhat reluctantly confirmed salt aholic generously sprinkling eggs green beans pleasantly surprised chips satisfying robust taste crispy boot nice able munch worrying salt',\n",
       " 'love salt vinegar potato chips choose flavor zippy tart unpleasant chemical aftertaste like natural versions snack ounce bags right share lunch chips little greasy given stars instead',\n",
       " 'kettle lightly slated chips favorite market care fancy flavors salted right thick super crunchy flavor best',\n",
       " 'fantastic tasting potato chips love individual bags great kids adults trans fat cholesterol artifical stuff low sodium high potassium great people like hbp problem amazon stock times price high',\n",
       " 'chips come large box individually wrapped bags chips bags strong thicker lay potato chip bags inside tasty kettle cooked chips salted right appear cooked actual kettle fashion cooked gives authentic non manufactured feel people like reccomend',\n",
       " 'yo kettle chip addict happy find snack size bags lunch great quality cheaper stores definitely buying',\n",
       " 'sound rediculous actually ordered wrong brand potato chips ordered kettle brand jalapeno chips time placed order remember jalapeno chips recently discovered liked kettle brand chips packaged similarly colored bag worked best like kettle brand jalapeno chips happily munch away upcoming tv football games run probably year likey purchase miss vicky brand jalapeno chips plan try flavors kettle brand chips imho kettle brand chips excellent recommend potato chip affection ados sincerely homiedog',\n",
       " 'think chips awesome best poor brothers salt vinager chips buy spicy thai chips smaller bag flavor bag larger bag experience time bought amazon like suggest trying spicy thai bag bigger ounces',\n",
       " 'kettle chips taste good crispy crunchy u enjoy thinly cut sliced',\n",
       " 'knew family liked chips brainer advantage great price good chips price bag beat order subscribe save good thing change delivery interval notice quicker slower anticipated',\n",
       " 'delicious tea tea geek exploring stuff like earl grey especially bergamot problem find bergamot added usually little perfect like balance flavor add tea teaspoon cup minutes ready tastes like expensive tea priced like lipton definitely recommend fans earl grey kick',\n",
       " 'bought tea alternative pricey teavana black teas cup morning smooth refreshing tea',\n",
       " 'tea tin guarding aroma taste beautiful malva flowers soften taste bergamot right time tea soaked long reference darjeeling ftgfop flush save quantity tea leaves soak tea minutes delight best earl grey price competitive',\n",
       " 'pros extremely fragrant bodied steeped twice nice air tight container organiccons pricethe tao tea blue flower earl grey black tea best earl grey tasted recommend',\n",
       " 'lifetime tea drinking honestly best earl grey tasted ordered number times batch consistently excellent given gift container superb keeping loose tea fresh metal canister inner lid lifted attached knob tea stays dry fresh length time takes use favor like earl grey treat tea',\n",
       " 'biscuits delicious sweet crunch love quick delivery order satisfied',\n",
       " 'excellent lo fat lo calorie treat dogs german shorthair pointer treats favorite organic peanut butter cookies smaller dogs loves weight control like',\n",
       " 'male maltese dog enjoying old roy puppy biscuits walmart find desperate find treat measure ordered bags peanut butter crossed fingers arrived little guy loves gets heart shaped biscuit bedtime sleeps crate hears touch bag treats beats path crate high excitement big hit worth price high quality smell peanuts',\n",
       " 'product great job clearing kidneys helped husband feel lots better early renal failure',\n",
       " 'love bag shrimp pound stir fry veges little onion chopped hot tasty',\n",
       " 'got tasted strait bottle tasted like smoky flavored milk yuck depressed stuck bottles sat shelf forgot weekend tasted zevia cream soda pleased flavor tasted weird smokey like lorann oil gotten tried doctor soda little sf vanilla torani syrup tablespoon heavy cream tasted amazing odd smokiness gone wonderful rich mouthfeel wanted help lorann oil cup whipping cream bowl added teaspoon vanilla tasted tasted fine added drop oil strong stirred tasted better whipped fruit treat whip drop vanilla desserts whip cream happy accident find use added vanilla adds new depth flavor tastes different bottle cream potent use drop increase tasting add ruin recipe use light touch',\n",
       " 'coffee creamer commercial coffee creamer vanilla butter creme almond bavarian creme flavors rest milk tastes wonderful half price store bought excellent',\n",
       " 'detroit raised vernor ginger ale moved california found difficult find vernor pop disappear guess advertising found home prefer plastic bottles ideal size oz ml liter problem liter size takes person long drink letting flat case vernor unique aged oak years think imparts great unique flavor wish catch available widely recently sale redwood city california bay area south san francisco day gone',\n",
       " 'like vernor drink time old fashioned drink michigan labeling known lovely green gold colors gnome character look actually called ginger soda instead ale different typical ginger ale taste vernors strong vanilla presence smoother moist sweeter ginger ale closer cream soda ginger ale good ginger ale dry higher carbonation spicier bite vernors grams sugar versus grams schweppes ginger ale caffeine recipe changed bit years choice sweeteners use high fructose corn syrup cost cutting mega soda companies use cane sugar use corn syrup syrup drowns flavors microbrews cane sugar costs better taste vernor aged oak barrels years doubt accounting smoothness great soda anytime soda known like ginger drinks use home remedy upset stomach vernor regional soda areas country find sells selling glass bottles soon page says day writing comment search amazon asin b jk seg mean vernors history books amazon soda vernor ginger ale images america michigan isbn second book vernor story gnomes isbn book company marketing green gold packaging famous gnome vernor fans',\n",
       " 'want find good flavor substitute maple syrup barley malt brown rice syrup nicely use madhava agave nectar baked goods time pleased results time writing amazon stock vendor stock priced pack baking waffles pancakes small doses teaspoon added oatmeal little goes long way agave nectar use agave nectar sweetener depending taste recipe recipes dried fruit need cut heat oven degrees f oil recipe cut alternately use tablespoon sifted coconut flour absorb liquid use recipe dry additionally baking sure mix wet ingredients prior adding dry bakers know remember read recipes sugar typically added dry ingredients beaten butter agave nectar crystalize like sugars able substitute corn syrup making hard candy highly recommend baking makes moister looking caramel flavor need use light version product equally good applications',\n",
       " 'good quality nectar tasty expecting fluid ounces ounces weight find ounces weight makes fluid ounces',\n",
       " 'time agave nectar great keeps blood sugar stable great buy',\n",
       " 'sweetner best brings true flavors add great health benefts',\n",
       " 'love stuff sweetens affecting blood glucose levels figure tequila set kidding',\n",
       " 'finally found natural sugar substitute added benefit low glycemic index agave delicious recommended friends economical purchase oz bottles',\n",
       " 'buy wholesome sweetners agave like little better switched expensive cheeper option taste little sweet find use right sweetness coffee like container pour pour better squeeze bottle sticky mess counter day fine price continue shipped month',\n",
       " 'love sweeten tea coffee etc tastes better low glycemic sweeteners bitter aftertaste',\n",
       " 'ordered product times happy delivery product works great cooking baking substitute sugar chai lattes',\n",
       " 'like product taste great coffee tea lost weight cutting sugar replacing honey agave nectar',\n",
       " 'day diet guided low glycemic eating months fair success amber agave nectar primary sweetener low glycemic effect blood sugar taste mellow sweetening power higher sugar use twang honey thing tried sugar making kombucha use sugar sure good idea introduce raw element kombucha actually caution related actual chemistry circumstance primary uses sweetening yogurt little baking use salad dressings fruit desserts etc limiting sweets consumption use lot nice need plan try homemade jams later season buy subscription cost local walmart health food store brand best date bottles received',\n",
       " 'glad introduced brand sweetner replace sugar better like sweetens herbal sweet teas use place pancake syrup learning use thing learn learned use hooked look sugar highly reccomend want clean fresh taste feel foods purchase sweetner advantage ship save save lots money long run',\n",
       " 'love product best natural sweetener tried tried use pancake syrup substitute honey peanut butter honey sandwich long time good value',\n",
       " 'agave nectar months found staple home madhava agave nectar good tasting good buy',\n",
       " 'stuff great low glycemic substitute sugar body great favor size economical shipping fast got soon',\n",
       " 'save little money buying larger quantities opposed smaller bottles like taste agave cross honey maple good pies cereal frozen yogurt etc',\n",
       " 'awesome product ordered times honey like flavored lower glycemic sweetener great coffee tea',\n",
       " 'thank product use time appreciate promptness price excellent thanks',\n",
       " 'low glycemic index diet help control blood sugar hormone levels nutritionist recommended agave nectar sweetener gi index low opposed honey low sugar mid tried supermarkets health food stores wholesale clubs prices usually oz bottle ish x oz like honey substitute c c sugar reduce liquids th use carrot cake recipe equal substitution instead sugar substitute wheat flour instead white flour decrease liquids delicious know actually good',\n",
       " 'disappointed product calories time ordered received calories tablespoon granulated sugar calories tablespoon agave nectar better sugar',\n",
       " 'dinner friends family saloon rte entertainment complex sanford fl awesome staff ask keith fabulous food escargot serve china mist tea st time chose tropical organic green doubt best flavored tea',\n",
       " 'tried conventional kettle crinkle chip verson salt peper compare easily spicy chips eat oompletely enjoyable finish bag indside coated spices great stuff',\n",
       " 'best tasting tortilla chips allergic tomatoes love tortilla chips flavor chips longer miss pico de gallo prefer eat plain right heat flovorful overpoweringly spicy',\n",
       " 'potato chips delicious potato chips approximately years difficult find organic chips amazon lowered price finally chance order definitely ordering family love pure void artificial flavorings true flavor present satisifies need salty sweet spicy crunchy',\n",
       " 'chips great snack want junk assiciated chips try like',\n",
       " 'love chips flavor plain sweet spicy time drawback tad bit salt great flavor',\n",
       " 'thesedon like hot food bit great balance sweetness spice course kettle chips good chips use good oil plain ones tasty like ridged chips usually crunchy hard chew want work hard deliciousness like spicy barbecue definitely like chips',\n",
       " 'right spice hot sweet hard find new jersey bag',\n",
       " 'believe wonderful chip slightly spicy taste gives chip extra punch flavor family offically addicted',\n",
       " 'chips perfect snacking salsa texture brittle thin like plocky chips downside spice minimal',\n",
       " 'think plocky brand cut quality found lack taste somewhat little greasy',\n",
       " 'best chips eaten family loves sweet spicy crispy good delivery perfect crushed chips fantastic overall',\n",
       " 'nice case chips tasty definitely enjoy kettle sea salt black pepper wish bigger bags',\n",
       " 'ordered week organic foods delivery service oh word spicy burning spicy like tongue warming sweetish salty strongly flavored delicious chip like barbecue flavor nice sweet mexi fied barecue like organic ate oz bag minutes bad dang sinfully delicious granted oz lot skimpy price case comes organic calories pop geesh yes cals oz serving par course fried chips verdict fattening crispy flavorful delicious best stick small servings low fat sandwich soup enjoy mir',\n",
       " 'think chips spicy spice grow bite good',\n",
       " 'good things plocky chips purchased flavor black bean flavor',\n",
       " 'aunt gave bag immediately addicted actual pieces beans chips overly salty like chips love zip agreed awesome salsa trans fat',\n",
       " 'excited thinking favorite discontinued kettle flavor disappointed opened box found substitution keeping ordered bags flavor good bbq chip flavor grocery store oh favorite food items discontinued star substitution country bbq start chip chip longed',\n",
       " 'love chips eaten crisp tasty dip introduced chips loves expiration date months ordering bags come near going stale',\n",
       " 'bought chips wanted try tasty sure unique different flavor right thickness remains crunchy spicy flavorful hint tabasco paprika sauce heat rice granules embedded tortilla chips spices lacking chip liked recommend wants try red beans rice tortilla chips ahead ingredients nachos cheese maybe el pastor shredded meat tomatoes etcetera',\n",
       " 'love chips unique taste incredible crispy texture henry san diego moved ordering amazon running constantly',\n",
       " 'chips ones found tasty healthy fewer fat calories plus higher fiber want good taste nutrition perfect blend',\n",
       " 'love local stores stocked buying strong dip condiment great flavor grain texture',\n",
       " 'spicy chips lot great flavor warned left stanky breath time ate night brushing flossing taste mouth morning careful eat especially hanging people later day',\n",
       " 'time ate chips aruba find area ct imagine joy found amazon love hope continue carry prices terrific pay aruba run bag buy case amazon good job problem everybody wants steal bags case comes ok sharing good',\n",
       " 'chips delicious like salt pepper flavored chips solid crunch wrong tastiest bag come sea salt easier palette regular salt fact trouble cutting mid bag normally enjoy low sodium diet feel like lush oz bags',\n",
       " 'buy local supermarket longer carried finding amazon purchased box found fresh delicious remembered chips healthy definately buy',\n",
       " 'plocky red beans rice tortilla chips tasty shared bags daughter iraq said ummm good good artificial stuff',\n",
       " 'like plockysthey like plockys plockys mean fuss taste good healthy plockys plockys grab bag thank plockys',\n",
       " 'love potato chip r soooo good sweet spicy overwhelming work palate salty balance sweetness ordering soon love',\n",
       " 'best potato chips best price paid service respectable shipping free',\n",
       " 'love product different flavors fantastic family likes grain best corn tortilla chips house',\n",
       " 'love chips like black beans tasty yum plus good',\n",
       " 'chips fanfreakintastic doubt best chips nice sweet smoky flavor little bit heat oh ya baby',\n",
       " 'nice heat smoke tasty chip goes great brew',\n",
       " 'chips salty hint sweet crisp crunchy best chips',\n",
       " 'ordered black beans rice love stock week finally opened package kicked tried earlier little kick swallow let know hint hot pepper sort took pot luck night came home bag bag garnish salad took pot luck came home salad bowl definitely order',\n",
       " 'introduced red rice beans chips hometown bethlehem pa moved north carolina unable find chips local area trips home buy bunch bags bring nc discovered order line life great chips time favorite serve loves gotta try hooked nancy walsh',\n",
       " 'ok want addicted try plocky red beans rice tortilla chips husband started seemingly anodyne bag store received second case long beware',\n",
       " 'husband mexican picky tortilla chips absolutely love texture light crispy thick crunchy actually usually prefers hearty cruncy chip like el ranchero flavor fantastic thilled bean rice corn base makes incredibly flavorful touch onion garlic addition embarrassing like plain chips eat particularly amazing fresh salsa highly recommend',\n",
       " '',\n",
       " 'like chips salsa quacomole better cips market great order long available thank making accessable shelly kenyon',\n",
       " 'guess telling tickle palate huge tabasco fan love unconventional snacks taste remotely like wonderful sauce find kick practically bland fact strong aversion wasting food throw away case favor find bag locally taking chance',\n",
       " 'yeast extract listed ingredient sounds harmless right specifically chips contain autolyzed yeast extract chemical level monosodium glutamate derived different source toxic properties kettle advertises products containing msg acknowledge chips safe people msg sensitivities',\n",
       " 'plocky chips grains touch sweetness little lower fat sodium regular tortilla chips flavor performs tortilla chip eaten hold great salsas dips wimpy wish company bigger bag love usually found organic foods section grocery difficult obtain shelf order case glad disappear fast',\n",
       " 'love chips ordered florida case chips came packing inside bags box cushioning needless chips broken order great item package aid minimal chip breakage wasting money',\n",
       " 'received chips gift basket absolutely loved searched high low unable find saw immediately ordered case chips light crispy flavorful good love dip chili plain try hooked',\n",
       " 'chips truly amazing light crisp great tasting nice texture natural low fat sodium need recently bought bag regular grocery store belive taste buds excited saw amazon decided buy case',\n",
       " 'fantastic chips eat bag lots grain beans complete protein qualms feeding kids snacks great problem bag small need bigger bag',\n",
       " 'like potatoe chips hot sweet overwhelming taste garlic bit salty',\n",
       " 'good job shipping order quickly like ace hardware took week ship',\n",
       " 'long story short tasty purchased number flavors brand favorite noted reviewer contain msg form yeast extract popular means hiding msg lately calling different things person finds use caution consume find process hiding plain site bothersome bag large half air help shipping paying premium price organic deceptive',\n",
       " 'wonderful candy hard find got huge bag freezer came shipped nicely sturdy box heavy plastic great',\n",
       " 'bought thi dad surprise birthday present find',\n",
       " 'surprised find taiwan shaped pineapple cakes cute found pineapple cake like local asian supermarkets ordered lovely pastries dragon boat festival party fun friends think good idea order mid autumn festival party',\n",
       " 'like pineapple shortcakes sold unlike mass production pineapple shortcakes use artificial flavoring tasselfield pineapple shortcakes use real pineapples makes world difference taste fibers pineapple opted traditional pineapple time interested trying longan mango variety time',\n",
       " 'purchased pack big ass soda got immediately like oh man gonna suck regardless quantity error sure kicked red town absolutely loves highly recommend soda voltages malcom',\n",
       " 'big red fan bought let tell price amazing mean type deal saudi arabia village loved course wondering shipment',\n",
       " 'cinnamon cake loaf wonderful natural flavor moist tender great little sweet treat want terribly bad diet delicious',\n",
       " 'unfortunately ordered previously neglected look word supreme offer receiving free shipping delivered husband guests knew immediately different previously enjoyed currently amazon featured supreme babka awaiting receive future read carefully',\n",
       " 'opened immediately concerned saw looked like dried white crust fluffy frosting package recommended stirring use gave try crust indescribable gelatinous goo best equate white version blue goop mother serves dinner better dead raisins tried stir end result gelatinous goo white crusties lifting knife spread long strings goo trailed knife opted making frosting instead easy little sprectrum palm shortening lot powdered sugar tiny splash vanilla tiny bit salt rice milk needed consistency beat minutes fluffy butter cream frosting thought cherrybrook wonder overheated store foods read positive reviews frosting mix maybe try time',\n",
       " 'opened grayish sticky mess mad wasting money trying scratch home probably end better cheaper oh live learn',\n",
       " 'love cherrybrook kitchen tried products excited try ready spread frosting usually needed ingredients hand box frosting picky eater especially item contains sugar horrible consistency absolutely like regular canned frosting light fluffy gooey imagine trying spread cake rip pieces thick gooey try cake taste texture putting seriously waste money',\n",
       " 'product disappointment reviewers said gluey sticky texture akin elmer glue edible food product flavor sickening sweet actually thought frosting spoiled bad save time paid frosting brand cherrybrook cake cookie mixes good hard believe sell',\n",
       " 'glad found reduced rack c taste bad way frost cake stuck knife ran strings mess thought gotten bad batch gds birthday cake looks like crap buy mess horrible',\n",
       " 'recently purchased sale local grocery store know sale fluffy creamy white frosting expect find opening jar expecting like betty crocker pretty bad like said gluey tacky mess completely ruin cake tried spread reminds taffy hit right stage candy making process taste great sickeningly sweet frosting thing frosting cinnamon buns think right consistency',\n",
       " 'honestly worst frosting bought kind generous frosting consistency rubber cement time crunch luxury going store different frosting forged ahead decorated cake horrible experience bad cake decorating forever spread easily chewing gum stuck came contact got crumbs cake mixed taste good time decorating knew way feed mess family ended going store buy pre cake cake took twice long decorate stuff gooey centerpiece ugly centerpiece cracked peeled frosting dried',\n",
       " 'work college financial aid bowl desk students buy grocery store learned online lb bag thought good deal found great deal',\n",
       " 'worth money calculations different bags dollar excellent value approx pops box far half box found wrappers pretty good considering need lbs dum dums product enjoy',\n",
       " 'pretty good canned meat sausage dirty rice hamburger taco salad chicken wild rice pork stuffing turkey gave neighbor eat meats pretty good quality large portions large chunks fat gristle cans experienced plenty brands canned meats proportion liquids meat fair spoonful meat rest liquid need cooked shrinks bit high fat content meat meat seasoned helpful meat flavoring mild spam like texture taste meats way better spam day brine heavily seasoned plan frying fat meats gave slightly rancid soury taste idea higher calories higher price stock emergency food buy reason',\n",
       " 'bear amazon work copy lakewood website nutrition facts oz upc serving size ozserving size mlamount servingcalories calories fat daily value total fat g saturated fat g trans fat gcholesterol mg potassium mg sodium mg total carbohydrate g dietary fiber g sugars gprotein gomega mg omega mg omega mg vitamin vitamin c calcium iron vitamin e vitamin b thiamin vitamin b riboflavin niacin vitamin b folate magnesium zinc phosphorous vitamin k percent daily values based calorie dietingredientscertified organic juice blend organic acai organic apple organic concord grape organic grape organic pomegranate organic blackberry organic blueberry organic red tart cherry organic acerola cherry concentrate organic goji berry natural fiber organic guar xanthan carrageenan sodium alginate organic locust bean organic rose hip gluten free casein free gmo free fruit juices gluten free excellent lakewood juice juice thick odwalla drink like smoothie good value considering pay ingredients personal use add kombucha maximizing longevity way tried best kombucha oz glass servings fruit lakewood website tasty sweet thick textured tiny bits seed reminiscent banana smoothie ingredient list somewhat confusing note acerola cherry concentrate fresh pressed acai high orac scale anti oxidants rose hips high mid high range fruit pomegranate beneficial properties anti oxidants noteworthy fighter heart disease alzheimer type dementia considering price goji berries like inclusion drink albeit lesser level btw amazon day wait shipping',\n",
       " 'watered perversion acai berry juice comes strong harsh tart aftertaste texture apple juice grape juice pomegranate juice blackberry juice blueberry juice tart cherry juice oh yeah acai berry juice mixed concoction shall find distinctive smooth chocolaty acai flavor milky mouth pleasing texture exotic unique acai experience try zola samzon brands saying lakewood juice product nutritious point saying juice blend taste like real acai juice',\n",
       " 'flavor lasted longer probably die starvation lack wanting mouth',\n",
       " 'gum super sick tatooes killin flavor spankin brings bomb diggity memories yo peace',\n",
       " 'husband disappointed coffee weak watery cup coffee definite waste',\n",
       " 'pretty good regular style soy sauce super wonderful better good quality soy sauce buy asian market main value unique gift japanese soy sauce world types regular mild usukuchi raw fish sashimi light colored bluegrass soy sauce regular style compared kikoman good commercial brand widely available bluegrass starts saltier flat middle ends complex interesting flavor kikoman salty initially round flavor middle complex ending flavors initial saltiness bluegrass minus kikoman middle flavor plus prefere kikoman especially dipping sushi flavor direct lived japan years standard japanese flavor tried bluegrass blended food background flavor soy sauce usually bluegrass perfectly good soy sauce brand different flavor favorite want unique kentucky gift asian friend different standard bottle bourbon box chocolate',\n",
       " 'watched episode things discovery channell saw bluegrass soy sauce featured whim ordered bottle took weeks arrive surprise teenage son wanted try loved immediately puts things wife pleasantly surprised liked past trips far east developed real liking soy sauce virtually treat find handmade american product competes wins japanese chinese national staple',\n",
       " 'bottle arrived time sushi dinner game night planned friends soy sauces choose sampling bluegrass enjoyed light smoothness subtle sweetness splashing right piece dunking dipping friends wanted know found going order right ordering extra bottles going great little gift affordable unique instead traditional bottle wine common boring',\n",
       " 'enjoy flavor soy like plus hand good ole usa',\n",
       " 'recently acquired bottle immediately impressed good flavor excessive saltiness supermarket brands marinades dipping sauces addition straight use cases added little extra surprise find american soy sauce tastes good',\n",
       " 'soy sauce best thanks amazon able find makes big difference product thanks',\n",
       " 'delicious soy sauce tasted surely order deep flavor',\n",
       " 'saw interesting process decided try enjoy flavor adds looking forward trying dishes thanks brewed',\n",
       " 'soy sauce japan problems radiation soy bean fields sure long contamination like idea product claims gmo seeds yea pay decided chance japan',\n",
       " 'pleased sure able replicate autumn classic flavors caramel apples figured werther good bet diabetic wolfing real caramel apple mood strikes happen like tasty carb budget real thing sugar alcohols wise limit eaten day going near home turbo flush toilet tmi pack definitely reorder',\n",
       " 'item werther sugar free hard candy consumed friends loose bowels purchased bags discovered bowel problem return need laxative unopened bags free',\n",
       " 'bold blend great taste flavor comes bursting usually brew drink organic sumatra mandeling bj use blend exclusively cup rivals complex flavor tassimo brewer fantastic come amazon add subscription service',\n",
       " 'tried tassimo flavors far favorite normal cup coffee starbuck house blend cuisinart pot days week use tassimo coffee rich stong understand current price disks hope lowered amazon buy',\n",
       " 'best choices opinion adore amazon need negotiate better price tassimo disks available bedbath brings readily available coupons months ago excellent blend flavor bitter think favorite',\n",
       " 'tried available discs kona blend best regular unflavored coffees tassimo nice smooth flavor overpowering pleasant aroma personally enjoy stronger bolder bit mild goes breakfast gluten free baked goodies find mildly perplexing product available tassimodirect subscription service available originally found dead bats coupon happy final price',\n",
       " 'coffee available tassimo kona richest flavor fantastic aroma byfar favorite',\n",
       " 'think favorite cookies light creamy bad longer find count think need',\n",
       " 'kind tea good taste smell wear like tea feel like thing chemical',\n",
       " 'milka naps mix gift box fun unique gift tired whitman usual american brands wrong whitman change look flavor nice sampler provides milka options flavors noisette hazelnuts alpine milk strawberry delicious like strawberry chocolate candy personally away eager friends naps box perfect coffee tables standalone dish work milka famous purple cow owned kraft eastern european chocolate originally produced switzerland available germany austria hungary nearby countries distribution weak united states found increasingly larger cities usually found international grocery stores pops eclectic grocers time time years kraft change recipe seen texture taste better hershey nestle smoother creamier basic chocolate fully recommend milka naps mix gift box anthony trendleditor hungarianbookstore com',\n",
       " 'ordered dad fathers day ate box days said tasted good want order haha',\n",
       " 'great candy family loved smaller imagined thought expensive small germany easier shipping usa makes expenive great product fun usa family receive',\n",
       " 'eat mustard hands best mustard tried fact tell try falls love spicy tasty real quality like spicy mustard love',\n",
       " 'laddoos turned bad days received item inside fridge turned bad',\n",
       " 'product works wonders stomach issues buy need',\n",
       " 'ferret loves rabbit nice high protein treat addition regular evo ferret diet price reasonable compared local pet store item stock',\n",
       " 'son patience precise water temperature half hour appeared risen feared worse determined polite agreed sandwich bread amazing apparently rises baking great tangy flavor perfect meat sandwich imho heavy fortunately lots deli meats loaf disappeared hour sourdough peasant bread far sure delicious',\n",
       " 'great described bee themed party use packs honey coffee tea',\n",
       " 'disco dust edible baking purchase product purposes',\n",
       " 'easy project family fun anytime christmas icing cookies stack ice outside decorate great ages strawberry licorice rope looks like stuck find end unwind caution small hard candy decorations swallowing hazard comes need bowls spoons contains cookie pieceslarge bag yellow colored icing east mix fork add water slowly thin small white icing bag add water slowly green color add small white clear decorator plastic decorator tips save reuse small bead candy decoration chokign hazard strawberry licorice rope small tube orange writing icinghard candy wreath decoration diametergummy spongebob tallgummy patrick tallicing set hard eat pried apart pieces cookies little softer middle anytime year leave wreat patrick cut spongebob head look like chirstmas',\n",
       " 'son sb fanatic excited find holiday season year version gingerbread knew reading reviews yellow frosting whipped edible glue water confectionery sugar hold levels gingerbread pineapple save yellow frosting outside worked great fun idea enjoyed creating licorice worthless',\n",
       " 'easy looks came yellow frosting frosting stick year old like making',\n",
       " 'preschool teacher g gingerbread unit january vacation christmas got gingerbread kit found odd needed preschool class needed week looked find ont overnighted amazon nye came yesterday pick rudolph theme gingerbread came broken like unable use need glue gun work broken non returnable called amazon nice order second spend ton money year came broken order lot amazon things come broken think time returned broken orders thing row think kit shipped come ups overnight comes fed ed bubble wrapped think gingerbread good cracks shipping breaks rest kit cute kit candies spilled mess box second kit gingerbread broken candies bags bad try stay away',\n",
       " 'pleasantly surprised find item delivered day order speediest delivery date probably helps location near looks described pictured happy business seller gingerbread house carefully packaged harm fragile pieces inside excited item gift',\n",
       " 'cookies fun paint tasty eat kids care beenmore fun eaten fun coloring',\n",
       " 'disappointed product thought bigger come icing use',\n",
       " 'idea spongebob ginger bread pineapple great sticker says use jn date thats good think fun cute decoration son going want eat seller check expiration date right box happy',\n",
       " 'tea carries flavor expect smell terrible invigorates like puncture wound revival drinking discover alive tea bag mother law said oh smells kind like wine okay kind like wine hint rot moldy aftertaste likes box',\n",
       " 'possible product zero stars huge fan twinings teas excited try new blend arriving home grocery immediately started kettle enjoy cup prepping dinner sorting washing chopping items hot water added bag steep preparation continued distinctly odor hit thought ingredients rancid hunted minutes realized tea cleaning airing kitchen roommate later came asked smell save money purchase twinings product',\n",
       " 'tea best tea tasted norway find states morning',\n",
       " 'love aroma taste fruit vanilla combo addition ginseng added energy boost rounds tea nicely sweet tea makes wonderful healthy alternative desert dinner like matter personal taste different courses different horses',\n",
       " 'best chocolate world critic humble opinion united states best chocolate united states california ghirardelli chocolate company surely best chocolate find stores malls etc united states actual stores rare kroger wal mart martin ukrops long list grocery stores malls stock products encountered milk chocolates caramel filling surpass quality chocolates deserving poetry eat quickly time savor moment eating choice',\n",
       " 'good quality brand chocolate flavours tasty fast delivery',\n",
       " 'mother father recipient wonderful pieces chocolate heaven believe deserved receiving know deserve receive',\n",
       " 'best caramel chocolate combination tasted caramel liquid complements ghiradelli chocolate perfectly try brew attempting lose weight end addict like ghiradelli product far better caramello hershey product way caramello chocolate lacks refined taste ghiradelli squares caramello caramel harder sublime taste comparing like comparing warren buffett terms wealth unfortunately caramello bar regard try ghiradelli',\n",
       " 'chocolate treat great gift arrived right expected gave girlfriend surprise gift absolutely loved',\n",
       " 'time ordered came melted amazon quick remedy situation sending product great thank',\n",
       " 'low calorie satisfying soups nice fill want want hungry hours',\n",
       " 'purchased gift mother lightning deal happy loved basket enjoyed cookies flavors tea included shipped quick arrived expected',\n",
       " 'received quickly extremely packaged smaller sized basket adorable present likes tea self hand nicely assembled attention detail',\n",
       " 'small chocolate cups specialty party item able find past wanted amazon provides link commonly called jello shots provide solid edible alternative small paper cups',\n",
       " 'bought chocolate liquor cups party big hit high quality good buy',\n",
       " 'great serving chocolate liquor adds touch class event elevates host supreme able eat cup icing cake',\n",
       " 'delicious chocolate cups aluminum holder find local store happy find line people unaware impressed serve little cordial liquor chocolate cup sipping theliquor eat cup nicer excellent product',\n",
       " 'holiday liquor cups exactly looking chocolate isdelicious holds liquors',\n",
       " 'strawberry twist long lasting pleasant flavor sweet excessively delivery timely price right supieror trident flavors spearmint bad pick blueberry',\n",
       " 'trident strawberry twist sugarless gum disappointing taste consistency strawberry flavor artificial tasting guess good thing long lasting gum gets stringy fairly quickly chew lot gum buying flavor recommended cfh',\n",
       " 'love flavor cant find shelves anymore gum tasted fresh actually way better buy stores',\n",
       " 'yahoo deems ok suck review stuff like taste feel assert matters taste de gustibus non disputandem est love gum ok taste like strawberry delicious wonderfully smooth consistency halfway gets tired stuff squeaky forgive squeaks find stuff wonderful dietetic aid obsessively chewing product filled gut odorless room air helped lose months lose flavor bedpost overnight',\n",
       " 'best dog food market today numerous ear problems cocker spaniel cleared taking food',\n",
       " 'father longer care beloved year old cocker spaniel decided family brought nyc ear eye discharge slightly overweight check vet ruled infection decided try royal canin based numerous good reviews week ear eye problems gone dropped good weight going food feeding',\n",
       " 'spaniel tried foods years eat people food added course treat occasionally went month tooth cleaning appointment vet told home teeth need cleaning months specially designed teeth health needs loves actually cheaper fancy pet store ask',\n",
       " 'royal canin recommended dog line dog food specific breed difficult find stores petsmart petco carried cocker spaniel formula smaller bags expensive ounce ratio finding larger bag great deal cocker loves food',\n",
       " 'food especially designed cocker spaniels range health issues product dogs happy packaged result stays fresh long period time great product',\n",
       " 'tired different dog foods yrs cocker spaniel came breed specific dog food figured try dog loves food finishes food yr tired seen significant change better active buy brand food buster gives paws stars',\n",
       " 'bought year old cocker dogs love coats look better shed eat use bathroom cocker chronic ear time puppy gave problems cleared smell eyes problems yr old yorkie eats throw time sensitive tummy black lab mix hot spots lick fur great changes matter month mix roughly naturals dog food blend great sept love breed specific food went place bi monthly order shocked price hike month paid aug lb bag sept th price difference price huge considering assuming price gouge speculation crops look local vet product large bag petco discounts offer order larger bag ask',\n",
       " 'fast great service cavashon loves low fat dog food thanks arrived great condition thank thank thank',\n",
       " 'chocolate moose mickey moose nice owner bought great food love gained lbs eat mickey food looking skin fur better',\n",
       " 'year old cocker spaniel loves food good needs lose pounds trick glad found amazon hard find',\n",
       " 'lb bag oatmeal like way time went found uses recipes weekly running high quality oatmeal cheaper better found grocery store',\n",
       " 'better organic oats advertised takes lots water minute oats oatmeal cookies come right crumbly soggy instant oats place cookies',\n",
       " 'honeyville rolled oats delicious product product designed increase enrich milk production lactating mothers oats shipped timely fashion amazing thing paid shipping lbs oats encourage likes oats order honeyville rolled oats flavor rest',\n",
       " 'nice flavor bitter like coffee searching coffee pleases family tastes',\n",
       " 'version cadbury chocolate distinct taste uk version chocolate eating childhood like new taste friends india buy chocolate uk india disappointed',\n",
       " 'cadbury chocolate uses different formula country manufactured new zealand uses cream australia etc version hershey expect england australia new zealand cadbury melt tongue like countries tastes differently looking silky smooth easy melting chocolate find non hershey version hershey missed opportunity introduce high quality cadbury chocolate usa',\n",
       " 'taste tea saved trip home santa cruz hotel restaurant stale powder tea bags needed fix tourist stop giant artichoke beckoned chinese breakfast yunnan black tea set straight reviewers said tastes odd flavor strong bit smoky like darjeeling earthier like darjeeling earl grey flavor milk sugar needed expensive box teabags finding loose large quantities price fantastic arrived promptly sealed true label unlike loose tea actually cut leaves unfurl ahhh',\n",
       " 'tea surpassed breakfast teas tea drinking household love starts morning right caffeine old favorites taste wonderful additions remain tea choice morning day',\n",
       " '',\n",
       " 'maybe half dozen bags tea year delicious consistently good quality black tea mainly use numi teas tea blends making kombucha',\n",
       " 'grew yunnan tea child mother favorite happy find economical source quality great large volume habitual tea drinker like tea daily regular tea yunnan nice brew dark need time aromatic flavorful additives want flowery subtle earl grey yunnan keemun nice option explore',\n",
       " 'amazes dozens reviews extolling fine qualities tea drunk pretty day years tired excellent morning tea smooth insipid impossible ruin oversteeping use decent water like little stevia wimp brings natural sweetness malty slightly floral style bought pounds',\n",
       " 'hardly write reviews tea excellent decided try sweetener added taste enhancers flavorful overpowering great pleasure fine tea like loose reasonably priced try continued drink comes leaves soaked premium tea',\n",
       " 'read reviews purchasing pleased purchased numi teas gave generally happy theri products',\n",
       " 'eaten eaten way das caramel range remains time favorite usually gets rave reviews share easy thing try mean caramel fan ages werthers butterscotch pinch come closer mother chewy buttery little crunches salt spectacular ok mother salt improvement',\n",
       " 'enjoy flavor ordered tiny bit chocolate walnuts enjoyable flavor wonderful service ms das including hand signed coupon discount future orders samples couple caramel flavors order chocolate walnut flavor sure das food gourmet salt',\n",
       " 'certainly best caramels wish came bigger pieces finished box sitting certainly buy',\n",
       " 'idea good caramel flavors ginger pistachio dominated chocolate walnut orange honey varieties missed mix rich buttery dairy flavor caramelized sugar expect caramels',\n",
       " 'old chemist spectrophotometer pleased chemical advertized',\n",
       " 'baking soda works great cooking health reasons acid indigestion heart burn tsp half glass water gone use body alkaline great changing ph level body',\n",
       " 'recently started bob red mill baking soda pleased performance sure contaminated aluminum thanks bob',\n",
       " 'product high quality rich flavor delivery unexpectedly fast negative like addressed product packed heavy paper sack commonplace significant improvement inner liner heavy weight food grade plastic bag sealed time open bag zip lock bag twist tie closure difference need practical way preserve freshness product bugs health spoilage issue oatmeal lot product needs repackaged consumer small food grade bags containers expensive hard find single senior likes buy staple goods bulk save money provide food security long term storage big issue people like thom missouri',\n",
       " 'happy quality product price like reviewer prefer plastic liner preserve freshness continue buy product regardless quality oatmeal good price edit th bag quality continues high',\n",
       " 'product fresh good getting complaints anymore worth large quantity shipping charges hey oatmeal favorite',\n",
       " 'good quality oats package came time oats worked recipes admit single person bought oats boyfriend breakfast food lasted year excellent buy',\n",
       " 'eat oats funny taste kids think taste funny husband thinks ok pounds oats eat',\n",
       " 'looooove pocky got lucky couldnt stop like chocolate laced crack anywho product good sad thing shipped stored hot room chocolate melted partially didnt effort apart sticks great product great price merchant',\n",
       " 'purchses amazon past december pleased pocky chocolate cream covered biscuit sticks pack arrived time hit surprised gift sure refridgerated',\n",
       " 'got kids christmas stocking stuffers love far delivery product came good condition timely terrific definitely good buy',\n",
       " 'sure review subjective taste suffice like chocolate graham cracker like taste exactly like closest analogy sticks cracker kind dipped chocolate end left normal cracker fingers covered chocolate eating nitty gritty details boxes contain individually sealed packets contain probably sticks packets cleverly designed little slit cut folded grab sides pull opens package hassle gotta love japanese product design nice design touch open properly grabbing stick right packets calories fat mg sodium terms snacks pretty good option contain milk wheat soybeans sheanut issue want pass says packaging facility manufactured processes eggs peanuts product use disclosure nice particularly sensitive overall great snack great price pack packets snacks note live hot climate order summer melt shipping duh',\n",
       " 'love packaging making heatproof problem ordered winter freakishly cold want thank veryasia free sample mi goreng delicious love mi goreng',\n",
       " 'bought january got reviewing heard people rave japanese snack called pocky figured try like description states biscuit stick covered chocolate taste mind boggling easy eat virtually mess long chocolate melt anyways case wondering ordered seller named asia amazon com gp help seller glance html ie utf isamazonfulfilled orderid marketplaceseller seller jw sei believe took weeks actually maybe imported came packed damaged whatsoever definitely considering stocking future find local storeedit oct inquire type pocky seller finalizing purchase decided restock fight craving anymore unfortunately batch time good ordered different seller cheaper amazon prime received picture shown page pack japanese pocky pack pocky ish thing thailand opinion giant pack compared smaller packs definitely step packaging fine ordered october weather bit cooler aka melted chocolate arriving door sticks coated type thick chocolate bit bitter taste similar dark chocolate milk chocolate original japanese pocky melted immediately mouth melts slowly sits mouth personally like taste dark chocolate pocky flavor terrible self control buy things come small portions order eat b avoid making fridge mess cluttering tons opened items honestly overeating comes batch pocky stomach dislike change original rating holds true japanese pocky rate thailand pocky taste terrible definitely liking possible uploading pictures received',\n",
       " 'bought daughter grad party strawberry loves things great product',\n",
       " 'family likes taste addicting includes year old',\n",
       " 'pocky plain fun eat discovered snacks anime convention heard seen manga characters eating slim sticks biscuity stuff flavor cross waffle cones pretzels charming tiny popping crispness chocolate flavor nice non bitter non dark generically pleasing choco taste popular given fast sell cons prefer flavor strawberry like strawberry ice cream nice means health food category cookie got fat sugar non healthful ingredients hey junk food know supposed occasional habitual diet prone binge eating stop smaller boxes huge calorie splurge stick reasonable number chocolate pocky sticks set calories grams fat saturated recommend scarfing multiple boxes fact nibble slowly fun cool texture effect love flavor coconut chocolate like almond joy try coconut chocolate ones good oh man hubby says taste reminds girl scout caramel delights cookies turn similar old yes yes cookies seventies read manga seen anime young folks eating stick looking treats seen footage cute japanese girls nibbling skinny little stick treats eating fun treats crazy hot summer recommend look local retailer wait fall cooler weather sticky clumped mess pocky sticks deep summer weather look local stores specialize japanese anime manga likely carry japanese snacks like south florida tate comics variety flavors fresh melted',\n",
       " 'pocky incredibly good snack impressed asia packaging stupidly ordered easy melt chocolate dead heat summer package dessert pocky ordered degree weather melted liquid goo course expecting pocky boxes melted away took special care pocky box reading protect heat pocky arriving perfect condition stick bit love asia',\n",
       " 'think pocky stored rightly chocolate falling biscuit stick taste stick want split messy need clean desk time',\n",
       " 'loves pocky lying lol pocky arrived good condition minimal melting broken pieces',\n",
       " 'great couldnt stop eating lowest priced buy time cant shipped faster paid shipped thank',\n",
       " 'bought pocky vacation enjoyed living asian stores shop internet guys family like better ladies reason bit insanity search pocky commercials youtube',\n",
       " 'individual pocky sticks separately packaged melt stick shipped',\n",
       " 'product qualify sort deceptive packaging award box contains bars wrappers smaller normal interior box air unwrap bar find length normal snack bar rest air inside wrapper include wrappers bars occupy space inside box far taste goes dry hint berry flavor celiacs inferior products disappointed taste cookies suffer sort deceptive packaging picture box shows consider normal sized cookie open box find contains plastic tray holding cookies size quarter want like company trying hard coming new products keeping allergens production process continued try products bought granola times wanting like worst food clusters hard partially popped kernels bag popcorn fitting gerbils people recommend enjoy life foods',\n",
       " 'peanut free product bought son thought tasty kids liked reason think strawberry bars love soft texture non crumbly state makes clean car rides like apple chocolate bars best berry left amazon wonderful price wish subscribe item',\n",
       " 'recently stopped eating number allergens dairy soy nuts snacks fit dietary restrictions unfortunately pretty gross miserable texture cardboard flavored berry threw away recommend cocoa ones tastier allergen free',\n",
       " 'daughter extensive food allergies infant toddler bought bars consistently nut egg allergy like trust manufacturer know food safe unfortnately times purchased bars varieties hard rock daughter eat tried thought break tooth subscribe save cancelled boxes family eat agree previous post want love bars love company stands actually like cookies changed bars appetizing hope address issue certainly try enhance taste address issue texture total bummer better past changed taste new packaging',\n",
       " 'son multiple food allergies enjoys bars find good berry taste nice chewyness',\n",
       " 'love sweet right allergy free food great book hope non ingredients contains corn thats dont appreciate fact opened new box cut size charge effect decision buying toddler need real size bar',\n",
       " 'extremely disappionted opened shipment enjoy life bars berry carmel apple cocoa loco boxes plain generic design know kind brands change want products look cheaper compared ingredients new shipment older boxes home guess cheaper ingredients taste tested let year old help eat new ones blame oily bland thought enjoy life brand actually cared quality ingredients good tasting product wrong summary way expensive low quality unpalatable ingredients',\n",
       " 'refer picture posted bar half size think going literally bite bar deceptive advertising fact ridiculously expensive reason star year old son ate like ate agreed husband away different tastes tasty treat far concerned',\n",
       " 'allergies family ended working great negative reactions ingredients buy pre packaged foods work family tried varieties prefer cocoa loco bars like tootsie roll eat tootsie rolls great substitute occasional craving family prefers berry bars eat miss breakfast need healthy snack son cross country running meets dense filling soft bar eat liquid drink time',\n",
       " 'new food allergies mo son diagnosed severe fa breastfed drastically alter diet learning brand stuck eating chicken breasts potatoes meal stumbled local foods excited try overall like got pretty good texture taste heft dense want gag bites light eat box big know alot people complain size packaging agree somewhat bar ounce calories par breakfast bars like berry flavor best closest real non fa specialty flavor overally grateful bars tote diaper bag car know need quick snack left stranded',\n",
       " 'son severe allergies item loves convenience feel good giving taste great',\n",
       " 'tasty convenient bars people celiac disease gotten smaller time taste convenience outweigh reduction size price',\n",
       " 'looking great gluten free snack sorry chose product favorite flavor apple nut',\n",
       " 'brand granola bars good berry favorite bars ridiculously small yeah gluten free food lot dense food honestly normal sized good tasting granola bars tiny taste great bar small',\n",
       " 'great taste great ingredients great texture absolutely delicious little smaller hungry meal year old son breakfast little hungry taste good wants',\n",
       " 'recently diagnosed gluten intolerant looking products allow resume semblance life snack bars fit bill mouth feel traditional snack bar pleasant tart sweet fruit flavor',\n",
       " 'son loves fruit bars smaller typical wheat fruit bars suggestion child like try chocolate ones son favors chocolate ones berry ones',\n",
       " 'want good snack bar try healthy taste good granola bar gluten buy regularly',\n",
       " 'imagine taking kids playground chalk tan colored grinding powder plenty chunks scoop mouth disgusting bar idea rating flavorful nutritional coaching years watched healthy foods progress painfully bad barely edible excellent neanderthal era gluten free bar bad want local grocery store boxes shelf hide different store trash compactor protect people experience daughter product save money ridiculously expensive spend enjoy life bars ill better putting garbage mouth',\n",
       " 'brother bought pound coffee christmas told weaver original roaster pete coffee eventually split started roaster let tell stuff delicious married brand coffee usually buy starbucks lb bag costco looked good trader joes weavers class subscribing guarantee stuff delivered regularly try',\n",
       " 'best coffee light taste bodied pleased packaging resealable keeps stay fresher longer unlike brands construction stays intact wont displeased purchase buy',\n",
       " 'best coffee run american pavilion cannes weaver far away popular coffee sponsor hundreds people come pavilion day looking american coffee disappointed booming business year buy happy julie',\n",
       " 'looking exotic tea drinking experience like white jasmine tea numi flower jewel worth look size gum ball jewels slowly open water form flower shape central amaranth flower meant decorative glass teapot preparing tea decorative mean tasteless white tea flavor mild rich soothing jasmine wonderful overpower tea stronger jasmine teas balanced tasty small glass pot preparing able yummy infusions jewel flavor scent began fade white tea tips plentiful high quality bitter seeped long periods deduct points high price tea ratio fragility flower jewels pouring hot water directly cause pieces fall rd th infusion flower starts fall apart fair main flower shape remains fairly intact come box starting missing central flower bits leaf better packaging solve want tea experience looks good tastes smells entertaining want conversation piece numi tea flower jewel short list',\n",
       " 'ball worked pretty looked little beaten half fallen pieces hot water sitting bit mind rate failure tea pretty good fairly tolerant steeped long time especially considering white tea',\n",
       " 'numi winner tea husband son share wonderful tea dinner pleasant reason love turn bitter longer steeping like teas',\n",
       " 'product says gave stars issues product family members smell taste horrible lotion cream rubbed skin weeks ago changed sheets scent bed ultimately stopped smell way like smells like indian spice work scent wise work fine',\n",
       " 'twin month old babies treat dessert earth best jar loved straight sweet potatoes water sweet potatoes ingredient followed apricot puree dessert right comes chicken brown rice flour good brown rice meal babies age probably going love instantly babies love sweet potatoes starters add apricot puree discourage babies recommend flavor brand ingredients label water organic sweet potatoes organic apricot puree mechanically separated organic chicken organic brown rice flour rice flour absorbed water gave real nice consistency sweet potatoes gave nice color nutrition label calories protein vitamin vitamin c calcium iron vitamin earth best jars tried informed percentage daily needs met based adult',\n",
       " 'baby loved progressed cut runny spoon quickly way grabby hands think use little water maybe little potato consistency turkey dinner',\n",
       " 'little girl like organic contains fruit veggies protein grains tasty meal wish came larger portions month old wants jars',\n",
       " 'daughter favorite foremost love lentils stage vegetarian choices',\n",
       " 'wow shocked find clear plastic pieces jars posters notified earth best august selling checking recalling earth best little guy taking business sad organic company selling baby food plastic bpa jars gotta better business',\n",
       " 'like earth best baby food line organic ingredients amazon great prices especially subscribe free delivery doorstop convenient busy mom daughter like lot baby foods eat reviewers stated bit runnier eb stage foods add oatmeal bit bland add dash cinnamon heating added bonus works wonders digestive tract problems constipation months going days suppository discovered food makes poop time started giving sippy cup water meals day help fiber rated instead stars main ingredients sweet potatoes apricots sweet potatoes chicken wish chicken protein',\n",
       " 'son favorite dinner best best combo protein vitamin c runnier dinners great start solids protein love love love brand flavor think purchased jars far',\n",
       " 'know got broken received came wrapped plastic bubble wrap single jar broken son loves price great issues',\n",
       " 'love time son food everyday case honestly time days time energy enter product bought baby food read reviews people saying fruit like dessert yadda yadda yadda truth yes bit fruit sweet fruit merely brings flavors naturally add great product enter proteins baby diet consistency smooth wanted add cereal baby choke highly recommend',\n",
       " 'love earth best organic baby food tastiest tried think pretty gross daughter eats enthusiasm flavors got decent protein important vegetarian family',\n",
       " 'soft smooth texture little devours best meat veg dinners found',\n",
       " 'triplets eat eventhe eat consistency way runny stay spoon',\n",
       " 'daughter big fan baby food especially proteins love flavor right sweet savory strong chicken flavor like plain sweet potatoes sharp good protein offer good picky eaters nephews niece liked flavor pretty safe bet hand know particular baby preferences wish known bit runnier stage earth best especially chicken added bit rice cereal thicken daughter gotten tired runny texture liked fine extra step runnier texture makes workable younger babies gagging texture problems',\n",
       " 'food daughter eat consistly enjoys packaging great broken ordered times',\n",
       " 'son loves rice lentil jars liquid consistency peas brown rice jars order subscribe save amazon mom arrives nicely packaged',\n",
       " 'twin girls loved vegetable turkey dinner favorite baby foods great price',\n",
       " 'normally love earth best products son tonight given half jar thought try new flavor realized little pieces soft shredded plastic appalled child experience kind thing called poison control said ok knew fine got angry looked online found earth best actually known plastic time selling buy earth best disappointing',\n",
       " 'son enjoys earth best lentil eats entire jar dinner wants product shipped quickly',\n",
       " 'love fact turkey offered son nd favorite dish issues good balance nutrients',\n",
       " 'jars came form edible babies rest filled clump spongy mush mix water brown color yellowish brown like jars good mixture pretty disappointing waste money',\n",
       " 'son favorite baby foods bit sweetness sweet runny flavors use deeper spoon add little rice cereal thicken',\n",
       " 'reason son likes flavor fan eating time variety vegetables baby sitting happy mom',\n",
       " 'rice lentil dinner son absolute favorite know gobbles time enjoys earth best foods found couple eat apple personal taste issue brand particular combination varieties tend runny great consistency right jar',\n",
       " 'month old absolutely loves far favorite jarred baby food like lentils add bit protein average baby food ready introduce meats subscribe save brings price jar fair price amazing deal roughly equivalent sale prices grocery store bigger issue particular blend hard find foods regular grocery store target carry earth best blend daughter likes buy price bit higher store prices good',\n",
       " 'try food feed daughter actually pretty good daughter loves gets excited',\n",
       " 'month month son barely ate solid food picky tried different flavor brands baby food actually finish jar expect like green vegetable scent guessed wrong month old pretty healthy eater current favorite tofu loves corn zucchini brown rice carrot ingredients highly recommend try baby food earth best makes best baby foods toddler foods fabulous son like snacks gerber brand likes products earth best foods taste great adult good',\n",
       " 'tastes good apparently cat thinks constantly poking furry face time pop open absolutely bad know people complained poor packaging believe fixed b c problems fact securely bubble wrap place air cushioned box arrives perfectly time',\n",
       " 'month olds time write great review like flavors textures great jars open easily great snack',\n",
       " 'son started eating months old months old favorites unfortunately carry local grocery store carry varieties earth best favorites spinach potatoes spaghetti cheese carry foods buy glad find amazon tired ringing gazillion little jars store use base mix things bits cooked broccoli small pieces meat started adding spices introduce new flavors',\n",
       " 'baby loves rice lentil favorite things eat going able warm food eat cold',\n",
       " 'daughter loved stuff natural good mix things older beats gerber',\n",
       " 'daughter outgrowing baby food eat tried rd foods like texture good likes buying',\n",
       " 'son loves best earth baby food favorite vegetable turkey smiles mouthful recommend product looking healthy feeding organic way food feed son earth best',\n",
       " 'fair twins got gas horrible night screaming gas pains garbanzo beans ideal food young babies',\n",
       " 'usually baby food easy steam fruits veggies puree time cook buy earth best baby foods baby likes fruits veggies far like refused eat tried understood eat tastes nasty poor baby immediately homemade potato zucchini asparagus puree loved recommend flavor',\n",
       " 'month old baby loves earth best nd sweet potato chicken dinner favorite love earth best nd foods fruits vegetables dinners consistency food makes easy eat thick thin',\n",
       " 'daughter favorite baby food far ones eat rarely eat kinds taste bland adult unfinished portion fridge sort watery point throw unique combination vegetables especially zucchini update review today saw little pieces thin stretchy plastic jars baby food plastic baby food notified earth best sending pieces plastic testing giving baby food likes',\n",
       " 'earths best eats little thicker original chicken sweet potato favorite runny',\n",
       " 'continue buy moving home finger foods away glass jars shattered like flavors great textures',\n",
       " 'eat baby liked said savory sweet reminded fine dining tuscany like jarred foods know recycle waste learned telling glass recycles forever recycle common stop reading hard thing anymore building recycles drives crazy rinse different bin trash day stop lazy',\n",
       " 'wanted post found small bits plastic food feeding month old plastic food baby food careful buy considering daughter loves food actually favorite time noticed plastic months',\n",
       " 'pretty good product taste best definitely worse gives pretty smooth energetic kick',\n",
       " 'true seattle coffee addict better coffee candy',\n",
       " 'sent basket father birthday said fruit fresh sweet happy healthy purchase',\n",
       " 'fruit gift perfect gift fresh packed tasty looking people received assured tasty tasting tried chocolate covered cherries ad surprised delicious thank needed pinch came earlier expected thank dharana san francisco',\n",
       " 'got girlfriend birthday fruit actually tasted fresh yummy love dark chocolate loved dark chocolate almonds time organic version product close share',\n",
       " 'child facorite memory drinking sassafras tea fresh sassafras granddad seen tea bag found taste remember needed bags cup bags fragile great product buy plus shipping time great',\n",
       " 'grew ohio lived woods sassafrass trees plentiful dig tender roots bark trees delightful tea purchased breezy morning sassafrass tea good expensive average size tea bags shipping product good bargain switched pappy extract',\n",
       " 'ordered line received days tea excellent price right',\n",
       " 'purchased tea neighbor present looking sassafras tea long time realize hard find absolutely loves great surprise christmas gift',\n",
       " 'heard great things sassafras wanted try worried taste turned lot better anticipated actually gonna order pack continue drinking time trust fda',\n",
       " 'bought dad years complain tea finally nights drinking tea annoyed bought tea shut',\n",
       " 'tasted sassafras tea local restaurant liked started looking grocery stores online teabag form weeks investigation called restaurant asked tea told pappy sassafras concentrate looked online found amazon com ordering saw sassafras teabags thought order box try dissapointed taste like flat rootbeer expecting like black licorice hate mild rootbeer undertone distinctive red color steeping sassafras root real sassafras tea root know teabags like real thing line buy teabags',\n",
       " 'great tasting tea looking good sassafras tea forever finally ordering product thanks kim',\n",
       " 'care product thought tea sisters use drink elementary school found tea use drink actually came root particular type tree',\n",
       " 'purchased read natural cure hives um hives tastes awful luckily co worker loves stuff reminds grandmother gave yucky yucky stuff',\n",
       " 'good sunflower seeds good price prefer unsalted variety hard find thing mind expiration best date example order april batch receive june use date stretch consume bags seeds start going rancid roasted oil unsalted seeds spoil readily salted variety refrigerated receipt amazon specify use dates food products sell gamble purchaser assuming amazon ship stuff expired probably ship oldest stock use date item select choice',\n",
       " 'love panang curry avoid white rice restaurants serve decided try making product exactly want hot tasty panang curry adding lots fresh veggies tofu brown rice hot add spices great product purchase',\n",
       " 'best paste tried easy use saute meat add veggies paste tin coconut milk quick tasty weight watchers tried light coconut milk instead fat works panang paste especially add heaping tablespoon crunchy peanut butter yellow green red spicy need fat coconut milk balance',\n",
       " 'omg love cookies chocolate mixed makes taste medicinal degusting strong word horrible horrible mistake expensive mistake advertised peanut butter cookies bought peanut butter chocolate cookies wanted plan peanut butter cookies received found chocolate peanut butter ones thought okay try omg threw taste horrible horrible disgutingly medicinal taste buy zero stars rate zero instead star',\n",
       " 'gravy mix excellent use water called use milk instead makes better',\n",
       " 'south live sofla southern influence gravy mix reviewing pioneer country gravy de licious tried publix brand mc cormick ect best far chose mix water milk cooked chopped sausage links phenomenal bisquick cheese garlic bisquits like red lobster served small watercress scrambled eggs super easy thick finger lickin mmmmmmm heard potatoes veggies chicken soups add seasoning pioneer brand says homestyle american classic',\n",
       " 'easier better beats grandmother white gravy recipe peppered mix water takes minute highly recommend gravy mix disappoint',\n",
       " 'pioneer gravy number years easy tastes great goes mashed potatoes meats etc try',\n",
       " 'great able sugar way good eat going use sugar processed unhealthy state sugar body helping fair trade farmers good thing happy amazon',\n",
       " 'coffee fanatic stayed away liked instant coffee assumption similar enjoy starbucks instant coffee drink expensive thought try wife pleasantly surprised taste think equals fresh brewed acceptable bought pack local grocery store little high figured check online find best price started calculating online prices charging bucks count suggest check local grocery stores able find cheaper math single online price shipping calculated looking supposed discount coffee supplier case boxes sales tax free shipping sounds like great deal x singles single expensive',\n",
       " 'think coffee bags good fresh ground fresh brewed coffee taste far better instant coffee work water cooler hot water dispenser brewed hot water like tea bag making tea tastes far better instant coffee highly recommend coffee lover access hot water access coffee maker individual wrapped sealed bags allow tiny tea like bag pocket purse early morning meetings',\n",
       " 'regular bags decaf bags home times drink old coffee best way iced coffee',\n",
       " 'live dorms kitchen making cup coffee easy especially need stay late study wake hours sleep like making tea tastes decent starbucks good sugar cream',\n",
       " 'primary point review note packaging expensive size offered folger coffee money recently started drinking coffee lapse years know cups day use wanted avoid fuss coffeemaker particularly like instant coffee delighted find folger bags brew nice tasting cup coffee kind coffee expert know special terms know let bag seep bit minute sure tastes good thanks better half learned bags produce good cups coffee convenient easy tasty intend travel alternative room coffee makers yeck vending machines jerry',\n",
       " 'kind coffee maker work forced buy house coffee shop starbuck street economy wants pay high prices started coffee club buy coffee bags separate creamer enjoy fresh hot tasty coffee day paying coffee shop prices thanks folgers',\n",
       " 'great work pop instant bag minute coffee best tasting coffee easy mess',\n",
       " 'fast easy definitely delicious makes great cup coffee easy good purchase continue order thanx',\n",
       " 'gave tea try add variety tea habit glad somewhat sweet minty taste wonderful aroma nice reddish color tea probably taste factor wonderful japanese green matcha tea look forward experiencing purported health benefits rooibos read',\n",
       " 'tried normal red tea waited review flavor rings head earthier rooibos tea frity color muddy water grittiness viscosity worth penny',\n",
       " 'previously tried matcha products generally satisfied quality price decided pure matcha green rooibos try price competitive quality pure matcha products surpasses tried stays fresh consistent texture tastes great quality price better purchased quantity highly recommend pure matcha continue purchase',\n",
       " 'best marinade buy far concerned course tastes think like stars',\n",
       " 'great product looking msg gluten free product lower sodium marinade soy sauce compromise taste use soy sauce substitute found superior taste looks acts like good marinade celiac gluten intolerant watching salt intake product way steak marinade',\n",
       " 'poland spring driver gave new tea try andour family enjoyed looked ingredients pleasedwith natural ingredients calories',\n",
       " 'hot sauce favorites perfect balance tasty spicy smell flavors immediately open bottle mix garlic habanero spices tend bottle week highly recommend likes hot sauce',\n",
       " 'hot sauce fan tasted black market hot sauce listning radio morning creater owner giving interview sounded interesting j sampling sauce raving picked bottle local grocery good bottle kitchen extra bottle hand gifts taking potlucks barbecues party happy buy online amazon',\n",
       " 'favorite hot sauce liketo use extra flavor loved going favorite resturants town seeing offering great product enjoy putting breakfast burritos',\n",
       " 'local diner eat regularly use kinds foods love hot flavor like sauces burn taste burn awesome flavor surprised find amazon stumbled highly recommend likes good hot sauce',\n",
       " 'browsing amazon looking gifts pleased favorite sauce order shipped friends habanero favorite love heat tangy spiciness love pineapple wrong ordering',\n",
       " 'favorite hot sauce buy locally love flavor hopefully flavors amazon people enjoy favorites medium pineapple flavored ones far thank making flavorful hot sauce',\n",
       " 'far habanero medium sauces amazing fiance use nearly daily picked goes sorts dishes add extra kick sauce lasts lot longer appears thick bottle couple weeks heavy use love use breakfast eggs burritos dinners soups added spice',\n",
       " 'absolutely love habenaro sauce use eggs sandwiches good kick watched progessing popularity theis homegrown product highes accolades chef product try',\n",
       " 'black market hot sauce wonderful husband loves habenero sauce flavorful nice kick fact love medium sauce taste yummy bit zing use meal like fact different levels spicyness love medium habenero kind like package thank hard work guys hard work',\n",
       " 'man salsa bomb different kinds meal owner cool dude dropped free bottles mailbox stole bottle friends fridge tasted hooked dont sleep hot sauce',\n",
       " 'sauce good like adding asian food egg noodles good burn strong flavor im hoping flavors like pineapple experiment soon buy wont regret',\n",
       " 'hot like low star reviewer got suckered seeing habenero oz size people like flavor citrus fish sauce mix according ingredient label looking hot',\n",
       " 'admit sucker large quantity oz shopping hot sauces seeing size bottle reminds wing sauce bottle sizes plastic bottle convenient squirt overall hot tasty jalape os seen ingredients list bought jalapenoswatervinegarbrown sugarlime juicefish saucecilantrohabanerogarlicspice blendsaltpotassium sorbatexanthan gum',\n",
       " 'life tasted good babka crazy good real babka gram mother use',\n",
       " 'convinced human animal crackers look taste exactly like human ones yes tasted contain sugar ingredients nutrition facts ill dog small amounts',\n",
       " 'box peanut butter dog cookies wont touch loves begs good buy little chihuhua big mouth box',\n",
       " 'chihuahua loves lil snacks sees bring yellow bus literally runs circles',\n",
       " 'purchased little treats stocking stuffers little furry friends yorkies loved treats finally buy liked',\n",
       " 'like animal crackers eat price great little guy loves',\n",
       " 'ive craving deer jerky gave amazon try sinue little sweet taste going buy im search salty dry version im',\n",
       " 'tried found salty plus ate fish sauce fish realized kind redundant kidding course stuff great',\n",
       " 'usually drink tea love thought shipping price little high love tea perfect little bit honey',\n",
       " 'noodles box broken sauce salted good flavor threw skillet recommend purchasing product',\n",
       " 'cavenders makes best vinegar oil dressing couple tbls cavenders vinager h rest oil good',\n",
       " 'balanced tasty filling good ask breakfast cereal miss kellogg sister product right somewhat lighter blend loved discontinued mueslix strong second best',\n",
       " 'know find supermarket pack order afraid boxes long instead found need order pack',\n",
       " 'trip italy muesli hotels breakfast cold cereal loved imagine excited saw kellog sold product learn despite similar cereal unlike european style muesli overall mix grains fruits similar cereal flake cereal true muesli cereal flakes real muesli rolled flaked grains pluses minuses plus milk turn european mueslis mush couple minutes like flake cereals minus european mueslis soaked milk yogurt minutes e shower coffee brewing cereal bit chewy concerned eating processed foods rolled grains processed flaked ones rolled grains lightly steamed rolled lightly toasted flaked grains fully steam cooked mush pressed flakes fully baked usually sprayed sugar extend time mushiness certainly kellog product contains hfcs owe try mueslis amazon better single boxes local health foods store prefer eat bob red mill product available amazon local grocery chains instead satisfied tried familia crazy idea fruit flakes dorset products fruit nut heavy products hair expensive kellog willing plunk extra dime breakfast far superior product surprised quaker sell muesli product given largest producer rolled grains u think natural fit',\n",
       " 'recently purchased cereal assuming contain healthy ingredients read label discovered contains partially hydrogenated soybean oil high fructose corn syrup',\n",
       " 'bought product online kellogg cereal find retail store carries incidentally like know called kellogg good answer suggested try product found good appreciate amazon offers continue order way keeps regular better cereal try like',\n",
       " 'cereal difficult find stores appreciate able purchase amazon husband likes looks forward delivering month like unlikely thing look forward little things count p looney',\n",
       " 'find local supermarkets months ago found time kellogg makes great cereal quit making soon case right best stuff planet',\n",
       " 'favorite cereal probably years grocery stores stopped selling started buying web packs boxes use pretty fast',\n",
       " 'love cereal taste good good pity find cereal local supermarkets brands match',\n",
       " 'enjoying mueslix early reason locate mueslix local supermarkets new york order amazon taste perfect sweet care raisins cereal enjoy greatly enjoyable way supplement fibers grain perfect breakfast lasts lunch time tried different kind choices cereals like mueslix',\n",
       " 'amazon price higher grocery stores store good way shop tried princess cruise ship found good filling stays important super find',\n",
       " 'stop eating cereal eat breakfast evening think want eat hungry snack healthy long remembeer healthy eat cup enjoy',\n",
       " 'local stores stopped carrying product putting imitation brands shelf great order cereal days',\n",
       " 'mueslix favorite cereal came years ago improved adding raisins nuts point making rich simply add half grain cereal cornflakes reduces high price stores discontinuing mueslix point hard find thank amazon',\n",
       " 'cereal hard find local stores live wife love cereal taste healthfulness find hotel breakfast buffets happy man think eating cereal',\n",
       " 'kellogg mueslix replaced local muesli previously served european b b trip available locally amazon provided fair price rapid delivery shipping cost prime shipping excellent form muesli',\n",
       " 'eating healthy tasted good tough find local stores amazon great price especially subscribe save',\n",
       " 'kelloggs muselix delicious delivery quick',\n",
       " 'cereal best cereal market flavors including nuts raisins dates especially light malt flavor enjoyed mornings years',\n",
       " 'eating kellogg mueslix years love mix fruit almonds grain easy find find local super markets afraid discontinued found amazon pretty happy',\n",
       " 'sad moment unable find favorite cereal grocery stores sure disappeared grateful able purchace online thanks',\n",
       " 'hard find husband frm jamaica loves says makes fill day mo',\n",
       " 'mom new york assisted living facility love ceral buying kellogg mueslix lived florida went buy ny luck called kellogg directed amazon com sold ceral shipped free save money box pay shipping happy people mom gets favorite ceral shipped directly months send boxes saving money time shopping shipping package mom',\n",
       " 'struggling find shops nearby convenient order amazon slightly expensive save gas burden',\n",
       " 'kellogg mueslix cereal ordered evening couple days later arrived item packed contents fresh encountered problemsand plan use resource',\n",
       " 'secret high fructose corn syrup detrimental health unfortunately secret replaced forms sugar disturbingly large number manufactured foods worse high fructose corn syrup genetically modified corn late hfcs replaced regular table sugar honey similar sweeteners practically prolonged consumption hfcs topic debate learning cause long term damage body high fructose corn syrup dangers significant risk weight gain obesity increased risk developing type diabetes hypertension elevated bad cholesterol levels long term liver damage mercury exposure hfcskelloggs manufacturers know slowly getting rid sweetner look cover post rain bran advertising contains high fructose corn syrup applaud high fructose corn syrup genetically modified corn monsanto uses systemic pesticides seeds causing colony collapse disorder bees bee keeper avoiding products hfcs save family bees watch vanishing bees food matters food inc sold amazon excellent movies change health dramatically way think eat',\n",
       " 'local grocery stores carry cereal order nuts raisins great stuff cut banana instead adding sugar favorite box cereal',\n",
       " 'got baby ribs strips jerky smoker wow seasoning added lot flavor surprising fact knew added seasoning turn powering recommend cooking kind meat jerky great ribs outstanding including shipping lbs awesome deal',\n",
       " 'try asian salad dressing find favorite salads delicate taste favorite newman low fat sesame ginger ginger newman gives stronger flavor greatas marinade sprinkle rice vege dishes',\n",
       " 'wow soooo good easily favorite dressing typically dressings use treat given gift absolutely love perfect balance sweet oily bitter granted needs good shaking oil based absolutely love sad running eat salads like day want dressing unique somebody love',\n",
       " 'coffee beans fresh oil tasted better fresher order',\n",
       " 'coffee company delivers great coffee taste like coffee deep robust taste jeremiah makes glad purchase thanks',\n",
       " 'cute product use place sprinkles bright colors candy coating look great chocolate center keeps overly sweet price roughly double pay michael marshall stock stuff like plus product oz bag amazon comes prime shipping',\n",
       " 'tossed trying texture taste far expectations kind mushy pasty pricy boot',\n",
       " 'actually gave local baker daughters cupcakes looked great showed perfectly white chocolate icing great shape',\n",
       " 'time coconut oil manila coco factory pleased taste smell overall incredible quality buy recommend family friends glad tried coconut oil years changed life health oil ranks high book liked ordering product amazon fast easy painless thank product site amazon',\n",
       " 'claim product unadulterated think oh sweet going best coconut oil says unadulterated checked website know want cold pressed oils cold pressed means processed major machinery subjected high heats goes usually kill good minerals vitamins site posts information extraction process today states manila coco oil extraction method proprietary state art mechanical expeller manila virginflo thermo stable hold lowest moisture possible avoid rancidity shelf life consistent years normal conditions oils st nd stage press induced chemical solvents bleaching deodorizing hydrogenation fermentation enzymes natural light sweet coconut aroma taste method sustains unique character subjected high degrees celsius heat temperatures mechanical expeller form extraction sustains unique character blah blah blah subjected high heat temperatures personal opinion unadulterated information products amazon sound steering clear products sorry review offends going pay good money know use different brands sticking looking larger quantities looked product sticking nutiva coconut oil cold pressed soon coconuts cut open information direct website makes nutiva virgin coconut oil special magic lies way oil processed hours coconuts chopped meat cold pressed unlike varieties coconut oil left hours pressing nutiva approach preserves oil natural color flavor aroma giving best results use care processed going healthier average grocery store found vegetable canola oils want read scary things look dark information processed yuck talk horrifying thank time amyps organic kind fruitcake think special anybody people learned past year half dealing son allergies intollerances oh expensive making feel special afford way urge everybody talk people organic foods way life healthier way life deserve live healthier live healthier costs long term saving money healthier means doctor visits expensive nasty harmful medications etc',\n",
       " 'ordered white christmas christmas eve christmas morning blends year holidays fell love christmas eve smoothest bunch wonderful flavor use iced teas year round honestly got tea tried stash teas sent licorice lemon flavors father called ask gotten neighbor wanted wife tried addicted visit stashtea website lots tea related bits baubles perfect hostess gifts holidays plate cookies',\n",
       " 'favorite tea drink year round tired like good time day strong nicely flavorful good balance minty spicy herbal',\n",
       " 'christmas eve tea actually contain tea christmas eve frazzled releave stress christmas eve good time know like given gifts especially nice winter mint teas little brisk produce level cozy comfort christmas eve soothing combination spices mint comforting cup warm milk calories',\n",
       " 'riba foods based houston texas makes awesome black bean dip pretty natural lard regular refried bean dip sure dallas tx hard find maybe riba good flavors traditional layer dip instead refried beans thinking creating breakfast quesadilla verde sauce try spicy good',\n",
       " 'good walker shortbread cookies favorite love bought highlanders set cookies came individually wrapped cookies end star review bad unfortunately amazon shipped box size container came walkers cookie company ups shipment cookies reduced crumbs contacted amazon problem receiving response bought shipped sold amazon purchasing cookies amazon',\n",
       " '',\n",
       " 'walker highlanders favorite purchased cookie great find pre packaged biscuits keeps fresh longer limits snacking',\n",
       " 'like shortbread like walkers makes best shortbread',\n",
       " 'cookies tiny broken pieces useless complaint second mailing arrived weeks later cookies crumbs cookies packed box pitiful single air bubble gave feedback expected effort improve packing packaging useless cookies enjoyed highlanders past disappointment big waste money',\n",
       " 'find line worth wait trully great tasting cookies',\n",
       " 'yes cubes expensive fact gave stars expense regardless sugar cubes favorite sugar product tried brown sugar cane sugar product find amazon grocery store compare rich sweet unique flavor brown sugar cubes la perruche tried brown sugar products believe difference terroir ground land sugar grown la perruche sugar cubes african grown sugar specifically sugar grown swaziland congo cubes denser sugar cubes know scientific perspective accomplished cubes regularly sized large irregularly shaped heavier sturdier cut cubes producers flavor rich distinct molasses flavor brown sugar cubes somewhat darker wish describe flavor better months able find somewhat affordable supply btw product sold free shipping amazon prime purchased boxes better deal date review months ago recommended',\n",
       " 'love sugar cubes office grandmother sugar cube rugged appearance sugar cubes considered rugged combine white sugar cubes la perruche',\n",
       " 'love espressos raw sugar cube sweet refined sugars rich flavor',\n",
       " 'husband son inability eat gluten cornstarch frequently gluten free recipes concerned prolific use gmos corn especially family increased consumption wanted find affordable gmo free cornstarch product use baking rumford natural cornstarch months great success satisfaction',\n",
       " 'purchased product rumford naturals corn starch word naturals appears large clear pictured product label amazon description said non genetically modified corn label product actually received rumford naturals non genetically modified corn product contains ingredient ingredients cornstarch calcium sulfate suggested servings tblsp contains daily value calcium makes product potentially good source dietary calcium supplementation hand persons restrict calcium intake example persons kidney stones pose potential problem danger amazon provides nice list following legal disclaimer actual product packaging materials contain different information shown website recommend rely solely information presented read labels warnings directions consuming product fair amazon list correct ingredients photo package order product order read labels find purchased buy product need extra calcium believe calcium sulfate added interest consumer health product cheaper produce priced competitively brands touted non genetically modified corn principal afford throw away want hassle returning displeased amazon incorrect listing product brought attention purchased february far calcium sulfate considered safe food additive basically thing plaster paris use product basically previous pure corn starch stiff sediment cooking container pudding pyrex microwave usually stir seconds remind damp plaster',\n",
       " 'bummed find chocolates melted got daughter bday sold online way safe',\n",
       " 'love garlic recommend flavored oil true expecting strong use cooking dipping bread mix unflavored olive oil future',\n",
       " 'things awesome perfect size truly wafer thin consistent thickness dark chocolate minty interior like happen run steamroller junior mint tried living germany years ago day mint comes close copycat ones disgusting original regret mint sleeve pass touching elegant delicious love',\n",
       " 'love mints melt mouth taste better tried wish expensive eat couple addictively delicious',\n",
       " 'got girlfriend good stuff everybody house eats hight quality chocolate mint',\n",
       " 'friend favorite candy available area find line amazon com came imported england delicious peppermint thin smooth mint cream center dark chocolate shell want little taste mint special cup hot coffee',\n",
       " 'nature recipe division mega company del monte foods testthe neat thing food look like photograph bag consists smallish kibble pieces dried carrots peas mixed bag opened girls ate small amounts farm selects unmixed readily took eating mixed blue food thought evie piper fuss dried vegetables specifically target vegetables leave quality food obvious reads ingredient list ingredient animal digest makes cringe little girls mind bit goodness heartily recommend natural food price relatively high rachel ray dry dog food example half price farm stands selects buffalo blue price household like dogs farm stands selects pricey feed girls exclusively feel obliged mix good expensive food pet money issue wrong farm selects',\n",
       " 'find better loose green tea price able free shipping bought totaled tea japanese people fall high priced organic green teas produced american companies good getting better hime ban cha tea',\n",
       " 'favorite green tea household years happy find amazon travel miles oriental grocery store purchase buy leaf tea kind regular grocery stores way ban cha japan simply means common everyday tea ceremonial',\n",
       " 'love tea flavorful cut grass flavor green teas mild left steeping bitter mellow flavor kids enjoy great sweeteners loose leaf tea steeped leaves unfurl long slender little tea goes long way enjoy',\n",
       " 'drinking green tea purchasing going syracuse summer year stopped going know going buy tea spotted amazon purchased pleased happy camper',\n",
       " 'real deal genmai cha loose green tea roasted brown rice bags originally known peoples tea afford better popular mild flavor drink day long like disappointed',\n",
       " ...]"
      ]
     },
     "execution_count": 20,
     "metadata": {},
     "output_type": "execute_result"
    }
   ],
   "source": [
    "preprocessed_reviews"
   ]
  },
  {
   "cell_type": "code",
   "execution_count": 21,
   "id": "a6502e3a-61f4-4c05-a69d-7baf9ffce9f0",
   "metadata": {},
   "outputs": [],
   "source": [
    "# Alternate way to remove puntuatuion"
   ]
  },
  {
   "cell_type": "code",
   "execution_count": 22,
   "id": "5fc2fac4-53fb-460a-b951-c2554556f506",
   "metadata": {},
   "outputs": [
    {
     "data": {
      "text/plain": [
       "'!\"#$%&\\'()*+,-./:;<=>?@[\\\\]^_`{|}~'"
      ]
     },
     "execution_count": 22,
     "metadata": {},
     "output_type": "execute_result"
    }
   ],
   "source": [
    "import string\n",
    "string.punctuation"
   ]
  },
  {
   "cell_type": "code",
   "execution_count": 23,
   "id": "21919ff1-0d58-47b5-ae65-ab128f6d1507",
   "metadata": {},
   "outputs": [],
   "source": [
    "# Lets perform Feature Extraction"
   ]
  },
  {
   "cell_type": "code",
   "execution_count": 24,
   "id": "0201f117-b6ee-453e-9f2c-d3608492eae8",
   "metadata": {},
   "outputs": [],
   "source": [
    "from sklearn.feature_extraction.text import TfidfVectorizer"
   ]
  },
  {
   "cell_type": "code",
   "execution_count": 25,
   "id": "9f1bf891-22c3-40ef-b51f-eae57d258462",
   "metadata": {},
   "outputs": [
    {
     "name": "stdout",
     "output_type": "stream",
     "text": [
      "SOme Features Name ['met' 'metal' 'mg' 'mic' 'microphone' 'microwave' 'mics' 'mid' 'middle'\n",
      " 'mild' 'miles' 'milk' 'milk chocolate' 'mill' 'mind' 'minerals' 'mini'\n",
      " 'mint' 'minute' 'minutes' 'misleading' 'miss' 'missed' 'missing'\n",
      " 'mistake' 'mix' 'mix makes' 'mix pancakes' 'mixed' 'mixes' 'mixing'\n",
      " 'mixture' 'moderate' 'modified' 'moist' 'molasses' 'mom' 'money' 'month'\n",
      " 'month old' 'monthly' 'months' 'months ago' 'morning' 'mornings' 'mother'\n",
      " 'mountain' 'mouth' 'moved' 'movie']\n",
      "==================================================\n",
      "The type of tfidf vectorizer : <class 'scipy.sparse._csr.csr_matrix'>\n",
      "The shape of the tfidf  (5000, 2671)\n",
      "The number of unique words  2671\n"
     ]
    }
   ],
   "source": [
    "tfidf_vect = TfidfVectorizer(ngram_range = (1,2), min_df = 10)\n",
    "tfidf_vect.fit(preprocessed_reviews)\n",
    "print('SOme Features Name', tfidf_vect.get_feature_names_out()[1500:1550])\n",
    "print('='*50)\n",
    "\n",
    "tfidf_vect_counts = tfidf_vect.transform(preprocessed_reviews)\n",
    "print('The type of tfidf vectorizer :', type(tfidf_vect_counts))\n",
    "print('The shape of the tfidf ', tfidf_vect_counts.get_shape())\n",
    "print('The number of unique words ', tfidf_vect_counts.get_shape()[1])"
   ]
  },
  {
   "cell_type": "code",
   "execution_count": 26,
   "id": "94f62052-b8ac-48cd-bdd1-906b2d5c182d",
   "metadata": {},
   "outputs": [],
   "source": [
    "x = pd.DataFrame(tfidf_vect_counts.toarray())"
   ]
  },
  {
   "cell_type": "code",
   "execution_count": 27,
   "id": "78de902f-acc0-4491-8e4f-05631d810b78",
   "metadata": {},
   "outputs": [
    {
     "data": {
      "text/html": [
       "<div>\n",
       "<style scoped>\n",
       "    .dataframe tbody tr th:only-of-type {\n",
       "        vertical-align: middle;\n",
       "    }\n",
       "\n",
       "    .dataframe tbody tr th {\n",
       "        vertical-align: top;\n",
       "    }\n",
       "\n",
       "    .dataframe thead th {\n",
       "        text-align: right;\n",
       "    }\n",
       "</style>\n",
       "<table border=\"1\" class=\"dataframe\">\n",
       "  <thead>\n",
       "    <tr style=\"text-align: right;\">\n",
       "      <th></th>\n",
       "      <th>0</th>\n",
       "      <th>1</th>\n",
       "      <th>2</th>\n",
       "      <th>3</th>\n",
       "      <th>4</th>\n",
       "      <th>5</th>\n",
       "      <th>6</th>\n",
       "      <th>7</th>\n",
       "      <th>8</th>\n",
       "      <th>9</th>\n",
       "      <th>...</th>\n",
       "      <th>2661</th>\n",
       "      <th>2662</th>\n",
       "      <th>2663</th>\n",
       "      <th>2664</th>\n",
       "      <th>2665</th>\n",
       "      <th>2666</th>\n",
       "      <th>2667</th>\n",
       "      <th>2668</th>\n",
       "      <th>2669</th>\n",
       "      <th>2670</th>\n",
       "    </tr>\n",
       "  </thead>\n",
       "  <tbody>\n",
       "    <tr>\n",
       "      <th>0</th>\n",
       "      <td>0.0</td>\n",
       "      <td>0.0</td>\n",
       "      <td>0.0</td>\n",
       "      <td>0.0</td>\n",
       "      <td>0.0</td>\n",
       "      <td>0.0</td>\n",
       "      <td>0.0</td>\n",
       "      <td>0.0</td>\n",
       "      <td>0.0</td>\n",
       "      <td>0.0</td>\n",
       "      <td>...</td>\n",
       "      <td>0.0</td>\n",
       "      <td>0.0</td>\n",
       "      <td>0.0</td>\n",
       "      <td>0.0</td>\n",
       "      <td>0.0</td>\n",
       "      <td>0.0</td>\n",
       "      <td>0.0</td>\n",
       "      <td>0.000000</td>\n",
       "      <td>0.0</td>\n",
       "      <td>0.0</td>\n",
       "    </tr>\n",
       "    <tr>\n",
       "      <th>1</th>\n",
       "      <td>0.0</td>\n",
       "      <td>0.0</td>\n",
       "      <td>0.0</td>\n",
       "      <td>0.0</td>\n",
       "      <td>0.0</td>\n",
       "      <td>0.0</td>\n",
       "      <td>0.0</td>\n",
       "      <td>0.0</td>\n",
       "      <td>0.0</td>\n",
       "      <td>0.0</td>\n",
       "      <td>...</td>\n",
       "      <td>0.0</td>\n",
       "      <td>0.0</td>\n",
       "      <td>0.0</td>\n",
       "      <td>0.0</td>\n",
       "      <td>0.0</td>\n",
       "      <td>0.0</td>\n",
       "      <td>0.0</td>\n",
       "      <td>0.000000</td>\n",
       "      <td>0.0</td>\n",
       "      <td>0.0</td>\n",
       "    </tr>\n",
       "    <tr>\n",
       "      <th>2</th>\n",
       "      <td>0.0</td>\n",
       "      <td>0.0</td>\n",
       "      <td>0.0</td>\n",
       "      <td>0.0</td>\n",
       "      <td>0.0</td>\n",
       "      <td>0.0</td>\n",
       "      <td>0.0</td>\n",
       "      <td>0.0</td>\n",
       "      <td>0.0</td>\n",
       "      <td>0.0</td>\n",
       "      <td>...</td>\n",
       "      <td>0.0</td>\n",
       "      <td>0.0</td>\n",
       "      <td>0.0</td>\n",
       "      <td>0.0</td>\n",
       "      <td>0.0</td>\n",
       "      <td>0.0</td>\n",
       "      <td>0.0</td>\n",
       "      <td>0.188585</td>\n",
       "      <td>0.0</td>\n",
       "      <td>0.0</td>\n",
       "    </tr>\n",
       "    <tr>\n",
       "      <th>3</th>\n",
       "      <td>0.0</td>\n",
       "      <td>0.0</td>\n",
       "      <td>0.0</td>\n",
       "      <td>0.0</td>\n",
       "      <td>0.0</td>\n",
       "      <td>0.0</td>\n",
       "      <td>0.0</td>\n",
       "      <td>0.0</td>\n",
       "      <td>0.0</td>\n",
       "      <td>0.0</td>\n",
       "      <td>...</td>\n",
       "      <td>0.0</td>\n",
       "      <td>0.0</td>\n",
       "      <td>0.0</td>\n",
       "      <td>0.0</td>\n",
       "      <td>0.0</td>\n",
       "      <td>0.0</td>\n",
       "      <td>0.0</td>\n",
       "      <td>0.000000</td>\n",
       "      <td>0.0</td>\n",
       "      <td>0.0</td>\n",
       "    </tr>\n",
       "    <tr>\n",
       "      <th>4</th>\n",
       "      <td>0.0</td>\n",
       "      <td>0.0</td>\n",
       "      <td>0.0</td>\n",
       "      <td>0.0</td>\n",
       "      <td>0.0</td>\n",
       "      <td>0.0</td>\n",
       "      <td>0.0</td>\n",
       "      <td>0.0</td>\n",
       "      <td>0.0</td>\n",
       "      <td>0.0</td>\n",
       "      <td>...</td>\n",
       "      <td>0.0</td>\n",
       "      <td>0.0</td>\n",
       "      <td>0.0</td>\n",
       "      <td>0.0</td>\n",
       "      <td>0.0</td>\n",
       "      <td>0.0</td>\n",
       "      <td>0.0</td>\n",
       "      <td>0.293450</td>\n",
       "      <td>0.0</td>\n",
       "      <td>0.0</td>\n",
       "    </tr>\n",
       "    <tr>\n",
       "      <th>...</th>\n",
       "      <td>...</td>\n",
       "      <td>...</td>\n",
       "      <td>...</td>\n",
       "      <td>...</td>\n",
       "      <td>...</td>\n",
       "      <td>...</td>\n",
       "      <td>...</td>\n",
       "      <td>...</td>\n",
       "      <td>...</td>\n",
       "      <td>...</td>\n",
       "      <td>...</td>\n",
       "      <td>...</td>\n",
       "      <td>...</td>\n",
       "      <td>...</td>\n",
       "      <td>...</td>\n",
       "      <td>...</td>\n",
       "      <td>...</td>\n",
       "      <td>...</td>\n",
       "      <td>...</td>\n",
       "      <td>...</td>\n",
       "      <td>...</td>\n",
       "    </tr>\n",
       "    <tr>\n",
       "      <th>4995</th>\n",
       "      <td>0.0</td>\n",
       "      <td>0.0</td>\n",
       "      <td>0.0</td>\n",
       "      <td>0.0</td>\n",
       "      <td>0.0</td>\n",
       "      <td>0.0</td>\n",
       "      <td>0.0</td>\n",
       "      <td>0.0</td>\n",
       "      <td>0.0</td>\n",
       "      <td>0.0</td>\n",
       "      <td>...</td>\n",
       "      <td>0.0</td>\n",
       "      <td>0.0</td>\n",
       "      <td>0.0</td>\n",
       "      <td>0.0</td>\n",
       "      <td>0.0</td>\n",
       "      <td>0.0</td>\n",
       "      <td>0.0</td>\n",
       "      <td>0.000000</td>\n",
       "      <td>0.0</td>\n",
       "      <td>0.0</td>\n",
       "    </tr>\n",
       "    <tr>\n",
       "      <th>4996</th>\n",
       "      <td>0.0</td>\n",
       "      <td>0.0</td>\n",
       "      <td>0.0</td>\n",
       "      <td>0.0</td>\n",
       "      <td>0.0</td>\n",
       "      <td>0.0</td>\n",
       "      <td>0.0</td>\n",
       "      <td>0.0</td>\n",
       "      <td>0.0</td>\n",
       "      <td>0.0</td>\n",
       "      <td>...</td>\n",
       "      <td>0.0</td>\n",
       "      <td>0.0</td>\n",
       "      <td>0.0</td>\n",
       "      <td>0.0</td>\n",
       "      <td>0.0</td>\n",
       "      <td>0.0</td>\n",
       "      <td>0.0</td>\n",
       "      <td>0.000000</td>\n",
       "      <td>0.0</td>\n",
       "      <td>0.0</td>\n",
       "    </tr>\n",
       "    <tr>\n",
       "      <th>4997</th>\n",
       "      <td>0.0</td>\n",
       "      <td>0.0</td>\n",
       "      <td>0.0</td>\n",
       "      <td>0.0</td>\n",
       "      <td>0.0</td>\n",
       "      <td>0.0</td>\n",
       "      <td>0.0</td>\n",
       "      <td>0.0</td>\n",
       "      <td>0.0</td>\n",
       "      <td>0.0</td>\n",
       "      <td>...</td>\n",
       "      <td>0.0</td>\n",
       "      <td>0.0</td>\n",
       "      <td>0.0</td>\n",
       "      <td>0.0</td>\n",
       "      <td>0.0</td>\n",
       "      <td>0.0</td>\n",
       "      <td>0.0</td>\n",
       "      <td>0.000000</td>\n",
       "      <td>0.0</td>\n",
       "      <td>0.0</td>\n",
       "    </tr>\n",
       "    <tr>\n",
       "      <th>4998</th>\n",
       "      <td>0.0</td>\n",
       "      <td>0.0</td>\n",
       "      <td>0.0</td>\n",
       "      <td>0.0</td>\n",
       "      <td>0.0</td>\n",
       "      <td>0.0</td>\n",
       "      <td>0.0</td>\n",
       "      <td>0.0</td>\n",
       "      <td>0.0</td>\n",
       "      <td>0.0</td>\n",
       "      <td>...</td>\n",
       "      <td>0.0</td>\n",
       "      <td>0.0</td>\n",
       "      <td>0.0</td>\n",
       "      <td>0.0</td>\n",
       "      <td>0.0</td>\n",
       "      <td>0.0</td>\n",
       "      <td>0.0</td>\n",
       "      <td>0.000000</td>\n",
       "      <td>0.0</td>\n",
       "      <td>0.0</td>\n",
       "    </tr>\n",
       "    <tr>\n",
       "      <th>4999</th>\n",
       "      <td>0.0</td>\n",
       "      <td>0.0</td>\n",
       "      <td>0.0</td>\n",
       "      <td>0.0</td>\n",
       "      <td>0.0</td>\n",
       "      <td>0.0</td>\n",
       "      <td>0.0</td>\n",
       "      <td>0.0</td>\n",
       "      <td>0.0</td>\n",
       "      <td>0.0</td>\n",
       "      <td>...</td>\n",
       "      <td>0.0</td>\n",
       "      <td>0.0</td>\n",
       "      <td>0.0</td>\n",
       "      <td>0.0</td>\n",
       "      <td>0.0</td>\n",
       "      <td>0.0</td>\n",
       "      <td>0.0</td>\n",
       "      <td>0.000000</td>\n",
       "      <td>0.0</td>\n",
       "      <td>0.0</td>\n",
       "    </tr>\n",
       "  </tbody>\n",
       "</table>\n",
       "<p>5000 rows × 2671 columns</p>\n",
       "</div>"
      ],
      "text/plain": [
       "      0     1     2     3     4     5     6     7     8     9     ...  2661  \\\n",
       "0      0.0   0.0   0.0   0.0   0.0   0.0   0.0   0.0   0.0   0.0  ...   0.0   \n",
       "1      0.0   0.0   0.0   0.0   0.0   0.0   0.0   0.0   0.0   0.0  ...   0.0   \n",
       "2      0.0   0.0   0.0   0.0   0.0   0.0   0.0   0.0   0.0   0.0  ...   0.0   \n",
       "3      0.0   0.0   0.0   0.0   0.0   0.0   0.0   0.0   0.0   0.0  ...   0.0   \n",
       "4      0.0   0.0   0.0   0.0   0.0   0.0   0.0   0.0   0.0   0.0  ...   0.0   \n",
       "...    ...   ...   ...   ...   ...   ...   ...   ...   ...   ...  ...   ...   \n",
       "4995   0.0   0.0   0.0   0.0   0.0   0.0   0.0   0.0   0.0   0.0  ...   0.0   \n",
       "4996   0.0   0.0   0.0   0.0   0.0   0.0   0.0   0.0   0.0   0.0  ...   0.0   \n",
       "4997   0.0   0.0   0.0   0.0   0.0   0.0   0.0   0.0   0.0   0.0  ...   0.0   \n",
       "4998   0.0   0.0   0.0   0.0   0.0   0.0   0.0   0.0   0.0   0.0  ...   0.0   \n",
       "4999   0.0   0.0   0.0   0.0   0.0   0.0   0.0   0.0   0.0   0.0  ...   0.0   \n",
       "\n",
       "      2662  2663  2664  2665  2666  2667      2668  2669  2670  \n",
       "0      0.0   0.0   0.0   0.0   0.0   0.0  0.000000   0.0   0.0  \n",
       "1      0.0   0.0   0.0   0.0   0.0   0.0  0.000000   0.0   0.0  \n",
       "2      0.0   0.0   0.0   0.0   0.0   0.0  0.188585   0.0   0.0  \n",
       "3      0.0   0.0   0.0   0.0   0.0   0.0  0.000000   0.0   0.0  \n",
       "4      0.0   0.0   0.0   0.0   0.0   0.0  0.293450   0.0   0.0  \n",
       "...    ...   ...   ...   ...   ...   ...       ...   ...   ...  \n",
       "4995   0.0   0.0   0.0   0.0   0.0   0.0  0.000000   0.0   0.0  \n",
       "4996   0.0   0.0   0.0   0.0   0.0   0.0  0.000000   0.0   0.0  \n",
       "4997   0.0   0.0   0.0   0.0   0.0   0.0  0.000000   0.0   0.0  \n",
       "4998   0.0   0.0   0.0   0.0   0.0   0.0  0.000000   0.0   0.0  \n",
       "4999   0.0   0.0   0.0   0.0   0.0   0.0  0.000000   0.0   0.0  \n",
       "\n",
       "[5000 rows x 2671 columns]"
      ]
     },
     "execution_count": 27,
     "metadata": {},
     "output_type": "execute_result"
    }
   ],
   "source": [
    "x"
   ]
  },
  {
   "cell_type": "code",
   "execution_count": 28,
   "id": "8a0e156e-4b8b-4ba0-b590-d22c7e039386",
   "metadata": {},
   "outputs": [
    {
     "data": {
      "text/plain": [
       "0       1\n",
       "1       0\n",
       "2       1\n",
       "3       0\n",
       "4       1\n",
       "       ..\n",
       "4995    0\n",
       "4996    1\n",
       "4997    1\n",
       "4998    0\n",
       "4999    0\n",
       "Name: Score, Length: 5000, dtype: int64"
      ]
     },
     "execution_count": 28,
     "metadata": {},
     "output_type": "execute_result"
    }
   ],
   "source": [
    "y = final['Score']\n",
    "y"
   ]
  },
  {
   "cell_type": "code",
   "execution_count": 29,
   "id": "31051e75-aea4-437c-9030-58b9a04607e6",
   "metadata": {},
   "outputs": [],
   "source": [
    "from sklearn.model_selection import train_test_split"
   ]
  },
  {
   "cell_type": "code",
   "execution_count": 30,
   "id": "e07ba3cc-b1b1-49cf-bebe-06b864036c9d",
   "metadata": {},
   "outputs": [],
   "source": [
    "x_train, x_test, y_train, y_test = train_test_split(x, y, train_size = 0.25, random_state = 42)"
   ]
  },
  {
   "cell_type": "code",
   "execution_count": 34,
   "id": "b4a425db-475a-4e75-8d4e-b7e00efcc472",
   "metadata": {},
   "outputs": [],
   "source": [
    "from sklearn.linear_model import LogisticRegression\n",
    "from sklearn.naive_bayes import MultinomialNB\n",
    "from sklearn.ensemble import RandomForestClassifier\n",
    "from xgboost import XGBClassifier\n",
    "from sklearn.metrics import accuracy_score, f1_score, classification_report"
   ]
  },
  {
   "cell_type": "code",
   "execution_count": 33,
   "id": "438b1867-e0c7-43d9-b5de-36e93672d959",
   "metadata": {},
   "outputs": [],
   "source": [
    "models = {'LOgistic Regression' : LogisticRegression(),\n",
    "          'Naive_Bayes' : MultinomialNB(),\n",
    "          'Random FOrest' : RandomForestClassifier(),\n",
    "          'XGboost' : XGBClassifier()\n",
    "         }"
   ]
  },
  {
   "cell_type": "code",
   "execution_count": 36,
   "id": "3fca21f2-f9bb-4495-94b6-300c1e0fff5e",
   "metadata": {},
   "outputs": [
    {
     "name": "stdout",
     "output_type": "stream",
     "text": [
      "              precision    recall  f1-score   support\n",
      "\n",
      "           0       1.00      0.00      0.01       608\n",
      "           1       0.84      1.00      0.91      3142\n",
      "\n",
      "    accuracy                           0.84      3750\n",
      "   macro avg       0.92      0.50      0.46      3750\n",
      "weighted avg       0.86      0.84      0.77      3750\n",
      "\n",
      "\n",
      "              precision    recall  f1-score   support\n",
      "\n",
      "           0       1.00      0.00      0.01       608\n",
      "           1       0.84      1.00      0.91      3142\n",
      "\n",
      "    accuracy                           0.84      3750\n",
      "   macro avg       0.92      0.50      0.46      3750\n",
      "weighted avg       0.86      0.84      0.77      3750\n",
      "\n",
      "\n",
      "              precision    recall  f1-score   support\n",
      "\n",
      "           0       0.81      0.11      0.19       608\n",
      "           1       0.85      1.00      0.92      3142\n",
      "\n",
      "    accuracy                           0.85      3750\n",
      "   macro avg       0.83      0.55      0.55      3750\n",
      "weighted avg       0.85      0.85      0.80      3750\n",
      "\n",
      "\n",
      "              precision    recall  f1-score   support\n",
      "\n",
      "           0       0.75      0.27      0.40       608\n",
      "           1       0.87      0.98      0.93      3142\n",
      "\n",
      "    accuracy                           0.87      3750\n",
      "   macro avg       0.81      0.63      0.66      3750\n",
      "weighted avg       0.85      0.87      0.84      3750\n",
      "\n",
      "\n"
     ]
    },
    {
     "data": {
      "text/plain": [
       "{'LOgistic Regression': {'accuracy': 0.8386666666666667,\n",
       "  'f1': 0.9121788358252286},\n",
       " 'Naive_Bayes': {'accuracy': 0.8384, 'f1': 0.9120464441219158},\n",
       " 'Random FOrest': {'accuracy': 0.8509333333333333, 'f1': 0.9179509760751504},\n",
       " 'XGboost': {'accuracy': 0.8672, 'f1': 0.9253597122302158}}"
      ]
     },
     "execution_count": 36,
     "metadata": {},
     "output_type": "execute_result"
    }
   ],
   "source": [
    "results = {}\n",
    "for name, model in models.items():\n",
    "    mod = model.fit(x_train, y_train)\n",
    "    y_pred = mod.predict(x_test)\n",
    "    accuracy = accuracy_score(y_test, y_pred)\n",
    "    f1 = f1_score(y_test, y_pred)\n",
    "    results[name] = {'accuracy' : accuracy,\n",
    "                     'f1' : f1}\n",
    "    print(classification_report(y_test, y_pred))\n",
    "    print()\n",
    "\n",
    "results\n",
    "    "
   ]
  },
  {
   "cell_type": "code",
   "execution_count": 43,
   "id": "0ddbfcea-b068-4fff-9a7f-0cad919d9289",
   "metadata": {},
   "outputs": [
    {
     "data": {
      "text/html": [
       "<div>\n",
       "<style scoped>\n",
       "    .dataframe tbody tr th:only-of-type {\n",
       "        vertical-align: middle;\n",
       "    }\n",
       "\n",
       "    .dataframe tbody tr th {\n",
       "        vertical-align: top;\n",
       "    }\n",
       "\n",
       "    .dataframe thead th {\n",
       "        text-align: right;\n",
       "    }\n",
       "</style>\n",
       "<table border=\"1\" class=\"dataframe\">\n",
       "  <thead>\n",
       "    <tr style=\"text-align: right;\">\n",
       "      <th></th>\n",
       "      <th>accuracy</th>\n",
       "      <th>f1</th>\n",
       "    </tr>\n",
       "  </thead>\n",
       "  <tbody>\n",
       "    <tr>\n",
       "      <th>LOgistic Regression</th>\n",
       "      <td>0.838667</td>\n",
       "      <td>0.912179</td>\n",
       "    </tr>\n",
       "    <tr>\n",
       "      <th>Naive_Bayes</th>\n",
       "      <td>0.838400</td>\n",
       "      <td>0.912046</td>\n",
       "    </tr>\n",
       "    <tr>\n",
       "      <th>Random FOrest</th>\n",
       "      <td>0.850933</td>\n",
       "      <td>0.917951</td>\n",
       "    </tr>\n",
       "    <tr>\n",
       "      <th>XGboost</th>\n",
       "      <td>0.867200</td>\n",
       "      <td>0.925360</td>\n",
       "    </tr>\n",
       "  </tbody>\n",
       "</table>\n",
       "</div>"
      ],
      "text/plain": [
       "                     accuracy        f1\n",
       "LOgistic Regression  0.838667  0.912179\n",
       "Naive_Bayes          0.838400  0.912046\n",
       "Random FOrest        0.850933  0.917951\n",
       "XGboost              0.867200  0.925360"
      ]
     },
     "execution_count": 43,
     "metadata": {},
     "output_type": "execute_result"
    }
   ],
   "source": [
    "res_df = pd.DataFrame(results).T\n",
    "res_df"
   ]
  },
  {
   "cell_type": "code",
   "execution_count": 54,
   "id": "89e7f623-c3ed-4e26-aefa-3990cd2fa589",
   "metadata": {},
   "outputs": [
    {
     "data": {
      "application/vnd.plotly.v1+json": {
       "config": {
        "plotlyServerURL": "https://plot.ly"
       },
       "data": [
        {
         "alignmentgroup": "True",
         "hovertemplate": "variable=accuracy<br>index=%{x}<br>value=%{y}<extra></extra>",
         "legendgroup": "accuracy",
         "marker": {
          "color": "#636efa",
          "pattern": {
           "shape": ""
          }
         },
         "name": "accuracy",
         "offsetgroup": "accuracy",
         "orientation": "v",
         "showlegend": true,
         "textposition": "auto",
         "type": "bar",
         "x": [
          "LOgistic Regression",
          "Naive_Bayes",
          "Random FOrest",
          "XGboost"
         ],
         "xaxis": "x",
         "y": [
          0.8386666666666667,
          0.8384,
          0.8509333333333333,
          0.8672
         ],
         "yaxis": "y"
        },
        {
         "alignmentgroup": "True",
         "hovertemplate": "variable=f1<br>index=%{x}<br>value=%{y}<extra></extra>",
         "legendgroup": "f1",
         "marker": {
          "color": "#EF553B",
          "pattern": {
           "shape": ""
          }
         },
         "name": "f1",
         "offsetgroup": "f1",
         "orientation": "v",
         "showlegend": true,
         "textposition": "auto",
         "type": "bar",
         "x": [
          "LOgistic Regression",
          "Naive_Bayes",
          "Random FOrest",
          "XGboost"
         ],
         "xaxis": "x",
         "y": [
          0.9121788358252286,
          0.9120464441219158,
          0.9179509760751504,
          0.9253597122302158
         ],
         "yaxis": "y"
        }
       ],
       "layout": {
        "barmode": "group",
        "height": 450,
        "legend": {
         "title": {
          "text": "variable"
         },
         "tracegroupgap": 0
        },
        "margin": {
         "t": 60
        },
        "template": {
         "data": {
          "bar": [
           {
            "error_x": {
             "color": "#2a3f5f"
            },
            "error_y": {
             "color": "#2a3f5f"
            },
            "marker": {
             "line": {
              "color": "#E5ECF6",
              "width": 0.5
             },
             "pattern": {
              "fillmode": "overlay",
              "size": 10,
              "solidity": 0.2
             }
            },
            "type": "bar"
           }
          ],
          "barpolar": [
           {
            "marker": {
             "line": {
              "color": "#E5ECF6",
              "width": 0.5
             },
             "pattern": {
              "fillmode": "overlay",
              "size": 10,
              "solidity": 0.2
             }
            },
            "type": "barpolar"
           }
          ],
          "carpet": [
           {
            "aaxis": {
             "endlinecolor": "#2a3f5f",
             "gridcolor": "white",
             "linecolor": "white",
             "minorgridcolor": "white",
             "startlinecolor": "#2a3f5f"
            },
            "baxis": {
             "endlinecolor": "#2a3f5f",
             "gridcolor": "white",
             "linecolor": "white",
             "minorgridcolor": "white",
             "startlinecolor": "#2a3f5f"
            },
            "type": "carpet"
           }
          ],
          "choropleth": [
           {
            "colorbar": {
             "outlinewidth": 0,
             "ticks": ""
            },
            "type": "choropleth"
           }
          ],
          "contour": [
           {
            "colorbar": {
             "outlinewidth": 0,
             "ticks": ""
            },
            "colorscale": [
             [
              0,
              "#0d0887"
             ],
             [
              0.1111111111111111,
              "#46039f"
             ],
             [
              0.2222222222222222,
              "#7201a8"
             ],
             [
              0.3333333333333333,
              "#9c179e"
             ],
             [
              0.4444444444444444,
              "#bd3786"
             ],
             [
              0.5555555555555556,
              "#d8576b"
             ],
             [
              0.6666666666666666,
              "#ed7953"
             ],
             [
              0.7777777777777778,
              "#fb9f3a"
             ],
             [
              0.8888888888888888,
              "#fdca26"
             ],
             [
              1,
              "#f0f921"
             ]
            ],
            "type": "contour"
           }
          ],
          "contourcarpet": [
           {
            "colorbar": {
             "outlinewidth": 0,
             "ticks": ""
            },
            "type": "contourcarpet"
           }
          ],
          "heatmap": [
           {
            "colorbar": {
             "outlinewidth": 0,
             "ticks": ""
            },
            "colorscale": [
             [
              0,
              "#0d0887"
             ],
             [
              0.1111111111111111,
              "#46039f"
             ],
             [
              0.2222222222222222,
              "#7201a8"
             ],
             [
              0.3333333333333333,
              "#9c179e"
             ],
             [
              0.4444444444444444,
              "#bd3786"
             ],
             [
              0.5555555555555556,
              "#d8576b"
             ],
             [
              0.6666666666666666,
              "#ed7953"
             ],
             [
              0.7777777777777778,
              "#fb9f3a"
             ],
             [
              0.8888888888888888,
              "#fdca26"
             ],
             [
              1,
              "#f0f921"
             ]
            ],
            "type": "heatmap"
           }
          ],
          "heatmapgl": [
           {
            "colorbar": {
             "outlinewidth": 0,
             "ticks": ""
            },
            "colorscale": [
             [
              0,
              "#0d0887"
             ],
             [
              0.1111111111111111,
              "#46039f"
             ],
             [
              0.2222222222222222,
              "#7201a8"
             ],
             [
              0.3333333333333333,
              "#9c179e"
             ],
             [
              0.4444444444444444,
              "#bd3786"
             ],
             [
              0.5555555555555556,
              "#d8576b"
             ],
             [
              0.6666666666666666,
              "#ed7953"
             ],
             [
              0.7777777777777778,
              "#fb9f3a"
             ],
             [
              0.8888888888888888,
              "#fdca26"
             ],
             [
              1,
              "#f0f921"
             ]
            ],
            "type": "heatmapgl"
           }
          ],
          "histogram": [
           {
            "marker": {
             "pattern": {
              "fillmode": "overlay",
              "size": 10,
              "solidity": 0.2
             }
            },
            "type": "histogram"
           }
          ],
          "histogram2d": [
           {
            "colorbar": {
             "outlinewidth": 0,
             "ticks": ""
            },
            "colorscale": [
             [
              0,
              "#0d0887"
             ],
             [
              0.1111111111111111,
              "#46039f"
             ],
             [
              0.2222222222222222,
              "#7201a8"
             ],
             [
              0.3333333333333333,
              "#9c179e"
             ],
             [
              0.4444444444444444,
              "#bd3786"
             ],
             [
              0.5555555555555556,
              "#d8576b"
             ],
             [
              0.6666666666666666,
              "#ed7953"
             ],
             [
              0.7777777777777778,
              "#fb9f3a"
             ],
             [
              0.8888888888888888,
              "#fdca26"
             ],
             [
              1,
              "#f0f921"
             ]
            ],
            "type": "histogram2d"
           }
          ],
          "histogram2dcontour": [
           {
            "colorbar": {
             "outlinewidth": 0,
             "ticks": ""
            },
            "colorscale": [
             [
              0,
              "#0d0887"
             ],
             [
              0.1111111111111111,
              "#46039f"
             ],
             [
              0.2222222222222222,
              "#7201a8"
             ],
             [
              0.3333333333333333,
              "#9c179e"
             ],
             [
              0.4444444444444444,
              "#bd3786"
             ],
             [
              0.5555555555555556,
              "#d8576b"
             ],
             [
              0.6666666666666666,
              "#ed7953"
             ],
             [
              0.7777777777777778,
              "#fb9f3a"
             ],
             [
              0.8888888888888888,
              "#fdca26"
             ],
             [
              1,
              "#f0f921"
             ]
            ],
            "type": "histogram2dcontour"
           }
          ],
          "mesh3d": [
           {
            "colorbar": {
             "outlinewidth": 0,
             "ticks": ""
            },
            "type": "mesh3d"
           }
          ],
          "parcoords": [
           {
            "line": {
             "colorbar": {
              "outlinewidth": 0,
              "ticks": ""
             }
            },
            "type": "parcoords"
           }
          ],
          "pie": [
           {
            "automargin": true,
            "type": "pie"
           }
          ],
          "scatter": [
           {
            "fillpattern": {
             "fillmode": "overlay",
             "size": 10,
             "solidity": 0.2
            },
            "type": "scatter"
           }
          ],
          "scatter3d": [
           {
            "line": {
             "colorbar": {
              "outlinewidth": 0,
              "ticks": ""
             }
            },
            "marker": {
             "colorbar": {
              "outlinewidth": 0,
              "ticks": ""
             }
            },
            "type": "scatter3d"
           }
          ],
          "scattercarpet": [
           {
            "marker": {
             "colorbar": {
              "outlinewidth": 0,
              "ticks": ""
             }
            },
            "type": "scattercarpet"
           }
          ],
          "scattergeo": [
           {
            "marker": {
             "colorbar": {
              "outlinewidth": 0,
              "ticks": ""
             }
            },
            "type": "scattergeo"
           }
          ],
          "scattergl": [
           {
            "marker": {
             "colorbar": {
              "outlinewidth": 0,
              "ticks": ""
             }
            },
            "type": "scattergl"
           }
          ],
          "scattermapbox": [
           {
            "marker": {
             "colorbar": {
              "outlinewidth": 0,
              "ticks": ""
             }
            },
            "type": "scattermapbox"
           }
          ],
          "scatterpolar": [
           {
            "marker": {
             "colorbar": {
              "outlinewidth": 0,
              "ticks": ""
             }
            },
            "type": "scatterpolar"
           }
          ],
          "scatterpolargl": [
           {
            "marker": {
             "colorbar": {
              "outlinewidth": 0,
              "ticks": ""
             }
            },
            "type": "scatterpolargl"
           }
          ],
          "scatterternary": [
           {
            "marker": {
             "colorbar": {
              "outlinewidth": 0,
              "ticks": ""
             }
            },
            "type": "scatterternary"
           }
          ],
          "surface": [
           {
            "colorbar": {
             "outlinewidth": 0,
             "ticks": ""
            },
            "colorscale": [
             [
              0,
              "#0d0887"
             ],
             [
              0.1111111111111111,
              "#46039f"
             ],
             [
              0.2222222222222222,
              "#7201a8"
             ],
             [
              0.3333333333333333,
              "#9c179e"
             ],
             [
              0.4444444444444444,
              "#bd3786"
             ],
             [
              0.5555555555555556,
              "#d8576b"
             ],
             [
              0.6666666666666666,
              "#ed7953"
             ],
             [
              0.7777777777777778,
              "#fb9f3a"
             ],
             [
              0.8888888888888888,
              "#fdca26"
             ],
             [
              1,
              "#f0f921"
             ]
            ],
            "type": "surface"
           }
          ],
          "table": [
           {
            "cells": {
             "fill": {
              "color": "#EBF0F8"
             },
             "line": {
              "color": "white"
             }
            },
            "header": {
             "fill": {
              "color": "#C8D4E3"
             },
             "line": {
              "color": "white"
             }
            },
            "type": "table"
           }
          ]
         },
         "layout": {
          "annotationdefaults": {
           "arrowcolor": "#2a3f5f",
           "arrowhead": 0,
           "arrowwidth": 1
          },
          "autotypenumbers": "strict",
          "coloraxis": {
           "colorbar": {
            "outlinewidth": 0,
            "ticks": ""
           }
          },
          "colorscale": {
           "diverging": [
            [
             0,
             "#8e0152"
            ],
            [
             0.1,
             "#c51b7d"
            ],
            [
             0.2,
             "#de77ae"
            ],
            [
             0.3,
             "#f1b6da"
            ],
            [
             0.4,
             "#fde0ef"
            ],
            [
             0.5,
             "#f7f7f7"
            ],
            [
             0.6,
             "#e6f5d0"
            ],
            [
             0.7,
             "#b8e186"
            ],
            [
             0.8,
             "#7fbc41"
            ],
            [
             0.9,
             "#4d9221"
            ],
            [
             1,
             "#276419"
            ]
           ],
           "sequential": [
            [
             0,
             "#0d0887"
            ],
            [
             0.1111111111111111,
             "#46039f"
            ],
            [
             0.2222222222222222,
             "#7201a8"
            ],
            [
             0.3333333333333333,
             "#9c179e"
            ],
            [
             0.4444444444444444,
             "#bd3786"
            ],
            [
             0.5555555555555556,
             "#d8576b"
            ],
            [
             0.6666666666666666,
             "#ed7953"
            ],
            [
             0.7777777777777778,
             "#fb9f3a"
            ],
            [
             0.8888888888888888,
             "#fdca26"
            ],
            [
             1,
             "#f0f921"
            ]
           ],
           "sequentialminus": [
            [
             0,
             "#0d0887"
            ],
            [
             0.1111111111111111,
             "#46039f"
            ],
            [
             0.2222222222222222,
             "#7201a8"
            ],
            [
             0.3333333333333333,
             "#9c179e"
            ],
            [
             0.4444444444444444,
             "#bd3786"
            ],
            [
             0.5555555555555556,
             "#d8576b"
            ],
            [
             0.6666666666666666,
             "#ed7953"
            ],
            [
             0.7777777777777778,
             "#fb9f3a"
            ],
            [
             0.8888888888888888,
             "#fdca26"
            ],
            [
             1,
             "#f0f921"
            ]
           ]
          },
          "colorway": [
           "#636efa",
           "#EF553B",
           "#00cc96",
           "#ab63fa",
           "#FFA15A",
           "#19d3f3",
           "#FF6692",
           "#B6E880",
           "#FF97FF",
           "#FECB52"
          ],
          "font": {
           "color": "#2a3f5f"
          },
          "geo": {
           "bgcolor": "white",
           "lakecolor": "white",
           "landcolor": "#E5ECF6",
           "showlakes": true,
           "showland": true,
           "subunitcolor": "white"
          },
          "hoverlabel": {
           "align": "left"
          },
          "hovermode": "closest",
          "mapbox": {
           "style": "light"
          },
          "paper_bgcolor": "white",
          "plot_bgcolor": "#E5ECF6",
          "polar": {
           "angularaxis": {
            "gridcolor": "white",
            "linecolor": "white",
            "ticks": ""
           },
           "bgcolor": "#E5ECF6",
           "radialaxis": {
            "gridcolor": "white",
            "linecolor": "white",
            "ticks": ""
           }
          },
          "scene": {
           "xaxis": {
            "backgroundcolor": "#E5ECF6",
            "gridcolor": "white",
            "gridwidth": 2,
            "linecolor": "white",
            "showbackground": true,
            "ticks": "",
            "zerolinecolor": "white"
           },
           "yaxis": {
            "backgroundcolor": "#E5ECF6",
            "gridcolor": "white",
            "gridwidth": 2,
            "linecolor": "white",
            "showbackground": true,
            "ticks": "",
            "zerolinecolor": "white"
           },
           "zaxis": {
            "backgroundcolor": "#E5ECF6",
            "gridcolor": "white",
            "gridwidth": 2,
            "linecolor": "white",
            "showbackground": true,
            "ticks": "",
            "zerolinecolor": "white"
           }
          },
          "shapedefaults": {
           "line": {
            "color": "#2a3f5f"
           }
          },
          "ternary": {
           "aaxis": {
            "gridcolor": "white",
            "linecolor": "white",
            "ticks": ""
           },
           "baxis": {
            "gridcolor": "white",
            "linecolor": "white",
            "ticks": ""
           },
           "bgcolor": "#E5ECF6",
           "caxis": {
            "gridcolor": "white",
            "linecolor": "white",
            "ticks": ""
           }
          },
          "title": {
           "x": 0.05
          },
          "xaxis": {
           "automargin": true,
           "gridcolor": "white",
           "linecolor": "white",
           "ticks": "",
           "title": {
            "standoff": 15
           },
           "zerolinecolor": "white",
           "zerolinewidth": 2
          },
          "yaxis": {
           "automargin": true,
           "gridcolor": "white",
           "linecolor": "white",
           "ticks": "",
           "title": {
            "standoff": 15
           },
           "zerolinecolor": "white",
           "zerolinewidth": 2
          }
         }
        },
        "width": 1000,
        "xaxis": {
         "anchor": "y",
         "autorange": true,
         "domain": [
          0,
          1
         ],
         "range": [
          -0.5,
          3.5
         ],
         "title": {
          "text": "index"
         },
         "type": "category"
        },
        "yaxis": {
         "anchor": "x",
         "autorange": true,
         "domain": [
          0,
          1
         ],
         "range": [
          0,
          0.9740628549791746
         ],
         "title": {
          "text": "value"
         },
         "type": "linear"
        }
       }
      },
      "image/png": "[encoded data removed]",
      "text/html": [
       "<div>                            <div id=\"25a31b0e-6c7d-4bc1-ba89-39cb58967925\" class=\"plotly-graph-div\" style=\"height:450px; width:1000px;\"></div>            <script type=\"text/javascript\">                require([\"plotly\"], function(Plotly) {                    window.PLOTLYENV=window.PLOTLYENV || {};                                    if (document.getElementById(\"25a31b0e-6c7d-4bc1-ba89-39cb58967925\")) {                    Plotly.newPlot(                        \"25a31b0e-6c7d-4bc1-ba89-39cb58967925\",                        [{\"alignmentgroup\":\"True\",\"hovertemplate\":\"variable=accuracy\\u003cbr\\u003eindex=%{x}\\u003cbr\\u003evalue=%{y}\\u003cextra\\u003e\\u003c\\u002fextra\\u003e\",\"legendgroup\":\"accuracy\",\"marker\":{\"color\":\"#636efa\",\"pattern\":{\"shape\":\"\"}},\"name\":\"accuracy\",\"offsetgroup\":\"accuracy\",\"orientation\":\"v\",\"showlegend\":true,\"textposition\":\"auto\",\"x\":[\"LOgistic Regression\",\"Naive_Bayes\",\"Random FOrest\",\"XGboost\"],\"xaxis\":\"x\",\"y\":[0.8386666666666667,0.8384,0.8509333333333333,0.8672],\"yaxis\":\"y\",\"type\":\"bar\"},{\"alignmentgroup\":\"True\",\"hovertemplate\":\"variable=f1\\u003cbr\\u003eindex=%{x}\\u003cbr\\u003evalue=%{y}\\u003cextra\\u003e\\u003c\\u002fextra\\u003e\",\"legendgroup\":\"f1\",\"marker\":{\"color\":\"#EF553B\",\"pattern\":{\"shape\":\"\"}},\"name\":\"f1\",\"offsetgroup\":\"f1\",\"orientation\":\"v\",\"showlegend\":true,\"textposition\":\"auto\",\"x\":[\"LOgistic Regression\",\"Naive_Bayes\",\"Random FOrest\",\"XGboost\"],\"xaxis\":\"x\",\"y\":[0.9121788358252286,0.9120464441219158,0.9179509760751504,0.9253597122302158],\"yaxis\":\"y\",\"type\":\"bar\"}],                        {\"template\":{\"data\":{\"histogram2dcontour\":[{\"type\":\"histogram2dcontour\",\"colorbar\":{\"outlinewidth\":0,\"ticks\":\"\"},\"colorscale\":[[0.0,\"#0d0887\"],[0.1111111111111111,\"#46039f\"],[0.2222222222222222,\"#7201a8\"],[0.3333333333333333,\"#9c179e\"],[0.4444444444444444,\"#bd3786\"],[0.5555555555555556,\"#d8576b\"],[0.6666666666666666,\"#ed7953\"],[0.7777777777777778,\"#fb9f3a\"],[0.8888888888888888,\"#fdca26\"],[1.0,\"#f0f921\"]]}],\"choropleth\":[{\"type\":\"choropleth\",\"colorbar\":{\"outlinewidth\":0,\"ticks\":\"\"}}],\"histogram2d\":[{\"type\":\"histogram2d\",\"colorbar\":{\"outlinewidth\":0,\"ticks\":\"\"},\"colorscale\":[[0.0,\"#0d0887\"],[0.1111111111111111,\"#46039f\"],[0.2222222222222222,\"#7201a8\"],[0.3333333333333333,\"#9c179e\"],[0.4444444444444444,\"#bd3786\"],[0.5555555555555556,\"#d8576b\"],[0.6666666666666666,\"#ed7953\"],[0.7777777777777778,\"#fb9f3a\"],[0.8888888888888888,\"#fdca26\"],[1.0,\"#f0f921\"]]}],\"heatmap\":[{\"type\":\"heatmap\",\"colorbar\":{\"outlinewidth\":0,\"ticks\":\"\"},\"colorscale\":[[0.0,\"#0d0887\"],[0.1111111111111111,\"#46039f\"],[0.2222222222222222,\"#7201a8\"],[0.3333333333333333,\"#9c179e\"],[0.4444444444444444,\"#bd3786\"],[0.5555555555555556,\"#d8576b\"],[0.6666666666666666,\"#ed7953\"],[0.7777777777777778,\"#fb9f3a\"],[0.8888888888888888,\"#fdca26\"],[1.0,\"#f0f921\"]]}],\"heatmapgl\":[{\"type\":\"heatmapgl\",\"colorbar\":{\"outlinewidth\":0,\"ticks\":\"\"},\"colorscale\":[[0.0,\"#0d0887\"],[0.1111111111111111,\"#46039f\"],[0.2222222222222222,\"#7201a8\"],[0.3333333333333333,\"#9c179e\"],[0.4444444444444444,\"#bd3786\"],[0.5555555555555556,\"#d8576b\"],[0.6666666666666666,\"#ed7953\"],[0.7777777777777778,\"#fb9f3a\"],[0.8888888888888888,\"#fdca26\"],[1.0,\"#f0f921\"]]}],\"contourcarpet\":[{\"type\":\"contourcarpet\",\"colorbar\":{\"outlinewidth\":0,\"ticks\":\"\"}}],\"contour\":[{\"type\":\"contour\",\"colorbar\":{\"outlinewidth\":0,\"ticks\":\"\"},\"colorscale\":[[0.0,\"#0d0887\"],[0.1111111111111111,\"#46039f\"],[0.2222222222222222,\"#7201a8\"],[0.3333333333333333,\"#9c179e\"],[0.4444444444444444,\"#bd3786\"],[0.5555555555555556,\"#d8576b\"],[0.6666666666666666,\"#ed7953\"],[0.7777777777777778,\"#fb9f3a\"],[0.8888888888888888,\"#fdca26\"],[1.0,\"#f0f921\"]]}],\"surface\":[{\"type\":\"surface\",\"colorbar\":{\"outlinewidth\":0,\"ticks\":\"\"},\"colorscale\":[[0.0,\"#0d0887\"],[0.1111111111111111,\"#46039f\"],[0.2222222222222222,\"#7201a8\"],[0.3333333333333333,\"#9c179e\"],[0.4444444444444444,\"#bd3786\"],[0.5555555555555556,\"#d8576b\"],[0.6666666666666666,\"#ed7953\"],[0.7777777777777778,\"#fb9f3a\"],[0.8888888888888888,\"#fdca26\"],[1.0,\"#f0f921\"]]}],\"mesh3d\":[{\"type\":\"mesh3d\",\"colorbar\":{\"outlinewidth\":0,\"ticks\":\"\"}}],\"scatter\":[{\"fillpattern\":{\"fillmode\":\"overlay\",\"size\":10,\"solidity\":0.2},\"type\":\"scatter\"}],\"parcoords\":[{\"type\":\"parcoords\",\"line\":{\"colorbar\":{\"outlinewidth\":0,\"ticks\":\"\"}}}],\"scatterpolargl\":[{\"type\":\"scatterpolargl\",\"marker\":{\"colorbar\":{\"outlinewidth\":0,\"ticks\":\"\"}}}],\"bar\":[{\"error_x\":{\"color\":\"#2a3f5f\"},\"error_y\":{\"color\":\"#2a3f5f\"},\"marker\":{\"line\":{\"color\":\"#E5ECF6\",\"width\":0.5},\"pattern\":{\"fillmode\":\"overlay\",\"size\":10,\"solidity\":0.2}},\"type\":\"bar\"}],\"scattergeo\":[{\"type\":\"scattergeo\",\"marker\":{\"colorbar\":{\"outlinewidth\":0,\"ticks\":\"\"}}}],\"scatterpolar\":[{\"type\":\"scatterpolar\",\"marker\":{\"colorbar\":{\"outlinewidth\":0,\"ticks\":\"\"}}}],\"histogram\":[{\"marker\":{\"pattern\":{\"fillmode\":\"overlay\",\"size\":10,\"solidity\":0.2}},\"type\":\"histogram\"}],\"scattergl\":[{\"type\":\"scattergl\",\"marker\":{\"colorbar\":{\"outlinewidth\":0,\"ticks\":\"\"}}}],\"scatter3d\":[{\"type\":\"scatter3d\",\"line\":{\"colorbar\":{\"outlinewidth\":0,\"ticks\":\"\"}},\"marker\":{\"colorbar\":{\"outlinewidth\":0,\"ticks\":\"\"}}}],\"scattermapbox\":[{\"type\":\"scattermapbox\",\"marker\":{\"colorbar\":{\"outlinewidth\":0,\"ticks\":\"\"}}}],\"scatterternary\":[{\"type\":\"scatterternary\",\"marker\":{\"colorbar\":{\"outlinewidth\":0,\"ticks\":\"\"}}}],\"scattercarpet\":[{\"type\":\"scattercarpet\",\"marker\":{\"colorbar\":{\"outlinewidth\":0,\"ticks\":\"\"}}}],\"carpet\":[{\"aaxis\":{\"endlinecolor\":\"#2a3f5f\",\"gridcolor\":\"white\",\"linecolor\":\"white\",\"minorgridcolor\":\"white\",\"startlinecolor\":\"#2a3f5f\"},\"baxis\":{\"endlinecolor\":\"#2a3f5f\",\"gridcolor\":\"white\",\"linecolor\":\"white\",\"minorgridcolor\":\"white\",\"startlinecolor\":\"#2a3f5f\"},\"type\":\"carpet\"}],\"table\":[{\"cells\":{\"fill\":{\"color\":\"#EBF0F8\"},\"line\":{\"color\":\"white\"}},\"header\":{\"fill\":{\"color\":\"#C8D4E3\"},\"line\":{\"color\":\"white\"}},\"type\":\"table\"}],\"barpolar\":[{\"marker\":{\"line\":{\"color\":\"#E5ECF6\",\"width\":0.5},\"pattern\":{\"fillmode\":\"overlay\",\"size\":10,\"solidity\":0.2}},\"type\":\"barpolar\"}],\"pie\":[{\"automargin\":true,\"type\":\"pie\"}]},\"layout\":{\"autotypenumbers\":\"strict\",\"colorway\":[\"#636efa\",\"#EF553B\",\"#00cc96\",\"#ab63fa\",\"#FFA15A\",\"#19d3f3\",\"#FF6692\",\"#B6E880\",\"#FF97FF\",\"#FECB52\"],\"font\":{\"color\":\"#2a3f5f\"},\"hovermode\":\"closest\",\"hoverlabel\":{\"align\":\"left\"},\"paper_bgcolor\":\"white\",\"plot_bgcolor\":\"#E5ECF6\",\"polar\":{\"bgcolor\":\"#E5ECF6\",\"angularaxis\":{\"gridcolor\":\"white\",\"linecolor\":\"white\",\"ticks\":\"\"},\"radialaxis\":{\"gridcolor\":\"white\",\"linecolor\":\"white\",\"ticks\":\"\"}},\"ternary\":{\"bgcolor\":\"#E5ECF6\",\"aaxis\":{\"gridcolor\":\"white\",\"linecolor\":\"white\",\"ticks\":\"\"},\"baxis\":{\"gridcolor\":\"white\",\"linecolor\":\"white\",\"ticks\":\"\"},\"caxis\":{\"gridcolor\":\"white\",\"linecolor\":\"white\",\"ticks\":\"\"}},\"coloraxis\":{\"colorbar\":{\"outlinewidth\":0,\"ticks\":\"\"}},\"colorscale\":{\"sequential\":[[0.0,\"#0d0887\"],[0.1111111111111111,\"#46039f\"],[0.2222222222222222,\"#7201a8\"],[0.3333333333333333,\"#9c179e\"],[0.4444444444444444,\"#bd3786\"],[0.5555555555555556,\"#d8576b\"],[0.6666666666666666,\"#ed7953\"],[0.7777777777777778,\"#fb9f3a\"],[0.8888888888888888,\"#fdca26\"],[1.0,\"#f0f921\"]],\"sequentialminus\":[[0.0,\"#0d0887\"],[0.1111111111111111,\"#46039f\"],[0.2222222222222222,\"#7201a8\"],[0.3333333333333333,\"#9c179e\"],[0.4444444444444444,\"#bd3786\"],[0.5555555555555556,\"#d8576b\"],[0.6666666666666666,\"#ed7953\"],[0.7777777777777778,\"#fb9f3a\"],[0.8888888888888888,\"#fdca26\"],[1.0,\"#f0f921\"]],\"diverging\":[[0,\"#8e0152\"],[0.1,\"#c51b7d\"],[0.2,\"#de77ae\"],[0.3,\"#f1b6da\"],[0.4,\"#fde0ef\"],[0.5,\"#f7f7f7\"],[0.6,\"#e6f5d0\"],[0.7,\"#b8e186\"],[0.8,\"#7fbc41\"],[0.9,\"#4d9221\"],[1,\"#276419\"]]},\"xaxis\":{\"gridcolor\":\"white\",\"linecolor\":\"white\",\"ticks\":\"\",\"title\":{\"standoff\":15},\"zerolinecolor\":\"white\",\"automargin\":true,\"zerolinewidth\":2},\"yaxis\":{\"gridcolor\":\"white\",\"linecolor\":\"white\",\"ticks\":\"\",\"title\":{\"standoff\":15},\"zerolinecolor\":\"white\",\"automargin\":true,\"zerolinewidth\":2},\"scene\":{\"xaxis\":{\"backgroundcolor\":\"#E5ECF6\",\"gridcolor\":\"white\",\"linecolor\":\"white\",\"showbackground\":true,\"ticks\":\"\",\"zerolinecolor\":\"white\",\"gridwidth\":2},\"yaxis\":{\"backgroundcolor\":\"#E5ECF6\",\"gridcolor\":\"white\",\"linecolor\":\"white\",\"showbackground\":true,\"ticks\":\"\",\"zerolinecolor\":\"white\",\"gridwidth\":2},\"zaxis\":{\"backgroundcolor\":\"#E5ECF6\",\"gridcolor\":\"white\",\"linecolor\":\"white\",\"showbackground\":true,\"ticks\":\"\",\"zerolinecolor\":\"white\",\"gridwidth\":2}},\"shapedefaults\":{\"line\":{\"color\":\"#2a3f5f\"}},\"annotationdefaults\":{\"arrowcolor\":\"#2a3f5f\",\"arrowhead\":0,\"arrowwidth\":1},\"geo\":{\"bgcolor\":\"white\",\"landcolor\":\"#E5ECF6\",\"subunitcolor\":\"white\",\"showland\":true,\"showlakes\":true,\"lakecolor\":\"white\"},\"title\":{\"x\":0.05},\"mapbox\":{\"style\":\"light\"}}},\"xaxis\":{\"anchor\":\"y\",\"domain\":[0.0,1.0],\"title\":{\"text\":\"index\"}},\"yaxis\":{\"anchor\":\"x\",\"domain\":[0.0,1.0],\"title\":{\"text\":\"value\"}},\"legend\":{\"title\":{\"text\":\"variable\"},\"tracegroupgap\":0},\"margin\":{\"t\":60},\"barmode\":\"group\",\"height\":450,\"width\":1000},                        {\"responsive\": true}                    ).then(function(){\n",
       "                            \n",
       "var gd = document.getElementById('25a31b0e-6c7d-4bc1-ba89-39cb58967925');\n",
       "var x = new MutationObserver(function (mutations, observer) {{\n",
       "        var display = window.getComputedStyle(gd).display;\n",
       "        if (!display || display === 'none') {{\n",
       "            console.log([gd, 'removed!']);\n",
       "            Plotly.purge(gd);\n",
       "            observer.disconnect();\n",
       "        }}\n",
       "}});\n",
       "\n",
       "// Listen for the removal of the full notebook cells\n",
       "var notebookContainer = gd.closest('#notebook-container');\n",
       "if (notebookContainer) {{\n",
       "    x.observe(notebookContainer, {childList: true});\n",
       "}}\n",
       "\n",
       "// Listen for the clearing of the current output cell\n",
       "var outputEl = gd.closest('.output');\n",
       "if (outputEl) {{\n",
       "    x.observe(outputEl, {childList: true});\n",
       "}}\n",
       "\n",
       "                        })                };                });            </script>        </div>"
      ]
     },
     "metadata": {},
     "output_type": "display_data"
    }
   ],
   "source": [
    "import plotly.express as px\n",
    "fig = px.bar(res_df.reset_index(), x = 'index', y = ['accuracy','f1'], barmode = 'group', height = 450, width = 1000, color_continuous_scale='blues')\n",
    "fig.show()"
   ]
  },
  {
   "cell_type": "code",
   "execution_count": 44,
   "id": "94b3f60c-4e0c-4f7e-b4b0-3901a1031f84",
   "metadata": {},
   "outputs": [
    {
     "data": {
      "text/html": [
       "<div>\n",
       "<style scoped>\n",
       "    .dataframe tbody tr th:only-of-type {\n",
       "        vertical-align: middle;\n",
       "    }\n",
       "\n",
       "    .dataframe tbody tr th {\n",
       "        vertical-align: top;\n",
       "    }\n",
       "\n",
       "    .dataframe thead th {\n",
       "        text-align: right;\n",
       "    }\n",
       "</style>\n",
       "<table border=\"1\" class=\"dataframe\">\n",
       "  <thead>\n",
       "    <tr style=\"text-align: right;\">\n",
       "      <th></th>\n",
       "      <th>index</th>\n",
       "      <th>accuracy</th>\n",
       "      <th>f1</th>\n",
       "    </tr>\n",
       "  </thead>\n",
       "  <tbody>\n",
       "    <tr>\n",
       "      <th>0</th>\n",
       "      <td>LOgistic Regression</td>\n",
       "      <td>0.838667</td>\n",
       "      <td>0.912179</td>\n",
       "    </tr>\n",
       "    <tr>\n",
       "      <th>1</th>\n",
       "      <td>Naive_Bayes</td>\n",
       "      <td>0.838400</td>\n",
       "      <td>0.912046</td>\n",
       "    </tr>\n",
       "    <tr>\n",
       "      <th>2</th>\n",
       "      <td>Random FOrest</td>\n",
       "      <td>0.850933</td>\n",
       "      <td>0.917951</td>\n",
       "    </tr>\n",
       "    <tr>\n",
       "      <th>3</th>\n",
       "      <td>XGboost</td>\n",
       "      <td>0.867200</td>\n",
       "      <td>0.925360</td>\n",
       "    </tr>\n",
       "  </tbody>\n",
       "</table>\n",
       "</div>"
      ],
      "text/plain": [
       "                 index  accuracy        f1\n",
       "0  LOgistic Regression  0.838667  0.912179\n",
       "1          Naive_Bayes  0.838400  0.912046\n",
       "2        Random FOrest  0.850933  0.917951\n",
       "3              XGboost  0.867200  0.925360"
      ]
     },
     "execution_count": 44,
     "metadata": {},
     "output_type": "execute_result"
    }
   ],
   "source": [
    "res_df.reset_index()"
   ]
  },
  {
   "cell_type": "code",
   "execution_count": null,
   "id": "0b3ab2cb-34dc-4e3a-b7cb-87c8273a87a8",
   "metadata": {},
   "outputs": [],
   "source": []
  },
  {
   "cell_type": "code",
   "execution_count": 55,
   "id": "85b125c7-c306-4e60-b4cc-dcf1ea162efe",
   "metadata": {},
   "outputs": [],
   "source": [
    "import tensorflow as tf\n",
    "from tensorflow import keras\n",
    "from keras import Sequential\n",
    "from keras.layers import Dense, Dropout"
   ]
  },
  {
   "cell_type": "code",
   "execution_count": 57,
   "id": "959dcc87-8c1c-4d63-9d93-4bef77ed8502",
   "metadata": {},
   "outputs": [],
   "source": [
    "from keras.callbacks import EarlyStopping\n",
    "callback = EarlyStopping(monitor = 'val_accuracy', min_delta = 0.005, patience = 30, verbose = 1)"
   ]
  },
  {
   "cell_type": "code",
   "execution_count": 63,
   "id": "db378f43-b604-47b6-9126-41c54827ad38",
   "metadata": {},
   "outputs": [
    {
     "name": "stdout",
     "output_type": "stream",
     "text": [
      "Epoch 1/500\n",
      "\u001b[1m40/40\u001b[0m \u001b[32m━━━━━━━━━━━━━━━━━━━━\u001b[0m\u001b[37m\u001b[0m \u001b[1m6s\u001b[0m 31ms/step - accuracy: 0.7901 - loss: 0.6510 - val_accuracy: 0.8379 - val_loss: 0.4560\n",
      "Epoch 2/500\n",
      "\u001b[1m40/40\u001b[0m \u001b[32m━━━━━━━━━━━━━━━━━━━━\u001b[0m\u001b[37m\u001b[0m \u001b[1m1s\u001b[0m 17ms/step - accuracy: 0.8280 - loss: 0.4404 - val_accuracy: 0.8379 - val_loss: 0.3979\n",
      "Epoch 3/500\n",
      "\u001b[1m40/40\u001b[0m \u001b[32m━━━━━━━━━━━━━━━━━━━━\u001b[0m\u001b[37m\u001b[0m \u001b[1m1s\u001b[0m 17ms/step - accuracy: 0.8260 - loss: 0.3431 - val_accuracy: 0.8379 - val_loss: 0.3604\n",
      "Epoch 4/500\n",
      "\u001b[1m40/40\u001b[0m \u001b[32m━━━━━━━━━━━━━━━━━━━━\u001b[0m\u001b[37m\u001b[0m \u001b[1m1s\u001b[0m 18ms/step - accuracy: 0.8459 - loss: 0.2404 - val_accuracy: 0.8379 - val_loss: 0.3344\n",
      "Epoch 5/500\n",
      "\u001b[1m40/40\u001b[0m \u001b[32m━━━━━━━━━━━━━━━━━━━━\u001b[0m\u001b[37m\u001b[0m \u001b[1m1s\u001b[0m 17ms/step - accuracy: 0.8610 - loss: 0.1773 - val_accuracy: 0.8597 - val_loss: 0.4038\n",
      "Epoch 6/500\n",
      "\u001b[1m40/40\u001b[0m \u001b[32m━━━━━━━━━━━━━━━━━━━━\u001b[0m\u001b[37m\u001b[0m \u001b[1m1s\u001b[0m 18ms/step - accuracy: 0.9870 - loss: 0.1174 - val_accuracy: 0.8680 - val_loss: 0.4381\n",
      "Epoch 7/500\n",
      "\u001b[1m40/40\u001b[0m \u001b[32m━━━━━━━━━━━━━━━━━━━━\u001b[0m\u001b[37m\u001b[0m \u001b[1m1s\u001b[0m 20ms/step - accuracy: 0.9992 - loss: 0.0612 - val_accuracy: 0.8707 - val_loss: 0.5034\n",
      "Epoch 8/500\n",
      "\u001b[1m40/40\u001b[0m \u001b[32m━━━━━━━━━━━━━━━━━━━━\u001b[0m\u001b[37m\u001b[0m \u001b[1m1s\u001b[0m 23ms/step - accuracy: 0.9997 - loss: 0.0182 - val_accuracy: 0.8723 - val_loss: 0.5312\n",
      "Epoch 9/500\n",
      "\u001b[1m40/40\u001b[0m \u001b[32m━━━━━━━━━━━━━━━━━━━━\u001b[0m\u001b[37m\u001b[0m \u001b[1m1s\u001b[0m 17ms/step - accuracy: 0.9986 - loss: 0.0097 - val_accuracy: 0.8669 - val_loss: 0.7087\n",
      "Epoch 10/500\n",
      "\u001b[1m40/40\u001b[0m \u001b[32m━━━━━━━━━━━━━━━━━━━━\u001b[0m\u001b[37m\u001b[0m \u001b[1m1s\u001b[0m 18ms/step - accuracy: 1.0000 - loss: 0.0046 - val_accuracy: 0.8709 - val_loss: 0.6658\n",
      "Epoch 11/500\n",
      "\u001b[1m40/40\u001b[0m \u001b[32m━━━━━━━━━━━━━━━━━━━━\u001b[0m\u001b[37m\u001b[0m \u001b[1m1s\u001b[0m 19ms/step - accuracy: 1.0000 - loss: 0.0035 - val_accuracy: 0.8696 - val_loss: 0.7259\n",
      "Epoch 12/500\n",
      "\u001b[1m40/40\u001b[0m \u001b[32m━━━━━━━━━━━━━━━━━━━━\u001b[0m\u001b[37m\u001b[0m \u001b[1m1s\u001b[0m 19ms/step - accuracy: 0.9993 - loss: 0.0032 - val_accuracy: 0.8704 - val_loss: 0.7237\n",
      "Epoch 13/500\n",
      "\u001b[1m40/40\u001b[0m \u001b[32m━━━━━━━━━━━━━━━━━━━━\u001b[0m\u001b[37m\u001b[0m \u001b[1m1s\u001b[0m 18ms/step - accuracy: 1.0000 - loss: 0.0025 - val_accuracy: 0.8712 - val_loss: 0.7943\n",
      "Epoch 14/500\n",
      "\u001b[1m40/40\u001b[0m \u001b[32m━━━━━━━━━━━━━━━━━━━━\u001b[0m\u001b[37m\u001b[0m \u001b[1m1s\u001b[0m 18ms/step - accuracy: 1.0000 - loss: 0.0013 - val_accuracy: 0.8715 - val_loss: 0.7959\n",
      "Epoch 15/500\n",
      "\u001b[1m40/40\u001b[0m \u001b[32m━━━━━━━━━━━━━━━━━━━━\u001b[0m\u001b[37m\u001b[0m \u001b[1m1s\u001b[0m 18ms/step - accuracy: 1.0000 - loss: 0.0013 - val_accuracy: 0.8693 - val_loss: 0.8016\n",
      "Epoch 16/500\n",
      "\u001b[1m40/40\u001b[0m \u001b[32m━━━━━━━━━━━━━━━━━━━━\u001b[0m\u001b[37m\u001b[0m \u001b[1m1s\u001b[0m 20ms/step - accuracy: 1.0000 - loss: 0.0016 - val_accuracy: 0.8691 - val_loss: 0.8243\n",
      "Epoch 17/500\n",
      "\u001b[1m40/40\u001b[0m \u001b[32m━━━━━━━━━━━━━━━━━━━━\u001b[0m\u001b[37m\u001b[0m \u001b[1m1s\u001b[0m 18ms/step - accuracy: 1.0000 - loss: 9.3413e-04 - val_accuracy: 0.8656 - val_loss: 0.8100\n",
      "Epoch 18/500\n",
      "\u001b[1m40/40\u001b[0m \u001b[32m━━━━━━━━━━━━━━━━━━━━\u001b[0m\u001b[37m\u001b[0m \u001b[1m1s\u001b[0m 18ms/step - accuracy: 1.0000 - loss: 8.3094e-04 - val_accuracy: 0.8677 - val_loss: 0.8671\n",
      "Epoch 19/500\n",
      "\u001b[1m40/40\u001b[0m \u001b[32m━━━━━━━━━━━━━━━━━━━━\u001b[0m\u001b[37m\u001b[0m \u001b[1m1s\u001b[0m 18ms/step - accuracy: 1.0000 - loss: 6.6558e-04 - val_accuracy: 0.8683 - val_loss: 0.9022\n",
      "Epoch 20/500\n",
      "\u001b[1m40/40\u001b[0m \u001b[32m━━━━━━━━━━━━━━━━━━━━\u001b[0m\u001b[37m\u001b[0m \u001b[1m1s\u001b[0m 17ms/step - accuracy: 1.0000 - loss: 4.2737e-04 - val_accuracy: 0.8680 - val_loss: 0.9136\n",
      "Epoch 21/500\n",
      "\u001b[1m40/40\u001b[0m \u001b[32m━━━━━━━━━━━━━━━━━━━━\u001b[0m\u001b[37m\u001b[0m \u001b[1m1s\u001b[0m 18ms/step - accuracy: 1.0000 - loss: 5.6309e-04 - val_accuracy: 0.8680 - val_loss: 0.9345\n",
      "Epoch 22/500\n",
      "\u001b[1m40/40\u001b[0m \u001b[32m━━━━━━━━━━━━━━━━━━━━\u001b[0m\u001b[37m\u001b[0m \u001b[1m1s\u001b[0m 18ms/step - accuracy: 1.0000 - loss: 4.9435e-04 - val_accuracy: 0.8677 - val_loss: 0.9479\n",
      "Epoch 23/500\n",
      "\u001b[1m40/40\u001b[0m \u001b[32m━━━━━━━━━━━━━━━━━━━━\u001b[0m\u001b[37m\u001b[0m \u001b[1m1s\u001b[0m 25ms/step - accuracy: 1.0000 - loss: 4.2503e-04 - val_accuracy: 0.8669 - val_loss: 0.9462\n",
      "Epoch 24/500\n",
      "\u001b[1m40/40\u001b[0m \u001b[32m━━━━━━━━━━━━━━━━━━━━\u001b[0m\u001b[37m\u001b[0m \u001b[1m1s\u001b[0m 19ms/step - accuracy: 1.0000 - loss: 1.5284e-04 - val_accuracy: 0.8688 - val_loss: 0.9328\n",
      "Epoch 25/500\n",
      "\u001b[1m40/40\u001b[0m \u001b[32m━━━━━━━━━━━━━━━━━━━━\u001b[0m\u001b[37m\u001b[0m \u001b[1m1s\u001b[0m 25ms/step - accuracy: 1.0000 - loss: 2.3679e-04 - val_accuracy: 0.8693 - val_loss: 0.9453\n",
      "Epoch 26/500\n",
      "\u001b[1m40/40\u001b[0m \u001b[32m━━━━━━━━━━━━━━━━━━━━\u001b[0m\u001b[37m\u001b[0m \u001b[1m1s\u001b[0m 20ms/step - accuracy: 1.0000 - loss: 2.4456e-04 - val_accuracy: 0.8685 - val_loss: 0.9667\n",
      "Epoch 27/500\n",
      "\u001b[1m40/40\u001b[0m \u001b[32m━━━━━━━━━━━━━━━━━━━━\u001b[0m\u001b[37m\u001b[0m \u001b[1m1s\u001b[0m 18ms/step - accuracy: 1.0000 - loss: 4.1627e-04 - val_accuracy: 0.8691 - val_loss: 0.9773\n",
      "Epoch 28/500\n",
      "\u001b[1m40/40\u001b[0m \u001b[32m━━━━━━━━━━━━━━━━━━━━\u001b[0m\u001b[37m\u001b[0m \u001b[1m1s\u001b[0m 20ms/step - accuracy: 1.0000 - loss: 2.2718e-04 - val_accuracy: 0.8688 - val_loss: 0.9921\n",
      "Epoch 29/500\n",
      "\u001b[1m40/40\u001b[0m \u001b[32m━━━━━━━━━━━━━━━━━━━━\u001b[0m\u001b[37m\u001b[0m \u001b[1m1s\u001b[0m 19ms/step - accuracy: 1.0000 - loss: 1.1286e-04 - val_accuracy: 0.8688 - val_loss: 1.0005\n",
      "Epoch 30/500\n",
      "\u001b[1m40/40\u001b[0m \u001b[32m━━━━━━━━━━━━━━━━━━━━\u001b[0m\u001b[37m\u001b[0m \u001b[1m1s\u001b[0m 21ms/step - accuracy: 1.0000 - loss: 8.3519e-05 - val_accuracy: 0.8693 - val_loss: 1.0091\n",
      "Epoch 30: early stopping\n"
     ]
    }
   ],
   "source": [
    "model = Sequential()\n",
    "model.add(Dense(64, input_dim = x_train.shape[1], activation = 'relu'))\n",
    "model.add(Dropout(0.20))\n",
    "model.add(Dense(32, activation = 'relu'))\n",
    "model.add(Dropout(0.15))\n",
    "model.add(Dense(16, activation = 'relu'))\n",
    "model.add(Dropout(0.10))\n",
    "model.add(Dense(1, activation = 'sigmoid'))\n",
    "\n",
    "model.compile(optimizer = 'adam',\n",
    "              loss = 'binary_crossentropy',\n",
    "              metrics = ['accuracy'])\n",
    "\n",
    "history = model.fit(x_train, y_train, epochs = 500, validation_data = (x_test, y_test), batch_size = 32, callbacks = callback)"
   ]
  },
  {
   "cell_type": "code",
   "execution_count": 65,
   "id": "ba81a426-4eed-42e8-af5b-15db0998c50d",
   "metadata": {},
   "outputs": [
    {
     "name": "stdout",
     "output_type": "stream",
     "text": [
      "\u001b[1m118/118\u001b[0m \u001b[32m━━━━━━━━━━━━━━━━━━━━\u001b[0m\u001b[37m\u001b[0m \u001b[1m0s\u001b[0m 4ms/step - accuracy: 0.8790 - loss: 0.9541\n"
     ]
    },
    {
     "data": {
      "text/plain": [
       "[1.0091254711151123, 0.8693333268165588]"
      ]
     },
     "execution_count": 65,
     "metadata": {},
     "output_type": "execute_result"
    }
   ],
   "source": [
    "model.evaluate(x_test, y_test)"
   ]
  },
  {
   "cell_type": "code",
   "execution_count": null,
   "id": "da3397a8-9a0c-4d95-a75a-61a67f731df0",
   "metadata": {},
   "outputs": [],
   "source": []
  },
  {
   "cell_type": "markdown",
   "id": "50330e28-4382-4282-b8d5-1612ea93234d",
   "metadata": {},
   "source": [
    "# Visualization"
   ]
  },
  {
   "cell_type": "code",
   "execution_count": 82,
   "id": "854dc9fe-cd61-482d-be17-675fce3c323b",
   "metadata": {},
   "outputs": [],
   "source": [
    "preprocessed_reviews_str = ' '.join(preprocessed_reviews)"
   ]
  },
  {
   "cell_type": "code",
   "execution_count": 71,
   "id": "db4dfb7a-7f76-403b-99d3-75d75bdbe43c",
   "metadata": {},
   "outputs": [],
   "source": [
    "from wordcloud import WordCloud"
   ]
  },
  {
   "cell_type": "code",
   "execution_count": 81,
   "id": "f0bebb2a-2e37-4f14-9e7c-f9b9477ce0d3",
   "metadata": {},
   "outputs": [
    {
     "data": {
      "application/vnd.plotly.v1+json": {
       "config": {
        "plotlyServerURL": "https://plot.ly"
       },
       "data": [
        {
         "hovertemplate": "x: %{x}<br>y: %{y}<br>color: [%{z[0]}, %{z[1]}, %{z[2]}]<extra></extra>",
         "name": "0",
         "source": "data:image/png;base64,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",
         "type": "image",
         "xaxis": "x",
         "yaxis": "y"
        }
       ],
       "layout": {
        "height": 700,
        "margin": {
         "t": 60
        },
        "template": {
         "data": {
          "bar": [
           {
            "error_x": {
             "color": "#2a3f5f"
            },
            "error_y": {
             "color": "#2a3f5f"
            },
            "marker": {
             "line": {
              "color": "#E5ECF6",
              "width": 0.5
             },
             "pattern": {
              "fillmode": "overlay",
              "size": 10,
              "solidity": 0.2
             }
            },
            "type": "bar"
           }
          ],
          "barpolar": [
           {
            "marker": {
             "line": {
              "color": "#E5ECF6",
              "width": 0.5
             },
             "pattern": {
              "fillmode": "overlay",
              "size": 10,
              "solidity": 0.2
             }
            },
            "type": "barpolar"
           }
          ],
          "carpet": [
           {
            "aaxis": {
             "endlinecolor": "#2a3f5f",
             "gridcolor": "white",
             "linecolor": "white",
             "minorgridcolor": "white",
             "startlinecolor": "#2a3f5f"
            },
            "baxis": {
             "endlinecolor": "#2a3f5f",
             "gridcolor": "white",
             "linecolor": "white",
             "minorgridcolor": "white",
             "startlinecolor": "#2a3f5f"
            },
            "type": "carpet"
           }
          ],
          "choropleth": [
           {
            "colorbar": {
             "outlinewidth": 0,
             "ticks": ""
            },
            "type": "choropleth"
           }
          ],
          "contour": [
           {
            "colorbar": {
             "outlinewidth": 0,
             "ticks": ""
            },
            "colorscale": [
             [
              0,
              "#0d0887"
             ],
             [
              0.1111111111111111,
              "#46039f"
             ],
             [
              0.2222222222222222,
              "#7201a8"
             ],
             [
              0.3333333333333333,
              "#9c179e"
             ],
             [
              0.4444444444444444,
              "#bd3786"
             ],
             [
              0.5555555555555556,
              "#d8576b"
             ],
             [
              0.6666666666666666,
              "#ed7953"
             ],
             [
              0.7777777777777778,
              "#fb9f3a"
             ],
             [
              0.8888888888888888,
              "#fdca26"
             ],
             [
              1,
              "#f0f921"
             ]
            ],
            "type": "contour"
           }
          ],
          "contourcarpet": [
           {
            "colorbar": {
             "outlinewidth": 0,
             "ticks": ""
            },
            "type": "contourcarpet"
           }
          ],
          "heatmap": [
           {
            "colorbar": {
             "outlinewidth": 0,
             "ticks": ""
            },
            "colorscale": [
             [
              0,
              "#0d0887"
             ],
             [
              0.1111111111111111,
              "#46039f"
             ],
             [
              0.2222222222222222,
              "#7201a8"
             ],
             [
              0.3333333333333333,
              "#9c179e"
             ],
             [
              0.4444444444444444,
              "#bd3786"
             ],
             [
              0.5555555555555556,
              "#d8576b"
             ],
             [
              0.6666666666666666,
              "#ed7953"
             ],
             [
              0.7777777777777778,
              "#fb9f3a"
             ],
             [
              0.8888888888888888,
              "#fdca26"
             ],
             [
              1,
              "#f0f921"
             ]
            ],
            "type": "heatmap"
           }
          ],
          "heatmapgl": [
           {
            "colorbar": {
             "outlinewidth": 0,
             "ticks": ""
            },
            "colorscale": [
             [
              0,
              "#0d0887"
             ],
             [
              0.1111111111111111,
              "#46039f"
             ],
             [
              0.2222222222222222,
              "#7201a8"
             ],
             [
              0.3333333333333333,
              "#9c179e"
             ],
             [
              0.4444444444444444,
              "#bd3786"
             ],
             [
              0.5555555555555556,
              "#d8576b"
             ],
             [
              0.6666666666666666,
              "#ed7953"
             ],
             [
              0.7777777777777778,
              "#fb9f3a"
             ],
             [
              0.8888888888888888,
              "#fdca26"
             ],
             [
              1,
              "#f0f921"
             ]
            ],
            "type": "heatmapgl"
           }
          ],
          "histogram": [
           {
            "marker": {
             "pattern": {
              "fillmode": "overlay",
              "size": 10,
              "solidity": 0.2
             }
            },
            "type": "histogram"
           }
          ],
          "histogram2d": [
           {
            "colorbar": {
             "outlinewidth": 0,
             "ticks": ""
            },
            "colorscale": [
             [
              0,
              "#0d0887"
             ],
             [
              0.1111111111111111,
              "#46039f"
             ],
             [
              0.2222222222222222,
              "#7201a8"
             ],
             [
              0.3333333333333333,
              "#9c179e"
             ],
             [
              0.4444444444444444,
              "#bd3786"
             ],
             [
              0.5555555555555556,
              "#d8576b"
             ],
             [
              0.6666666666666666,
              "#ed7953"
             ],
             [
              0.7777777777777778,
              "#fb9f3a"
             ],
             [
              0.8888888888888888,
              "#fdca26"
             ],
             [
              1,
              "#f0f921"
             ]
            ],
            "type": "histogram2d"
           }
          ],
          "histogram2dcontour": [
           {
            "colorbar": {
             "outlinewidth": 0,
             "ticks": ""
            },
            "colorscale": [
             [
              0,
              "#0d0887"
             ],
             [
              0.1111111111111111,
              "#46039f"
             ],
             [
              0.2222222222222222,
              "#7201a8"
             ],
             [
              0.3333333333333333,
              "#9c179e"
             ],
             [
              0.4444444444444444,
              "#bd3786"
             ],
             [
              0.5555555555555556,
              "#d8576b"
             ],
             [
              0.6666666666666666,
              "#ed7953"
             ],
             [
              0.7777777777777778,
              "#fb9f3a"
             ],
             [
              0.8888888888888888,
              "#fdca26"
             ],
             [
              1,
              "#f0f921"
             ]
            ],
            "type": "histogram2dcontour"
           }
          ],
          "mesh3d": [
           {
            "colorbar": {
             "outlinewidth": 0,
             "ticks": ""
            },
            "type": "mesh3d"
           }
          ],
          "parcoords": [
           {
            "line": {
             "colorbar": {
              "outlinewidth": 0,
              "ticks": ""
             }
            },
            "type": "parcoords"
           }
          ],
          "pie": [
           {
            "automargin": true,
            "type": "pie"
           }
          ],
          "scatter": [
           {
            "fillpattern": {
             "fillmode": "overlay",
             "size": 10,
             "solidity": 0.2
            },
            "type": "scatter"
           }
          ],
          "scatter3d": [
           {
            "line": {
             "colorbar": {
              "outlinewidth": 0,
              "ticks": ""
             }
            },
            "marker": {
             "colorbar": {
              "outlinewidth": 0,
              "ticks": ""
             }
            },
            "type": "scatter3d"
           }
          ],
          "scattercarpet": [
           {
            "marker": {
             "colorbar": {
              "outlinewidth": 0,
              "ticks": ""
             }
            },
            "type": "scattercarpet"
           }
          ],
          "scattergeo": [
           {
            "marker": {
             "colorbar": {
              "outlinewidth": 0,
              "ticks": ""
             }
            },
            "type": "scattergeo"
           }
          ],
          "scattergl": [
           {
            "marker": {
             "colorbar": {
              "outlinewidth": 0,
              "ticks": ""
             }
            },
            "type": "scattergl"
           }
          ],
          "scattermapbox": [
           {
            "marker": {
             "colorbar": {
              "outlinewidth": 0,
              "ticks": ""
             }
            },
            "type": "scattermapbox"
           }
          ],
          "scatterpolar": [
           {
            "marker": {
             "colorbar": {
              "outlinewidth": 0,
              "ticks": ""
             }
            },
            "type": "scatterpolar"
           }
          ],
          "scatterpolargl": [
           {
            "marker": {
             "colorbar": {
              "outlinewidth": 0,
              "ticks": ""
             }
            },
            "type": "scatterpolargl"
           }
          ],
          "scatterternary": [
           {
            "marker": {
             "colorbar": {
              "outlinewidth": 0,
              "ticks": ""
             }
            },
            "type": "scatterternary"
           }
          ],
          "surface": [
           {
            "colorbar": {
             "outlinewidth": 0,
             "ticks": ""
            },
            "colorscale": [
             [
              0,
              "#0d0887"
             ],
             [
              0.1111111111111111,
              "#46039f"
             ],
             [
              0.2222222222222222,
              "#7201a8"
             ],
             [
              0.3333333333333333,
              "#9c179e"
             ],
             [
              0.4444444444444444,
              "#bd3786"
             ],
             [
              0.5555555555555556,
              "#d8576b"
             ],
             [
              0.6666666666666666,
              "#ed7953"
             ],
             [
              0.7777777777777778,
              "#fb9f3a"
             ],
             [
              0.8888888888888888,
              "#fdca26"
             ],
             [
              1,
              "#f0f921"
             ]
            ],
            "type": "surface"
           }
          ],
          "table": [
           {
            "cells": {
             "fill": {
              "color": "#EBF0F8"
             },
             "line": {
              "color": "white"
             }
            },
            "header": {
             "fill": {
              "color": "#C8D4E3"
             },
             "line": {
              "color": "white"
             }
            },
            "type": "table"
           }
          ]
         },
         "layout": {
          "annotationdefaults": {
           "arrowcolor": "#2a3f5f",
           "arrowhead": 0,
           "arrowwidth": 1
          },
          "autotypenumbers": "strict",
          "coloraxis": {
           "colorbar": {
            "outlinewidth": 0,
            "ticks": ""
           }
          },
          "colorscale": {
           "diverging": [
            [
             0,
             "#8e0152"
            ],
            [
             0.1,
             "#c51b7d"
            ],
            [
             0.2,
             "#de77ae"
            ],
            [
             0.3,
             "#f1b6da"
            ],
            [
             0.4,
             "#fde0ef"
            ],
            [
             0.5,
             "#f7f7f7"
            ],
            [
             0.6,
             "#e6f5d0"
            ],
            [
             0.7,
             "#b8e186"
            ],
            [
             0.8,
             "#7fbc41"
            ],
            [
             0.9,
             "#4d9221"
            ],
            [
             1,
             "#276419"
            ]
           ],
           "sequential": [
            [
             0,
             "#0d0887"
            ],
            [
             0.1111111111111111,
             "#46039f"
            ],
            [
             0.2222222222222222,
             "#7201a8"
            ],
            [
             0.3333333333333333,
             "#9c179e"
            ],
            [
             0.4444444444444444,
             "#bd3786"
            ],
            [
             0.5555555555555556,
             "#d8576b"
            ],
            [
             0.6666666666666666,
             "#ed7953"
            ],
            [
             0.7777777777777778,
             "#fb9f3a"
            ],
            [
             0.8888888888888888,
             "#fdca26"
            ],
            [
             1,
             "#f0f921"
            ]
           ],
           "sequentialminus": [
            [
             0,
             "#0d0887"
            ],
            [
             0.1111111111111111,
             "#46039f"
            ],
            [
             0.2222222222222222,
             "#7201a8"
            ],
            [
             0.3333333333333333,
             "#9c179e"
            ],
            [
             0.4444444444444444,
             "#bd3786"
            ],
            [
             0.5555555555555556,
             "#d8576b"
            ],
            [
             0.6666666666666666,
             "#ed7953"
            ],
            [
             0.7777777777777778,
             "#fb9f3a"
            ],
            [
             0.8888888888888888,
             "#fdca26"
            ],
            [
             1,
             "#f0f921"
            ]
           ]
          },
          "colorway": [
           "#636efa",
           "#EF553B",
           "#00cc96",
           "#ab63fa",
           "#FFA15A",
           "#19d3f3",
           "#FF6692",
           "#B6E880",
           "#FF97FF",
           "#FECB52"
          ],
          "font": {
           "color": "#2a3f5f"
          },
          "geo": {
           "bgcolor": "white",
           "lakecolor": "white",
           "landcolor": "#E5ECF6",
           "showlakes": true,
           "showland": true,
           "subunitcolor": "white"
          },
          "hoverlabel": {
           "align": "left"
          },
          "hovermode": "closest",
          "mapbox": {
           "style": "light"
          },
          "paper_bgcolor": "white",
          "plot_bgcolor": "#E5ECF6",
          "polar": {
           "angularaxis": {
            "gridcolor": "white",
            "linecolor": "white",
            "ticks": ""
           },
           "bgcolor": "#E5ECF6",
           "radialaxis": {
            "gridcolor": "white",
            "linecolor": "white",
            "ticks": ""
           }
          },
          "scene": {
           "xaxis": {
            "backgroundcolor": "#E5ECF6",
            "gridcolor": "white",
            "gridwidth": 2,
            "linecolor": "white",
            "showbackground": true,
            "ticks": "",
            "zerolinecolor": "white"
           },
           "yaxis": {
            "backgroundcolor": "#E5ECF6",
            "gridcolor": "white",
            "gridwidth": 2,
            "linecolor": "white",
            "showbackground": true,
            "ticks": "",
            "zerolinecolor": "white"
           },
           "zaxis": {
            "backgroundcolor": "#E5ECF6",
            "gridcolor": "white",
            "gridwidth": 2,
            "linecolor": "white",
            "showbackground": true,
            "ticks": "",
            "zerolinecolor": "white"
           }
          },
          "shapedefaults": {
           "line": {
            "color": "#2a3f5f"
           }
          },
          "ternary": {
           "aaxis": {
            "gridcolor": "white",
            "linecolor": "white",
            "ticks": ""
           },
           "baxis": {
            "gridcolor": "white",
            "linecolor": "white",
            "ticks": ""
           },
           "bgcolor": "#E5ECF6",
           "caxis": {
            "gridcolor": "white",
            "linecolor": "white",
            "ticks": ""
           }
          },
          "title": {
           "x": 0.05
          },
          "xaxis": {
           "automargin": true,
           "gridcolor": "white",
           "linecolor": "white",
           "ticks": "",
           "title": {
            "standoff": 15
           },
           "zerolinecolor": "white",
           "zerolinewidth": 2
          },
          "yaxis": {
           "automargin": true,
           "gridcolor": "white",
           "linecolor": "white",
           "ticks": "",
           "title": {
            "standoff": 15
           },
           "zerolinecolor": "white",
           "zerolinewidth": 2
          }
         }
        },
        "width": 1000,
        "xaxis": {
         "anchor": "y",
         "autorange": true,
         "domain": [
          0,
          1
         ],
         "range": [
          -0.5,
          399.5
         ],
         "visible": false
        },
        "yaxis": {
         "anchor": "x",
         "autorange": true,
         "domain": [
          0.125,
          0.875
         ],
         "range": [
          199.5,
          -0.5
         ],
         "visible": false
        }
       }
      },
      "image/png": "[encoded data removed]",
      "text/html": [
       "<div>                            <div id=\"6fe1c77e-0d7b-4ded-ae8c-4845bb5ad400\" class=\"plotly-graph-div\" style=\"height:700px; width:1000px;\"></div>            <script type=\"text/javascript\">                require([\"plotly\"], function(Plotly) {                    window.PLOTLYENV=window.PLOTLYENV || {};                                    if (document.getElementById(\"6fe1c77e-0d7b-4ded-ae8c-4845bb5ad400\")) {                    Plotly.newPlot(                        \"6fe1c77e-0d7b-4ded-ae8c-4845bb5ad400\",                        [{\"name\":\"0\",\"source\":\"data:image\\u002fpng;base64,iVBORw0KGgoAAAANSUhEUgAAAZAAAADICAIAAABJdyC1AADGGElEQVR4XuyddXwcx\\u002fXA39Ixg5iZbVmSmTmxnTjM6HCaNknTtGnaJm2SQto03FDDHCcOmJkZZEuyWLKYTse8t\\u002fD74+TT3erudCLH6S\\u002ffj\\u002f7YfTO7urudffPmzXszAD\\u002fzMz\\u002fzMz8REK7g\\u002fxnRV1wnm1LW8MfHuAU\\u002fKvzY+KRf\\u002fLrv+6\\u002fNxw5xy8aGTJYYE1eiUKYKBAoEQRwOfU\\u002f3qY62AyzLAgCPJ5019\\u002fflJ96KT5yu1uQZDQ1nKz9PTJqdlDLf7TbVnF1rtXRGch8vs+Y+yeNJfKc+9ux8kmUZ32l0zOT4xBkSSQwAWK1d7a37+nU1vtLEpFkZWSsP7nsuOmZyXMI0gUBBuq0GQ2Nz41aPx+6rdgEQahPSVt7dvvtLS0s1t2xikJSUaG+60bR1m3HrVn950p+fRoXClsd\\u002f6y\\u002fkJybKFy7gJyVhUinjdFJGo6OmxnrwEG2z+VfDFXLF0mWi3BxUIqEtFkdVlXHbdsZ+QX\\u002fJsYBzBX5M\\u002f\\u002f2c9JWZn858j1vwI1E8XSCVob5TQz9ddcrtV\\u002f4zw5OUMlelzjToG\\u002fp11QiCabV5GZmX4hj\\u002fXPMOX52MrBUOh95kbNJo83Lzr5FIYro6j8YnzMjJvfL40Vcjv09j\\u002fUYUI3ynGEqkZ15CUU5\\u002fpZaeeUlS8lyHQ9fdeRwQRK3OKpx0a2PDpvbW\\u002fb46AJBfeINUlqDrq+rrrVAoUuPiy8SS6FPH3\\u002fCvMyzj0n4QFOOKLgKEmRnR997LkqSzpoa22zGZXJCSrFi82HrgoH81Ijo69sEHMLHYWVdPGfREXJxszhxhTm7XK6\\u002f8VHRWOIV1UUEQyL\\u002fejxEIB03Co\\u002fucj97a41flZ4anvvZ7mnbTtMd72npu5\\u002fSZv4mNL\\u002fVXNAxLV1d9gaL47Hl\\u002fjIouOnzweZfTiOPCuPhSFCUYxhPhfXp7TvuOASAv\\u002f1oEQc9Wfg4woLDk8uSk5Lkm47kz5e97b9uM8SYV35mesdygb7DbBh+uTJ508tjrtvOSScV3qNRZcnmS2dzmqxOesbcfp67j7PtPcaUXB9JZsxAU7f7PG+6OjgERghAaDR2ohqJuuhETi3veecdZW+eVKJcvUyxdqlq5ov\\u002fLr\\u002fxrXrQMdjgXOYWlfP\\u002fWNo4Mdvf\\u002fDyBJm0\\u002fLAABFuW22Hj5fhiCDv6133McwlMtpcLvMLqcRANwuEwBCEEJvnUju4098wvTo2OKmhs0m4zmfMDa+FABamnd4tRUA0DTZcm4XgqBx8WW+agDQ11vh01YA4B0zCkWawRrDMXHt52LA+7MHtGSW9eh0\\u002fgJBehovIcFeWeXTVgBg2rWb9XgkU6Yg2Agsx5K7CqfeX8SVXhCGs7D8rPcfl7LZA6\\u002fK+ENT\\u002fNh47YrVgoQkhnRbK0\\u002f3b9nAekhfeeyNtwPL9n7zuWb5ZZKCIpQv8Oh1XZ9+4NHrAABBUemUMmnRFH5UDCoS0TarraZKv3UjQw4MN6Iuv4YfG9f7zefaFasFyWks5XG1teg2\\u002feC93Asuk2tXXiHKyAZg7XU14+668oGiRFx8qUqTLRJpcFyIYTwU9bYBxNfgKY\\u002fTe0DTHt\\u002fwzatTfAOiSO7jQypLyMhaoeuram874C+XSOMAwGod8It58apLmSzBX2izdvmfejxOAPBpz0gI2n6EmvjMax5u+PrllOW3IzjevuMzlOAnzL+GJl1t2z5x9A2Yb4kLrlPlTfMet+341Fh3cvAWAIkLr1dmlzZ8\\u002fZJTN2DdqPKmJy64tnPfuv7KgO87cdjKT4sKC2Pvvce8d6\\u002f16DHaauXWABCkZwCAq7nZX8iSJGU0ElFRhFZL9kRqb578byVXdKEYRmHRHkaZpS59ZLomT+txelq3N5e\\u002ffpxyUb4KfDl\\u002f0j0lifOS+XKBvcfW+ENd9aeVLDPQZGf8YU7aJRmb16w31PZ7JRmXZU\\u002f\\u002f\\u002fezjLxyuWzsyz2XQBjc+IGj8bfdYzpy0nDomSEpRTJ+NS2Xdn33gXwWXyWNvvpNxOvXbNwGKiTKyKLPRW8QyjLxsBmUyGvbtZJwOYWqGYvpsBEH6fvjGdzkvOib+zvudzY26DetwuUI5e0H8bXe1vvw8S9MAgOB4\\u002fJoHCIXSuH+3x2QQZ+bEXHOT79pxBMcFU8ruE4uj+3U1HW0HXS4zTbvTM5ZLA7WDv0fc\\u002f9hHhPfxQhCigqKbXE5jzdmvOUU4xmdZmqICHEkej4NlWRwPeNwkGeA5HgWh2g+CYvGzV\\u002fed2qmdPC9+3tUM6eo5ujmqeGHc7Msb1w047DoPfNdXvluakBk\\u002f76rAqwEAOvd\\u002fK4lLT1p8U\\u002f1XL7A0xZOq4mdfbmmtvmDaCgDsp0\\u002f3CwTKFZcqL71UsXy5o6rKvGu3uy1gvIwrFACgXn25evXl\\u002fnIvqEDAFV2UDKOwEAxZ+OKylq2NzRvqNYVR2dfkCTWifU\\u002fs9JbiQmLpWytFUeLaL6psXTZNgbb4gTJFuvLg03u9FY6\\u002fcCSqOGbWU\\u002fM23fod7aElsZKSh6d1HmwfqbaSytHsQj5XOk4gOK7ftdVr1FhOHQeGkU+bxY+Ld3cN9vyCpBTj3p392zZ6T81HA3yZ7W+85Du2lJ\\u002fAlUpxbiH4KSyUx7ecOKrb+J33lHG5tCtWCxKTnS3NACArLuVptL3rvrScPAoAlhNHY667RVpU7Lt8vEhImiUWR7e3HWisH\\u002fgiAMAEU0nhGcl9kLyC6whCdLL8dZrmergpyoUgGI4LKMrlExKECEEQihqw8ryM0dAP335MTWf0Zw8jKBY\\u002f98rWbR+ZGk7jIllU8XxfBcbjdpv6CLHMJ\\u002fGH8bhbt3+SceVDsdMv7Tq0PmnxDYyHbN\\u002f5Bbfe+IGgQTw51iNHbKdOSUpLZTOmi4uKxIWF5t27DRsGH5A3IsBx9ixnqOiFslj8T+89esPOPx2a9uBkoZLfW6Xf9dRhe58DAKLy1Qv\\u002fPEMSLW7YfG7vX4\\u002f5X5K7Or3oxhxprJhyM6c\\u002fPHv64xoAIIT4jIenpMxLQFBo3NZ65JVymgzaTiJlGIWFEVjlu6fq19UCQNPGBpZms67KVWWpDfV6AMi7qVCeoth2\\u002f8a+8h4AaNpQb+uyFT9Q2ry5sftoJwBQTs\\u002fBP+1Z9vbKyfeXnHrt+Mw\\u002fzaNd1OFnAyaAIqFkpjDYMxo37LVVvmPL6ZPyabNE6Vn+CgsAjAcHtPCwkD3dorRMQFFgBp+N+fhh37G7sx0AcKUKWpoBQJieBSxrrTjlq2CrOjMRCkssjgIAXe+gPY8gqGgkniAvkd8nJW2hSp11tvJzu72PWwZgsbRLZfFSWbzR0OQTSmXxcH5gOF6Ebz9ukw4APDYTALj0PQBAO20owQcEiVBTOnpbe09siylbhgul4ri05vXvUM6xmoQAMDC4DvS8ISiKCIX+TcsHS5LWQ4eshw4JMzM0N9wgX7jQUVvrahz4bWmzGQCcDQ2WfcO\\u002fgAiKFFyTte72rR4Htez5OaV3FXjVU99Z\\u002fRdXb5j1WAnOC\\u002fB5ZV6SUnbfpK2\\u002f2dd3Vi9SC7DzpbMeK+VJiM+v\\u002fAHF0Uv+Pa9kTcGxNyr8LxwAQUQFecL8PEwqsR8\\u002faT9dAQAIgWNSGW21sp5Bb2nox3ie9n2DhuW5LY0AEFMW5z1NnJ9sbjF5tZWX+nU1AJC8KNUn6T+rq3jvdM71BTP\\u002fNDdqcsyhv+xzGQM6z0gomxPcnh8vKL8xP2UyAgAukw8WAzBuN20P2QQF8YnRV16X\\u002fMvfpD35TMbT\\u002f1DMmAPcZgYe48AQEgBYigIAFBvoLQi5grbb\\u002fJ8KZTb5jscRt9sCAHyBwidJSplHECLfaYREeB+VOjMldVFH28G+3mBtFKCr8zjLsimpi7Dz0Q8YRqSkLgRgu7tOBNYdE+HbD0ORcH7wy3hIAGCBBRjwZEdI34kdjr42ZXZJf+VBa1stt3hUMC43AGCBTZGXmBjUwvLH2dBo3LwFAATJKYPCxiYAEGZm+iThKf+w2mlwUS7q3J52ZbqCWxxI3hWZZz6u7q3sZxnWrnNaOm0AgOJo9qq0429VeByU20JWr2tMX5zMvRIAUDRqzW1Rd98hnTlNVJiPawd6PlQgTPjT72Tz5\\u002fjXHcbCAgCn3uE7tvfYAEAUJfaeSuOlvacCHHUeG0la3NL4AOO56v3T8TMSUpdn1K2t7jrS4V8UIWWzLuAAO1gzZelBtx0HcVZu7C1r3F0dhn27SF0v43Qq5y2Sl07nVPP34gchoo58rPR0lyckzszKvkwk0jCMR6FMlytSTKYWhSKFWzUskdyHx5PkFVxH06TD0R8bOOXX31ftjfm0WbvONW1Ly1hWOu0hfX89AuD14p9r3mEN9LKPkWHaT2RmVHhQHp8QywGAr4iCYDMPo4Ds7ASWFRUWYBs3egMUUIFAtXIFtx6AIDXV1drqb3bxkxIhcKDnamx0t7WL8vMlJSW2k4PzBiifj6vVZBf3B7f12L0HjIdB8SAvhT+SGJGlc6C+D5FGiGLIVR8t90k8jsFe2Yds\\u002fhxRUYH9xCnbyfLoe9f45LTV6mpsFhXkmbfv8gmHV1gBoAhA4LMY+kWGSAgxz6vjZCmKUTzK2AQ8PnmgB54gcJncZ9QQCiWMxMZRzJoHNN353huMe8BHg\\u002fJ4gVWGgTKbBAlJCI57LS8AwOWKgBrjhM3aVXn6o9T0xUkp81mWNptaTp14UyqLH6nCiuQ+AqGKIMQAkJXDdfGesHb7gtRbW\\u002fbY7X1JyXPj4qcCsDZrd1XjVl3f4Ah97FyA9gMAiQuuRXmCjr1fJ8y7Wjt5nu70Hm6NkUOZTPbTp8XFxfGP\\u002f8ZRU4PguDA9nXG5PH19uErlXzP6zjtYAHdrG20yAoLyEhP4CQme3l77mTP+1fo+\\u002fjj2gfu1N90omz2b7O4CFMWVSkFKiv30ad3nXKdbcJ9kCOw6pzR2wI7x4eh3MjT71fUbLR0hRycAIJlW5m5u0X30GbcAwNPbK5pc5C8ZXmGJosSO3oHmJY6WAIC9b+DU2m6Rxkt9NQGAJ+XxpHxrZ4ADb\\u002foTswgx79jzh6Y+PjP3hsKaz0Y2Jxrenh8XJPlFpkP7vMfSSSUA4GhqCKgRGgRDGZfLp60wkViUnhVYZRgczQ2SwsnSomLLqeNeiSQ\\u002f4CGNI3p9nV5f5y+x23p6ugb6W5K07t7xhK\\u002fo5PH\\u002f+I7bWve3+UWfh78PAFjMbf63CkO\\u002frrpfF3ISpr3tYHvbQY6wr\\u002fdMX2\\u002fAqxiGC9B+VLnT5OmT2nd+bqg9LtTEx05fYeuod\\u002fZzbZZRoPv8C8poFBcXS0pLGYfDUV1t3LBRddkqjsIy7dwlKioUpCSjgmzG7aaMJuPmLZYDB1gywK6n9PrOF\\u002f4tXzBfXFgoKS1lKYq2WGwnTlqPHvGvNgrq1jeV3lPUfbpPV2sQyPjiaJG+3shQTO0PTdMfKt773FG3lZTFSYQqQW\\u002flQMCAD0KrsezayxF6oa02VBTgahheYSUtSKn94qz3OHV5OgD0nBh4Eq07z02+vzR6SmzvqW6vJOvKXABo293iPQWA9FVZSQtTDz+zr2ljgzJLVXx\\u002fac\\u002fxTmODwVdhWEJNSI8XjMulmr+YUKrc3Z2CxBT51Bm2sxXu7kidvo6GOmFqhnblFfb6GkKuVMyeT9msmFjCrRcaS\\u002fkJ5ewFUZddTSjVHpNBlJohSEjkVvqZ0TLG9oOgGCGWoTyBQBUDAHy5VqiJo0kX5bB5nV88uTp+zmrzuSpD7XEA6Dr4vTQhK2nJLQ1r\\u002f81QQUZAI4KlKMOGjQGTfQC6zz7Xffa5v8S8Z495zx5\\u002fSSgYh8O4cZNx4yZuQWTMe3JaXEmUWCtCUIgvi+mvN2777X4AqPm+CRfgi5+dJY4WeRyeU++d1dcbAeDgP0+U3lt0zaeXChR8u85x8r9VQxUW66EQIrgJjCkUnJyhYRSWx0YW3D5ZEis11us1BVGZV+S07W4x1uu9pTVfVCUtSp3\\u002fryW1X1TZOq2agqjM1TmtO891HR5wVEnjZWWPTm\\u002ff19q0sQEATr58NKYsbvZfFmy6\\u002fTvaTfv+SxhQFEpmjqnBDYujucGwa6t2xWp52QzGQ5qOHOjfsoFbKTTGA3tQoUg6aYp86kyP0WA6uIfs7Um45yFuvdCwHk\\u002fHu\\u002f\\u002fRrlitmD0PWNZeV93+1qspjz3JrfczI2fs7UcSn5522X2+0+iypdFlSwGg69B6XfluBEWTl9zMUJ6O3QOpLYyHbNv5WcYVv4iddVnn3sHQlp8Wb5YNDtBq1zfXrm\\u002f2Hu997qhPHgALlV\\u002fUVX4RYHQDAOWmj7xSfuSVco7cH3dLqzA\\u002fF\\u002fl+Axs49Ymr1eKSyc7KAOt7iMPJj+m\\u002fn8OX8SvePVX6yHRNfhTl9LTsaC5\\u002fLSBwlJDwJt0zJXlhKl8hsPfYmjbUn\\u002f24kqUZAEAwdNnbKyXx0g03rPPNDGqLope+uaLh29pj\\u002fzzku0kYsgv5760fmJTkMNJcsJ\\u002f5f8jP7efiR5CeFvPL+12NzZa9+6Puut2ye6\\u002f9TKUgI0O+YC7C53X\\u002f62Wya2AAB+EV1sXALfcr7vutkisFgJ8bXGj46miP1eTLDfr\\u002fzM\\u002ftZ+zwY+OTHvh13w9fm49HZGSMAnFpsfq6q1F+QHAv43L1f\\u002fy5o3LAH+VlmCHhjwjBQ1IzibnLudE9Pzn4AiS7kJ+ezUtOJ+KTcXUUrtZiQjHCFyAoinhI1kOyDjtjMjAmA93VRnW0eJpqyeozbptlJPM0fsRfciMuktS\\u002f\\u002feyIZ2RDI5GiuZP4mfm8xBQiLglXqjGFGhOKEIKHYCjicjFOO+uwMw47a7PQXW1U2zlPe7OnvcXT2UJ5POP2MSLnf6b9+BBL0KIyQX4xPzGViE\\u002fC1VGYUIQKxQjLgtvJOuxMXzfd1e5pa\\u002fJUnnSfPe122kfZfi489hPlrpp60ZTJ\\u002fKQEVChkXC6yrcN28hRjd3BqXkQWlkqDZeTyMvJ4mbm8jFxecjqBDRf9MXY2fGn922+5XsCxg+NIYSl\\u002f+jxR6SxBZh5vFF+EZaGpjjyw3bF7o72xNmwM1xByf\\u002fU3c\\u002fWpru1ruQUjJyGFWHK5eOZCUW4RP1iA2vB4SLbqlPvkYeepw67qcvfEKa\\u002f\\u002fpfbjj1yJLlopWbpanD9ZEPliXBTFnjjg2rHetnuT3eUc029+ASysyPnRLCwMR5LTiYxcXmYuLyOPl5HLU2kifhoXKygKJbOEi1eK5y0XS+XDhCOHB0EgI4eXkcO7\\u002fSFFxQnXp2+ZD2zn9jYhYdmxp4aUzRbe+qBiyoywIZcRQPCQ4umC4ukCeARcTvboPueWb6yHdjkpakxv0f9k++EQFYvf8oB81XVSgjdizYvjyPT5wunzhQ\\u002f9Qf31h+av3rXYrD8ZgysMP47CeuIfmmVXSEbxGC5a1Fps5XXSy26QxsSP\\u002f09aVCooKhWcOuz66+O67vaQMfc+nN1tAk0MVxoxSWnEY8+qxzi5FhSBEJm3TDRvmchsoLf\\u002fYP\\u002f+c2tz3ciMRy\\u002f\\u002fe+2HA8FD7vil4sZ75QQx1u8oV6JrHlZecbPstecMW7+NqBvDZXLtpecXO6rnLnaEoKi0+Px6SkIRbbPaaqv02wbWU8KlspTH\\u002fmQ+elC36Vv\\u002fqxLv+SUmkba8+NcR5RVgUom4eJJl32Ag3vi\\u002fXZEQk4BfVK1NunBgtaNhse7iTuumZBA33CNfdoVk7G0rPFNmCD7YFP\\u002fnX+kO7RrG1OrdtyHl+l+IkzLsbY3csuFYdb300T+refyJ\\u002fS5yFXb17bKWRs\\u002foFNbF1n7Gl+wC3lMvRyWnBw9NGh0qDfanF7Xzlouf+7XObgtnaiE4Hn\\u002fHA4RCaTwQfLGjgfWUjEbD\\u002fp2MwyFMzVBMm40gSN\\u002f6bwCAslrstWelk0v6t633ZW4QSrUgMUW\\u002fc8uItBUAEDHRqquv+PEV1sWG6rbVXFEwWBc5VGHd\\u002fkvFkstGECY6FiRS9G9vR\\u002f3xgb5928LpLNKk797+ddKVd1vqK1y97bSTm+Rlqh4MSffnwSdUN94r50onBpeD3fZdRB3+\\u002fysWrRQ\\u002f+S8tXzAh6njeMlFaVtyjt\\u002fV0tYW002WTS3kabe+3X1pOHQUAy8mjMdfeIi0s9q\\u002fT\\u002fuZLvmPL6RO4QinOLYT1A0Fn5uOHJXmFktxCa+VA+JV0cgmwrKX8mO+qCBm6StfPCgsAoPuPr\\u002fiOUZFAc+91rvoWx\\u002fFK2mBhWRZXy0WlBfy0hJ5n3\\u002fK7aIDP3jJfMIUFADiOPPVy1L1XdIXxxOc89Jz3QJFXAnklgYUAIRTWXY8qL5i2AoBt39vCd\\u002fX\\u002fD7lujfyXfwzIuRl3ElOJN9bG\\u002ffLG7tam4FH4wrQsYFlr5SmfxFZ1hqOwOHDWU3I01XmMBlnp9EGFVVTiaKqPPD\\u002fXx88KKzhk22Bkmub+691N7f1vDOaCkuc6HCfOau65VnnTSn+5l\\u002fqz5PEDzpHmf3g8rMvBkiQrFqMC0ci6U4EQefoV7W2XdtEh\\u002fNbdO9dxRcMxa5Ho9ocUXGlYaIp1u1mXk+XxEJEEHW7JEy7ffTa4pM\\u002fPAMBVt8pGqq1oirVaGD4fEYpH8OtrorFXP49dc1mnridItkmQxY4spsFiAAAQxCfKp84UxCdhUhlK8BAcB\\u002f8VKljWcvKIetElhFLlMRoECUk8jdawa7P\\u002fHVJeet7\\u002fNCRDZqZ\\u002fHIW1\\u002fgvriQMurjQYV94qjYoN\\u002fiHbz3k2fjXWMUVDDTe6Ujgpx\\u002fj5Bo4QAFw1TcqbVnGlAADw2Vvm8ArLZmVqTrvPnnafqydbGjx9PZTFNGhcYDiiUKE5RfzCEv7sRaLULJ7fpcFJzeKtvkn6zYcBSeY+DOUHuKKwCITIr59RD2kbXJpqyZOHXBUnXB0tnu52yn\\u002fWCUFALEGlCjQ5nUjP4aVl8TJyeWnZvFBarK7SXVfJ\\u002feUj52JuP6Nj3jLRI39Wc6VD6O2iThx0njrsOlvuNvbTvkdAEIhchSalEaWzhKWzhHmTh4lBUUdh\\u002f\\u002fhvzAPXdEUU8RBYRZyVG3vTGnd3h2G\\u002f33pKJdP965hPHlUtWCabMk2\\u002fc7O0qIRxOm01Vf4VAEUpg2FomBUHVCzGVUp\\u002fSfBnOdHsWM\\u002f1qoRi7jJRqAbX1U59\\u002fIaJKx07COCagN\\u002fIC65RhlrR7dh+Z0M1mZnHVTRNteTeLY6j+xzVZ9xMkM5sAJpi9X30wR2Ogzscb\\u002f7DOG2u8M6HlQVTQi7p6+Wme+XffmIJc9vIWXGtNDou+I\\u002fs5eAOxwevmapPh3w5WRZsVsZmZbrbqSN7BtKw5CqsbJagbI5w6hwh5yF+++mYzKuLuv2MnOR04g\\u002f\\u002f1oZoXAM01pAfvGras9ke1G3t8bD9vXR\\u002fL33qsOvtfxnTc3h3\\u002f1o5Z0m4oNnsAt5Df1D\\u002f80luEBllGWaxI8XMeUDTne\\u002f7radEcFs+bbPaa8\\u002fKiksNu7dKCydbKk767ubD+P1Ge\\u002fkZjpCDuKRYe1uAyz\\u002f4sxwWYaw87pJ8aZaWkAj6j7Wc++goAOASPiHhu\\u002fvtDDX8a4SgGBv4tmEiCe0Ya48XJy9IVk893PwetyBiXFUNskvmUjqj\\u002fcgZlvQAAILj4hmTZJfOdVbUc2uf57O3zE+9rPUe93ZRm762bf3W1n4uuJsgPEf3OU8cct37mPLGe+VhGnF0HD5jgejgjmH6qEi4\\u002fAYpV3QeloV\\u002f\\u002faH\\u002fu1HpF7OB3rHe7lUuOUX8Zasli1aJ1VrMbmO2\\u002fzDWB\\u002f0\\u002fA4Yjf3k9ShR6TEdR7Mt\\u002fNnz7iSWoqgpKUy35u7t7y2YLn30jSiINeefVN0n3bLEf3x+wArCjuUFSMFlaWGwpD77YEYKijHv49ZTMxw9J8u9TzJyHSaSWU0Hc7fRw5hUAMC6uHT0ahRW\\u002fqjDnlwsQfOCHcHQYvQfKSQmTnl1V868dnRsDzb9gxK+6ueOHj32rhPG1sUlXrWl489nAWj8Chk\\u002fWRyfEqNdcpb7zStpiB2AxqRhQlOrVGz9dz619nh0bbPc8pmxt8qx933xsvzPYitsjgKbY\\u002f\\u002fzd4LAzd\\u002f86iK3nY96yMAoLkWbkS9PycLHUdPaEpf4MACA4jotltN3qv+xJdByensPtIX188IppdNqKQ22Fu7bC\\u002fepz+tKZQnUU5nJE\\u002fPINAUVh8RL+zJl8hQJ5\\u002fz3HmTMeBIGYGMxkYpyRDHAuMm68W54R+vc3Gejf39d35hj3vY2E4wec91\\u002fd\\u002fcIH0aFsTAB49M\\u002fqm5Z0+FsOltMnlLMXRK3yW+woPnGwGMDRWCdMzdCuOL+e0qzg6yk5mhs8Br1yzkJ3T5e7q4NTavj6W0\\u002f3oOM4FOzYFZaqODH3kUUMSXVurLQ163MeWegr0h9toexu7Zz0SBQWgqLxK67v3Pg5sKwkPS9+xQ29ezZwK\\u002f0Y0EZL9x9eFs8qFuRl4Co5ALjrzrmqm20HT3kNrqAwNNy8tCMij0DEfPiaKbeIPzu0YT9tbvAiBEETLrtNllnoPXV0tXgPMJ4w867f9x3Y3H90p69y7qSQY0+bhfnkTRNXOoSc2errn83\\u002fy6L9DM0CgDJW8Psts\\u002f6ycL9VT\\u002fKE2GWPZxUs0CIoUr65Z8MLDcf2OwEgd65m2S\\u002fSo1JEFMnU7Ov\\u002f6qka2sMAwKSl0ZOWRdUdMix7ME2kIPa837rl1Sb\\u002f\\u002fyUUIh98pJwxY+AN37bNfeaMh2Xh8y+V27e5n3t2HHTrhSQqFr\\u002fjVwqu9DweD\\u002fubO3qrz4QciQ9Lcx35xL19b6+LDZWllJRGrLhGuv6Lwd+N9Xg63vuP9tLVilnnFzt659WURwcXOzIe3IMKRdKiKfKymR6jwXRoD9nXk3DXQ74KA7Cs+cRhzdKVhj3buEUA\\u002fqFVYXC3tXc+F+CeH7HCSr6hlKWZE7\\u002f8ylLfBwD+CouhaHuLQZIyvO8QADq+\\u002fyjh8ltjl11DGvo00xZ2fPfhKKIcvfBxSUHcCoUowUmadbbBm\\u002fAwUU7MErU4hWGZLnNFo26\\u002fd6MBHibKj7tUzFMJeAoUwWyuvpNtX7qpwUEK66Fse47b9gyYxBEyvtoKAFgWXvurYeYiUSjXtSYa00Rj\\u002fb3cAbiqZK4ss9Bcc9JcU5505V0+OeWwOtqbpOn5\\u002fgorMSVkgOLJQ85IvlTdQT3ponNmq6v39gPAlJUx1fv6rXoSAK74fbZAgv\\u002ft0oMojq55fdLie1O9Ckjf7lz3TG1HtUWq4f3ys6lTVsQc\\u002f67Le7fM6WpDp+vvlx5CUBApuJ\\u002ftsd9IpkwhnvqTZf9+ctdujU++dYt74SL+j66wFCuX2Q4dowwDY45hufVBeZiQq5ee1o9FW3mprXB\\u002f+Jr5zocV3ILz3HK\\u002ffMOXVv\\u002fxJmU2dX\\u002f+weA5QNMzT\\u002fiOWZru37q+f2vAaKPhj4\\u002f6n3pBUJSlaeuZwQiJkcJ6KE9vn78kxKsQGnlujKm626uthuLS2XgqMVcaDJahO77\\u002fCBOKtDOXnvvklVFrKwDIi13uoV176l4ub18bI8v1yYsSVnto176G1w+fe08pSkrXzPLKM6LmkpTjQNPbBxrfZFm6vOMbf211UdF+zrNvazgHc0ZukNGEsqDM0XmuY+On1uZqTpFb38tTBPQoElnINtDbxVWFQWFZOPRlx9Qr472nU1bEHv2mCwAwHClbHbfltSa3g3ZaPIe\\u002f6py8LNpbp++cva3SzNCsudfddMyoThycY0VxZNPLjaSLdjtoYxd3RLByleC9dx3vv+dobAhw4ra20PFxE5NLGFKfBEG2aF4krhkv2hhs5bUhvYfH9zvHZTAOAB+8ZgoaweAlPpkIP8c9OlAeXzF9jvXMCdoRrgGPlBFbWCgf95gCvHT+4GIe6wn50wCAdvaywROWdXW3iWKTVaVzvdHYugNbB0sjA0FQrTTzcPO7NEs5PeZO05loWQ4ACAiZWpxyuv0bmqVoimruP1gYt6pRtx8ApILoNsNJAHB5LE6PWcxTOUlTwD0xjJeRiGuU3gATf2x7R2Z2jZ3dm+zzLwnZB8QEm93jKbX9J\\u002fZwpQAAQDlsmCBgIOnd0iooIkmkL+vRb7qW3pcmUfGkap5YSdTu7wcAmZaPYsgjXw2mPbntA20jdYpi0d2pihg+y4AiVnD4y0Efh7nX5R1aBkWrxerrufNNAMCw7JCpqvEh\\u002f90HDNsr9DsqSF3wIBJ\\u002faLs98s0bLr9BFibB6L2XTVzRaKEpdsOX1jBjz5XXSb1D9bGD8vmSvCJAEHnpdAQn9LuDjAc5ICjKsmyEWTtBmnt4nN1mSboGQRB2yD9A+bg0Q2tr0XPk\\u002fvCUg2a8F3t7IyYQYoJR6ngeJkQAcXsGTCSfrSQgZBRDUsyARe3yWHm4GEUwhqUdpEEujO02V\\u002fFxMR+X2t0BHxiP1kT\\u002f+jY8mvs5vVx4hXXmONfK8EcTHeQJMhSF4tzBlBdCquBk6liMIV+wzLyQ7i0OTounYkfflJUxEhXv+LddXo1j0bkZmv3n6sP69oCXAeej974zZe3TNSfXdwPAbS8GTEKFp6uLzsoK8pWnTuU1NYXrKUcNZbTH3jI39uY5lvIW\\u002fbYzpsN1Ybpk86btikuWGNdvCbrRqT8IAsuv4jqqfZw67Ko4Ee65j5QfvrDe9pAilG9h2jwhjiNjXD\\u002fDC8oXaJatQnl8d29X50dve3f5DE\\u002fyS8\\u002frP19rPXyUWwCgvu4qIia65+X\\u002f+CRBnn14+vY1pt48NW3NjOb3DrPM4DdEcDTr\\u002frk8pejcJ0GmMH10rv+UKxobJO1kgeXjEpJ2AAAPGzAfXB4zjvJwlO\\u002fVWQJCSlJ2hqUBoKF3z7TU2zXiVAaY2p7tTo\\u002fZ736guuFSVC41frbB3dzBRhCfMdHoemh9H62OCj7eEYqDdNHO7hZJai6ydz1nkWyeXC3PKbY2nfUX9veF\\u002fI7ZBbzsAl5dFcktCMaBz9qveCJbJCfe+8Vpr4Sm2GPrulb+OnPtUzVOi0cZL5Sqea1nzAQPJQRYf6sDAJIK5Vkz1bqWSIdR33ztvO9+8ZnTnq1bB95nHg+5\\u002fQ7RVVcLn35qeAtoFNT9+kN+jEK1sEC1oCD1d6tpm8uw56x+2xlHYw+3KoAgJ0uYnSGZM502DX6Yrmf\\u002f5VdlgMlTBbEJId++jWvHZzDoo6+baq4jgzoQAEAiRYvK+KcOj4OKpCzm5r\\u002f\\u002fiSsdLbTNLo6N9ZeE\\u002fMlC0fr5ieh5mak3TY2el2U83QEAkjRNziMLVVOSRAkKS11v5\\u002fpK7jUTCcsyOmtjimb62a5NBCaIUxR6tZLLY+23NWVFL6jr2YFh\\u002fDTNrA7Tae8lUmGM02M83vqZ1wfPgZ+RZNm837I1olmMC4PREFJhCYRBOk3dkZ2p1z2QfM19+pP7AQAXSkTxqeLEdHXJPATD\\u002fD3uAFB5Mlwz\\u002ff0\\u002ftfdc0eV2Dd\\u002f3dpy1IAjYjKSudVD7fPu32mUPpj\\u002f69TSxkmfpc297o7n1jNlppTb8q\\u002f7O1ycDC82njLvfa+EJgn+7obz2qr2wkHjzbYXDwQLAc3+VvfY6iuOwaaPrww8i1Xojxd1j6v7sQPdnB8TZccr5+cq5edqVJc7mPv32M4bdVZRl0H50lFc4yiv8Lg3JzIXBZ3gBgGHAF3w7jtRWuEMpLAAoLBGMi8IaZxgG4Qd85hErLMpBnnzk69zfLNZMSxUlKABAmhklzYwCAN3Bpup\\u002fbGdCG8z+qKcusNZXkKaB4ZggKk6UmG44uT+wVkRUd28uiFu5IPtXTtLcZjiZoJzslVd0\\u002fpATs2Ru1i8Yhu42VzXpDpy\\u002fglUIExZl\\u002fxoAKIZs7j\\u002fYZjhxvggQHkHrTb7TiwGrXx4PhyFONgAAR0dTx6ZP45Zek7T6DgBQl85Tl84DAIZ0tf\\u002fwoas\\u002fIP6lu53qbqdiE4PdCCAjl\\u002ffq57G\\u002fvavXqB\\u002f+sSIYcvSrQW8UAHhczIYXGja80OAvBIDd77fufr+VIwSAM9t6z2zr5Ur98HjYNXcaly8XXLpCkJKKoQgcPkRu2ODavMk1xEUx\\u002ftjruux1XZ3\\u002f3Rl1xdToq6cn3Lskfs1Cw66q7s8OkH1mAIhQWwHA1LkhfSC1FW6TYfhfe6TUnHGvvE7KlZ4nuzDS4X8oCIVaml3A10SjPAFDutz9vda6Ks\\u002f5F3wUIDguzM2mTSZ\\u002fYfBmGh633n76d9+Lk1WqkiSBVgoouHU2w8k227kRfDjNtAVmvzUDPFazZsbi0SksN2U72TaYk9xuHJhG9dDOys4ffHIvUkFUXszyvQ2vuik7AEj5UTPS7mw3nvJZW676FkFeum3\\u002f4Gf70bGPfK1Ic80pW0udPKdYGJ2ICQS02+3sbTfXnBq61AwAbFxrvevRkBGq+cX8T3ckvPOC8YcvrEHTrREEWBamrIiRR\\u002fPLN4VTN+MCy8Lmza7Nm38Ec4AXo9AsmaRaXMjTytzdxt5vjiIYql1VqpiV0\\u002finL+w1ndwLQiBXomGCdcuPTMhXa2kMGUUIAJmhja8IQKIWrVRPm8\\u002fJVY5edJn+yO6+XRsh2MSO9tabMIXMeyxbNF9cNiWgGEGJKA0mlfrvUw+jU1he7K0Ge6uBK40YBCco++BAnXY6UN5YdXwk8HAxCwzDMgCAIphKnOyiLP5jQ+OnG6J\\u002fe5fqppXWPcconTFMsOgFI8jTjgDaaY8wC\\u002fqbjyw336cIs2iEXIk+9qz6pvvkn79t3rjWygnOKlwSdcNz+eZe94cPV3jjP\\u002f\\u002fHQAhMMTNbs2yydFIKSzPmo\\u002fVtL220nD7nfTB93x\\u002fPfPaGhHuW1D3yAYJj4tJiXKP2f3VN67f4jr1k5oVLTm4bVUbXsITf00Qbi3k7nlGgmjZPPX0Baew3nTrs1nVTDjvK4wui45RTZqpnLKTsVsPRvdxrABxVZ0UF+YLsDAAgorRElJZTgbZYLXv2m7Zs9xeOXmGNEY\\u002fZIIxNcnYNjAsEMfGeIatYTAR627kec83MtDUIgrHAWJzdp9rW+ldQ3301KhRIl86SLh2I2\\u002fKn9bbBCLr\\u002fGSwm5r8vGn\\u002fxpIpbEEhsAv7oX9R3\\u002f1q5ca31u0+tvkzJim19FduCx+WNOwmJWG8PM3Qni5QUzGxmjaFnPEdNwr1LVAsLcKmQ7DF1fbRHv+2MxxhgpTJOsn9LeeKDywFAdcPVgqwMd0OTsCDXVdcoyM207AjyrobxJQFAxwQprLB2OkEgKg2m141mKKqcMoM06lvee5F2+bnzWhtN5UdS7nxEWTIrqMKynzptP3UaUDT5n88Zvv3BdjRw\\u002fp1hWTrIhxmlwhp78rP+xL7EK+7QH9tNmgyEXKkum68\\u002ftptbaWKo79td3xfyf5Ft3f7LY\\u002f0UQVCUZdgRWWZf\\u002fNc8Y4EwknXcpXL0+rvk162Rlx9xbfjKunfLWDdlGRHPPisTCJDrr+Oa9s8+J7PZ2fvuMXHkY0e7ssR8tKF\\u002fc7nlVHPIX5RlGYcbAIQFud1\\u002fe5E2mWN\\u002f97Du3Y\\u002f5KYmyxfO5lQFSM4MHnXjpaP0RFBYAyFWjVFiEXGU8ccBfW3lhPKS1tkI9YzAZJggMQ3Z1A82wniDhdUMZjcIal+RnU8VRlqKUk6cTMqXHatYd3GqqCBcPccEwfPAdVzR+CIRIfDKhicLUUZhai4uliEiMiiQoX4DwBQiPj\\u002fAFCF+A8vkIX4DwBIj3IEx4YVDyHv1X19avjJVHuAUAcUuu4aujzn3xOkfOsvDHX+he\\u002fSwmjG\\u002fFHwSBKTMEU2YIHM+qd2+yb\\u002f3WXn5krCnfkVBYRHz0YZDZwIMHyTvXhAyvHQtVt73mMdi40kBMB+ss5S0AgOAYbbECAKAIALhb2vnpqQFVAQAgKli4r4\\u002fvjyZxRRcEQegkofBQVhOCBZ\\u002fnxYRiymbmSgOxHT3u6eeuchOKcD9cUMYr+RkAzNUn\\u002ff3u\\u002f5PIFGhRmSBvEj93Ej8lg9DG4GGcFxcAymmTaSZzpQAAYDbQD1zb\\u002fdRL2jAz7kMRidEV10hXXCPt66Y2f2Pb9LWto2VCDAQvSiXa3h7ECujtYVSqCfllh9VWAEA7SdpJAgDVq+Mnxbtb2mmjWTx1CtXXHzSzRxsd\\u002fPX+cQmT1Rge46nDytLZ2L4ttDOgL8ElUml2ofHkMI5U64HDXFFoRqywxiv5+aJFMq+MK\\u002fIjwkj3mHh86WrJ7MWi3En8UOHFPwoswwxdbs2HzcI8vqb3iptlD\\u002fxOOaJVdwEgKha\\u002f7ReK236hOHXYte5jy75tjqBTimPEZmPi44O87dExqHtC5taAH6cideYw0e3+mDZuY5wuADBv3RX90N0IQRi\\u002f28itBKDSjvi9uwDgo932yXT6qCQjN3XNo+bKk6S+j6UplMfnaaLlBSWU3eLu65LmFPkvfmmpOeN39cgY8Q83bPKzNCuKKw0GgmHy3CmEUo0ggy9G375NflV+HNR3XskVnYelqGEV1owFohvvkRdPF\\u002fy4llRQEAyXpuZ4bCZugR8sC+s+tuzbZr\\u002fvcdXyKyWj+BbeoaKuh177gfn7T63Duk5GxKlTnmuvE777X7s3cNQLn49cfbXw9OkJsezS\\u002fniVu8vY\\u002fMzX3IJgOM\\u002fWeg\\u002fczS3tjz+F4ATj5Hp2AEAULD\\u002fhp0vWo894DzSzlwSWAC6RJVyzhiO0PPeo\\u002f+nE5hKOMfnZR+zya8VJGY62Jkl6rr21UZyapT8a0hF+Iel+OsC\\u002fg6AoppaLp08i4qN7n3vLv4hDUang4afV2QUh7ZeJJmHFzbhE7j3WTF0gD9wvB0EQnkqLi6ScSPeg9PfSz\\u002f5a98U75jWPKucsEY1CbWljsAd+p7r1QcVX71q+fNc8Xmrrzf\\u002fYv\\u002fhKtXGz+p23HY2NFE2z6en4mrvEGZn4n\\u002f884EsdX\\u002fixyv6Np7jSEGByGW0eSMphPdSAI\\u002fn8djJeEARG6pS8yOnbuZ4rGgkTm0s4xuRnH9K03KYPXqCs5rTbf93x\\u002fYfC2CT1tAXcSj8G5LkOrqgJHMcqox69TXHdJfp3AmIgvPD4yK+eUq++MWQY8YXB2lQlTS8QJ2cCAE+p5Sm5gS2U3ao\\u002fuU93ePgEei+NteQT9\\u002fSmZfNuvEe+5HIxHmIRuDBIpOidDyuuvl327kvGbz8JHnc6Io4cIR99xPzMs7K\\u002f\\u002f0PmE9rt7O8eN+\\u002fbO5DoPr4wTjLylNKoB9bo3vmI0Go8fX2U3ggA0vmzlFeuok3mvjfe83T3AvyvaSsA0B+ZKFNjHHIJx5j87APBcNobOIogAODsbhMlpHHqXFQ4TtUor10+VBmro7AXPogZugPFiHC7WJuVcTkYp5N1OVing3E5WaeDcTtZp4P1LoXOvWYI5trT5trTCILm\\u002fOpvvbu\\u002fN54NfBAMy1lEP0Ka68hnf6174x+Gy2+UXn6DTDNyh7FMgT7ytHrltdLnHtM1VEeUSh2Gdd84t211zZrNT07GEATa2+gDB0hL2KjIsWA8UCubkta\\u002f5TS3IBi8+Ni4PzxGGYyYXGb8+nvb4ePyZYu6\\u002f\\u002f6yICtdcdklurc+AIhw6PMzADAeuYTjlfzsNvQJohOc3W2U1STPLyGNkc5r\\u002flggBA4Y1w+tjcFe+yI2IfSinRw8JNtYQ9afJduaPZ2tnr5uytBPG\\u002fuZ8Ct7TCrjR6KwvLAs49Z1swwzdJ+SsaDvo997yfTha+ZZC4Urr5POmC9CI\\u002f1EA2Tm8d75Pu7VZwzffDQwaBo1Nhu7dcvE+NiH0PnuzvQ\\u002fXh13+4K+b49S5iARFf6wFNX1l+cpgwmTSaMfutt2+DgqEHi6uqm+PvmS+d46HpJlGAg1FUNTrKF\\u002fopRveNzucI1wdOBSubJ4um7fVm5BBIxPLuF4JT\\u002frDm6l3S4A6D+yM+nae1GC6N29gVvp4gDBMV5qgmz5HE9HQKIcj4\\u002f87a3oSLSVvo\\u002fetdG+f7uj8qSLnIBmwcFUdYw0TUgHQFPsvm2Ofdsc6ihs2RWSS66UpGWPwLQkCOTRv6hjE\\u002fHXnuNGfl60pDy6ChXwYq6dEXPtDNpJcly0Fde\\u002f6H9K6Y2UwQQAtMUKKIZgmDd8l6VofxVFulmBMPjAsLuDum7+EKfEOIEJeckPLGl+IcjE5QTBU2k1c5YFVVgXLpdwXJKfbU013gNHx7m6V\\u002f6AYgTtDunLv5Akf\\u002fg3rggAAFjSo3\\u002fnK3\\u002fJfY8rw+zg4KWjxfPff5t2bbKP3X0TOYYzh7ii8UbfR3\\u002f2lvmzt8zZhfxV10mWXC4Js50Uhxvulut66C\\u002ffNXMLxoBQiNx6m+itNwOSZsYHBDwGq+ngwPRfeDx9OvWNV7samvkpiaiAH\\u002fXLexAcx2RSlqb9HWE2CyMQBjdQRZJIf8ZRIJuUzNdeUE8rxhdwRee50LmEY0x+9oelKHpcxy9jwbp7yGwFRVP9RsfxKspv2ZnULN7Vtw36fYPy1XuW\\u002f\\u002fzNMDTx7X8J7x7Or\\u002f3VsGy15JrbZZFsWw0ADz6hrK10j273qqBotOiTf5BOhMJqfm4dVxQa\\u002fadrFSuXSefNpPr6u\\u002f\\u002f5Ki8x3sLuiXn8l8Aw9hPlvmp9PVQoV6BMgQZOKganZO3DFfe84zHaC99c42jua3p+vXxKSuxV02qf\\u002fFJRlp5wy2xBgorx0OZjTc0vb2EpGpcJM\\u002f94hTg1ChUQUz5\\u002fCAB6vj3e9dURAEAFRPLdCxXTMxEU0e+taX93t3eQpJqTo5qdbT7VknDzLFwm7P7mWMdH+30fAJfIgGW96xeEWS4Yl4TUjxc0l3Ds4FK5duZSviYG8TOVz338sl+VH4cIU3NuulceauskL689Z\\u002fj8nfE0IiJnFLmEY8TlYL\\u002f\\u002fzPr9Z9Zpc4W3P6QoKgvZr3rBcOTxv2puWdox7JsZIdKIl5+fUBib3fDFoIJzmswAoHvjfUwmcdY2+OS9nVReCNscxxGVNshOSBzsjT2iVK3NTbE0I86IAQBRWrS9oQcAXN3Glte32Rt7CYU4\\u002f8Vb1Avy+rdXUhZnzW8+i76sRDUzs+Z3X\\u002fjfKuX+xZiIX3HX2wiGZj19VdwNM32KSV6c4u41n7nrHQRFcGmAVkq7+zeMh2x87RkAyPr1c\\u002f5FI2PccwkL\\u002frDcY3bVvbrHeyrPi3X321x9Vv86oyB+xY0sTZnPnmDpiD7oRYVEhi5eFS5zbfM3tnHUVvxgy4qGYRS5hOPF0X3Oo\\u002fuc0+cLf\\u002flHdXJ6OO9eSgaxaKUkki2gFy3m4zji9bJfeWXwzjwlNbjBcjFAdnZBZ4CkszVcm49PJoZXWPU9otQoQBBbdac0PwGXCsTp0fr9tQDg6hgY95B6q6WiTRCr8L+QA4KjmsWFlfe\\u002f500t6tt02l9hISjS8cFebzCAt4IPe2uj\\u002f6lb101ZgzR4XCrnawPiEoYyzrmEquJEa\\u002fPg7cpev67l8xONbx\\u002fwqzIahLFJ9a89xXjGOsk9QQgLMkVTC\\u002fEoNQBQfXrHibPOijpf6dS5wjDRNHYb88ozI3DnDcs4BkaHySUcR47scZ481PngE6pr7gg3ar7mDlkkCuuf\\u002f5QDgFdhvfSKnFs8wSAYyjJMhNZqzG8e4ooAev75KkdSdzZcyFhWPm\\u002fYwbK9oVsxLQMT8mz13QiBSbLjRGlRbe\\u002ftAQBpfkLcdTN4GinLsnytrHfj4FB0KIRKgmBowSu3+ST+ionU2\\u002fxDl\\u002fzpXPeh\\u002f2n\\u002f\\u002fm1BE25kecXxV9zClQYyzrmEhEzoMY+\\u002fO5x22lGCdzEqLBTV3H21eGYxADB2BwAiyE2TzCtzHKvUvfkF0AwAFE8LN+TZ8o3NEnpR45GC4YgmavjHFCHhcwnHEQ\\u002fJvvRnvd3G3P6Qglt2ntxJfKkctZqH+a1uvdXof\\u002fqHJy0NQ3b6ysrGn3k2nHIcNcXrf9fwu0+tFa0cuXZVqWphQd0jH\\u002fgLbfvPv3sIgsnlkhmllu17\\u002fCt4qa0Ip7Dyi\\u002flr3+cKOdjre2KunErIRf27q1EMFefEYWI+qbOgPDznuevOvbKlf9dZAMh8cnXAZUNiwDwGG0szlfe\\u002f6+o2cYpGBBVi80GGHEbzjpTh3wTGQ\\u002fMUI0jfj5DevRsTrrhdf2SXx2LybY3n1v34C1HJLpktnjHZtHardecRbyIrKhJIF05XXL1U3jbPvH43AKRmhnvn9+8YJlpnRCQk4yONeApFJLmE48s7LxjzJ\\u002fPL5gQfx6EoTJkh3LsleFv3UVUZkCR48ADZ1MRVWBOxdF94aKtTmKThCG1HTvif2k+e1t51i\\u002fUAd2ze1UaF2Qlp6hzRsH53d58Zl\\u002fAxEc\\u002fVaUAILOPxVY5zfQCA8HCUT7i6jAAgyY6VF6c4z48QAYDU2wQJalwioGwuBMdYimYpRretIvHO+ede2ULZXPxoBaEQ2Wq7fJdEQue3H7t7Awe952HGlpKOyeXSmdNMmwdzM4ZXWPZWvbI4MXphtuFEK+2iAABBEZQX7kKG5LanocSvvBFBENFVd\\u002foLq59\\u002fzP\\u002f0R0E6r8y297h5wx6fhHG4zBv2YBqFZE6JV2HFxIf7+vVV4frPkZJfHNw7O5RxzCUcR\\u002f7zd8P7c+K50vPEhdj8IhRffO7sDebfsVq5tsNEg\\u002fBw76JXYaD69UQUV6l5ObjTcdkNwWfQ5Ep08rTh97Bx91q8FpOztZ8fIzcebgAA2uZqe3d31lNXAYC1qr37m2OI36tqOtponZMz+cP7Gben\\u002fcP9uq1nAKD1jR0Jt8wueO0OXCb0GGydnx4cqcKyVIccdTo7W+tf\\u002fCNXGjFElFZxydKRKaz2b8\\u002fkP7Gs8I+X+CTJ15UkXxfwMnDYseAlrmgINf\\u002f8DVcUDDr0JsDEaFfDCA+mVrob27hSALKpXTK31HscxqlEulnzuPb2ka9ONe65hONC\\u002fVkyzK48SnVwKyMUj\\u002f8miGcXAHp76RtvCBJkM+r2QyjFuGzgl+dFy4XJAT8moZJEXznN1c71VBJxMb5jBMPEUyZ5dNw6Xg7sCKmwAGDV9dJhFVbdH89HBbLsiStf9Mm7vz7a\\u002ffWQ0BwAAGBppvEfP3CEDEm1vbun7d09HLlhf61hfy1HOFJYhhnLVvWogNtbB29G\\u002fnRvq2FpNuGyQmG8AuVhhFTAuCnaPbwNNS6E8XFJ5SObO4sQxmbHtSquFADXqhjrwFgPD+1xJ8mQb8gokMjQGQsiVVgTlEs4djpaPaEUljjicNPwUBQc2B+krYy6\\u002fagWF8XdOg\\u002fBUABIfmQltxiAIanmZ7\\u002fhCOOeeMR3zNKMp6fX8NnXfuWDHNvnNOrpUPp60QrxOy8Yu9ou0Ft24cFkMmBZ2moFAFQY3GMA3mqBBG9GHHp21vbsrAUABEUWbv9l27rTY58lFETFkcZ+xkMCgioKShEMM1UcG\\u002fpGOe0hrRVVxOl1I8Jxslq6bJbrbKOr7pxPKMhJky6bZT+\\u002f95fbxYolvsIAROKIAv8i5IqbZaFyOEIxQbmEY4HPD\\u002fkVnI5x+qVCMOr207v2cP\\u002fGU9LilLTfX6nbeMrd5ef4Z1nK4rRVtZE6blJk60O\\u002f5UhC4fGw67+w3vqgglsAAAAYjtz3uOpPv+jjFlzECONTeGpt0CBSw7F9HEncE79m3WTH088BQNI\\u002fnuGUhiEiheWDZVjSMHoDz5+4S6\\u002fv2fm9o71JM22BYtJ02mkXRMV1b+N2WbrQG6mrtVhULN7XPc6vpWnddkFuWvTv7\\u002fF09VE6AwCCR6mIWC3Z2mX6ZiBLwGJiVJrgzR1FQake5WL+HNRa7Ob7B3xSI2LicglHR0zoPdlHumNoairW2clEbsaOpf3QDrfpYJ27y2g6UDt0lnDsfPuJ9cZ75aEW7Vm0UrxzvWjv1vGcwJkgMJE48do1wvgUbsF5hiosV32j\\u002f05oZHcPbQoy2McUcl7s4CgbRqqwAMDdb+OKRgVPqXV2tiAYpiqb1\\u002fbFmx6LMf3u3w1VWN3t4ZaRLJ0l2PT1+HweH4zN0f3n1+WXzBWW5Auy0wDA06c3rd1q2XbQt0dhTweVkhEyKnLSVMGujWNV6wgCv\\u002fuHJvIEPX8uQC5h5GTl86JiQzaz1rC7ew7l7f8qW85Rd99l4haEYOztx3SojnZEOovCi4\\u002fz6PpZkgQUlUwrAQyzHz4eNMUEAPq6qW8\\u002ftoYJVXvyBW17S3dzXehh7cVB1PwVwvgUW1OtreEsZ1n3UOje\\u002f9j\\u002f1Lxlu738jL\\u002fEi3jKZO3tN\\u002ftLQrakUNT\\u002fZx9li\\u002fT5hcEb4C7NKPAY+126LgAIupFqw9lwT+uaO+TDNrhRwLpI07c7TN\\u002fu4Bacp7mOnD4\\u002fiOnrZc4S0dgV1gO\\u002fU0Xubh81ciVqs7ITmph9wz3hjMTqMyNrSykp2McfRfRKeBl7++l8fzdXFBr1Ldcav\\u002f7B1dgsXzxPMmsabXPw4mMNX37LrXee918xXnJ1yLxxsQR96ZOYR27paaoN9y3GgkyBupzsGFcQEadmOdqa2r94m1sQMbQt+PvCuLjNI\\u002fgvFQZTZdeIVmUIhaOjOX7ljdELVulP7gMAXCoPGrJRfcY9xK81SFY+b\\u002fmVIZxJE0nlySAf1cfiVZKktJD217CgKDz0B9WN94Z7zyMAkWYUxC29NumKNbKsSQMiHCfkKhQf\\u002fGxzl4nXHUxc87AyOuzGU6Pm8hulSy8P+YDqz5L60EO2oNhsLBXOZuJygdsPrtW4z7UiOCZdOFf39od9r70jKi7kVvLDbGTCr7Sj1mL\\u002fWRu7aGW4PLBRgOHIrEWi596I+uF4UuRLrYUCl8ocbc1cacToPviE7AwexsW6uC\\u002faiBXWeNG1+SvSbOg\\u002fustScxoA+KooY3mQgYzVzFSd4n5of37znCbySKVQKK+\\u002fVFiY5T0mEqI5ixwO5dgBp9sVslNCMfjzq1GiEe4640Ubg\\u002f3rg5jr7xqTtkIQNPHy25NW36ksmi5Nz+cpNV45xhNm3vV7Vclc\\u002f8qaaOzOhxXfHEx87cvYy26Qhpq3GikYjtz3uPKxZwf+dVA2fGXlioZj00bX3HnDPB1\\u002fLkz7GYSmAUBYmE\\u002f168nObsbpRPnD3Hz9F9Z928LZjBIp+pfXop5\\u002fNzol7ParkSAUo9PnC3\\u002f5J\\u002fW3hxOffzd6\\u002fiXi8LEdEeIxGQiZgiuNGPup04wjeC6Nu6W1\\u002fYmn\\u002fCXDv1QFf1ie\\u002fdB836k8L1YQJR0sHi200963d6NPSdlbG3SHgscHbf0unNEuECKvfxl71W2y8GsnhEcyt4SIi\\u002fIexz33MD81IbCci8vB7t0a3Ij1kpXPe+mTmLikEZgtQjF664OKT7YnTJsbcrAZIaqSubLMQnPNybZ1\\u002f\\u002fWXUw6ro71Jmp7vL\\u002fSCIFA8TfDbv2l+OJ705jexd\\u002fxSUVQmGF1r5guQ1TdKP9kWf8sDilDragKAUU8POxwbynPPWmUy9HdPSNXq0LcO5AK0Hx+uxmb1bdcrr1hh3b0fADCF3JssEZ6\\u002f\\u002f1bXPtz29LMWiT7ZlvDSxzHLr5TIlZF+dwSBqFh86hzhXY8o31gbu+VM0gsfxFx3p2zsVpU\\u002fxlOHpLmT+FFx3IIxwzIMbQ940YZ\\u002foyYo+Tlytn5nv\\u002f+3Koks5EMieMijf1bffJ98\\u002fZfW8iOuukrSETiZTRCIRIbKFKhKi6m1mDoKj47DouPwmHj8P383njzkRAUC2hpOAQ3li3fMYQY7AJBfzP9oc\\u002fx3n1nXf2FtbQrZHPkCpHi6YO5S8ZLLxUGNMpeTffFp\\u002fRP\\u002fCGeqcFAWlDk6z3Vs\\u002fJRbAODW98qyB0aIQUFRKCwRFJYI7gIg3WxjDVlb6T5X72lv8XS3UwYdzfltAUAgQuISibgkPDWTVzJTUFQqiGRLzjf+bgwTcxCKf78oF4qQBx4UP\\u002fCg2GZjOWuNTSoMEgdwAdqPr6b+s69li+a5G5rtJ88AABEdZfVlF4bGbGQeva3nrXVxoaaevSAIlM0Rls0RMgy0NXvqq9xd7ZSum3LYWbebJQgQSVChCBVJEJEIjY7Hk9KIxFRipGExESLLK\\u002fYdU1azu6879c6HLdWnXT0dlN3GSVoMEwo\\u002fUoZXWBOU\\u002fBw5TjvzwaumXzyp4hYEEhWLr3lY6T32kKzVwgAAQQzs\\u002fx5Q1Q\\u002fv46Rtdn56ov3QCH7Wuipy23e2pavD6SyhGL3hbrl3gc26SndvF2WzMi4ny+MhIikaFYMlphGpGUSYvp2h4U+\\u002f6Du403HrA\\u002fL45EhHBDyltv\\u002fEHq4UAAAohw0TROrL5\\u002fGRvMn8vMkBgxoPyXrdtCgGfAEiEKCjSHXcvcm+ce2Ix4MAAAj09tKbNoX2Sw3hArQfH4zNbvp+k+\\u002fUVdfgqhtcBisMXW3UI7f0vPhxTHid5QVFISWDCDNPfQEIugaDvLBUXljKlY5BYWFSibh4kmXfQZ9keIU1QcnPI2Lt+5bFq8Q5RcO4A3wQPCSSB+\\u002fDcbJauniGID+DNtsAQHnTSsYR3JLv\\u002fdvgVMjLfzEUTxdqY4b\\u002fR9oYTBsz4t+QYeAfT\\u002fQf3OkAgPIjrsgVFkNR\\u002fp51fwipgnaOzJbkQPCQMEvrRMLZcvdzvxllmNh995i4ogiY6PYzLjTWkPdd1f3iR9GRP+gfkd7t33FFEwARE626+oqRKawJSn4eERTF\\u002fvEXfW9\\u002fGzdeLmEOxs830marMC8DU0gBAJWIECLcF\\u002fRiMtBP3t\\u002f7yqexAtGYXuCgUBT7zCO6HesHlMupI66V10XqOnR2t0hSc5G969nAiHueXC3PKbY2nfUXXmDKj7h+d3fvKAaDY2Gi28940dnqufuK7if\\u002fqZm1aMTd2wVmaCzoRIAKBBzJ8K\\u002flBCU\\u002fj5SuNurhm3te+iRmItocS3rM3+00f7cTAJLefUb\\u002f1leu2oimac+Wux+7s+cf\\u002f40Wj+veAWYj8\\u002fQv+47tHxyJlx8JbvEFRXdkZ+p1DyRfc5\\u002f+5H4AwIUSUXyqODFdXTIPwbALvFqDD5aFr963vP5Xw4SGfYViQtvPOGI20I+v6b3mDtm9jymFwXya\\u002f68YjcL6cZOf\\u002fWmsIdes6nr2jahQ62GPC7RxZL6V8iOue1Z3PffGOMw6ezl9zPX0L\\u002ft0PQFumr5uqrPVE+FgwdHR1LHp07il1yStvgMA1KXz1KXzAIAhXe0\\u002ffOjq7\\u002fbVrK1wN9aSGTkjCBQYHQ3V5L\\u002f\\u002fpK84MQK1G4b8AmL2bF5sLMaybHc3c\\u002fAAefZsyGkNHxem\\u002fYwLa9+37Npov\\u002f+3quVXSvwyWMYThoaj+xzrv7T1hk5OihBCoaYdNobkBnkiGMZTRVE2y1AvRMpLz3MkwRny5YdXWDAxyc+jo7eLuvfKrqtvk932C4VCNSFdpW3\\u002fCdo8Mp3V0ui5\\u002fdLOmx+Q33iPPOhMX4T0dFJv\\u002f8u47TvbkIUhAUboxjLXnLK11MlzioXRiZhAQLvdzt52c80pTtNpqCZvv6Rz2lzhimulc5aIxuicCkrFcdeX71n2brEH\\u002fVIjRShEXnxZfuml3I530ybXI78yO53D\\u002fI8L0H7GC30f\\u002feyvdR+9brr2TtklV0rH0e3Q2uTZ+q1t09dWTqc4aqIWXCpOyWp45WluEhILybc8aK2v7N7wZYAcAFCUMhgYe7gANABAxWJcNTAT4iUiheVjHJOfRw1Dw1fvWX743LrsCsnyKyUFUwRhgn1CYTUz1Wfc1eXu+iGra5u\\u002f38WRRILHw77\\u002fsumbDy2rrpeuuEYafv8FDhTFHtvn3LzOtn+rI8yeYCNyYwEA7bQbyofvV1gWjux1HtnrFIrRslmCafNEBVP4aVm8Ucz9+WBoqKlwH9rl2L3JHiakYxQ88XvppZcKPvrQ8e06Z2cng6IQF49dcYXglltFuj7mj3+wcC8YwkS3n\\u002fGlrdnzrz\\u002fo3\\u002fi7cdZi0fxLxFNnC0Y3TuzvpU8ech4\\u002f4Dx5yBUm33t0COOTnZ0tXG0FwDK0vblWlJTBkXsxfr8xaP6gP+KSYu1tN\\u002flLRqawYPySn8eIyzmwr5RciRZPF2YX8FKzeNFxuFqLiSUoj48AAEmypJt1Ohi9jjb00bpeqqOFamkkWxs9PZ3UuHT4HCwm5tM3zZ++aU5IIUpnCrIK+MkZRFQMLlehfAGCogjpYt0uxm5je7upng6qtclTdcpVc8btGs40AICt39q2fjuBP77Tznh3dQYAgRBJyeQlpxOJKYQ2FtNE40oVKpaiEhkqEKAYARiGIAhQHpYkWbuVMRkYQz\\u002fd2erpaPE0nCVrKt0ux\\u002fDfaBSsukzw2aeOPzw5qJi6uugTx0kUhVWXCSJRWF4uzvYTCruN2fadbdt3NhSD9Gxe\\u002fmR+WjYvJh6PTsCVaowvQARCBAFwOliHnXE6WKedMerptnNUWxPZ1uxpa\\u002fYMuw3PWMDFUnPfKa4UAABIk0GSVcCVAgAAPZx5BQDMkNScESus8Up+Hi\\u002fMRmbPZvuezT+y3ceho8XT0eIBGNnQcnzhydXSzAK+OholBIzH5db3WhuqSLOeWy8YLidbW+EOv1fCj4JYjJw8GcRkO3XKc9XVo8kQGHv7kYFyKrLIe1zPnmmDiAKvRgdDQ0M12VA9UbnQo4NlWWSIs8kLihMIEsQkNHz9rad70JcaiqG5hCNWWKbKLq5o5KB8PP2++ZpZGYRcSDvI7s1VzW\\u002fv9a8gyYwu\\u002fOuV9S9s1R+JaLYuDJL0qJK3bml4eUfX+mHsT3\\u002fKLtVMWqj+72N13IKfBkj0vJWa0vkcn2XMvMv6j+\\u002fu3bcRIty16uLj1ElPVlaQRpufT5SXB1FkP3MBIA39ouR0rhQAAIQJyR5zkOxu\\u002f9CqMLjb2jufC3DPB3n2F4DE68riVk3q+v60paaLkIscrcG7fe8CtT8KkxaqldETPnc2QahL52nKFpCmfuOZw67+btppRwm+QBunnDxTM3Uh5bDqTwR0Dz8h\\u002fvRHy0efKLs66S1b3H19NMNAbCx2yaWCy1cLbgq2pvv\\u002fW3CMn51y6dmmb7kFE4C1rkI7d7l6xkL9YT\\u002f\\u002fL4JqZi4UxqfoD40+jIb1UJ7egHSrUSosvlaSdOVkVUkSXysFALfOajjV3vHdGWdPRE4EZXGSo93Q8GrIb2Jr6D18zRtc6YUCxZDcGYqe5uHH2BcnqkkzSJO++eMXafdgJJe9vdFYeSTt5kdUk2f9dBXW3\\u002f4uk0nRPz8j+\\u002fMzwLKDFqTLxa77Tu2\\u002fFnNqco\\u002fv+P8hSlmqgCfnSicGw9G98vwpUQtXKiZPc7Q20i4nLpEJ45N5Kq3HZNAf2c29YAyMRmFpZ6YVPLkcEw0aIDyFUJoZlbB6UvXft\\u002fXuqferGxyeUuz+sWcbgzLvhphZV0YnZIkJASrTyN+pm+0rujfvIOO3BUtWmfzS+xLSJkkJPtrb6jq0rnfHh13+FVKLpLOujM4sk6nj+SiC9LY6D3\\u002fXt\\u002f2DTnbiY7wJmcpQfsBfW3lhPKSloUJTtpAj\\u002fwnR1EQ3NU2g\\u002f\\u002fjCQOCivLTLlbJkBMEcLkN107dWR8\\u002f80icOnXmV9NhmFD1odfRUNX6jlqcnx806VfMRhvKykpdplTkIgvToKxvatjMMBQBB5QQumpR1vVQUg2LEvJLHAaC1+3BL137uhxg\\u002fGNLd8tFrMUtXS3MnK1TaASnLWusqe7Z+E+EapBEyYoUlSVUXPr2CpZjmj47qj5xz9VkBQQRaiWZ6atLVxQVPLnd0mqwNQZLmASD55ukxywt4aglKYMIE5bwdv\\u002fbKT9z1ob1lILks+9dLYy4p9B7X\\u002fn1T744a77GXrIeXiNO1dc9vSX9wgbwgnnFTluqupjf3OjuNvjp8jST9wYWqkmQA0B9t7h6J66qnybn\\u002fq14Uh5ufzuhtcW79b6evyH\\u002fP7mmrtGuez+5tdR74ptfjYrKmyq\\u002f5bWrGFNkbD9X4Jo+W3RWfP1tZfcB4eqcBw5HixeprfpsqEGM\\u002fvNrmu88E4bGZETz4k8UEYspm5kp\\u002fOoTa5uunRUrcLIal9p78JwAopIkOlwEArPYuqSjabPOwLCMTxwGAVBxrsXUBQHbKpTjGP3jmZRTBJmXfmBo\\u002ft6l9Vyi5h3KcqH4vMWZalDL3ZM0H\\u002fv934qAdts7vPkE3rRVEx6F8IUO63X1dtIvbZY6d4M06DKm3TEMw9OSv1pprBk1ud7\\u002fNXNOjO3yu7PXrUm4sq\\u002fzzRr8rBtHtrTdXdgJAzu8u8VhcTf8ZsBVdPYOtsPGNPe1fnVAUJ2X+cmDmhYM4RVP0z2tMp9sbX9vF10oTrykt\\u002fOsVx9d8wFIMAKA8fNK\\u002fruVHSdvXnnD1WFRlKTlPXMq9RWjqjpnrjpkJPnrz0xnmPnL\\u002f2iDDComSuOUvGfUnzP++vcpnUt31r+xpq7STFqpP7xzwx3365ya3gyadAwbVxv+0Pbe9dPbV0RdAYZkqjygnz9Id2ko5AsIgcLFUllkYSXDWz0woTrcpWl0QpczRGWuNlhav0GLvkohiAEFMtjaFNJnAhVJRTK\\u002fhLIJgcdrJhytep2mSBujsPZEaP6+pfVcoecB\\u002fGgnKqOz8GWsA4MT2v7kcgxZA5DCk29F+jisdV0assJSTE0xVXf7ayoeltsd0pkM5OZ5bcB5Hu8HRbgAA2uWh7G7TmXZuDQDaQTocBp4q5JqwmJDo2VzZeF7Z0Q4y\\u002ff75stw4c2UHAEQvzhMmKOv+tbVnSxUA9GyuzH1yRdSCHP87jJGySzV8EbYzcAB4bINu2ipt0XylT2FZ9QGTVk4b3VFnz5muQFCYiFGhbx1kANbV30s77Wm3PGquOeU29LIeD0Lw+OpoRV4JaervPz6ePoWfGQUdvccpypkcOzMndWVr96HW7oMsy5htnVplNo7xLLZOFMFlkgSJOKahbTufJ0EQdFrhvb7LaZoEgFDy\\u002f21GrLBwKd+tCxm+6DbYFYUhFdZ40bWxwndsre0BAEGMzFwJAKCckgQs27e71ldBt7d+fBVWSoEEAB54PZdbACDTDPr1CAE65+rownmq6BShSI7zhSjOQwEAQRB2AqIKEi+7jSsC0EzluqtwsSznwWdqXnmCI\\u002f+ZC0yPvqpHXyURRU\\u002fOvpH02Lp05RZ7V3LsTB4h7u6vQBBMLknAMYGLNCMIxrLM4Yr\\u002fOF0B06Bu0hZUPsD4N7GLghErLNLgEMXLudLziOKVF8Cb7vKbi2Q8FACgxEAiCV8rJU1Oxi83290\\u002fztGbQhkOANvf77QauIE\\u002ffa0DcW4iGf7bz4riMkVndhl2fNhp7CGdNvqq36R4ld1E0Lt3PVd0oSCAHw8pKiRKDDICeCiES+pphfoGdrC\\u002f4YACqoV4DRIjAxUP+BjgHnA7waFne3qh3QEhe8qhjOOthCCORZI1ECsAEQ4ECS47WHrZjh5oZ4BmYMQGs0qeZnf2u0mLizSTHjuKYADgcpsIXIhjfIdLj6JYQcbVNkcPALAs3aUrz0xaUtP8g4dyCfkKHiEx29pDyb3\\u002fwu2xiIQaAhd6KCeKYAz7E5ipyC65EUGQ2hOfcgv8GLHC0h9vjV9REDUvs28vN6I3ekGWLCe64\\u002fsROLlHB+PmaooAOEkT493VuGw0AJzapm88FTKGY9EtcXGZou3vd37198EhPR06T3Ds\\u002fFgDvQRIz0KKwiupCImC+EykSAgB3gA+CPkgVCDqNMjrhOYGtpKG4VPhxvFWyZCdjuT5f0EBiAQgUiMxKZBdxR4jYcT5AApJUkHGVTjGp2my11DdqSv3yp1uk7e92h06IV+pMwwMFGpbNqUnLJhWeD8PF7k91uaOPV7FFEoOADpjXbQqf3bxIzTjaWrf2RkidebiAUVxdWy+1RjETeTPiBVWyyfHoudnFj21ondvg\\u002f5Yi0tnRQDhayWaGalRszNIk+Pcx8e411xA3P1WaW4sSmCMZ6BL8UaKjQivcwpBg2cbtFTZZqyOyp4mD6OwYjNEAHBy6+C6miiGxKSNJnfkYiYVctORfO8xC6wVTE6wIYBKQS6EQVvSA6QJ+p1gc7B2I+h8cn\\u002fSIC8NyeNK\\u002fUAASYB0OaI+zR50Q7jpp3G8VSZSlAxZXOl5RCAtQeaVsyOexGju3NPcuYcrBSiv\\u002fdh7wAK7+\\u002fhzPjnDeBratjW0bfNJwssBgGWZysavudKLGJk6BcWGXzKAq7AQDI+dtFiZOgnjCys+e1oclcyXaQyNJ30VnD2W8se\\u002fK3p6RfT8zOj5mX6XgqPDWPHURrd+woeEYTCWt2nnZUctzOnZetYr0c4N+JCRQFOsuZ+MThHiPJQiuQb\\u002fsfV9qx9OXnx7\\u002fLENOl37YK6TTEM4rbTHzQCAqdcNAMoYvi+d8JJ7EsRy7q\\u002f9k0YGSp+2soG5gj3i8Mud1EJcPlKGw0ATPMsepyCkXZwA6T4VwwDTCc29bIcDrDTQPOArQJOEZEpBAQBSUBQjs4+xuxgIPsYZx1tFQYK\\u002ftuqEc11six0sACAAkQZik5EsAniTkVmD1\\u002fy0mcARwLAooyNyNHNfoYSylSJ1fPeZHcmzrgYAymlNmXuDv8ICAHN198FbPohZkKWcnMDXSADA1WfVn2jr29fgjS0YNQiO8lQSXMwTpagBQBivlKRrKTtJGh3DDAPP07u9OvGassxfLhbEyF29FsWkRGl2DLdSBBzf2L\\u002f4trjffFxYtd+IYYhERXzyVKO3yGai3v1N3X0v5\\u002fzp++LjG3XGHlKqJmLThVll8t8vOanvdAHAkR90i26Nu\\u002fFP6TGpQo+byZ6myCiRNZywZJbKAv7NT5kUJNt7QAN9mj3ogoD4QB101bHl+chUACCAFwNJHdDkX8GHCKRZSJH32APkKXafFUy+UidQTrD3sG1ZyKREyAAACcizkKJadmAY5c843goFNBuZ7Ds9yx7rhsF4FBuYbWDuZltLkHkiP1tyKNMveRrniY5teYam3QmZCzVxhXyRkqFIq6m9q\\u002fmgsXdwdshHcu6yxKxFLdWbOxp28\\u002fjS+Mz5qphcvkDOMJTLYTB0V7fVbedcwhPI4tJmK6NzBCIlgmJup8nU19DZtNdlD+aPBxDLYhIyF8o1aQRPTLqtxr769rodDB1kgDx12ZM8gby9fmdrzVZOkTo2P3fqbQBwbMszpJvrKeYLFbGpM+SaDKFYjRECyuP0uG1WY7uxr66\\u002fc8BrhPNESVmLxPI4sTwOJ4QAINekzb48IHmwo2FPS\\u002fUm3ylXYSnTJp\\u002f95h+02+lVWG6rkScK8o4xbqprS3XXlmpuwdhQFCUWPX+17zT5lhnJt8wAgOa397Z\\u002fdWKwXmgYN3Xmsa8yHlyQcHUpsKz+SHP5r76Y9vFd3HrDse7fLR43U3qJ5tL7Ekkn3VEXYDae2WV49qozl9yTULRAJVESdhOla3d+91KrRT8wr9xWbXv1vurLf5V8yT2JlIdpPGX5xw0VyQWSi19h8aKi+UlJ1hPHuQWBIICoINp7rINOjrby0gPtWTCJAD4AqJHoDja4wkpBsn0eomr2hL+K8cECW8eeliIKBWgAIB7SWqBu6D8dx1tpIZ4PAu9xD7T5aysfbnBWsydKkfncgiHI1CnJucuEkijvKcrDlVHZyqjsoIrAC18oF8ti82fexeMP+DRQjJDI40kn1xGhisnLLrkRwwdnqIVijTBVE5M8teH0133tAdYGAKhjC3JKb0LOL3jGFypikqdq44uaK38IrDh64tJmpeav9P0LACB4YoInFkmjCb7Yp7AInlgTXwQADE0yKI5iBMvQHtLmuwoAKE\\u002fAmJ2rsIBl\\u002fXcuwPlCyj3+Q7zjd7zPFQEAgPFU697FL3ClftS\\u002ftL3+pYDuxVrfy7nErbOefTrgpz+w6hX\\u002f00jwuJh1L7Sse6GFW3Ceznp7+LUcqvYZq\\u002fYZ\\u002fSWd9fZD63r9JRchspmzxHmFwyos73yZ99jCBnxNH16vlleviSG4JxEHIgaSvMcWMOqgK7A8gCb2bAkyDwAQQBKRDM5s4zjeCgBikETfcSsbMtvMBP1WMEtBzi0IJGvK9aTbWnP0Q1N\\u002fI0N7RNLolPwVyqisxKxFVmO7oSdIxy+Wx+dNu52hyMbabyz6Fpom+UK5UptltwSsyiJRJOaW3YKgmNXQ2lKzxWpoZYEVS2MSshZq4gqzplzrIe3+dpxApMouuQFBMYe1t6niO4uhBUFQmSo5NX9lxqSr\\u002fG48emKSp6UVXg4Aboexs2m\\u002fRX\\u002fOQ9oJnlgojVLH5PX6KVCnTXds64CrLrvkBm1CscXQWnnwTV+FoaCcc1NbVcqc6wSKaADgy9RJs64xNAfM+glj5YRsoOfhgEv40gwtIeVzC37mp4Moc2CgFx4CBvtzT+hpMg8MmJw+7cZBDmr0fCPsYzsCC7kYQUfCgNPQZ9\\u002f5GMdbAYAMVN4DNziDWmo+9NDDFQ0BQbGzh9\\u002fV95ylKTfLMnZLd\\u002fXR9x3WXgBIyl7MrQ0AADJVMuVxlu95qaflqMPa63YYLfqW1tpt\\u002fV2V\\u002ftXSCi9DUMxh6ak8+Ja5v4lhKJahbebO2uMf67urAJCMoiv8V6SKz5iHYgRNk2cP\\u002f9fc38QyNEN7TLrGykNv01TI5xg5OCFIyV8BAHZzV\\u002fmeF7uaD9jMnW6nyWbu1HWU1574NOgoOHK4FlbH0fWJM1bnXfEYgqL5V\\u002f1O33Cs+1SAyZpyY1ns8txj935u89sO2gtPKZr2zk1ta0\\u002fV\\u002f2cfpyg8uFAiiUkTKmMFymhCLCeEUowvQjEcwXBgWYbyMLSH8bg9drPHYSHtZpep12Xodhp7GOp\\u002fP7T3QoIrVYRGS5mHz9fzj30NE9OAnm9gVIgAAjkyoBcAwALBLTV\\u002fLGDSQAwASEGOA+HvyB\\u002fHW\\u002fGA7xsP2oA7BONgZy0QfD55ELO+2WkLmB5lGbr73KH0oiskigSeQEa6gvyX5qr14ZWIQKyWqZIBoKNxjzcd2p+22u3q2AK+SKmIyvKpCXVsPgDouyrdzoCnTJEOXeeZ2NQZ\\u002fsJRoI4twAkBADRVfEt5BrqEcYSrsBiKbN3\\u002fVdvBbwiRzOOwsAx3AkVRGEdZXPZzeo4cABztRkeHUVWazC0IAU+qUmeWKtMmC5Qx3DIfCGA8DAMBCKV8mSawjHUZe63djbbuJnN7LeMJ92jDMPmOv6N+4\\u002f9Rc\\u002fqDJ4J+BlQgUC5YJMorIFTqoTnJHa++6O4YiD1J+eOfWQ\\u002fV+vdnUKFQtXiZOL8Ak8oYl8vd1anftJ7sDhjjCDOzFLPm8pOSUYGAttmczY2mPbvInoDxAiCIKCdXUjhZkJKCyxUAQNusrtZW0\\u002f497vY2Xy1+XLxi7nxebBwRFQ0AuFye\\u002fo9\\u002f+0oBoPnJx1kq4H1wwqCjQIzIQs0vSWDAZ+df3x8+DIZ6hKrjj9Mv4JMHAn8tM4638vrdvLiGu5X7vKUWBrs58LkAAIAv5kgsjxuqsBjaY9Gf4wg5eLUVAJj7mwNLAADslm7K48QJoUyV4lVYBE\\u002fME8gAwGJo5dYGsJk7uaKRI1UlA4DHbQv6L8YO9\\u002f3xwjI0aQveR\\u002fE1YnNVNxtiRWtHp0meF8eVDoEv18aVLFOmFQ\\u002fdxmckIAJljEAZo82bXfXZX8hgyuJHBxUI4h\\u002f8FS8q2tOvs548DigqysrG5QpgWfOhAx59v0cfYKhiMhkmlcbf\\u002fxChVJG6PkbXh6s1oqxs3Tdf+VdTX7pSMW8hsCxlMZO9JkKpkhaXSIom933+ia1ycAgvzs2LuW0NALAURRkNLEURGq1k0mRxYVH3u285Gxu81VCBEMEJj05HO+zCtAzW43HU1vhuAgDcWFwACjwm6Pf6raMhsQmq6CHBAUrQ+kI39WzwcRPhN1SMJIzTv47\\u002fsBTG9Va433sx7K2GrQBDPMdePO4BjUnwRIElAAAe0s4Ol3RK8AcmKIdO0nnxuK04IfQqKQDAeQOPw\\u002fev\\u002fRkXb7V3isDlCD47OXa4CiumaGFPxS7fKYJi6ozS\\u002fvqjPgnKxyl7SNVA2UhcGNxbcR4kumh+bOklKMb916PGaewm7Sau9OJAPmsuLyraea6p+503vduKoDxewq9+TWi0rnPN\\u002fsrFC4JhsXfe4+7q7PzPq7TNCgAIjosysynTYP8hnVKqmLfQYzD0fvbRgKGEooq5C9SXrIi67kZXRxtlHKhsr6k2H9zvqKtxNNQDwwAAKhJF33CLKCtbtWR553mF5WxudDY3AoAgJTX+\\u002fodoh6Pnkw+8RWFoZesViAYA+CAoQKZxIq3EIMtHyrzHJLg7IbixwFWEY2AcbwV+Y7xhb8tGkJoTdF1zX28dvPsPKuQwfBXvvxioF948GGn6DoIEcwWE\\u002fx9jhvs7RhXM9T9lGTquZLm\\u002fxGN0ihKV\\u002fhJ\\u002fhHFyjzWkhYygWMqCG+OnrRpHbQUAlrZAc+BiQpiWDgDWkyd8myAxJGk7cxoABKlpfhUHQRCk77OPvdoKAFiKstec9S9WLlkOALqvvxgc1jGMac9O17lmhCDk02cOVmbZ\\u002fh++ddTVerUVADAOh2HLRgDgJwzOgo0OHXS1nw+t0kLcbOTSQmRaBlKQiRQWI7OnI0sEIAIAFpgq9mgoM4Q675UHACyEY94f\\u002fzr+13JOx3yrQc2LDenUOQxbAQCI86aNP7zz9hFFjtK0Id0DA0n+eRuKA08gBQDSNdCWPORA9AbBD\\u002fJ5ghp6YQh6E4\\u002fbDgB8oYJbME5wFRYHjC\\u002fk+HdMVV3SzChlUby\\u002f0IssJ1qeE2OuDjJc95I051pVRglXOmYs7WOad5hYUBQAOA6gAVOLH3w61XLsiH9kCQd+bByhUjFOp7N5QFn4cLW1AgA\\u002fOYUj5+Ax6AEAwfGhDrWRUs+eaYU6rwMeByIaElMgJxmy1RCDAAIAbnCeYvcboI975Xlc7OBYSRSY+hcU\\u002fyhNjvNoHG\\u002flm9wEAIGfaywonOFkUCSKIO+LVDkQhGG3BB8vD4tF3+I9kKmDdH4SeTyGCwDAahxwJ3ncNu9g0Pev\\u002fRHLYrkiAG80qS8WzB+JIkifZzW2AQBPIJPIg3zlMHjNzFC77\\u002fgYbLIpc6\\u002fniRU4X5R1yX0+IV8eZW4PCBJp\\u002f+5M9IKsomcva3hzX+\\u002fuetrpAQCMj0fNzch8YB4g0PF9hX99H9q8WeqsgTHCOEKTLltv8OHGxYC7rUWYli4pmmQrHwg\\u002fQVBUnF8AAK7WFv+aPkhdyNcbAHjRMQCACoXpf3+BWwYAAJho8D0EAEwskU4pEaRl8LRaVChCeASKD299RAgLTCvboEC0clABAAUeDHAGGA+4LWDsZ7u96xlwL\\u002fPDBP2+Yxko9RAuTg0BxJtVAwA2sHByfcbxViS4SHDxQAAAkuFirMTnJxbCIFUmSuTx\\u002fl5tBMViUmYAgNXYNtTjHiFup8nYV6+MykrIXNDfVcHQ\\u002ft8CScxeDACky2zsG4wj0\\u002fdUxyRP1cQVtdZs9f+\\u002fGM7TJhT7Tn24HAaBWC3XZCAo5j8FxxcqNHFFfhUH0HdVphasxDBeWtHqqkNvB36kcNCUCwAEYhUgSJjh8KDCaj\\u002f8rTQ2Q6RJMLVWeSUssB67xdzuNx4BMFV0Nn94JO226Xm\\u002fWZL72GKP0cGywFOKvKnCbWtP6Y8HmR0gxPL4qSu50vHA2lU\\u002fdCpzRPSe2U2I5bhA7PvD+KLgToeRY9q\\u002fVzK5RJxXkPCLh51NDYCgopxcXnSMq63VevI4tzYAALCecM8YFQgBgCHdZFfwwEh\\u002fb5c4Nz\\u002fqhptRPp9xOFxtLZTJxLicAKCYv2jwgjEgAFEZsoAPQhqoSvZoP4Q0rkNhBj0FHm+UVhSSeI4NZywrQMM7P39nGKKPxvFWAGAGoxZiAUAAIgnIwgQ3KBEtVzQElmXzpt\\u002fRXLXe1FdHU6RIGpWSv1IkjQKA9vqd3Noj4VzVD7K5vxRJowpn3dtSvdkbOCqSRidmLfJGMDRX\\u002fuD\\u002fgnQ27o1KnILh\\u002fIKZdw8EjgIiUSak5K3wJsdw0HefVWgzBWJVTunNrTVbnPZ+DCPkmozU\\u002fBVBrSEPaW+r2ZZasFKmSi6e\\u002f6vOxv0WYyvtceE8EV+oUGjSUYzXeOYb7mUAFkNrbOpMnkCeVnBZR\\u002f0u0m3DMIIQSBna469Y\\u002fWZDPG5T21mHoauv+oBPGJTmD45Y6\\u002fuSryuR58V6lwZlGdZS29P65alQO1DETF6MEsFHQP7YdW2W9lpHfwdp0XtcVpbysCyL4gSKEbhATIhkhFjOl0cJldFCVRwhlsN4jAc5gWYAAIDgAhHOF+MCMSYQE0IJLhBjfLEytYgnVXHrhoW22Tpffynu\\u002fl\\u002fyExJ58QnAMB59v2H7FtPe3UO39o4EhnQDAGUydb7xKrcsEEwsibrxZpTHNx86oN\\u002fwve\\u002ffYWLJeCmsXGSKN5igjj09Cm0F5\\u002fOTkyEbAKQgj4KEPujgVjqP\\u002f8oQHSx3In8cbwUAvWy7FhkYIiUj2WfZ4L2LCKRKGF5htdVuj06emlN6E0feXr\\u002fT0DMmD6zD2ld99L3cslulyqTCWff6F7Es01z5PSfQ1GnTNZSvzZpynUga7V+f8jirDv+3aPb9fnUBAHpaj2rjJ8nUqerYfK8G9EKRjrNH3uP8Ry+dTftQjEjOWSqURGVMvopTatI1ciRe+rsq4tNnSxSJcWmz4tJm+eTnzm7sbNzrO+V6MZp3fsiRBEV3qFl3qBnl4TyFEEER0uig\\u002fdbM44DzRZrsaVxpINbO+o4jPzgNQawGb3QoaTeBftCiBgCeRCmOTrV2BleRY4OlXHbKZQdzgFQg14xUYQGAfNYcQqXq\\u002feTDoXOCo4Ds7QEAQq1BeTyGDHAVcxBmZqE8PuNy9f\\u002fwrb+NjUmD+CNGAQqoL0Y8fCx4eFrZhjgk1esJykNKXKx9aNgnAkgWMskbRQEAPdDuvzKEj3G8VR90kuD2WmGxkKyHnh4YCJvygQORj5R5vXXhYRnq9J4XEzIXquMK+EIFQ3tsxvbO5gNjDPv2Yu5vPrnzn3Hps1Ux+QKxCgHE7TKbdY2dTfs50apedB3lTmtfQuZ8uSYdJ4Sk22bsq22v2+F2mkmXxRcD4YVl6KpD78Slz9bEFQklUQiKki6Lsbe2vX4X6bJQpAMP5qpvr9\\u002fZ31UZmzpdrkkXiJQoSlAeJ+mymvXNuo5ybm0AAGAZuvLAWwmZ89VxhQKRCkFQyuN02nSOQAcfV2FRrhFMWDAk5eoL8rA5KNMnI2GnBfuq9nUc\\u002fh4imKT1h7QZQwWLXTwgBE8+Zz7Z0z0u2goA3J0dlNGAK1XSsmnmg\\u002fu5xX6gPB4A0DYrxyMgKQzievDiHY2iQmF4P4IX\\u002f2D3TKSoiT1rH+IMigQSXGfZY5OR2QCAA1GGLOiAc71suwOsNFA8EChAk4hkyGBgbtoJ9rpg6yvAuN6KAbqePVOATPWeFiDTlBDVxZ6zg5UFlg9CNUQlI9kCELnB6R+zGhQExSmPq6V6k\\u002f\\u002fCA6FordkaKiM6FB7SHvlVstzJ0oyC2vWfcAsAjm19lisCYBiqo2FPR8MebgHAkc1Pc0Xncdr6RppNTdNka+221tpt3AI\\u002fwukRL2kLb23e9RFXOhIUKSHfEABw6No6joxYW\\u002f1UQFAEQVFcoRQkJbs72sNM\\u002f0UKy+o3b4i+8Vb1JSsZp9NaftKnWXgxsZLJUyyH9lMWC\\u002fhsMZVakJTsnUAEBJFNna5YsHjwboF4+nUsTaM8nmzqdMvRw9ziQFhge6EjBhIBQAVRKiSKU4EBhgKPHaxGtq8LWoauiOCjH3rOssfzkBIEUATQREhPRNK5lQAAwAG20+yBMGpxHG\\u002fVA21yUCfCwOXxkBqPpAZWAQ+QJ9l9pch8n0fs4keaUUBI5VzpT4ThFZZIHc8VjQQEw8XR3MfsT9vBdcN25j9dGLfbdGCfYs68+Ad\\u002f5RPSNptH12fav9d+NsC\\u002fECG2M6dxhVJ9ycqo627UrFrtMfSjfAEml6M8PgBYjx\\u002f1VnO1tjgb6oWZWXH3P+RqOQc0TUTH4DKZced2cUERL3pgNOcP43ZbDh+Uz56rvfIaxbwFtN2OCYWoQNDy7NPcqgAAUMOexBBMC3HcAgAAQAHlAZ8HfCWiSYHsOvZMJwTxFnnphlYna8tGpoRa+YAFtgfa6tkz\\u002fjEHQRnHW9Wx5SS4UpFcX1q1PzawVLFHHWC1g4UXgSfrogBBxcmZpCHcTPTFzIDCipuyvOvUFgBImnV1QDkAEWw9rMgRqePDzKM7Dd0OXRtX+j+EKDdPmJbOUpSnX8e4XAAAKIpJJILUtJjUtP4fvg0\\u002frAuFae9uZ0O9fNYcQVoGLyaOpSjabHZ0ddqrKvxnCbs\\u002f+K9i3gLJpCmCpGSWotzdnf0\\u002frLNXVmAyWVCFBQD9G3+gzGZpaRmh1uByBW2zuVqDTPsCgAI0qUiOCriGVVBQwHKRKR7W3QcBjkh\\u002fTKA\\u002fxu7QQKwWiZODmg8CFDDvzhEGtrcXOryrfUbCON7qHNT0sO1x5zehwAD3bkLRw7b3Qrt3Bwo7WCJxvY8FUWK6ZsYiUVwKguOkQWeqOq4\\u002fvs9\\u002fwzhhbJKicKooMZ2QKxEEcRt15qoT+uN7fdaAsnimonCqQBuL4AQulub99t++a2v++diwtv+UVbFzbk1++Zoj3IIhLL4\\u002fDcPRra8Gd677c8PzhfpWx7bXuRGFYRhQWOz5qHx1+pT++mOD5QBjNH\\u002fCJTYDmM6Nj2dnWEpWxc67Nenf1wxYHxcGUVZ27G1r3J0drX97xhe57kVSNCn6ptsU8xb4K6yWZ57yqzIM7q7OvrVfcKWBsBRl3LnduHM7R677+kvd119yhAMwjGnfbtO+3Vx5IL7V3L3Wio7tdoHdf\\u002f8YBBAMcCGIVUi0d9gIABlIYR8bUmEBgDp1SnTO3KrNL3IL\\u002fJBFZ6SUXckXK3vqD7SXb+SUxhcuQRCso2ILC6wOunRskGkcf3z1uQV+OMHWxJ5tgoD4Hn9q2fJaCO4LGxfkeVPiV95EGnXGiqMs5RElpkcvuEwUn9r+7Qc+X4p62gJJao7tXJ21sQpBUWlmYfSCy1AeX3dgwLFF6vuMZ44gKBq79GrSoOs\\u002fNviI\\u002fXc1Hzs73ghpR4+dAYXVXT7Qpkm7qf3Id75iAJAl5PifjhSBIlwPbNdxZ17+l5BNmwEIYtqzi6OtAMB+tgoAcLkiEvf2xYYGYnxhAWfYQ2ECGoyg62JbXIgjBbIBQAQSIYgjWUohDJbexooNz6fPuJ5bAAAAnZVc7Ryekda\\u002f8GBCceyya+ztTW1fvumzg+JX3STPK5Fm5lsbqrySnm3fMB6S8QwMcnWHtmfe83tF0TSfwrK3NUJbI4LjsUuvpuwW05nhbaWLEK4Pq2Xf5xyJrXsEBttQwo8oXYaQbf1\\u002fAEwiBQBfG\\u002fKH0EYBAG2z\\u002feS0FQAkIpneAz30hNFWPvrZLt8C8HwQjlFh\\u002fbQIM48WIfLcYpTHN5zY7z9qM1eXy\\u002fNKJOl5PoVFOWy+UgBg3C6XrlucnDGWHlGm5V\\u002fzbH5KscLY6azZO5hIULQ0umhZdP0h\\u002fZIH08UKYu\\u002f7rd4BYGKB\\u002fPq\\u002fF8hjBOUbur95ejBD5u8VS774XeUlD2eKlURbpeXLJyrNvW5fKQBgOHLzvycxNPvZbypoKtyn5SqsoSZP68G1HMmIwIUho35YlhnRKgsSFW\\u002f1E9lZM1SUhznxXfeW15q8+3FNWho9aVlU3SHDsgfTRApiz\\u002futW15tAgCZln\\u002fds3mpxQpDp6tm72BACk+IXfZ4VsECLYIi5Zt7NrzQ4N0aJ9R9Ro27u1OQkqqYPc\\u002fVcm7AgQUAAPz4hKjrbgQA25kJHEdMHD5n9tAop6Agfh7robNyhFCWNv06qTbFbTeaOgdbOYrzkqesUiQUIIDoW0+3l28YukadP2J1YvqMG3hihf7cqXPHvvYv0qZPi82ZyxMrGcbTfXZ3d82eMPUJviS5dLUsJpNlaF3z8c6Krd5lXqbe+M\\u002fKTS84TT0AoE0ri8qceXbrywCA88Vp066VRqUiKO6y6pqPfOkwDjMOHRGCmEQASLzyDm4BAC4efLkQnFAWTZOk5\\u002fJUUZhAiBI8bywRgiDBV4OIgCufynVaqL\\u002fM3SNR8e95r8RlHfz9M6arDZ3O5y89iKIgUvC8wvYq8z9XHrzsiRyCHzBHgSAw84bEV68\\u002f6nbQt748afH96T51xrID2srtoL568qz3jQ4DV2GNO1joAPegpkcYbvlXYW+z\\u002fZnF+wVi\\u002fLaXipbcl7b1vLsuc7ra0On6+6WHEBREigEf\\u002f9VP5Tot1FNz90pUvPv9fu4rfp8tkOB\\u002fu\\u002fQgiqNrXp+0+N5Un2IKep9RY9q1Q5xbIMzMSn7yKXdnB+NwIASPp9XiShUAOJsbDVuHj8q5mAm18DEHLTIwjcgCOzS4IXXqVTTpPPXN04RAkrPoPvr8MpUppasxQlDxw98RFM2ad2dcweLwnia7vr1iw\\u002fPJJas5a4FoUqYkTFresO8Dm76NJ5Ai5ze\\u002fC1U\\u002fY\\u002fbNTkvf6e+exQhB5pxboXBJR0W4+KbY3PkM4zm17s8AINEku6yDlsi4gAkEAKA\\u002fvpcOtKEAgDQO\\u002fC+ML0y5+SG+JsbaeNZwfK\\u002fHamZIV9T8lcKYAe\\u002fhKEAxJHee9uWrj3hcjLHLeXxdZ+GSwYkaFEe2vNzo1S9uh3PwshDsfrfFZiAB4OzOvimXDU4rUyRz0wtFdiP5zZ9rInGlcSdr46Ys50kGwurGhTAho8xIVlBVxgoyp6s2vdTocTFWPbnjrXMzr0\\u002fwlaI4sunlRtJFux20scsFACiG5M3T7Ppvi8fFGLtcR9cNdHoYjpStjtvyWpPbQTstnsNfdU5eFvAYOPcZC5TF0vHKC8bdOym9nh+fIM4rEKSksjRtO3O655MPut5+g3EHGMY\\u002fFXz7vEdDgv\\u002finEGJhWTvnloAoIcejoWFIKgiPq+rehdDe9x2o65pYMIHQTFNWllHxVaaclOks6\\u002fxiCp5kv+FkaPNnN5dvdvW3wosSzotbpueW8MPnlgpi8lsP72JoT0el7WzakdU5gxupUDcdqNEnaxMyAcAa1\\u002fzuC\\u002fb7W0k1vqK\\u002fiM7OX+WuoE5K1XpHL4mRn98b\\u002fs37xpOHbA2VNpbG2BUuV8+xEoeiiFm3UATtZw\\u002fGDjtdQ1rDflj6h54mygPg+GDuQGzbkrKnKHWtTgi0VYw1MKKLpzXU7mbIxwLCMrViT6Ykfyg8hiB2065bANWkqnHLVXzMAKlPQwAmIf8fGIlgWKI71f2Hci0fBRDHvlqmq+m2z74MYbeZ4zQdrthy0bvElT\\u002fM3SxLd6l+3ggmIosPMfW9EO3\\u002f47tCKAiECtAE4ukKEDtFTJAN7LcuDNcIEYQ1OMYCDLwnN\\u002fDihDKEAQtWP6wryY92hVl+SKlO8T2fEPhi+S0x+2z8kiHmRBIOQsVAID\\u002fMnV9DYdo0hGbOy+l7Kqe2r3d1XuGXSl0RDh72uUFpaLEdEfHOW7ZefjqGADw6S8AQFCUpw423+XVC8HyljnYjSRDszINz24gAUCiHBj3jY5Q+qhqR++Bj9t+8dnUvma7v98mFFyFRbkdo3bRBSWSTKtIMHW5+GJcIMW9IztFDN+qJ73aKih2o4ehWamG5zVEfT+3RedmaPafqw\\u002fr24e3YyeaWTN\\u002fd\\u002fTYi9SQjQZQFEtOmq9QpJAee3v7QYuF61j8cemCliiI10AsAAhBnIeUAgAFHq\\u002f1hAJGAI\\u002fz3GmgqthjQ9c8oFx2lmUIodS7ThMukHjlHqeFZZnKjf9yhTWIIoF0mvniSAcNbrsRI\\u002fgYIfDqLL5Y4XFZvdqKZRj0\\u002fBqbPOGAF8+LvvW0vvW0SBGbNe8Oj8vmsxPHBXP1qag5l6jL5llqyknT4K+Bi6W02+ldas1jMwMAIVX42rR62kJMIPJV9sEyNGW38pRaBMPZYDun+mBotmZf\\u002f\\u002fw1qWv\\u002fdFYkJ0oujxu6C\\u002frYcZg8\\u002fW2Ojx+tuPWlSW\\u002fcdryngTvs5cA1f7pPbYstXjJei6uMI6ZeV83+\\u002fpWPZBICVKLiLb439ejX4SJ6vD\\u002f3wjUpOB+VRfFLL4\\u002f1ymmKPbaua+WvM0VyAkFAlSBMnhTQ+C4kfL4sPn5GQf4NBfk3REUV+uRpactSUhZgGF+lzJxSfLdEHON30UXBGfZQK9T5B17hQAhAJAARD\\u002fj+2ooFthfaj7I7g24UyLKMqbMmNm8BiuE8oUybWjogZ2hd07HE4pU4TwSA8CUqiSY58NJI0TUdj82dL1YlACA4XyxSDjpQhkI6zKau2sTiFShGEAJJXP6ivsaj3iKnpVeVMhkQRCDVaNLLfJfIYjJ5IjkAuB0mj9s+7u8O7bR3bvgU5fHT7ngsdvm12llLY5ZcmXz9\\u002fVkPPoWLB6bgzWdPAMvELrlSO3OpeuqCpKvv1kxb6OgIHg9lqSnHxdKUGx\\u002fUzloWNeeS2GXXcGucZ93T1WIl8dT++WvemnLos+F7zaueznt80+ypV8WXXBb7282zb3kx0lF80zHDxhfq7\\u002fxPsVg1jB3HNX\\u002fSFtwijctEUJS0m33C6nX\\u002f9KsyMvKufjxU7Kjboj\\u002f75XNcaWhEcuKK32dnz1JTHubU+p7NrzZ5LaxJS6OX\\u002fSLt+csOc+rLtPzrn8tPmSw3dDoPfdEx\\u002fep4b+AoIUCXPZg+eXm0WMmz9Lm3vdF8cn13mPv4SF96pzy5gCs9T6hdc8KwcMFfAYAkrQzLCPjy6pq1PT3lADBr5m+7e8qbm7fhuKC05AGLpb26ZkxztRMEHwRRkKBEtGKQ8UGAAQYANNAUeJzgcIDVzOo5o8WhDM4S2gy9DYejMqZ5A0dRjEgoWqZKnoTzxR6HpbNqe\\u002f+5kwCQMetmsTqRJ5SxwHocFquuufnIVwCQOu0aWVQ6IZIhgJBOi8PY2bD\\u002fIwAAQGKyZ0VlzeKLFLTH3XV2R0\\u002fdgTD1cZ4ouXS1PC6bpen+lpMdZ7Z4LSyJJil12rUCidpl1fU2HNamTfXOEsYXLonOnIkRAppyG9oqWk9+zx0\\u002fjgd8baxm+iJxUgYmEtNOB2nS2xrP6k\\u002fsY6kBn6AkLVc7ZzlfHc0ytLPjXO\\u002fejcKYhLhLbxgaxY7ghHbWUlnOZEKqYDykW9fV8tnr\\u002fhUuZrgKS5laxJEAgPFcBVcUMeOosH50JkJhdXQcqm\\u002fYCMCmpizUavOPHX8VABbMf66mZm1P72kASEqaEx8\\u002f\\u002ffDh0fcZP\\u002fMz\\u002fzNwfVhj0U3+oASfEMl4YjnKE3DL\\u002fh+QEj+npXMw5wZFsBjt5K6+k35VvLDdPeXe7Iqe3tNJSfO8UgRBfDFHDkc\\u002fnyf1XTBSeFKVSJMgUEQLFFE8sYIQyTC+yLsmIssyLEMzlIcmnZTT5nFa3ZZ+t7nfoe906jsnwkz4fw5frpVEpwrVcXyZmidV4XwxivNQgscyDONxMx6322Zwm\\u002ftdxh5bT7ND3zm+3uShoATGeMb5KeMCsTQuU6iOEypj+DItxhOgBB8leCxN0R43Q7pIu+l8M+uw97aOdFKVq7B8BJkZCQRBUFwoIcQKnlhOiOSEWO7VUIRYTojkWAR6ii9TT7n731xpxPRV7es4\\u002fB1HOH\\u002fno8fu+MDRFnxWKPmW6SiGnvvgELdgvEmKnemvsBiWTk9cNFRhkaSNIAY8owQhQlEMx4XeOSafK4RhKF++WITwxApZYo4sIUcck0qEDtxFEAxBMRTn4QIxZ5NahqbsPedMrVWmc2d8U3hjJLpoQfy0VVzpefoq93Yc+Z4rnRgUKYVpS+7gSs9j7Wps2PgfrnT0IJKYFGX6FEVKESEK\\u002fiwQDEUxHARinlQljR0IAaFJp6mlytB4wtrVOBbNlXD99I4vjnClADyVJPup1ZW\\u002f+sRfGHRTYZamyt\\u002f7bfhGiGK4KmuqKr1YHJMa1IuH4DwU54FQypdrpXEDmRIswzgNXZaOOlNLZYSLIHAVFoKisZOXaHJmEEKpx2ntrzvaXb7Np7m0ebOl8Zk8sZwQK3ChJOgnu5hp\\u002fTjIk8NEvMxfLKh9fiu3YPwgcCF2Pl7RH6PpXGbGiuZz2xnGk5qyiKLcpSX3uVwmABCLB6LDJJIY9\\u002fndnMLDEyuU6cXK9GKRZjBCbXSgGC6Nz5TGZyZMv8zUUtlzeqczcLnXUaBvOB5XtiJUmIsqo6Tz2Pph1wwYF1SZA679oOg5yf+jBUFRZfqUmMmLw6fThgLjCdVZZeqsMrdF31O+zdB4cnQ\\u002fTtKdcwFFOj4L8MxKsmNznr4C5XFf\\u002f6AgGI4LxZQz+PwdgmJRBXOjiuaH6RpDgaCoSJMg0iTETF5E2oxNW98NuuawP9xPHFu8TBqT1rLvc4\\u002fdTIgVsZMWISXLO48PhBHJEnPkSXmBV1x8jLA7Uk5O5GtH\\u002fFuHIi\\u002fjSgFPjuPCKXmDfbhYqOk31vvVGqC5aeukyXcWFtwEACRpKz\\u002f9TnRUkVKZUVu7LiPjUhTFKdqdlDinqyvcK4QgqCwpV5M7U56QE0l8zYhAUEyZNlmZOklff6zjyPc0OfpgWspps7RXh3IC4kKJLCHH3DaQsTFx4HxRmDZMky7TeHhFZPFZibOv5tito4MvUyfPuyFm8uK2A2utXY3c4uFoeWdPyt3zERRp\\u002f2RgYKFdkp\\u002f+q2WuLlPtU+sC64aEJ1YEVVhCVWzK\\u002fJuE6nATrxFCiGSkVc+VDoGrsNSZZbXfv+hxWgHAaexx6DtyL3\\u002fUp7B+EmhmZ8ZdNgkTEv37Gxpe3c2QFABIs2Nyf7ecr5X27qypf3GHtyYhF+Y\\u002ftUqSrkUF+Myv7wOAjq9Ptn1x3P9uI6Xu3EaVLFUmjtMZBt+9DtKqM9b61RrA6TIeO\\u002fayVBqP4wKT6RxNkzZbD8A2b2lm5ioMw\\u002fWGhpbW3YHXDYDiPHXW1KiieXzpQHDmRIEg6uxpkriM5m3vD9sHhqG\\u002f7mgohQUA6qyyC6CwlOlTEHQgnGooxubykXpVOGAEP3H21eO+\\u002fyZfrs1c8UB\\u002f7ZGOw9+N6BN2rT3GeujUBxYBinZ8cjD5ngVxV5YaDjU0\\u002fGMj7Yz0PoRYDv0dHKEqszR5zrVhUllGhK27OZLYYO4\\u002fQ1HMvxdlSDeKhXy6Fyey3Njjaz5EeVjR365MvK7UOwy01vUcu+ODjAfn+5vBHrPz9KNfxa+erJmVceY3Xw\\u002feYgzQtFtnrLU6etp7BuJ3wsMwlNncypUCdHWf6O4pR1GMpkO2Km3erDBeoXGHL1VnrnygcdObjiFtN0Is7TUepzXU2EGelI\\u002fxhbR7YgN61Vlhx4N14YzZYeHLtelL7xQoBpO9xhdNznSxNrFp23sj2s2g+7uTLEWnPbRUuyBXEKds\\u002f+RQ+8cHwrqkuPDECo4kumh+\\u002fLRVMCTMYNSY285yRcHgOhQsXQ0JU1dhhAAAMJ4gYdpllo46Tp2LnM5vy2kH6TE5u344o50z4N67wFTUfc4VjRyWpcNoKwDorz0y0kCKMYLzRenL7gqlcYaFZRhDwwmu9DwIhqvSi7nScUWgiBJpk7jS87hMvfa+IJ1HhIi1STmrH544beVFqI7PueIRoWpko7CeDacb\\u002f7WJHy3v217V\\u002ftHItBUAEIEKK2by4vhpl42jtgIAc3sNVxQMroXVfuS7tAU3T771Odrjxgi+uaO2Zc+nnDoXOaTJMXBgsPOUA3NwFxgPNfAZhgVBMLk8USBQogj3WXR1DzM4pUlnf+2RqMKBYIgLAyGSJc+7vnHLO9yCyNDXHYsuWsCVnkeVWaarnsA5XFXmYIT6UMZiXom1SRmX3hfJ5PjYwQWSzBX3N2x8I9TwPP766VwRzdBOUrfzrGZhnqvL6Mvs6ww2gTgUnljuO1ZllMSVXepXOA64zTq3efhEQhiqsCiXrX7zmzyJkieWkzajf7w7AFg66ignd\\u002fHM8ChSijC+kCsFgAEH5xmuNGLsvS1cEQAA8JQi+zkAAJ5aQhoiUBwj7G0igc+TpSXMF4uikPPZZwBwvPItvyoAACKhumjS7SJhcA\\u002fUsAoLAPoq92rzZ4dxygAAQ3kc\\u002fR2O\\u002fg6Xqddt6fc4LLTL7t1DHOMJMb6QJ1aIo5LFUSmS2PRQs3j+yBJz5Un5EdrwHLxWjDgqmVsAAADiqGSBPMpl7uMWjAsIosoM6VoKb\\u002f2Fhy9Vp19yTyTaiiZd1s56W0+T09hLWvU06WIoD4rhKMHnSVUCuVYSkyaNzwq\\u002f7CUA4AJx5or7ar97ibQGieBJvnMuV+RH0u1zfMcRKixCovAeSGJSk+ddH1AWCMsyblOf26InbUba42IoEsUIjC\\u002fE+SKBIlqgiA7q84rcd8m92BvNEGrLP93ZwdiiCBFHJYdSWJTL3rrvS650zCRcNcVa24PwsPjLJ+kONHCLh+DW20SJSlwqoKwuFMcYKlz0WYTkZ1zFslS37nT4WLaMjBV8nqShcaPF0hF+dbpQkHaTsak86Dy9Q9dubq+xdNQ6dO2hPgZNusBmdOq7vC2GECu0ebO0+bPDrGLmJXbKktEpLADQ1x0LpbAAQJVV1jUxkzzSuMyhvhgfXv8aVxoBKM5LW3onzh\\u002fGlneZenvKd5haKpjzyTQ+GIoEt4O0GW3dTf21RxAElcZnRU9e6IvJCgoukKQvvbPu+1eG+uBP3PgGRzJGvL8bxhemLrw1aO9Iu52GpnJza5WtJ9wCOwiCChTR0oQseWKuJCbNp7xGr7AKr\\u002f+jpaO2v+G4ua06VCu\\u002fmKEdZPfmqimv30goRf37G9q\\u002fHOgzsx5ZrJicyFdLAEWUxYm2Rt3Zv2zwFukPN2vnZk3\\u002fdA3jos69f7B7c9Xg7UaLXBK\\u002f78Q\\u002faIbbNDnI5Yltbfvb2w9yC0ZC75nd\\u002fgrLZezR1x83Np8O2uWEx2M3dR3fqK87mrro1vDBXCJtklibZI8s2I+Dsbk8YcblQwMUvagzS7pObBppbEokqIOpdR\\u002f9dRFNkgwlceYVQtVAan1QGJrqOr5RV7U\\u002fwmVnWJaxdNRaOmrlSflJc64NFW4KAEJVXNKca1p2c502ZP9oNG8YCJEcAJJmX0v4jQ29UC5b98lt+vpjYfSUD5ZlnMZup7G7r3IvRvAVaZPV2VOFylhbT\\u002fA87aFwFVbV2r+p0orjipcmz7rG0HRK33DcMeaIwQvJ\\u002flWvAUD\\u002fAW64ii+UYSgszdT8dRNXOjZIyoFhvGEVFooSLnfAoHsUOI3dlvYaSVymsalcV30wwojhMLgt\\u002fXU\\u002fvJK14gFxdAq3zA9F2qTRKSxvrFNQqxAACLFCGpdh7RzeNB4RKMFXBMuT9eKNEeNKI0Aal6HOHlxbbSiU09a45e3Rzaua287WrPtnxrK7RdpEbtl5VBklxqbTo7Z2IwTFifhplynTJnHkhoYT7YfWjS46j\\u002fa49XVH9XVHcYE4ctuIq7BIm7GnYldPxS6BIlqVNjll3g3AstXfvsCp9jPhaWzbXpR1Q0vXfpfb7HOS2Ry9gbXAbG5VKtO7u09y5COl\\u002feA62uOiXHZuwWhhaap5+\\u002fs5Vzw6tEf1IU\\u002fM6zy6niuNDH39sVAKCwDUmWXjrrCUqUWhbDoA0DecGEUcOYKiSbOv4Ur9oN3O+g2vuUyjd8lRTlv9xv9krXwwjMGbNOeas181hpkvRnBUmhPHj5GjBHc017s50ijZ6KL5Aecs23bg6\\u002f7akEubRM6I2i1XYflwW\\u002frtujZCrJCPbZuv\\u002f58UZFwFgEzKvtFfuPPIU\\u002f6nAFDfsKF48prMzJVdXcdcLiNND2ORhcIdQYjwSPE4rV0ntyTPvY5bcB6BMgrjCUbXu1q7mtxWfah4V0VqEXrwmzBv4CgYZn6wfjTjQVVmGV+u5UoHYZt3fjAWbeWF8bibtv4354pfhxobEiJZVMHcnvM79XEQxCvznr1aEK\\u002fkFgDASBRWIGzLnk8Njae44olnqMJCJDGpqvRiZeokt8WgbzjWcfQHbpUJJrpwfsLUVc27PhyvpSMuPDuPPM0VBSMv92ocFyQmzExMmMktA9i1+\\u002fdc0YXF0HAidsrS0Gv8I0JVXOTeh0BYQ\\u002f3x2JLlXDEAAKA4T5lapK8ffpI0QngSpTQunSs9j72v1WXkGr\\u002fDgqBobPESrtSPvqoD42UnehyWtgNr05feyS04T3TRfF31gaAxtyn3LiBU4nNv7rLVdbPjtDZD14ktP4q2gqEKq\\u002fD6PyAoZmg8WbfhdZdpxE\\u002fxp4sybbIiKf\\u002fchQ06s9q6rbZurvSigWVoY\\u002fMZ7ljAD55UBaNUWKCvOxY7ZVmo5EdVVtk4KixVZkmYKMfRhV\\u002fJk\\u002fJ5UhVXeh7K7eg+uZkrHQPm1ipLR50sIZtbAAAAGE+oyZnRe2YXtwBAmhvftfZY97pRRmwMxd7b0nM6pEd4pKAYwjIj2IeMq7DaDn1jaa+NcDrjfwlFUn4Yf81IQREsWlMkEqj8X8imNu5jrqv7jiO52LD1NIVTWOfDc0YBaTdZuhpk8VncAgAAkMam86SqoEFGo0AdejzIUB5jczlXGgHq7KlckR99FXtGN1gOQ\\u002feJzaEUFgBocqb3ntk9NKoQ5eNu3ThOGrJtB74exzncf1Uu\\u002fs\\u002ftJxqPGTny2Tclll4W+9J13L6EGyVobqu+WLTVuP0mw4MgqG+NnnEhN\\u002f3y9MRFAr4iIbpMJFAnRk\\u002fzBmr+5LD3hktVwXjBI+wiRB8ukgAJH4UQOeKo5DCeJlNLxSg0Cy4QyxJyudLzsAzdXxdRQOaIsOvawsw28mWaoMNea1WHfHISVzpajM0VocLrxxeH2ROdLuFKh1pYCIqp0qfwpWp\\u002f06BrXI3bCGFZJnbyYnXWNG\\u002fMva72cG\\u002flXo4ak8SkxU5aLI5KRjHcZenXNxzvq9rHUbiqjBJtzgyBPAol+JTT6jB0GRpP+Lxj2pyZ6qwyoSoWxQhCKC1ZMzgfeur934xi5siLWpF1tOI\\u002fbtIyreiByvovZZKElLjZ3EqhwTAiPn56W9uIw3THHe+uNqEWPkNxgisaCaaWStrtDBVXrMos7T61jSsdOeqskOYVDKM0QyJLyAmTEmBprw26GMvY0dcdCzNdqEgpHLr+zLk3duX\\u002f47rU+xf1bjrt6rEw7jF1nLrqA1zRxEDwsKCNjquwkmdfI43NsPY0yRNzrV2Nsvis3so9nDoXhrgpy3CB2NRaxdCUIqkgYeoqQijpOLbBV0GVPiV13o0ui66\\u002f\\u002fhhLeyQxaQlTV0miU5p2fOjTazFFC+LLVjr6O\\u002frrjrAsy5epZfFZLlOvT2G5zL39dUcQBEuadZXLrOv125Mx1E5qkYCiOOnxNlkEACy2DoUsObBKOHiEJCP9kotBYQGwtNuJC8RcMQAAICi3\\u002fYwIlqYMTSe1ecFVOV+mkUSn2nrPcQtGAoLhyrRirvQ8pNVg7WriSiNAlhhu6nzioqLMbWcTZ13JlZ5HlpgL8C1HmPHYJZiYF3tFSewVQdKSDi19nisKDWkz2rpH6bLkINXwfDvvqeKFsZkBalSq5c+\\u002fI7mvOUi4A7fByRNzq7\\u002f9t8dhzl39aPOuj8TapOjCkKmqEwrGF1V\\u002f+2\\u002fKZQOA7vLtuZc\\u002fHF0wX1dz2DuFjwvEybOutvY0N2x502cHpc6\\u002fSZU+RZGcb2qt8kpU6SWUy167\\u002fmVfHQRF\\u002fV8za3eTtbsJxfCkWVd5nJZRhztzcDj7peI4i63DTZpjtZMczpGFHWD48FlpFwza4wqpsEK4zCNHX3cslMICAFVW2RgVlnfJGq70PPr6Y6NzPYRPmpm4BU5Im9Fl6g21IARfpuFL1ZwYF0dzn6N5rKEVXizttaP7uYZStjru0l9loBgCANc\\u002fl88tBvC4mA9+dYYrHaqwEAynXFY43xbtujZJTCqnzoXB0HTKq60AgCadutrDCVNXKZILeqv2AoAybTJK8PvO7vMftRmaTqnSp8gTc30Ky+O0ChRRYm2yr92zDMMyw+cQjJHmjl0U7QKAls59xXm3YSjR0DowutGocxAE1fVXA0BM9GS\\u002fiwYRijRc0Y\\u002fI+DTR4Dj6O5z6rlBLVirTJnccWseE3e8zPOFWv2LZ0U1E4gJJmPkZj8M6iqSoyLH3tYVSWAAg0iZyFFbTy+MwrPZi7eaON0fN\\u002f7V3noFtXefdf+7C3iQGAYJ7iyIlitqStWVZHpJdx47jxo5H47cZdWo7o3HSphlNmjSxnbTOdNq48d62bA1bkjWsRVLiFMW9AXBgb9z1fgAIApcAuEBKdvX7BDznAARJ3P895znPOPan\\u002fjMvD5esV93\\u002fVNUnLw9PDMYUKWDBayd7G+z2ye72sXAFK+AYF2Vke8cHQ16nqmjVLGs+LAaciDu\\u002f3QIA0X+VONMIAIU7H4idEwaPqdZkunioeM8jpbd8zW3utnZesPc1L43zO1oQ2eEePFH3UxTFKSry1y8ruwMAwoJVUXHX5Cv+72LtvJC9fj\\u002fXCgAAGE8gz6209zZyB2YHLpCkcI27TF3zUxZRpoFrisE3McQ1pRXf+GAKr5woM3vef64ZWXhd\\u002f1gCHqr5w7GJQX\\u002fzkdHpp4TJ4AqW+dLh8KGJpelo8Z4vozgR6zZaSjhJ7eH4\\u002fWgVgfD51GjriegqLErQNRF97B0baHv9Z7qq7RnFq6VbirLX7R9tPmZp+TiN57IJWVl+v8s74vaYXJ6RQMgZW4mhqfl\\u002fpuYBdHS+6\\u002fNyV+xisaak5DaO8bOKrbvBsPbWhDUAACCjZPW8r0BVUU0K1\\u002fj8wq8g5q6ZkMW+x6d+\\u002f9kX9kP5hO62labXZvtHYFkm6Jy6stJFy0djAc8cwlm5ghWt++cZ7Wv66\\u002fcRjKBDCcJnlwCUiMv8wggeAESrPtNkAAAc\\u002fS0z+jhIn2vo3Nsjde8rC1aEffC4ULrY4fsDptNScZYmY1mhcQeOC9xei8s70jt0DADc7rhTYbu92+fjfg9IMmaFnD5wgZgnURIiGSGS4wIRSggwHh\\u002fF+ShOhDsVIjiBYtzHyaQkXVABr3OgLVlmsjS7lBDJ5tdqTJV8JUKH\\u002fM7+eeZRJA\\u002f9B4i\\u002fXy4GgZTvz5Om+myx8JSivL\\u002fbOnvBonyuxQh4OvCruSUDTAoWgkxfdDA0BQtwHywQYfx9LHzriAbf+8aHMopqpVmFMwpWGIYmrV119t7GZXd+K7NkLUewwpG2SPJg6Llic\\u002fbYnD0ELpRJsuWSbLWqIkeWGxasWEzm+mAwQVBf2P+1cAQKrViTK9bkCFV6vkIzY82mq4W143wywUIQVFW0arT5OHdgJoTKLFFG0r2brfvivF1jKRxYAED6EvxD0wiVUrs5tYxTgIkim5VZQi5OoMZciQhWxf7HOz94lgr6jOv2D517O27KVUJVWDPa8nG4phqK89RlG4Blo950W88lfe1NmsobbD2XYr2MhFBKh\\u002fyT30WEJ1GGPFPR0izLsAw7XZpZhib9br5cjWA4O9\\u002fvcSzLiu6USfQMQ7u8Iy73UFv3614fd98HAFeuvMk1AQBAMOhubPwz1zpLEERmKFHkV8uNZbP\\u002f+l5dXMMdpM+VrMymqqR2HoKlSuFun2\\u002f4VZjUJe2pYILD+DTC0BRDhZJVnsAIPkbwZTXZCIbaznQBgHpHgjM4AEiWDp2MxXP+YjiSW61QGQQ4j7t\\u002fP\\u002fc612sWESy+VEUFfQCgLFhxjQhW0G0tv\\u002f1xR38LFfQq86oECo2l+XhUm6igt\\u002f\\u002fjFwu231d+++P23kshr5MQSAQKrSSroPXVn4ZFCkGR5Xc\\u002f6R0f8lmHSZ8LI\\u002fhyYzlflmG6eDjuJwEAgL33kmbZDaV7v+IcvoKgKC6QDH7yOnfSrJGKdQxDOdyDLs+I0z3kC6Raxk+HZWmbfc4nMrhArF62ObNsXbIr\\u002f5qFZRlrZ51uxQ7uAACE10qZ2SmCvKcTXpdxrZP4beY5vRsHNGU51oQZyOmFDvqTCRYAoAS\\u002f6LE9ABAWrOJv38ydMS\\u002fSciOfjjpX9PDvVqpzE6\\u002f9kwoW6Xdnlq71jPYjCDq9Ue3CS2TMFZoMdh78nW75tszSNYRIHvLYh8+\\u002fO9p6MnaOY7Ct\\u002fZ2nddXb5cYKXCCmgr6gy2pqOBitOs8y7GjLcZmhNKOwBsEJKuANOMdMx47Y+xpj3yfMSN0HDEUpC6qzVuxkyJDfvqCc5HNN\\u002f4ljfLnUKJfmaDOWCfiKQNDReOWv3HlpAsV5upW7NJWbU3yPr3GsnReSCRYAqIpXz0lipNmpyqIvZHkFAGiiJt5R2HmVup4Tqatpoxhx+cm4e23vbz70D3IjAYW5mQVf28kxpoK7LUkPt32rRJbJe\\u002ftnHUOtLio0s48sIlhD59\\u002fJWX87T6IEQJb9zbfj50DDc49zLIvKaMvH4fB6c+OH5sYPOaOx+O3mlPUV2OELBwAOcM2JYGhypP79kfr3uQPzgkdIJCKtRKQV8BUELkQQJFmM5UK65oSRGopzt9yTolr5p4Kgc9xj6UsW9Kcqqhk5\\u002f+7s61KmyHZmGdrW3cC1zoWEbRSisPRsP+S8Sb3YQXDC222JtTgvDfiHpxwjYUjXoq8EZ0PeCsXx\\u002fx44+fwgdyAJkT+9c\\u002fByy+BlQJDld3+\\u002f5eUfxs+5zpxZv+If3F6TyzMyYe\\u002fo9YwEgg7uDABIR9cc3Yod+tq9yYq0zAmWZRgyxFAhhgoxZJCmQuGnitzKtLz\\u002fjFg7LyQTLFwglhnLnAOzSnkJR29xrZM4B9rmVOIyESkXG0vwp5rh3xH38UYPNYesnlhLGNobOXC\\u002fuhAC1JEoQDQZ8fcKlp3f+fF1OJyo+zeuKREL7JpjWHtrih5\\u002fCQm5bX6bKeAcD7qspM9F+VxU0EeHAjQZSHbfXvngz1OvKdKFvbfRuH5\\u002fMg9RRsnqWQqWsmBFiqxsa+dsD\\u002fKTMb3tTSwLzK+cDWjKH8H5eD2\\u002fOhT7NErI5mn7zitc65LT2+AoXqe68NZsK0Bwf\\u002fMr7z3DsVxn8VhI1xxN5Q2zVCvS73b2t7iGO9zm7iVwCc8bhgza+5oyStZwBwAAQJ6zDBeIZ7M4SlEtnvS5XENXuNY5wqY8L1sCcU\\u002f9I1J\\u002fvCgsxTgvDnCtS847P+v4+z+v2v9PpWdfHbaPBEKBGTbU037zaUf+1zJCmUZfvl2uLSIEUpoKBb228b56S+cpADBW7TFU7Gw++B8+59R+ftnOrwmlmvq3\\u002fhkAcqpvVufXNn3w85wVt6oMlShOeG3Dg03vuyf6o\\u002fMXm3l3zRGrcwxrZw6F940PWhqPOQdaFyPkbzGwdpxPJlgIiikLVs5Y3oQvzUi2rwQAa2fdwv8UqetnLUGwG5byR9Cha2Kvl4JfXd4VfczQLMuwN3wx54Yv5sRMifBYBdeFPU2wPj3INIVlWx4GBLEOXPI5RzGcJ9MUonMJyyYE0vKtj5BBj+nKcZwv1hauK9\\u002f2\\u002f9o++o3Xzj1MXSTm2TUHQYyb7kyRdAIADBUaPvv2xJXzMzhcrjE8lr6gczxZvb2MktoZBUtVUpvCjbTw\\u002fSAAcNqhc0hW2SJdoDgPTb7CokOB6f0B09I1J42cfXWYa5o1SX\\u002fzaxwEQQvX3g2AtB55xueYfwhCwDPRdeav4ce2wabK3Y8al++5cvK5+FmLRVfX+ytWPDjXrjmK3OUpqrgBABXwdh\\u002f8\\u002fZziAK4drJ0X9KsThw6J1DkChTZ1qwFVUdL9oGe0L3Ui3iwhUwpWinCKtDBDnP20z7Y4XXMWxGs\\u002fiOT\\u002fzYNPq2BJMnL4YtVo99mFqBUAjPdPrW48tiGvfUSmLUIQdOEbh2Rs3zblj2dZhmXZuXbNUVdu4ppiYBmm98P\\u002fTqNaLXYuIQdrZ11W7U3JapyqimtTNLIXqY18WeIjV1hAtjOH1E3V+PJMrimt8GWp3j\\u002fk5ZY9WIyuOVeRT6tgCaSZAOBzLkitACDkc8Q+DXqsYqUB54vJwGJlhI2YFnTZ4AKxVFfItcYwfvn0fFtvJQDF8JkO0dMM6XO5hjvkxsRlYVTFq0x1HyTb5yoLVnBNkzBUaN5VHzikLmrOl3PjrtOLIMl+OYzfxr0i0t41J738y\\u002fEb\\u002fv3WMwEP94QaI9CdX84rWKX02EInnx8caI6sHD+tghVhjkcEye7bU8w4YcEssFOO1FCaQkFYhh5tOsq1LgB8kTc4CbF2XEgmWDyxQqovnF65PIwyv5prmsTe25Suzqx+m5ll6GQLz3CltsUjRdt6SFSyKt1dc9KMXMvf+AVjdrkUABoPjTYdjuz3b\\u002fnHos1fzBm+7DKUZyzfoXnq7vPmTg9M75rzaSHgsQKAUBZX0SEWhqYBAInPouCLVbFPAYAvitvb88UqhiYXO391IYiSFOcM4zZ1pbdaAD95673FwznQmiJ8IVmSoEhtTNEocIHpOLGwNDV9IRMF4wsFi7nIEmtyuaYYfONcV0B6u+YsBjd\\u002fo6hglTK3Wn7\\u002fU1W1+7LCxuqbtMee63\\u002f67gs\\u002f2X3aZvJvezAvbI8IVumjP8bFUgAofPCbhlvuBQBxXknOXY8AgKSwPP++b5R9499Kv\\u002f5D\\u002fc33IBgGAJL8spKv\\u002fiC6HiFkyvInfhF+h6XBYx0M+ZyawrUCaeIVctBrAwCZeuqEW2lYRggkUzMAAECdP3WoJMnIESv1rtHuxXNgcUAQNMWRVkKSnaCFSVePgCiiRV4vJCR19owivyrh6ibF8iromkjjNhkAXMOpgrlkxlKuKU3wZRkpfFik1xFwctN++353TL4iN\\u002f\\u002fvd4hyM1B+0njaq8ipvw7+YMuJH24\\u002fdeg\\u002fe7bcH5FjuZo\\u002f2u0FAL+bOv\\u002f6SEGNImyPbAkDlmG+OouhSJZhBLpsABBoDQHLEACE7FbLh28GRocxsTT\\u002fb\\u002f9BXl7jaK3z9HUwZEhSUObpuQwA8ooaT+9lypvOe3tqWIburXu1ZPMDVXseG++rD7gnMJwnUmTRVKjn\\u002fMsA4DBdJgMeY\\u002fVevlgV9NqFcm2GscrvGiX4caoqUmRVbH\\u002fEYe7EeUJN4TqGpoZaEkcGLwbbtv740qU\\u002f2R3cayk7e71Ou7K+4VmOHWYK8wm60nAKFoskq4BrWhKsHRc0lTdwrQAAgPGEMmO5c7LQUBRFcsFKl7s9imuwXbdiJ9c6iTyncqz1FNeaDlKkHEFM84sNR74VNbIMCwyTlq45iwHLQv275rBrp+E98\\u002faH88J2BEWiudBj\\u002fT6ZJpL\\u002fEBEsv2VIoNEjCOob6RNlF2ACkUBjcHU0AUDIFtFsyu30DfYQyvApDGtvPKOoWhMVrLETSc9uFgmHuaP1yK8NFdtV2ZU4X0yTgYB7wtIViRqnQv72j3+fU31zZu5KFOd57SNXTj6n1FdoCtbGvknXmb\\u002fqSjbpy7ehGOG1DQ02vb9kQVgpIEmfWJx4W5EscyVMegPZUYIvNSzWYiE1fpvJNzGcLHpDWbCCI1iiDEOy80GWZaxdM2dlzgnv2ECKAl5SfRFPopxfwfjUpKjmDgCOydSl0fcb4wauYdwTQbEisu4TywmcQIUygqFZAECwyOaDJpnonie6whqSFC5DefyAeQjFcKE+R6DRj504AACi7PzMdTtwqQJYlpAp7I1nwy9xNJ9Xb9iNiSS4WIoJxe7eVIvkRcLnMEWjqKbjc5ivnPhTrMU93jfYFCesDBXqOf8KwNVPqooFRfFkW8UZtquJ9krzJqO4NkWM4mKTommoIncZiuGxJUMVBUmXV+7hjunRSQskdQEvQBB1xcaRdDdDkOjyU5Rsp\\u002fwe12R98zR2yllseuvt+75dSgi6qSCz+6sFAQ\\u002f16Iurw\\u002f1ysorFjQcBALJKpM6xSHbB5ArLPKRavRUXiZ2XLwKGCbNyUb6AdDkQHM+56xHz4decbQ0AkL3v\\u002fvB8AKADfldns7yiBhdJHK11kPpCumZJfuK2ePB4UoKI7OwEQqWYjDs64POlOcbNPl\\u002fizR1DcuOYY0m9YZwTCIppqrZyrUuIrache91tCfPmUIIvzS6LXWQlq7AMABPp3g+GsV45p1uxPdl9Rb1s02jzx9M7pCyErFV7uKYYrF31sy+\\u002fc+1w4KnuR\\u002f5Y88CvqwHAYws9+6X6lTfpiterXvn+5X3fKsF5aNBLb30gNxocH\\u002fk2kC47xhdiPH7INo5guOqWe4NjZgBAMQIliJB9AgCEWTni\\u002fJKQfepCsl08rdtxOyYQDb3556jxOjOSpaspKNgVjrEoL\\u002fsb7jAAw5AtrS9wrQAAkLqcRhqjFrXV2\\u002fjSxJuspYEO+h0DrclCq5T5VVHBEii1yQ7mqIB3urcrLQTdVntvszLJyg7Fednrbuv\\u002f+EXuwHxR5FdL9cVc6yQsQydLWkIwlGWYJIFrVx\\u002fbsP8X+88al8kEEry33h700aaObng6Mnr7k6UEH+v4xPrh7\\u002fvClqnbF+myhcOaghMWnlzl7moFADroHz1+wHjHgwDgG+61nj8e28wmYBkGBKH9nlgVu86MDAyeGDGdUyqLKpd9YcR03h\\u002fbF5plSdLncPYHAo4pYwyhlGHWUn2xueEw1zp3xJrcrJobudYlx9pxPplgyYzlMNk5RZG3nDs8ia374uKtO8wNh5T5VckW6ariWkd\\u002fq2O+vXliIUSynI0JbmxRrJ11IbeNawUAgPUHn2j75svOpkGOPWtfjXrnsuav\\u002fy\\u002fHvvRQQabvooNrBTj\\u002fxkj9OyachwZ9U\\u002f\\u002fBKcEafO2PkUcse+XpqaQQ64Xj1gvHo085IAhia05bhMv\\u002fHSgqOD7e5vdbx8dap58SpiB1zo1Ym8eXZS6w05RAoSnc\\u002fVDC0IElxjXSGfLYE7bVwgViiSYv3DNJkZtUsKydi\\u002fjlDDhGJzrOZ5at4w5MkrftC53v2VL\\u002fy2YEJfiFNz6MC7kROVEYirRc4lY1mBHSHRDmXM0V9GygKZam4u43CRwEswMBYOUVNbhU7mq\\u002fxB38NDDY9D7HAb\\u002f0jE+0zbWjl8fSCyyb7K6OIKi+9qa+Y\\u002fO\\u002fbYq1eQW7HkhxeSwpLGvtrMuq2c21AwCAzFjmGe0jxHKROrFv3jcx7LemSqNZOCPn35PnVCQ7LkRxXvHNX+k58pzH3MMdmx24QFK05+Fkhw9hzA2H5nEiiRIYgib+Fi0l6+40cE0xJG1CMVdkpcv1e+8h3c7ht\\u002f+yBEWsP6v09Mx5+0YFvB5LrySrkDswibJwpXdsYCy+YcdsQBBUU7VVv2pPQj\\u002f31cLWWZdVsyuhb1tqKIH6g\\u002fKcioSjkKZiMqmhQ\\u002f7B068V7n6IOzAJxhMU7\\u002f17y6Ujlsajc92cyozluTfcnUwNw\\u002fjGh8ZaTnCtAIRKTMiE4cd8nVzkjHNu8lQS\\u002fZ1r\\u002fEOJd5FLyV0\\u002frOCaJqFCTHoES1W8Sr1sy5Wn\\u002fimBffmWjjd\\u002fxbFfJ71MdJxPIVgAkL1+H0+qMl04MMteoQiKKvKqslbtmd4w6aoTdFvd5h5pVhF3AECUaURxntyY+BvP0lSKcPk04hxoszQeTRriAICgaNaqPRklayyNH9l7LkW7lycHkRqKtNU7ZIYS7kg8VMDbe\\u002fQvCSNdNLsqc760GcFQACh6\\u002fCbuMAATpDp++DbXuuQ8dVfcnh3FEIVOUHOzTlck+c3fJoiem49gfYZBcQLjCTBCiPEEGE+A8iIPMJ4A4wlTRMEAQPa6fVTAy5ABOuSnQ0E65KfJIB3y06EAEy6aziT4Ys0De88lfe1NCT07kyCayhsU+VXWK+dsPZeSFYHCeAKxJldmLFcWrEh2G\\u002fdbR0z1BwtvfJg7sIRYOy4kFCwERSXaPIk+wRAAOAZa0xtGmwJT\\u002fQdClU6es4w7EANPqsrZfFf2+v3ukS63uTtgtwTdNjroYygSQTGM4BMShUCukejypdmls+mBxDJM39Hnk\\u002fnaR145b3nvkqImr\\u002fT7+yzvXfKbHFNjLEs5\\u002fa7W4eBYqhPnpWGolfsZBpqcTYdHH\\u002f7tylufKH7pu5FQ2Cj\\u002fRwXLuOGOSUkSYGFVIgQYT7AQT3MK52sYhgqF2z1EJCwUoMmA32ZOuKRPAcvQw+feKdj5Je5APDyxImvVnqxVe+ig328300EfHQqwLIviPEIo4UmUPKky2WYqTMhj7z70RyrgSdFqeAlw9DXTG+7AeALuAIC2egeWJPQ\\u002f7ek4qWDZvqPPF+5+SDrTmgjFefLcZfLcVNI2G1iW6T\\u002f+V7epizsQA+0LWU93+kfs1lOd008Jr3Hajo\\u002ff8liCWxFXsGQ55VmrbuTLNSxDuQbbB0++Gt54EyJZzpa7xdr8kMfmGowE1KawX+Ool23imhYfFOehOI+AuLWMd2xgroIFAI6+Zlt3Q7K6BRwwvlCim3NKIOlzdX\\u002fw+3DYl8fSJ8u+Ojk6MFnKKuH9QGpIHJoU8jpcI5HEuqWBocieI88V7HpwCf5QLEP3H39hluW9bJ90UddGR685gRMIOpmaE0uk3EKUoMs69MmbLc9\\u002f78obv5Toi5RFNWG7cdOddNDf+td\\u002f6T30XGwaRDL7dRabwVOveccGuNY0EXRZO979dTT1f96HXOlirsVhbJ11c62VtnAYiuw5\\u002fMfxttPcgbRC+T1d7\\u002f92lmoFAAPPnfB2j3Kt1zAYgeatVGx9IM\\u002fc5eWOTV9hBSe70pNep8fUE04oRVBUllvR8eavGIoMeezWK+fD2pTMvkjoa7Wbvr1GmiVufaXj\\u002fG8+lbEUaYShQt0Hf1+45+8k2nzu2MLwmHv6jj5P+t1Ri9ucuGDekuEdGwg4RgWKuBym5LBLuh+MgWWYoTNvescHjRtux3iRQ7o04jZ19X\\u002f8Eul1cAc+tcR20ImFDDAv\\u002flMr1zpdsMS6fN2KHYRYASxLSBQT7WcBABeIEQQlvRH3WDQ7JJl9kTDVj776ufe2\\u002fWADdyA5hIjY+M3aj\\u002f81krD9GYMOBboOPJu9fr+6YkNqb9QsYVnGcukjy8UjnIMn3\\u002fjQ1XVjAYC144Jh7a1cayI85t7UZdcXG1tXvXuk07jxDkVe0gzHuUIFvCPn31uCQI0lZnoHHYpkbSP+5sOj4RRoDnGChWJ40d5Hhk69ZutqAID8nfeH7VTAy7IMIZKGkzmjUYXJ7NcOhlqtRCvmWj9DsAw99Mkbjr4mw7p9ooxUMXgz4hxsG7lwIGBPsH1gGdo72j+jR3lRsXXV61ffnLq5WZiJOe4fFwPS5+r98H\\u002fE6hzdqhuTlXueJaTPPdby8Xj7mXSVeL6mmGsHnTjBQjACxYmgcwIARJocaXZJwDkOACzDuAbbNdXbh06+gvFFGcW1DEOnsC8xAqVg4xO1htU6hmI6DvQ2\\u002fL6JoVmBgr\\u002f75zdkFCtxAX7fkTsBoPmF9sa\\u002fcE9JPxu4Td1X3vyV3FiWUbZObiyfU+Qn6XPZey5ZO+tS91Zwm3uurmCRfrdrqH3G8zWaDDr60pC+lxa844M9h\\u002f7Il6szimuVRTVzSianyaBr8LKt+6Jr+MpcI04\\u002fw3D3EZqqbdrqrSwLXkuv3zqC4Dxz3QcQOQ38vFibF3LbJtrPZJStCweIJrMvHtt+sMFn9cf6sG55dqej33numYuEmNj17zeY6iz1f4h8ZSvvKs3bajzwlY+ikz\\u002fzoDhPqi8Sa3KFKj1PoiREMpTgoxjOsgxDhRiKpPyekMcedFv9VlO6WvVdZzbwJEqpvkiYkc2XZ\\u002fJlGThfhOI8FCMYmgyHvITctqDbGrBbPJY+v9WUMCJ0UdFUbzOsv7XvyF8cvU3cscWkdGNG9Y3aTKMQACaG\\u002fC0fjrWfSpwPy70VjzUfH2tOkOpM+lw9B\\u002f8QfTpx+Uxq+5Ih0YkNa3RHvnmCCtJUkL7059Zt\\u002f7ohKlj\\u002fB2GokHPwsnPwMnfgqqJ59B5BRcHIt39NO6Z8+QtBVFuhfexe24uHnAdOcccSsXLT16SKnOhTx0R387mp7+3SEPLYrZ11AAkCuKeTL1lZKtvYaD9k8V\\u002flE49FBcWQe\\u002f5t2apbswDA5yQRBIrWqtbdaWg6PPq\\u002fT7SES4\\u002fGwhWsTx1ijYj0kSEvGX7qGfUJVQKUQBlyqe9OAGDESkrxle1U\\u002fQh9leMA0oJ4\\u002fXJRTfn4f73KHZgXbDC09KEGUUaHGzwuM8ETS2R6gUjFHb7OVWLrl3Jrbsl6\\u002f6muT14eDrgpABBK8Q33GPc+WrT9IfdHf+jjzP\\u002fUC5bH4iVEBE9ChDwkAEh0Ir8tEFWrtFwfUkS5nnfTR8FXGJjZlcAAM5tpVwUc5ZVl39Q6+A53IAmimnJclThlZ66MPfMS17S0mPojJ8W5JbtySxIfpV9nkrRcN7Ni7Z2Gc68NH\\u002f1jf9Tid1NH\\u002f9Cn0gvW3KGfs2DptNhPvqvafoNQnYEGguzgMPWVb1rP1Sc4blwkei\\u002fmaNWY2Mj93FG8Y76hM6a1X1t59qkGQkysfKCy\\u002fe2pJbRv3KfIk\\u002fFlvKArNO9lVwaq45qSMER3DtGdXOs1g1KaLyBmLUAoKqwsJE3XPVxXE\\u002fZqrElZltXV7MwoX0eI5SG3beLy2bGmE7EqJtLkZJStkWQVhrO7gs5xW2f9WPOJuBU0gmSWr8us2MCXZ3I6p1z63WPRxyq9YKDJGTMYob\\u002fJueaOBKfeMwjW\\u002fz6r2bxecLE5+O7BIIJAQR7RNxjZfC09O36ySV2eIdYIWQbytxnNl8ZO\\u002fOgcABz93umNT6y+98DtNMl0Hexr+OOUA2vg5HDBjtwvvHs7FaDqftt05Z35uAMy0Cyu6RqAwEXLjLeK+RlCngJBMY9\\u002f9GLvS0HSzcNFZYY9Kmk+w9ImW1OP5QTLMgQuWpH3OalQi6LE1srHAWBg7Fzf2CfcNwUAAOnONdItq3hGLcIjMLkk\\u002f8WfRIf6v\\u002fh9lo6Ivmz3uowv3Trw8I8IbYbynhv5hdmAIKRpfPy3r5EjEZkTr6\\u002fSfP3u6MsHHv4R40twtxOU5Sn2b+UXGRECJy1Wz8mLzoNnIDZXHEFke9bLdq7F1Ura7nJ\\u002f3BAaME+NfpZhC6W12aIKPioO0O5BX1u\\u002fZ+q4KU9cXSbf3GQ\\u002fbPZPJRVmCYurlTdecZ7q9zbhCG+b7gE\\u002f7T49xi3WvElzrxCTHLP8mWa5V3RW7Y24QOzsb2VoSp5XaVh\\u002fGyGUjpx7LzpBu2KbzFjmGupw9rciKCrPW25YfxtG8M31h6NzDOtu1VRvtXc1WC59hPPF2pXbeVLVyNl3OQl8Xjupyk4QYZuRLfTaQ1xrasGSSdHN6wW9\\u002feTmm03XQs2ro0+e5poAACDoCh3758TXHkOzR7+X+FUzokNzs7EiGarEgQcAO\\u002flTF14v3dZNTR2jyBDVOt5Ug4B2qm6IjstKxYG3nX9nI3lSgijy8Qov62omT6OAVxEb+CAcZrq7Yt4NAASIqBBbnolmEYggxPrHmOEeupVk48JwinRbQ5S3se8VAU++qeyrjX2vBUk3AFTl\\u002fo03OHHy8jM4yq\\u002fO\\u002f1yBdnOP5QRJ+eq6\\u002f5KTuVojL6vvmaG8H2kadx+rAwzNfHAfaZ6I9WqzDPeGL1pVnvngbf6WbtehM5hMLKwuoa1T8cP+5i7zj5\\u002fDpCLFHdt5xsRx6pKN1eqvfI60WN0fN7AkKSjPV917k6Akd\\u002fTpF6N3bOVduxT7tpAj4873TmJSsWz3unQ5769xiqRrCFQ4FuhlWFojyC+TbeSjwg7XbI+2KDZk8ncaRcsUvCxHaEriZYRGgitHfFemqxUAYHzRldd\\u002fSfk9AGBpOFJ6xz9qqrdOXD4TdEXCcYdOvcGQIYaKCIql4cOKe76bUb42KlgohmdWbvJNDPcfjbQmCNjMxfu\\u002fTojlnEC\\u002flqNjW+7L6Tpr66m3R41Fa5Rb7su58FaCOJtUgmU04ADQ009dC2q19JAQtDJmK2POxcp5CL+bamYhcs93sHFnrj7W3UieJBC+Bs1WownWsWEMWJEAEVoZswY1luK1AkTkYZ2AIPnYMjszNsFEvk9iRLaa2EUgPBtj8TEjUkSZg5Vmovrz5JFYzZIKdUMTdQAQCDn9pFPEV\\u002flDdgFPrpLmN\\u002fa\\u002fGg5h6LWcWp67v8cyt+TqwOW+wOU+hMAzH9xHO9zu4\\u002fXcGTFkPrTP8vPnA5d7I88n66yHYbz+8JB0Wy0kEixMKsp4aH+gvd\\u002fy0z9H127qr94l2VgtqinzNbQDAJ6pUNy6mTSNj3zvv9ggCQDYW8cNP\\u002flK7PuknQxtRVbOWqnCiPOEZMjvsveP9J12Wid\\u002fTQAAqNn8qERu6O84PNh1NNYeJq9sT07Rdrdj6NLp38TaxVJdduEWRUYhjy+l6ZDXbR4darAM1yc8kSBQwZnxl0OMHwB6PHXrM+\\u002fKk6wc8rb66NlmlQx5W4yiZUZRRaxgGUSlADDiT9yaz951MaxWAEAH\\u002fROXzxrW3yrPqxxrjnyRoqOROaGA32aWGoqi\\u002f31CLEcx3D8xVX7PZzUBwPTekYd+01O0VvXV52tHe73WIT+CQEa2UFMgHml3H\\u002fxNgpOrBIK1d5foB99WGnRYhgoDgF1bhQFTJFvt4Ee+2++LE8iaKv53vqHYuIYvkaB9A9RLb3ie\\u002fp0zGOL+6Wc5bfc24ZOPKauW8Xw+5shx\\u002f5M\\u002fsQWD3DlLhpWxWMECAHqsgAf8fro9mTedAnKMGQYAAngpBEuBZp4KvkMBuZa4UY3qB+nOK1R92KOvQrVRwVpObOAh\\u002fAbyuHXSUohXFWKVJdiKNmoqhtsXtMlFBrO9hU9I+ITUF7QCgICQUUyIoiO6FiRdPFyMIhjDJv7kC8d7oW1KrQASXnUpEK+vQgU856EzUbUCAO+ZJsnGatHK0rBgiWrLAUVdH50PqxUA0HaX53Sj\\u002fJbN0ZekEQRBS6rv0mbXAABNBYN+J8GXZOoqM3WVQz0f97V\\u002fEJ1pGaorkhu0xtrBrmNcRzWCaA01AGAZjEumycpZW7T8dgRBWZYJBVwETyxXFchVBWp9dVvd\\u002fzAMt+Ciyd8ZVisAIJngkK+1VLZRIyzo9zTGzUuOi5xwhkZ1wqJ25ymKDQEAAmiWsDhAu23BYe5sAAAIOOKu8YDNDAAC5dT9BsWJjLK1spxyvkKD84UozgvHKiMIEna6kT43y9B8WWb0JeF+TtOz97wO8um7zm99IG\\u002f5Tk3haiUATAz63n+6++TzA2Qggcc5gWCNmKjX3vYCQGYG+ugj8q5e8vmXI4La0x+3gLxtj+iF32tCJLz\\u002foc9qo2ur+f\\u002f6HeXubcKbP28JxAjN7Ke9\\u002fCdtMMS+c9DrdDLbNgs\\u002fflcfHf0M4GJsFJAA4GStcsgYZ0YAwMs6AYAPovAcJaqRIapRZiiqVgDQT13Ox8qzsLx2qo6ZXOV1mY+uLXkoQ1rAAtMxfMgfcgBAIOTEUR6O8cOaJeDJQ5Q3qlZz05LZEezjFrGdE\\u002fwCAwBoH7uXOwCAySOZXjy9BgBCA5bY0dBQ3EWVRnJLdmqza2gq0NH0mtXSxrIMgqBqfVXx8juNhVuDfoepP7IjGxu5VFB+s1CUIc\\u002fI5yy+lJnFfKGCpkNjpsaoUZFZVLz8Doalu1vesgzVsywNAEp1cemKu5XqkvzyvT1t70Ynh\\u002fFSUxslAHCTVgCQ4HMLyxj0tS5X7MgSlQx5WwEgU2DkoaIedx133iQsFXeZUwEvAKCT9cgwvrBk39cFKp1zoG28+UTI62RCAf26W0RqY\\u002fQlDBWytp\\u002fLXLbRsGG\\u002fa6ANE4iyVu1mKHKiNYHrJuijD\\u002f9Xz+H\\u002fSrCemk4CwWpqCzW1hQCgtIh49BF5\\u002fyD1i\\u002f90cCcBZGZgf3xa7fayW24xdfVGfsPvP6F88jHFD76t\\u002fM4PbXOaRhDIr3+aybKw+05z3cUgAGAYvP7f2pt2ilJvSPNvuDfomjA1Tnn7rllCEPE300ACQJD1AQADDAssikRS5FSIBgAczHjkNQAAQAPlZ71iRCZCpB42cqQiE2b5g\\u002fb6nv+NjYcOkK4JV3dx1o4O0xEc5edrNw1bL0ZHg6RbJMggMAFJB9K17GLcPq5pLqAiAQA4P\\u002fiEcXFriZCjEY8JIuQDABuIc8EygTiPXrogeKLsgi0A0Nn85oS5JWxkWWZspBFBsNIVd+eV3jg63EBTQQCgSP+EpUVjqNEZV3MES2esBYBxU1N4Zpj8spsAQfrbD5kHp1bK9vGu3ssHylZ+QZ+7fqDjCEXFHUpwfEwkEwAADCFijTNi8XeVyTZliyrCgqUXhveDHdx5k8S28gOA8BkfE4p8MHXlZoFKN9Z8YuTMVHzM9OSh4U\\u002feJsQKTdVmdeVGKuDzjQ32H33Bb5u6Dc+PBII1S754l0QuQ3\\u002f4C3tUhgDgp087HrpX+uX7ZT\\u002f+pcPjZWY\\u002fbdsmgU6LvXvIF1YrAKBp+PEvHTftjCw9PgNwVjrRtRIARHOkBIgYAErxmlK8JmY0Ao4Qscskhdi4ffm3AYCig31jpwfHLwBAy8BbZdl7bqj4BsNSZntLr+VkdP64q1Prqdhc8SjNkN2W4yPWS9GhqwXjDwKA70JboHOAOzYJGwwBACqN+yagxPy\\u002fuilQqktRjKBI\\u002f4SZmywxNtJYVLkfJ4TKzOIJS2vYaB68oDHUZGYt7259O6pNOCHM0FVC\\u002fH6QL1RIFUYAGDdxs16c1j4AQFBMqsyxj8eFxXC0CUMJmKZiHHAkTm4AgGYpk\\u002f9KrrhaSmT6KKdGUOAImX2UgzMtSuzuDwCEGXoAiDrLBSodADh6pn4LBEWndwOQ6AtlueX9H\\u002f3V3j3z18xQLi1Zp5LrBMCCYzTQddY2ciXxocr8\\u002f+ub1gkA4NipuBsCRbEnzwXu2idevZJ\\u002f\\u002fLR\\u002f9tNqqvgAcLYublpja5AkWfQaaEa0xIwzI16Wu9sHgCAbcWdIhdpy496Tl58Okh4AkAg060u\\u002fPDRRz7IMSftbBt6Ke9kkLMu0DLzJtSYjfCCYpJ9Yugj2jkg2rxRU5KcQrNDIGADwjFp\\u002fc1fUSOjVUzPSh1iqAwCfe3R6Hh\\u002fL0j7PmFRhFMuyooLltPb6veNCsVqtr47Kk0a\\u002fAkVxn3vUZZ\\u002f6pcSyrPCDtTufjBo5EDxuvRPO7k+KZwKAh4rsS0g2BAAEyo+dIyESbBiHvK254mqDqNwZGsUQfMSX2N0eRlm8aqzpY9LnBgAU52Uu2wAs6+yP\\u002fMqk1wkAPInCO7kp167YjvG5CwupoQRB0KBznHMOw4EnwL7ws8qq3Vy9az4y9uJ3WkMB7sJt\\u002foKVpcUAwDLGdRNaRikAMOix8NNZTlNnYgAwOh73+WganC5GqYjMSQ2CYgVbvwgM03vyBZahV933875TLxlW7cX5Yu\\u002fEYP+pl0I+JwDgAknOmv0yfTFD09aeOlPjYZZhVtzzo7a3f0763cv2PeGzmfpOvSjTl+gqt3Ye+QP3xywyAfADgJWxDNJJV+wAwMMlLMuEa2OgCKaS5gVI1\\u002fRrbCGwNE073ERWJkLgLMn996ULzydNyrt2yfdu9JxppsYi1yEAYHIJ4wuEf66v4UrG3+6V7lzjPl4fDuNCRQLJphXRyWkEw\\u002fkAED214BBeQ+FExJsTxjJYl1++V5ddGxUsrbEWAMxDU8srAMBxAQAAy\\u002fq9cUfMsTB03LYXAPTCkn7PpSDjAwAMwXPElSywY\\u002f7I9tNLOQBALcgf9EbURIhJwzs+Dh7KbguZdIICPipkWNocmJL+6QRd1tI7n3D2tVABr6KgSqDQjDYei8Y02Drr1cs3Z2+6g6\\u002fQMBQpNRSJdfkec68kqyD2TaxXzmdWrCv9m8fCT1maisSgNp+M9abe8nhx1W7NJy8NNbxntpsDCIIo9YJVt2Rt+Hy2a6L4zR9zhXX+gpVMNBEEgZjRWU4LM30yNZsrhWXDasWQof7TL0euWwTRlG1oP\\u002fAMQ4UKt92fVb1r4OzrAFCw5W8DzrHm136M8QSFW+\\u002fLqtplajzssw4LlVkMRbIsI87MBgCRyuCdbNgbPhxEAU12SphG7MwoYJUZqDa1YFndPRZ72\\u002frSLyMIBsA6faZLvS9xJy0Y79kW2U0bsr7\\u002fsK+pE0FRTCaeeG7KbTEjCIbyi4yoUIAI+ZhSBgDi9VW0w834g6Rlgra5AIDx+MaffU3zD583\\u002fOxr3jPNlM2FycSEQSMszxv6x19R43YAoMZszoNn5Hs36n\\u002fyFV99O4JjotoKatSGaxIsJRYIRfoBAMfi1ixRInJGxu0DRofr88r2yFR5QrHa7x0XSbVShZFl6LHhKe8hTIodC2zdif9I8EVPgo92bdB8ftTfSzJ+rbBIjCv7PBejMQ2OkNkRsqj5uWsyb7cHTXxMrBUUuskJFd8Q\\u002fzYAAEPe1mrlbrWAPxropRiuMkZhyGD3e7\\u002fVrtiWUbaWEMtDbvvImXfGmqccC\\u002f6Jkd6Dz2Wt3qNduZ2laa+lr+vt3wjV2bGCxZdl5O++n\\u002fJ7Ji6fpUMBAMAIvsRQZNiwj2WZ8ZapyL4VN2nPvjr8xo+mhMlhCfRddCAorLxJl07BGjHTq6pBr8P7B+NERafFAMBkjlzbs5w2YaUBQJMZt5hCUVAqI97oFDAMVbDli1TAO3D29divgrn1eLiyoGOgJaOwFgB4YqUsq7jn2P8wNMn4SVPzR\\u002fmb7pkULD0giGesX6LJx\\u002fkikUpv7494MXysR4oolagmfK63qNiYUSdrVaPZWVieme6P2nEghIjEzdqjli7z0S7z0ejTxcD2yhGGJCXrliv2bWWDobkezKEiQda\\u002ffDnWkvnQvvADxxvH7G9EPryvod30vWflt20R1ZShUhHj8ZOjNvurH9FOT\\u002fSFthcO0g63dMdq2Y3rabvLdeSc++iF3D99PzohXXjdFgAQSbXhyIPYIQTBRBJNdE6UUNBjG23P0C3TZtf0dxzW6FcAwISllQzFHSOEX4UgqESm9zhn9UWi2FCd9e18SU22qJyPigO054rrNCeg4aLtQIlsQwY\\u002fWyGp8dPuHk+dyde5Xfdg7Jwwo4GeEOPnocIRXzt3bJKxpuNjTccBwNLwoaXhQ+7wJK7Bdk7Aut9mtnVMHTsat9xFiGRtL\\u002f4ktugggqKVX\\u002fyBoqA6VrD4Irw\\u002fSWpO7W16rnUhgnXiE\\u002f9te0TbNgnOXJi64eA4csM6QSDINjRFPugsp11qCQHA+tX8Z34fnQUVpTw+D0l9SggAmvJNGME3NX7IuXFF+3ezDB3u38UTy2kySE\\u002feIUmvkxBKERTzTgzJjRUYwfdODKEoLs7MEar0ww3vh6cN011a1FhFbBylBykgceCNM8OjzFB4FAAyUT0OBIHwlKgGAFSoDgBINkQDOc4kiNZNTTP5SS2xYzm+IQctdbN2BFAhIlKgags90Eqd485eTNgQaX\\u002f5iP3lI9wBAABwHTnnOpLq89BuX98XkvprYgkNjc5QE4JlnQdOcSrJzPLN54R9rIOmAjghVOurx0YuxQ5pDCswnE9TQcc4dz9lHryQoVumMazs7zis1lcBgCV+PwgAAZ\\u002fN4xyWyLONhVvbL0biv1PQ57nU57kEAD3uuhQhCCEm0Oo4xjEeMv0nxwIALMuwLBOkvdbg1Fd3kRBr8zzmHk6JVJZhWIbhtGsbbHFmFXE9dwBgKJMONCcQspnXL8l44TWP1UZ\\u002f7e\\u002fkxQVTBxnfeVSh1WB\\u002fecntckfuTrOcduykf2ycvmW3aPXKyGqcIJDvPa6IviQFjoGWy+89lbV8mzy7PH6Eu\\u002fAOee0YwY\\u002f+yXhiBel3swzttQ4JZGpxptE71u+ZGBCrczBCGJos9W9lLE3kKS\\u002fr0mDGbKxIgWZG3zDMSmJLFbGxHF8djhrVosZyfHUVsXElsRWZViJxRvys51zoYB\\u002fdhiOEHsvXYkY+IjLRfZx0n+ssBhQVGOj8CACKl9+hzqpCEBQAEARV66uLKm8HgMGuo5zIAwCwj3cEA06BSKUxrBSK1QGf3T7ezZkDAD1tB1iWUeury1beI5JGTuIInkiqMOaV7s4t2Rk\\u002fPc1k8I18TDziv8JOuy7SDh30CxQaNL7yrbJwBSGWeUfjTlfe\\u002fmnHqluzNtydLdPwEQQQBBQ6wQ335dTcrHv7pwm8Iqkup9Iioulk9ocf+2\\u002f9QtwaOMr2zcI3\\u002fqJlGDhwxGu1MbXV\\u002fDWr+BebgzfeaXF7ppbTs5x2+83iF\\u002f+gCQTZdw56AwF2\\u002fWoBj0B8fqasmJeiWkM0DkuqKyzcdn\\u002fHoWf9dgsArLr\\u002fF5ff\\u002fWX4cWbRanXphvb3nwGA4l1\\u002fF3LbhureRQl+0bb73aO9IxcPAsCy\\u002fd8Clml75z+ESl3+5ntJn7Proz\\u002fF\\u002f6jrfFrRZtdI5Nk4IcRxgViWJRCpKNLvsvdTZICiAjQZ6O84HLsBLFx2myF\\u002fEwDQVJAMeQmeOOy9Mg+c62p5a\\u002fqNEADySm\\u002fMKd4R9Dv4QkV\\u002fx5HBro+4MwAAQK2vLqn+HIbxAIBlaWAh2rt3bOTSlUvpd0SGQQBZk3mHnNCcGHs+SHND3tJOuHKp32qy9zTSQT8uEEuyCqTZxaTX2fHmr396rjY6kyIZFEVwHnflFHBTXedt\\u002f\\u002f0PTRz7\\u002fLeEAHDslH\\u002fTXtOTjyl2bRFJJMjAEPXjXzqe+q3D64v7j85y2lvve++4f\\u002fS731Ds3yv2+dnDx3zf\\u002fZHte48ry4q5cSUJcVt6huvfL9rxUPuBZ8Kuq4T0nXzBuGZ\\u002f1ee+x9C0rbfB1BjZ74S89vCO0u8Y5UtVjqHIsct1PgOo9dUqTdzqGyeEsZaBzg9jBaun7V3baLs+b4NMmcsXysmQ3zHRbR44ZxtPcM8PYxm6kFO8nS9UAMuODiXdwY2bmlz2AUPeRqW6RCDKQFA06LMH\\u002fDbbaPv4tMivhYMAUiLbQLNUJt+o4Ok6XeeWQK0AYKzpOOV3Z1Zs0K3cgeI8mgwGneOWhg\\u002fHmk\\u002fSQV\\u002fd23P2k0RJtcK6znWu86kGAWSL9n4eKgzQniFfW58n7uDyOte5znWuc53rXOc61wH4\\u002f2r2euk7kgYxAAAAAElFTkSuQmCC\",\"type\":\"image\",\"xaxis\":\"x\",\"yaxis\":\"y\",\"hovertemplate\":\"x: %{x}\\u003cbr\\u003ey: %{y}\\u003cbr\\u003ecolor: [%{z[0]}, %{z[1]}, %{z[2]}]\\u003cextra\\u003e\\u003c\\u002fextra\\u003e\"}],                        {\"template\":{\"data\":{\"histogram2dcontour\":[{\"type\":\"histogram2dcontour\",\"colorbar\":{\"outlinewidth\":0,\"ticks\":\"\"},\"colorscale\":[[0.0,\"#0d0887\"],[0.1111111111111111,\"#46039f\"],[0.2222222222222222,\"#7201a8\"],[0.3333333333333333,\"#9c179e\"],[0.4444444444444444,\"#bd3786\"],[0.5555555555555556,\"#d8576b\"],[0.6666666666666666,\"#ed7953\"],[0.7777777777777778,\"#fb9f3a\"],[0.8888888888888888,\"#fdca26\"],[1.0,\"#f0f921\"]]}],\"choropleth\":[{\"type\":\"choropleth\",\"colorbar\":{\"outlinewidth\":0,\"ticks\":\"\"}}],\"histogram2d\":[{\"type\":\"histogram2d\",\"colorbar\":{\"outlinewidth\":0,\"ticks\":\"\"},\"colorscale\":[[0.0,\"#0d0887\"],[0.1111111111111111,\"#46039f\"],[0.2222222222222222,\"#7201a8\"],[0.3333333333333333,\"#9c179e\"],[0.4444444444444444,\"#bd3786\"],[0.5555555555555556,\"#d8576b\"],[0.6666666666666666,\"#ed7953\"],[0.7777777777777778,\"#fb9f3a\"],[0.8888888888888888,\"#fdca26\"],[1.0,\"#f0f921\"]]}],\"heatmap\":[{\"type\":\"heatmap\",\"colorbar\":{\"outlinewidth\":0,\"ticks\":\"\"},\"colorscale\":[[0.0,\"#0d0887\"],[0.1111111111111111,\"#46039f\"],[0.2222222222222222,\"#7201a8\"],[0.3333333333333333,\"#9c179e\"],[0.4444444444444444,\"#bd3786\"],[0.5555555555555556,\"#d8576b\"],[0.6666666666666666,\"#ed7953\"],[0.7777777777777778,\"#fb9f3a\"],[0.8888888888888888,\"#fdca26\"],[1.0,\"#f0f921\"]]}],\"heatmapgl\":[{\"type\":\"heatmapgl\",\"colorbar\":{\"outlinewidth\":0,\"ticks\":\"\"},\"colorscale\":[[0.0,\"#0d0887\"],[0.1111111111111111,\"#46039f\"],[0.2222222222222222,\"#7201a8\"],[0.3333333333333333,\"#9c179e\"],[0.4444444444444444,\"#bd3786\"],[0.5555555555555556,\"#d8576b\"],[0.6666666666666666,\"#ed7953\"],[0.7777777777777778,\"#fb9f3a\"],[0.8888888888888888,\"#fdca26\"],[1.0,\"#f0f921\"]]}],\"contourcarpet\":[{\"type\":\"contourcarpet\",\"colorbar\":{\"outlinewidth\":0,\"ticks\":\"\"}}],\"contour\":[{\"type\":\"contour\",\"colorbar\":{\"outlinewidth\":0,\"ticks\":\"\"},\"colorscale\":[[0.0,\"#0d0887\"],[0.1111111111111111,\"#46039f\"],[0.2222222222222222,\"#7201a8\"],[0.3333333333333333,\"#9c179e\"],[0.4444444444444444,\"#bd3786\"],[0.5555555555555556,\"#d8576b\"],[0.6666666666666666,\"#ed7953\"],[0.7777777777777778,\"#fb9f3a\"],[0.8888888888888888,\"#fdca26\"],[1.0,\"#f0f921\"]]}],\"surface\":[{\"type\":\"surface\",\"colorbar\":{\"outlinewidth\":0,\"ticks\":\"\"},\"colorscale\":[[0.0,\"#0d0887\"],[0.1111111111111111,\"#46039f\"],[0.2222222222222222,\"#7201a8\"],[0.3333333333333333,\"#9c179e\"],[0.4444444444444444,\"#bd3786\"],[0.5555555555555556,\"#d8576b\"],[0.6666666666666666,\"#ed7953\"],[0.7777777777777778,\"#fb9f3a\"],[0.8888888888888888,\"#fdca26\"],[1.0,\"#f0f921\"]]}],\"mesh3d\":[{\"type\":\"mesh3d\",\"colorbar\":{\"outlinewidth\":0,\"ticks\":\"\"}}],\"scatter\":[{\"fillpattern\":{\"fillmode\":\"overlay\",\"size\":10,\"solidity\":0.2},\"type\":\"scatter\"}],\"parcoords\":[{\"type\":\"parcoords\",\"line\":{\"colorbar\":{\"outlinewidth\":0,\"ticks\":\"\"}}}],\"scatterpolargl\":[{\"type\":\"scatterpolargl\",\"marker\":{\"colorbar\":{\"outlinewidth\":0,\"ticks\":\"\"}}}],\"bar\":[{\"error_x\":{\"color\":\"#2a3f5f\"},\"error_y\":{\"color\":\"#2a3f5f\"},\"marker\":{\"line\":{\"color\":\"#E5ECF6\",\"width\":0.5},\"pattern\":{\"fillmode\":\"overlay\",\"size\":10,\"solidity\":0.2}},\"type\":\"bar\"}],\"scattergeo\":[{\"type\":\"scattergeo\",\"marker\":{\"colorbar\":{\"outlinewidth\":0,\"ticks\":\"\"}}}],\"scatterpolar\":[{\"type\":\"scatterpolar\",\"marker\":{\"colorbar\":{\"outlinewidth\":0,\"ticks\":\"\"}}}],\"histogram\":[{\"marker\":{\"pattern\":{\"fillmode\":\"overlay\",\"size\":10,\"solidity\":0.2}},\"type\":\"histogram\"}],\"scattergl\":[{\"type\":\"scattergl\",\"marker\":{\"colorbar\":{\"outlinewidth\":0,\"ticks\":\"\"}}}],\"scatter3d\":[{\"type\":\"scatter3d\",\"line\":{\"colorbar\":{\"outlinewidth\":0,\"ticks\":\"\"}},\"marker\":{\"colorbar\":{\"outlinewidth\":0,\"ticks\":\"\"}}}],\"scattermapbox\":[{\"type\":\"scattermapbox\",\"marker\":{\"colorbar\":{\"outlinewidth\":0,\"ticks\":\"\"}}}],\"scatterternary\":[{\"type\":\"scatterternary\",\"marker\":{\"colorbar\":{\"outlinewidth\":0,\"ticks\":\"\"}}}],\"scattercarpet\":[{\"type\":\"scattercarpet\",\"marker\":{\"colorbar\":{\"outlinewidth\":0,\"ticks\":\"\"}}}],\"carpet\":[{\"aaxis\":{\"endlinecolor\":\"#2a3f5f\",\"gridcolor\":\"white\",\"linecolor\":\"white\",\"minorgridcolor\":\"white\",\"startlinecolor\":\"#2a3f5f\"},\"baxis\":{\"endlinecolor\":\"#2a3f5f\",\"gridcolor\":\"white\",\"linecolor\":\"white\",\"minorgridcolor\":\"white\",\"startlinecolor\":\"#2a3f5f\"},\"type\":\"carpet\"}],\"table\":[{\"cells\":{\"fill\":{\"color\":\"#EBF0F8\"},\"line\":{\"color\":\"white\"}},\"header\":{\"fill\":{\"color\":\"#C8D4E3\"},\"line\":{\"color\":\"white\"}},\"type\":\"table\"}],\"barpolar\":[{\"marker\":{\"line\":{\"color\":\"#E5ECF6\",\"width\":0.5},\"pattern\":{\"fillmode\":\"overlay\",\"size\":10,\"solidity\":0.2}},\"type\":\"barpolar\"}],\"pie\":[{\"automargin\":true,\"type\":\"pie\"}]},\"layout\":{\"autotypenumbers\":\"strict\",\"colorway\":[\"#636efa\",\"#EF553B\",\"#00cc96\",\"#ab63fa\",\"#FFA15A\",\"#19d3f3\",\"#FF6692\",\"#B6E880\",\"#FF97FF\",\"#FECB52\"],\"font\":{\"color\":\"#2a3f5f\"},\"hovermode\":\"closest\",\"hoverlabel\":{\"align\":\"left\"},\"paper_bgcolor\":\"white\",\"plot_bgcolor\":\"#E5ECF6\",\"polar\":{\"bgcolor\":\"#E5ECF6\",\"angularaxis\":{\"gridcolor\":\"white\",\"linecolor\":\"white\",\"ticks\":\"\"},\"radialaxis\":{\"gridcolor\":\"white\",\"linecolor\":\"white\",\"ticks\":\"\"}},\"ternary\":{\"bgcolor\":\"#E5ECF6\",\"aaxis\":{\"gridcolor\":\"white\",\"linecolor\":\"white\",\"ticks\":\"\"},\"baxis\":{\"gridcolor\":\"white\",\"linecolor\":\"white\",\"ticks\":\"\"},\"caxis\":{\"gridcolor\":\"white\",\"linecolor\":\"white\",\"ticks\":\"\"}},\"coloraxis\":{\"colorbar\":{\"outlinewidth\":0,\"ticks\":\"\"}},\"colorscale\":{\"sequential\":[[0.0,\"#0d0887\"],[0.1111111111111111,\"#46039f\"],[0.2222222222222222,\"#7201a8\"],[0.3333333333333333,\"#9c179e\"],[0.4444444444444444,\"#bd3786\"],[0.5555555555555556,\"#d8576b\"],[0.6666666666666666,\"#ed7953\"],[0.7777777777777778,\"#fb9f3a\"],[0.8888888888888888,\"#fdca26\"],[1.0,\"#f0f921\"]],\"sequentialminus\":[[0.0,\"#0d0887\"],[0.1111111111111111,\"#46039f\"],[0.2222222222222222,\"#7201a8\"],[0.3333333333333333,\"#9c179e\"],[0.4444444444444444,\"#bd3786\"],[0.5555555555555556,\"#d8576b\"],[0.6666666666666666,\"#ed7953\"],[0.7777777777777778,\"#fb9f3a\"],[0.8888888888888888,\"#fdca26\"],[1.0,\"#f0f921\"]],\"diverging\":[[0,\"#8e0152\"],[0.1,\"#c51b7d\"],[0.2,\"#de77ae\"],[0.3,\"#f1b6da\"],[0.4,\"#fde0ef\"],[0.5,\"#f7f7f7\"],[0.6,\"#e6f5d0\"],[0.7,\"#b8e186\"],[0.8,\"#7fbc41\"],[0.9,\"#4d9221\"],[1,\"#276419\"]]},\"xaxis\":{\"gridcolor\":\"white\",\"linecolor\":\"white\",\"ticks\":\"\",\"title\":{\"standoff\":15},\"zerolinecolor\":\"white\",\"automargin\":true,\"zerolinewidth\":2},\"yaxis\":{\"gridcolor\":\"white\",\"linecolor\":\"white\",\"ticks\":\"\",\"title\":{\"standoff\":15},\"zerolinecolor\":\"white\",\"automargin\":true,\"zerolinewidth\":2},\"scene\":{\"xaxis\":{\"backgroundcolor\":\"#E5ECF6\",\"gridcolor\":\"white\",\"linecolor\":\"white\",\"showbackground\":true,\"ticks\":\"\",\"zerolinecolor\":\"white\",\"gridwidth\":2},\"yaxis\":{\"backgroundcolor\":\"#E5ECF6\",\"gridcolor\":\"white\",\"linecolor\":\"white\",\"showbackground\":true,\"ticks\":\"\",\"zerolinecolor\":\"white\",\"gridwidth\":2},\"zaxis\":{\"backgroundcolor\":\"#E5ECF6\",\"gridcolor\":\"white\",\"linecolor\":\"white\",\"showbackground\":true,\"ticks\":\"\",\"zerolinecolor\":\"white\",\"gridwidth\":2}},\"shapedefaults\":{\"line\":{\"color\":\"#2a3f5f\"}},\"annotationdefaults\":{\"arrowcolor\":\"#2a3f5f\",\"arrowhead\":0,\"arrowwidth\":1},\"geo\":{\"bgcolor\":\"white\",\"landcolor\":\"#E5ECF6\",\"subunitcolor\":\"white\",\"showland\":true,\"showlakes\":true,\"lakecolor\":\"white\"},\"title\":{\"x\":0.05},\"mapbox\":{\"style\":\"light\"}}},\"xaxis\":{\"anchor\":\"y\",\"domain\":[0.0,1.0],\"visible\":false},\"yaxis\":{\"anchor\":\"x\",\"domain\":[0.0,1.0],\"visible\":false},\"margin\":{\"t\":60},\"height\":700,\"width\":1000},                        {\"responsive\": true}                    ).then(function(){\n",
       "                            \n",
       "var gd = document.getElementById('6fe1c77e-0d7b-4ded-ae8c-4845bb5ad400');\n",
       "var x = new MutationObserver(function (mutations, observer) {{\n",
       "        var display = window.getComputedStyle(gd).display;\n",
       "        if (!display || display === 'none') {{\n",
       "            console.log([gd, 'removed!']);\n",
       "            Plotly.purge(gd);\n",
       "            observer.disconnect();\n",
       "        }}\n",
       "}});\n",
       "\n",
       "// Listen for the removal of the full notebook cells\n",
       "var notebookContainer = gd.closest('#notebook-container');\n",
       "if (notebookContainer) {{\n",
       "    x.observe(notebookContainer, {childList: true});\n",
       "}}\n",
       "\n",
       "// Listen for the clearing of the current output cell\n",
       "var outputEl = gd.closest('.output');\n",
       "if (outputEl) {{\n",
       "    x.observe(outputEl, {childList: true});\n",
       "}}\n",
       "\n",
       "                        })                };                });            </script>        </div>"
      ]
     },
     "metadata": {},
     "output_type": "display_data"
    }
   ],
   "source": [
    "wcloud = WordCloud(max_words = 50)\n",
    "wcloud.generate(preprocessed_reviews_str)\n",
    "import plotly.express as px\n",
    "fig = px.imshow(wcloud)\n",
    "fig.update_layout(\n",
    "    xaxis_visible=False,  # Hide the x-axis\n",
    "    yaxis_visible=False,  # Hide the y-axis\n",
    "    height=700,           # Adjust the height\n",
    "    width=1000             # Adjust the width\n",
    ")\n",
    "fig.show()"
   ]
  },
  {
   "cell_type": "code",
   "execution_count": null,
   "id": "0c0a4575-746e-4e89-bfcf-457f3a2c2d4b",
   "metadata": {},
   "outputs": [],
   "source": []
  },
  {
   "cell_type": "code",
   "execution_count": null,
   "id": "dc82ad97-46f5-4ce4-923b-da8081311b14",
   "metadata": {},
   "outputs": [],
   "source": []
  },
  {
   "cell_type": "code",
   "execution_count": 69,
   "id": "20cd55ed-45d2-4c01-ae9b-93cc748cd02f",
   "metadata": {},
   "outputs": [],
   "source": []
  },
  {
   "cell_type": "code",
   "execution_count": null,
   "id": "45977bc2-c513-42b1-86cc-67555b856d00",
   "metadata": {},
   "outputs": [],
   "source": []
  }
 ],
 "metadata": {
  "kernelspec": {
   "display_name": "Python 3 (ipykernel)",
   "language": "python",
   "name": "python3"
  },
  "language_info": {
   "codemirror_mode": {
    "name": "ipython",
    "version": 3
   },
   "file_extension": ".py",
   "mimetype": "text/x-python",
   "name": "python",
   "nbconvert_exporter": "python",
   "pygments_lexer": "ipython3",
   "version": "3.12.3"
  }
 },
 "nbformat": 4,
 "nbformat_minor": 5
}
