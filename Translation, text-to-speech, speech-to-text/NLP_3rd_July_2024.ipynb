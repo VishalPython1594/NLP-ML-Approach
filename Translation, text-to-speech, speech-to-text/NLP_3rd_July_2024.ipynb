{
 "cells": [
  {
   "cell_type": "markdown",
   "id": "e7c6dd2e-e4e9-4e49-881e-6f5941776ba5",
   "metadata": {},
   "source": [
    "# Translation \n",
    "### https://pypi.org/project/deep-translator/"
   ]
  },
  {
   "cell_type": "code",
   "execution_count": 23,
   "id": "ebfb1cec-0eea-465c-8d89-bff1dcf4f522",
   "metadata": {},
   "outputs": [],
   "source": [
    "#!pip install googletrans==4.0.0-rc1\n",
    "#!pip install deep-translator"
   ]
  },
  {
   "cell_type": "code",
   "execution_count": 24,
   "id": "d1c64c0d-d418-4b99-b321-6ace5e0a40c3",
   "metadata": {},
   "outputs": [],
   "source": [
    "from googletrans import Translator\n",
    "from deep_translator import GoogleTranslator\n"
   ]
  },
  {
   "cell_type": "code",
   "execution_count": 25,
   "id": "6c2b74b2-b524-40b5-83af-4ebe82fbbcc9",
   "metadata": {},
   "outputs": [],
   "source": [
    "trans = GoogleTranslator()\n",
    "text = \"普京和习近平在上合组织峰会上（资料照片）。上海合作组织（SCO）将于星期三（7月3日）在哈萨克斯坦举行年度峰会。该组织成员包括俄罗斯、中国、伊朗和几个中亚国家。由于该组织的成员国囊括了许多西方国家的对手，使西方对其持怀疑态度。但它在世界舞台上究竟有多重要呢？上海合作组织成立于2001年，由中国、俄罗斯和四个中亚的前苏联加盟共和国，包括哈萨克斯坦、吉尔吉斯斯坦、塔吉克斯坦和乌兹别克斯坦等组成。它源于 年俄罗斯、中国和中亚国家签署的边界协定，由此建立了“上海五国”机制。\""
   ]
  },
  {
   "cell_type": "code",
   "execution_count": 19,
   "id": "4e5582e0-2b3c-44d1-ac51-8ff46b8cac4e",
   "metadata": {},
   "outputs": [
    {
     "data": {
      "text/plain": [
       "'普京和习近平在上合组织峰会上（资料照片）。上海合作组织（SCO）将于星期三（7月3日）在哈萨克斯坦举行年度峰会。该组织成员包括俄罗斯、中国、伊朗和几个中亚国家。由于该组织的成员国囊括了许多西方国家的对手，使西方对其持怀疑态度。但它在世界舞台上究竟有多重要呢？上海合作组织成立于2001年，由中国、俄罗斯和四个中亚的前苏联加盟共和国，包括哈萨克斯坦、吉尔吉斯斯坦、塔吉克斯坦和乌兹别克斯坦等组成。它源于 年俄罗斯、中国和中亚国家签署的边界协定，由此建立了“上海五国”机制。'"
      ]
     },
     "execution_count": 19,
     "metadata": {},
     "output_type": "execute_result"
    }
   ],
   "source": [
    "text"
   ]
  },
  {
   "cell_type": "code",
   "execution_count": 33,
   "id": "630957b6-1b93-41d8-9d73-ce4c965ecafb",
   "metadata": {},
   "outputs": [
    {
     "name": "stdout",
     "output_type": "stream",
     "text": [
      "Original Text : 普京和习近平在上合组织峰会上（资料照片）。上海合作组织（SCO）将于星期三（7月3日）在哈萨克斯坦举行年度峰会。该组织成员包括俄罗斯、中国、伊朗和几个中亚国家。由于该组织的成员国囊括了许多西方国家的对手，使西方对其持怀疑态度。但它在世界舞台上究竟有多重要呢？上海合作组织成立于2001年，由中国、俄罗斯和四个中亚的前苏联加盟共和国，包括哈萨克斯坦、吉尔吉斯斯坦、塔吉克斯坦和乌兹别克斯坦等组成。它源于 年俄罗斯、中国和中亚国家签署的边界协定，由此建立了“上海五国”机制。\n",
      "Translated Text : एससीओ शिखर सम्मेलन में पुतिन और शी जिनपिंग (फाइल फोटो)। शंघाई सहयोग संगठन (एससीओ) बुधवार (3 जुलाई) को कजाकिस्तान में अपना वार्षिक शिखर सम्मेलन आयोजित करेगा। इसके सदस्यों में रूस, चीन, ईरान और कई मध्य एशियाई देश शामिल हैं। चूँकि संगठन के सदस्य देशों में पश्चिमी देशों के कई विरोधी शामिल हैं, इसलिए पश्चिम को इस पर संदेह है। लेकिन विश्व मंच पर इसका कितना महत्व है? शंघाई सहयोग संगठन की स्थापना 2001 में हुई थी और इसमें चीन, रूस और मध्य एशिया के चार पूर्व सोवियत गणराज्य शामिल हैं, जिनमें कजाकिस्तान, किर्गिस्तान, ताजिकिस्तान और उज्बेकिस्तान शामिल हैं। इसकी उत्पत्ति 2001 में रूस, चीन और मध्य एशियाई देशों द्वारा हस्ताक्षरित सीमा समझौते से हुई, इस प्रकार \"शंघाई फाइव\" तंत्र की स्थापना हुई।\n"
     ]
    }
   ],
   "source": [
    "# hindi, kannada, telugu, gujrathi, marathi, tamil, english\n",
    "# https://en.wikipedia.org/wiki/List_of_ISO_639_language_codes\n",
    "\n",
    "translated = GoogleTranslator(source='zh-CN', target='hi').translate(text)\n",
    "print(\"Original Text :\", text)\n",
    "print(\"Translated Text :\", translated)"
   ]
  },
  {
   "cell_type": "code",
   "execution_count": 34,
   "id": "394d9f8c-6677-4f80-a8a6-8bff35aea357",
   "metadata": {},
   "outputs": [
    {
     "name": "stdout",
     "output_type": "stream",
     "text": [
      "Original Text : 普京和习近平在上合组织峰会上（资料照片）。上海合作组织（SCO）将于星期三（7月3日）在哈萨克斯坦举行年度峰会。该组织成员包括俄罗斯、中国、伊朗和几个中亚国家。由于该组织的成员国囊括了许多西方国家的对手，使西方对其持怀疑态度。但它在世界舞台上究竟有多重要呢？上海合作组织成立于2001年，由中国、俄罗斯和四个中亚的前苏联加盟共和国，包括哈萨克斯坦、吉尔吉斯斯坦、塔吉克斯坦和乌兹别克斯坦等组成。它源于 年俄罗斯、中国和中亚国家签署的边界协定，由此建立了“上海五国”机制。\n",
      "Translated Text : SCO உச்சிமாநாட்டில் புடின் மற்றும் ஜி ஜின்பிங் (கோப்பு படம்). ஷாங்காய் ஒத்துழைப்பு அமைப்பு (எஸ்சிஓ) தனது வருடாந்திர உச்சி மாநாட்டை புதன்கிழமை (ஜூலை 3) கஜகஸ்தானில் நடத்தவுள்ளது. அதன் உறுப்பினர்களில் ரஷ்யா, சீனா, ஈரான் மற்றும் பல மத்திய ஆசிய நாடுகள் அடங்கும். இந்த அமைப்பின் உறுப்பு நாடுகளில் மேற்கத்திய நாடுகளின் எதிர்ப்பாளர்கள் பலர் உள்ளதால், மேற்குலகம் அதில் சந்தேகம் கொள்கிறது. ஆனால் உலக அரங்கில் அது எவ்வளவு முக்கியமானது? ஷாங்காய் ஒத்துழைப்பு அமைப்பு 2001 இல் நிறுவப்பட்டது மற்றும் சீனா, ரஷ்யா மற்றும் மத்திய ஆசியாவில் கஜகஸ்தான், கிர்கிஸ்தான், தஜிகிஸ்தான் மற்றும் உஸ்பெகிஸ்தான் உட்பட நான்கு முன்னாள் சோவியத் குடியரசுகளைக் கொண்டுள்ளது. இது 2001 இல் ரஷ்யா, சீனா மற்றும் மத்திய ஆசிய நாடுகள் கையெழுத்திட்ட எல்லை ஒப்பந்தத்தில் இருந்து உருவானது, இதனால் \"ஷாங்காய் ஃபைவ்\" பொறிமுறையை நிறுவியது.\n"
     ]
    }
   ],
   "source": [
    "translated = GoogleTranslator(source='zh-CN', target='ta').translate(text)\n",
    "print(\"Original Text :\", text)\n",
    "print(\"Translated Text :\", translated)"
   ]
  },
  {
   "cell_type": "code",
   "execution_count": 35,
   "id": "a5726f76-8ffc-4a09-a8e3-fdd9875fe0fc",
   "metadata": {},
   "outputs": [
    {
     "name": "stdout",
     "output_type": "stream",
     "text": [
      "Original Text : 普京和习近平在上合组织峰会上（资料照片）。上海合作组织（SCO）将于星期三（7月3日）在哈萨克斯坦举行年度峰会。该组织成员包括俄罗斯、中国、伊朗和几个中亚国家。由于该组织的成员国囊括了许多西方国家的对手，使西方对其持怀疑态度。但它在世界舞台上究竟有多重要呢？上海合作组织成立于2001年，由中国、俄罗斯和四个中亚的前苏联加盟共和国，包括哈萨克斯坦、吉尔吉斯斯坦、塔吉克斯坦和乌兹别克斯坦等组成。它源于 年俄罗斯、中国和中亚国家签署的边界协定，由此建立了“上海五国”机制。\n",
      "Translated Text : SCO సమ్మిట్‌లో పుతిన్ మరియు జి జిన్‌పింగ్ (ఫైల్ ఫోటో). షాంఘై కోఆపరేషన్ ఆర్గనైజేషన్ (SCO) తన వార్షిక శిఖరాగ్ర సమావేశాన్ని బుధవారం (జూలై 3) కజకిస్థాన్‌లో నిర్వహించనుంది. దీని సభ్యులు రష్యా, చైనా, ఇరాన్ మరియు అనేక మధ్య ఆసియా దేశాలు. సంస్థ యొక్క సభ్య దేశాలలో చాలా మంది పాశ్చాత్య దేశాల ప్రత్యర్థులు ఉన్నందున, పాశ్చాత్య దేశాలు దానిపై అనుమానం కలిగి ఉన్నాయి. కానీ ప్రపంచ వేదికపై ఇది ఎంత ముఖ్యమైనది? షాంఘై కోఆపరేషన్ ఆర్గనైజేషన్ 2001లో స్థాపించబడింది మరియు ఇది చైనా, రష్యా మరియు మధ్య ఆసియాలోని నాలుగు మాజీ సోవియట్ రిపబ్లిక్‌లను కలిగి ఉంది, ఇందులో కజాఖ్స్తాన్, కిర్గిజ్స్తాన్, తజికిస్తాన్ మరియు ఉజ్బెకిస్తాన్ ఉన్నాయి. ఇది 2001లో రష్యా, చైనా మరియు మధ్య ఆసియా దేశాలు సంతకం చేసిన సరిహద్దు ఒప్పందం నుండి ఉద్భవించింది, తద్వారా \"షాంఘై ఫైవ్\" యంత్రాంగాన్ని ఏర్పాటు చేసింది.\n"
     ]
    }
   ],
   "source": [
    "translated = GoogleTranslator(source='zh-CN', target='te').translate(text)\n",
    "print(\"Original Text :\", text)\n",
    "print(\"Translated Text :\", translated)"
   ]
  },
  {
   "cell_type": "code",
   "execution_count": 36,
   "id": "13ad6a1d-cb79-426d-9651-560db61c82bc",
   "metadata": {},
   "outputs": [
    {
     "name": "stdout",
     "output_type": "stream",
     "text": [
      "Original Text : 普京和习近平在上合组织峰会上（资料照片）。上海合作组织（SCO）将于星期三（7月3日）在哈萨克斯坦举行年度峰会。该组织成员包括俄罗斯、中国、伊朗和几个中亚国家。由于该组织的成员国囊括了许多西方国家的对手，使西方对其持怀疑态度。但它在世界舞台上究竟有多重要呢？上海合作组织成立于2001年，由中国、俄罗斯和四个中亚的前苏联加盟共和国，包括哈萨克斯坦、吉尔吉斯斯坦、塔吉克斯坦和乌兹别克斯坦等组成。它源于 年俄罗斯、中国和中亚国家签署的边界协定，由此建立了“上海五国”机制。\n",
      "Translated Text : SCO ಶೃಂಗಸಭೆಯಲ್ಲಿ ಪುಟಿನ್ ಮತ್ತು ಕ್ಸಿ ಜಿನ್‌ಪಿಂಗ್ (ಫೈಲ್ ಫೋಟೋ). ಶಾಂಘೈ ಸಹಕಾರ ಸಂಸ್ಥೆ (SCO) ತನ್ನ ವಾರ್ಷಿಕ ಶೃಂಗಸಭೆಯನ್ನು ಕಝಾಕಿಸ್ತಾನ್‌ನಲ್ಲಿ ಬುಧವಾರ (ಜುಲೈ 3) ನಡೆಸಲಿದೆ. ಇದರ ಸದಸ್ಯರು ರಷ್ಯಾ, ಚೀನಾ, ಇರಾನ್ ಮತ್ತು ಹಲವಾರು ಮಧ್ಯ ಏಷ್ಯಾದ ದೇಶಗಳನ್ನು ಒಳಗೊಂಡಿದೆ. ಸಂಘಟನೆಯ ಸದಸ್ಯ ರಾಷ್ಟ್ರಗಳು ಪಾಶ್ಚಿಮಾತ್ಯ ದೇಶಗಳ ಅನೇಕ ವಿರೋಧಿಗಳನ್ನು ಒಳಗೊಂಡಿರುವುದರಿಂದ, ಪಶ್ಚಿಮವು ಅದರ ಬಗ್ಗೆ ಸಂಶಯ ವ್ಯಕ್ತಪಡಿಸುತ್ತದೆ. ಆದರೆ ವಿಶ್ವ ವೇದಿಕೆಯಲ್ಲಿ ಇದು ಎಷ್ಟು ಮುಖ್ಯ? ಶಾಂಘೈ ಸಹಕಾರ ಸಂಸ್ಥೆಯನ್ನು 2001 ರಲ್ಲಿ ಸ್ಥಾಪಿಸಲಾಯಿತು ಮತ್ತು ಚೀನಾ, ರಷ್ಯಾ ಮತ್ತು ಕಝಾಕಿಸ್ತಾನ್, ಕಿರ್ಗಿಸ್ತಾನ್, ತಜಿಕಿಸ್ತಾನ್ ಮತ್ತು ಉಜ್ಬೇಕಿಸ್ತಾನ್ ಸೇರಿದಂತೆ ಮಧ್ಯ ಏಷ್ಯಾದ ನಾಲ್ಕು ಹಿಂದಿನ ಸೋವಿಯತ್ ಗಣರಾಜ್ಯಗಳನ್ನು ಒಳಗೊಂಡಿದೆ. ಇದು 2001 ರಲ್ಲಿ ರಷ್ಯಾ, ಚೀನಾ ಮತ್ತು ಮಧ್ಯ ಏಷ್ಯಾದ ದೇಶಗಳು ಸಹಿ ಮಾಡಿದ ಗಡಿ ಒಪ್ಪಂದದಿಂದ ಹುಟ್ಟಿಕೊಂಡಿತು, ಹೀಗಾಗಿ \"ಶಾಂಘೈ ಫೈವ್\" ಕಾರ್ಯವಿಧಾನವನ್ನು ಸ್ಥಾಪಿಸಿತು.\n"
     ]
    }
   ],
   "source": [
    "translated = GoogleTranslator(source='zh-CN', target='kn').translate(text)\n",
    "print(\"Original Text :\", text)\n",
    "print(\"Translated Text :\", translated)"
   ]
  },
  {
   "cell_type": "code",
   "execution_count": 37,
   "id": "e8b3ca91-3af0-48c2-82b9-66ee48b71eb7",
   "metadata": {},
   "outputs": [
    {
     "name": "stdout",
     "output_type": "stream",
     "text": [
      "Original Text : 普京和习近平在上合组织峰会上（资料照片）。上海合作组织（SCO）将于星期三（7月3日）在哈萨克斯坦举行年度峰会。该组织成员包括俄罗斯、中国、伊朗和几个中亚国家。由于该组织的成员国囊括了许多西方国家的对手，使西方对其持怀疑态度。但它在世界舞台上究竟有多重要呢？上海合作组织成立于2001年，由中国、俄罗斯和四个中亚的前苏联加盟共和国，包括哈萨克斯坦、吉尔吉斯斯坦、塔吉克斯坦和乌兹别克斯坦等组成。它源于 年俄罗斯、中国和中亚国家签署的边界协定，由此建立了“上海五国”机制。\n",
      "Translated Text : SCO સમિટમાં પુતિન અને શી જિનપિંગ (ફાઇલ ફોટો). શાંઘાઈ કોઓપરેશન ઓર્ગેનાઈઝેશન (SCO) બુધવારે (3 જુલાઈ) કઝાકિસ્તાનમાં તેની વાર્ષિક સમિટ યોજશે. તેના સભ્યોમાં રશિયા, ચીન, ઈરાન અને કેટલાક મધ્ય એશિયાઈ દેશોનો સમાવેશ થાય છે. કારણ કે સંગઠનના સભ્ય દેશોમાં પશ્ચિમી દેશોના ઘણા વિરોધીઓનો સમાવેશ થાય છે, પશ્ચિમ તેના પર શંકા કરે છે. પરંતુ વિશ્વ મંચ પર તેનું કેટલું મહત્વ છે? શાંઘાઈ કોઓપરેશન ઓર્ગેનાઈઝેશનની સ્થાપના 2001માં થઈ હતી અને તેમાં કઝાકિસ્તાન, કિર્ગિસ્તાન, તાજિકિસ્તાન અને ઉઝબેકિસ્તાન સહિત મધ્ય એશિયામાં ચીન, રશિયા અને ચાર ભૂતપૂર્વ સોવિયેત પ્રજાસત્તાકનો સમાવેશ થાય છે. તે 2001 માં રશિયા, ચીન અને મધ્ય એશિયાના દેશો દ્વારા હસ્તાક્ષર કરાયેલ સરહદ કરારમાંથી ઉદ્દભવ્યું, આમ \"શાંઘાઈ ફાઇવ\" મિકેનિઝમની સ્થાપના થઈ.\n"
     ]
    }
   ],
   "source": [
    "translated = GoogleTranslator(source='zh-CN', target='gu').translate(text)\n",
    "print(\"Original Text :\", text)\n",
    "print(\"Translated Text :\", translated)"
   ]
  },
  {
   "cell_type": "code",
   "execution_count": 38,
   "id": "affe8062-09e5-419c-9b3e-f178c95e79c0",
   "metadata": {},
   "outputs": [
    {
     "name": "stdout",
     "output_type": "stream",
     "text": [
      "Original Text : 普京和习近平在上合组织峰会上（资料照片）。上海合作组织（SCO）将于星期三（7月3日）在哈萨克斯坦举行年度峰会。该组织成员包括俄罗斯、中国、伊朗和几个中亚国家。由于该组织的成员国囊括了许多西方国家的对手，使西方对其持怀疑态度。但它在世界舞台上究竟有多重要呢？上海合作组织成立于2001年，由中国、俄罗斯和四个中亚的前苏联加盟共和国，包括哈萨克斯坦、吉尔吉斯斯坦、塔吉克斯坦和乌兹别克斯坦等组成。它源于 年俄罗斯、中国和中亚国家签署的边界协定，由此建立了“上海五国”机制。\n",
      "Translated Text : SCO शिखर परिषदेत पुतिन आणि शी जिनपिंग (फाइल फोटो). शांघाय कोऑपरेशन ऑर्गनायझेशन (SCO) ची वार्षिक शिखर परिषद बुधवारी (3 जुलै) कझाकिस्तानमध्ये होणार आहे. त्याच्या सदस्यांमध्ये रशिया, चीन, इराण आणि अनेक मध्य आशियाई देशांचा समावेश आहे. कारण संघटनेच्या सदस्य राष्ट्रांमध्ये पाश्चिमात्य देशांच्या अनेक विरोधकांचा समावेश असल्याने पाश्चिमात्य देश याबाबत साशंक आहेत. पण जागतिक पटलावर त्याचे किती महत्त्व आहे? शांघाय कोऑपरेशन ऑर्गनायझेशनची स्थापना 2001 मध्ये झाली आणि त्यात चीन, रशिया आणि कझाकिस्तान, किर्गिस्तान, ताजिकिस्तान आणि उझबेकिस्तानसह मध्य आशियातील चार माजी सोव्हिएत प्रजासत्ताकांचा समावेश आहे. हे 2001 मध्ये रशिया, चीन आणि मध्य आशियाई देशांनी स्वाक्षरी केलेल्या सीमा करारातून उद्भवले आणि अशा प्रकारे \"शांघाय फाइव्ह\" यंत्रणा स्थापन केली.\n"
     ]
    }
   ],
   "source": [
    "translated = GoogleTranslator(source='zh-CN', target='mr').translate(text)\n",
    "print(\"Original Text :\", text)\n",
    "print(\"Translated Text :\", translated)"
   ]
  },
  {
   "cell_type": "code",
   "execution_count": 39,
   "id": "b1997c1d-3a5a-442f-8e58-74055a012af4",
   "metadata": {},
   "outputs": [],
   "source": [
    "text1 = \"उत्तर प्रदेश के हाथरस में मंगलवार को बड़ा हादसा हो गया। जिले के फुलराई गांव में भोलेबाबा का प्रवचन कार्यक्रम चल रहा था। इस दौरान समापन के बाद अचानक भगदड़ मच गई। कार्यक्रम में शामिल होने आए 134 लोगों की इस हादसे में मौत हो गई। हालांकि प्रशासन ने अभी तक 116 लोगों के नाम सार्वजनिक किए हैं। सैकड़ों भक्त भीषण गर्मी से बेहोश हो गए। बुधवार सुबह ही मौके पर फरेंसिंक टीम जांच के लिए पहुंच गई है। आज सीएम योगी आदित्‍यनाथ के भी हाथरस आने की चर्चा है। योगी, मोदी, शाह समेत देश भर के नेताओं ने हादसे पर दुख जताया है। पीएम मोदी और सीएम योगी ने मृतक के परिवार को 2-2 लाख रुपये के मुआवजे का ऐलान किया है। घायलों को 50-50 हजार की मदद राशि दी जाएगी। हर अपडेट के लिए बने रहेंः\""
   ]
  },
  {
   "cell_type": "code",
   "execution_count": 40,
   "id": "8437c177-d091-4147-8fcc-9d54977de63b",
   "metadata": {},
   "outputs": [
    {
     "name": "stdout",
     "output_type": "stream",
     "text": [
      "Original Text : उत्तर प्रदेश के हाथरस में मंगलवार को बड़ा हादसा हो गया। जिले के फुलराई गांव में भोलेबाबा का प्रवचन कार्यक्रम चल रहा था। इस दौरान समापन के बाद अचानक भगदड़ मच गई। कार्यक्रम में शामिल होने आए 134 लोगों की इस हादसे में मौत हो गई। हालांकि प्रशासन ने अभी तक 116 लोगों के नाम सार्वजनिक किए हैं। सैकड़ों भक्त भीषण गर्मी से बेहोश हो गए। बुधवार सुबह ही मौके पर फरेंसिंक टीम जांच के लिए पहुंच गई है। आज सीएम योगी आदित्‍यनाथ के भी हाथरस आने की चर्चा है। योगी, मोदी, शाह समेत देश भर के नेताओं ने हादसे पर दुख जताया है। पीएम मोदी और सीएम योगी ने मृतक के परिवार को 2-2 लाख रुपये के मुआवजे का ऐलान किया है। घायलों को 50-50 हजार की मदद राशि दी जाएगी। हर अपडेट के लिए बने रहेंः\n",
      "Translated Text : उत्तर प्रदेशातील हाथरसमध्ये मंगळवारी एक मोठी दुर्घटना घडली. जिल्ह्यातील फुलराई गावात भोलेबाबाच्या प्रवचनाचा कार्यक्रम सुरू होता. दरम्यान, समारोपाच्या कार्यक्रमानंतर अचानक चेंगराचेंगरी झाली. या कार्यक्रमाला उपस्थित राहण्यासाठी आलेल्या 134 जणांचा या अपघातात मृत्यू झाला. मात्र, प्रशासनाने आतापर्यंत 116 जणांची नावे सार्वजनिक केली आहेत. प्रचंड उन्हामुळे शेकडो भाविक बेहोश झाले. बुधवारी सकाळी फॉरेन्सिक टीम तपासासाठी घटनास्थळी पोहोचली आहे. आज मुख्यमंत्री योगी आदित्यनाथही हातरसला येणार असल्याची चर्चा आहे. योगी, मोदी, शहा यांच्यासह देशभरातील नेत्यांनी या अपघातावर शोक व्यक्त केला आहे. पीएम मोदी आणि सीएम योगी यांनी मृतांच्या कुटुंबीयांना प्रत्येकी 2 लाख रुपयांची भरपाई जाहीर केली आहे. जखमींना प्रत्येकी 50 हजार रुपयांची मदत दिली जाणार आहे. प्रत्येक अद्यतनासाठी संपर्कात रहा:\n"
     ]
    }
   ],
   "source": [
    "translated = GoogleTranslator(source='hi', target='mr').translate(text1)\n",
    "print(\"Original Text :\", text1)\n",
    "print(\"Translated Text :\", translated)"
   ]
  },
  {
   "cell_type": "code",
   "execution_count": 41,
   "id": "5e0e4992-7207-4f04-9bcd-3379e80fd24e",
   "metadata": {},
   "outputs": [
    {
     "name": "stdout",
     "output_type": "stream",
     "text": [
      "Original Text : उत्तर प्रदेश के हाथरस में मंगलवार को बड़ा हादसा हो गया। जिले के फुलराई गांव में भोलेबाबा का प्रवचन कार्यक्रम चल रहा था। इस दौरान समापन के बाद अचानक भगदड़ मच गई। कार्यक्रम में शामिल होने आए 134 लोगों की इस हादसे में मौत हो गई। हालांकि प्रशासन ने अभी तक 116 लोगों के नाम सार्वजनिक किए हैं। सैकड़ों भक्त भीषण गर्मी से बेहोश हो गए। बुधवार सुबह ही मौके पर फरेंसिंक टीम जांच के लिए पहुंच गई है। आज सीएम योगी आदित्‍यनाथ के भी हाथरस आने की चर्चा है। योगी, मोदी, शाह समेत देश भर के नेताओं ने हादसे पर दुख जताया है। पीएम मोदी और सीएम योगी ने मृतक के परिवार को 2-2 लाख रुपये के मुआवजे का ऐलान किया है। घायलों को 50-50 हजार की मदद राशि दी जाएगी। हर अपडेट के लिए बने रहेंः\n",
      "Translated Text : A major accident took place in Hathras, Uttar Pradesh on Tuesday. Bholebaba's discourse program was going on in the district's Phulrai village. During this, there was a sudden stampede after the conclusion. 134 people who had come to attend the program died in this accident. However, the administration has made public the names of 116 people so far. Hundreds of devotees fainted due to the scorching heat. The forensic team has reached the spot on Wednesday morning for investigation. There is also talk of CM Yogi Adityanath coming to Hathras today. Leaders from across the country including Yogi, Modi, Shah have expressed grief over the accident. PM Modi and CM Yogi have announced a compensation of Rs 2 lakh each to the family of the deceased. The injured will be given a relief amount of Rs 50,000 each. Stay tuned for every update:\n"
     ]
    }
   ],
   "source": [
    "translated = GoogleTranslator(source='hi', target='en').translate(text1)\n",
    "print(\"Original Text :\", text1)\n",
    "print(\"Translated Text :\", translated)"
   ]
  },
  {
   "cell_type": "code",
   "execution_count": 42,
   "id": "c4f402cf-670c-4342-b76b-1b29775b72b5",
   "metadata": {},
   "outputs": [
    {
     "name": "stdout",
     "output_type": "stream",
     "text": [
      "Original Text : उत्तर प्रदेश के हाथरस में मंगलवार को बड़ा हादसा हो गया। जिले के फुलराई गांव में भोलेबाबा का प्रवचन कार्यक्रम चल रहा था। इस दौरान समापन के बाद अचानक भगदड़ मच गई। कार्यक्रम में शामिल होने आए 134 लोगों की इस हादसे में मौत हो गई। हालांकि प्रशासन ने अभी तक 116 लोगों के नाम सार्वजनिक किए हैं। सैकड़ों भक्त भीषण गर्मी से बेहोश हो गए। बुधवार सुबह ही मौके पर फरेंसिंक टीम जांच के लिए पहुंच गई है। आज सीएम योगी आदित्‍यनाथ के भी हाथरस आने की चर्चा है। योगी, मोदी, शाह समेत देश भर के नेताओं ने हादसे पर दुख जताया है। पीएम मोदी और सीएम योगी ने मृतक के परिवार को 2-2 लाख रुपये के मुआवजे का ऐलान किया है। घायलों को 50-50 हजार की मदद राशि दी जाएगी। हर अपडेट के लिए बने रहेंः\n",
      "Translated Text : Un accident majeur s'est produit mardi à Hathras, dans l'Uttar Pradesh. Le programme de sermon de Bholebaba se déroulait dans le village de Phulrai du district. Pendant ce temps, après la cérémonie de clôture, une soudaine bousculade a éclaté. 134 personnes venues assister au programme sont mortes dans cet accident. Cependant, l’administration a jusqu’à présent rendu public les noms de 116 personnes. Des centaines de fidèles se sont évanouis à cause de la chaleur extrême. L'équipe médico-légale est arrivée sur place mercredi matin pour enquêter. Aujourd'hui, on parle de la venue du CM Yogi Adityanath à Hathras. Des dirigeants de tout le pays, dont Yogi, Modi et Shah, ont exprimé leur tristesse face à l'accident. PM Modi et CM Yogi ont annoncé une compensation de Rs 2 lakh chacun à la famille du défunt. Les blessés recevront une aide de Rs 50 000 chacun. Restez à l'écoute de chaque mise à jour :\n"
     ]
    }
   ],
   "source": [
    "translated = GoogleTranslator(source='hi', target='fr').translate(text1)\n",
    "print(\"Original Text :\", text1)\n",
    "print(\"Translated Text :\", translated)"
   ]
  },
  {
   "cell_type": "code",
   "execution_count": null,
   "id": "4066d2da-cded-4ff0-9aa7-b768aeb6c276",
   "metadata": {},
   "outputs": [],
   "source": []
  },
  {
   "cell_type": "markdown",
   "id": "420ba146-173b-4db1-b889-e25d1aef55c4",
   "metadata": {},
   "source": [
    "# Text to Speech"
   ]
  },
  {
   "cell_type": "code",
   "execution_count": 43,
   "id": "420ebb96-6e1f-4f76-8049-bfc37946e948",
   "metadata": {},
   "outputs": [
    {
     "data": {
      "text/plain": [
       "'A flexible free and unlimited python tool to translate between different languages in a simple way using multiple translators'"
      ]
     },
     "execution_count": 43,
     "metadata": {},
     "output_type": "execute_result"
    }
   ],
   "source": [
    "mysentence =\"A flexible free and unlimited python tool to translate between different languages in a simple way using multiple translators\"\n",
    "mysentence"
   ]
  },
  {
   "cell_type": "code",
   "execution_count": 52,
   "id": "9810a016-254e-4b50-8602-5523b740348f",
   "metadata": {},
   "outputs": [],
   "source": [
    "mysent = \"उत्तर प्रदेश के हाथरस में मंगलवार को बड़ा हादसा हो गया। जिले के फुलराई गांव में भोलेबाबा का प्रवचन कार्यक्रम चल रहा था। इस दौरान समापन के बाद अचानक भगदड़ मच गई। कार्यक्रम में शामिल होने आए 134 लोगों की इस हादसे में मौत हो गई। हालांकि प्रशासन ने अभी तक 116 लोगों के नाम सार्वजनिक किए हैं। सैकड़ों भक्त भीषण गर्मी से बेहोश हो गए। बुधवार सुबह ही मौके पर फरेंसिंक टीम जांच के लिए पहुंच गई है। आज सीएम योगी आदित्‍यनाथ के भी हाथरस आने की चर्चा है। योगी, मोदी, शाह समेत देश भर के नेताओं ने हादसे पर दुख जताया है। \""
   ]
  },
  {
   "cell_type": "code",
   "execution_count": 46,
   "id": "8b70089d-6f67-47d7-b9ce-421d5b5fad8c",
   "metadata": {},
   "outputs": [],
   "source": [
    "#!pip install gtts \n",
    "# google text to speech"
   ]
  },
  {
   "cell_type": "code",
   "execution_count": 47,
   "id": "16e1ffec-87ac-4afe-8b50-29a04be5129f",
   "metadata": {},
   "outputs": [],
   "source": [
    "from gtts import gTTS"
   ]
  },
  {
   "cell_type": "code",
   "execution_count": 54,
   "id": "00d67d51-3d98-42dd-bfc9-ebbacd6f3e83",
   "metadata": {},
   "outputs": [],
   "source": [
    "myspeech = gTTS(mysent, lang='ta')\n",
    "myspeech.save('hinditam.mp3')"
   ]
  },
  {
   "cell_type": "markdown",
   "id": "e765289c-ac8c-4710-8134-1bc203b25ff6",
   "metadata": {},
   "source": [
    "# speech to text"
   ]
  },
  {
   "cell_type": "code",
   "execution_count": 57,
   "id": "4ea9fabb-2850-43e2-9f06-eb40a04d6b3a",
   "metadata": {},
   "outputs": [],
   "source": [
    "#!pip install SpeechRecognition\n",
    "import speech_recognition as sr"
   ]
  },
  {
   "cell_type": "code",
   "execution_count": 61,
   "id": "983abc92-6a08-4c46-aeb2-00881905e194",
   "metadata": {},
   "outputs": [
    {
     "name": "stdout",
     "output_type": "stream",
     "text": [
      "Collecting pyaudio\n",
      "  Downloading PyAudio-0.2.14-cp311-cp311-win_amd64.whl.metadata (2.7 kB)\n",
      "Downloading PyAudio-0.2.14-cp311-cp311-win_amd64.whl (164 kB)\n",
      "   ---------------------------------------- 0.0/164.1 kB ? eta -:--:--\n",
      "   ------- -------------------------------- 30.7/164.1 kB 1.3 MB/s eta 0:00:01\n",
      "   ---------------------------------------- 164.1/164.1 kB 2.4 MB/s eta 0:00:00\n",
      "Installing collected packages: pyaudio\n",
      "Successfully installed pyaudio-0.2.14\n"
     ]
    }
   ],
   "source": [
    "#!pip install pyaudio"
   ]
  },
  {
   "cell_type": "code",
   "execution_count": 62,
   "id": "bc8d5c46-91d0-44f3-84a7-f66f91759e45",
   "metadata": {},
   "outputs": [],
   "source": [
    "import pyaudio"
   ]
  },
  {
   "cell_type": "code",
   "execution_count": 64,
   "id": "21e145b6-7f33-4cb5-8705-1c6372ba3dfa",
   "metadata": {},
   "outputs": [
    {
     "name": "stdout",
     "output_type": "stream",
     "text": [
      "Please speak something to capture your voice text......\n",
      "You are saying ..... good morning everyone\n"
     ]
    }
   ],
   "source": [
    "recog = sr.Recognizer()\n",
    "\n",
    "with sr.Microphone() as source:\n",
    "    print(\"Please speak something to capture your voice text......\")\n",
    "    audio = recog.listen(source)\n",
    "try:\n",
    "    text = recog.recognize_google(audio)\n",
    "    print(\"You are saying .....\", text)\n",
    "except sr.UnknownValueError:\n",
    "    print(\"your voice is not audiable\")\n",
    "except sr.RequestError:\n",
    "    print(\"still no luck\")"
   ]
  },
  {
   "cell_type": "code",
   "execution_count": null,
   "id": "284eee82-d1bd-4da5-8409-9ec207897c7d",
   "metadata": {},
   "outputs": [],
   "source": []
  },
  {
   "cell_type": "code",
   "execution_count": null,
   "id": "1ff01a1c-3ca2-4aef-9b43-a36cdfe465e7",
   "metadata": {},
   "outputs": [],
   "source": []
  },
  {
   "cell_type": "code",
   "execution_count": null,
   "id": "e8096e63-0651-4e9f-8d09-322763118eb4",
   "metadata": {},
   "outputs": [],
   "source": []
  },
  {
   "cell_type": "code",
   "execution_count": null,
   "id": "e4f56c4f-838c-4686-8338-bd061f67e9f8",
   "metadata": {},
   "outputs": [],
   "source": []
  }
 ],
 "metadata": {
  "kernelspec": {
   "display_name": "Python 3 (ipykernel)",
   "language": "python",
   "name": "python3"
  },
  "language_info": {
   "codemirror_mode": {
    "name": "ipython",
    "version": 3
   },
   "file_extension": ".py",
   "mimetype": "text/x-python",
   "name": "python",
   "nbconvert_exporter": "python",
   "pygments_lexer": "ipython3",
   "version": "3.11.7"
  }
 },
 "nbformat": 4,
 "nbformat_minor": 5
}
