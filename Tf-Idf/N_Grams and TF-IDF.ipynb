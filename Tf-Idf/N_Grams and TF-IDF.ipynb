{
 "cells": [
  {
   "cell_type": "code",
   "execution_count": 1,
   "id": "35054d21-45cf-4d23-bc10-8befe7468e6f",
   "metadata": {},
   "outputs": [],
   "source": [
    "import numpy as np\n",
    "import pandas as pd"
   ]
  },
  {
   "cell_type": "code",
   "execution_count": 29,
   "id": "d0f6a0a0-506e-48d1-94fd-302e33ce46ca",
   "metadata": {},
   "outputs": [],
   "source": [
    "df = pd.DataFrame({'Text':['This Pasta is Tasty', 'This Pasta is not Tasty',\n",
    "                          'Pasty is delecious','I like pasta very much',\n",
    "                           'Pasta is good but cost is little high','Pasta tast is good and affordable',\n",
    "                           'Pasta test is really nice however price is not an affordable'],\n",
    "                   'Output':[1,0,1,1,0,1,0]})"
   ]
  },
  {
   "cell_type": "code",
   "execution_count": 16,
   "id": "583d3622-1c32-4105-9c30-13b6b1473bce",
   "metadata": {},
   "outputs": [
    {
     "data": {
      "text/html": [
       "<div>\n",
       "<style scoped>\n",
       "    .dataframe tbody tr th:only-of-type {\n",
       "        vertical-align: middle;\n",
       "    }\n",
       "\n",
       "    .dataframe tbody tr th {\n",
       "        vertical-align: top;\n",
       "    }\n",
       "\n",
       "    .dataframe thead th {\n",
       "        text-align: right;\n",
       "    }\n",
       "</style>\n",
       "<table border=\"1\" class=\"dataframe\">\n",
       "  <thead>\n",
       "    <tr style=\"text-align: right;\">\n",
       "      <th></th>\n",
       "      <th>Text</th>\n",
       "      <th>Output</th>\n",
       "    </tr>\n",
       "  </thead>\n",
       "  <tbody>\n",
       "    <tr>\n",
       "      <th>0</th>\n",
       "      <td>This Pasta is Tasty</td>\n",
       "      <td>1</td>\n",
       "    </tr>\n",
       "    <tr>\n",
       "      <th>1</th>\n",
       "      <td>This Pasta is not Tasty</td>\n",
       "      <td>0</td>\n",
       "    </tr>\n",
       "    <tr>\n",
       "      <th>2</th>\n",
       "      <td>Pasty is delecious</td>\n",
       "      <td>1</td>\n",
       "    </tr>\n",
       "    <tr>\n",
       "      <th>3</th>\n",
       "      <td>I like pasta very much</td>\n",
       "      <td>1</td>\n",
       "    </tr>\n",
       "    <tr>\n",
       "      <th>4</th>\n",
       "      <td>Pasta is good but cost is little high</td>\n",
       "      <td>0</td>\n",
       "    </tr>\n",
       "    <tr>\n",
       "      <th>5</th>\n",
       "      <td>Pasta tast is good and affordable</td>\n",
       "      <td>1</td>\n",
       "    </tr>\n",
       "    <tr>\n",
       "      <th>6</th>\n",
       "      <td>Pasta test is really nice however price is not...</td>\n",
       "      <td>0</td>\n",
       "    </tr>\n",
       "  </tbody>\n",
       "</table>\n",
       "</div>"
      ],
      "text/plain": [
       "                                                Text  Output\n",
       "0                                This Pasta is Tasty       1\n",
       "1                            This Pasta is not Tasty       0\n",
       "2                                 Pasty is delecious       1\n",
       "3                             I like pasta very much       1\n",
       "4              Pasta is good but cost is little high       0\n",
       "5                  Pasta tast is good and affordable       1\n",
       "6  Pasta test is really nice however price is not...       0"
      ]
     },
     "execution_count": 16,
     "metadata": {},
     "output_type": "execute_result"
    }
   ],
   "source": [
    "df"
   ]
  },
  {
   "cell_type": "code",
   "execution_count": 17,
   "id": "41c60df2-4095-4dc5-9b8b-4f645d63966b",
   "metadata": {},
   "outputs": [],
   "source": [
    "from sklearn.feature_extraction.text import CountVectorizer\n",
    "cv = CountVectorizer(ngram_range=(1, 1))\n",
    "# ngram_range=(1, 1) - uni-gram or bow , both are same here because ngram_range is 1,1"
   ]
  },
  {
   "cell_type": "code",
   "execution_count": 18,
   "id": "49d2d773-a347-4ca5-9685-59bc474a65df",
   "metadata": {},
   "outputs": [
    {
     "name": "stdout",
     "output_type": "stream",
     "text": [
      "{'this': 22, 'pasta': 15, 'is': 9, 'tasty': 20, 'not': 14, 'pasty': 16, 'delecious': 5, 'like': 10, 'very': 23, 'much': 12, 'good': 6, 'but': 3, 'cost': 4, 'little': 11, 'high': 7, 'tast': 19, 'and': 2, 'affordable': 0, 'test': 21, 'really': 18, 'nice': 13, 'however': 8, 'price': 17, 'an': 1}\n"
     ]
    }
   ],
   "source": [
    "# vocab\n",
    "bow_uni_gram = cv.fit_transform(df['Text'])\n",
    "print(cv.vocabulary_)"
   ]
  },
  {
   "cell_type": "code",
   "execution_count": 19,
   "id": "df753bc7-dfac-4823-8d38-87e0e700ea00",
   "metadata": {},
   "outputs": [
    {
     "name": "stdout",
     "output_type": "stream",
     "text": [
      "{'this': 49, 'pasta': 33, 'is': 16, 'tasty': 46, 'this pasta': 50, 'pasta is': 34, 'is tasty': 22, 'not': 30, 'is not': 20, 'not tasty': 32, 'pasty': 38, 'delecious': 9, 'pasty is': 39, 'is delecious': 17, 'like': 23, 'very': 51, 'much': 27, 'like pasta': 24, 'pasta very': 37, 'very much': 52, 'good': 10, 'but': 5, 'cost': 7, 'little': 25, 'high': 13, 'is good': 18, 'good but': 12, 'but cost': 6, 'cost is': 8, 'is little': 19, 'little high': 26, 'tast': 44, 'and': 3, 'affordable': 0, 'pasta tast': 35, 'tast is': 45, 'good and': 11, 'and affordable': 4, 'test': 47, 'really': 42, 'nice': 28, 'however': 14, 'price': 40, 'an': 1, 'pasta test': 36, 'test is': 48, 'is really': 21, 'really nice': 43, 'nice however': 29, 'however price': 15, 'price is': 41, 'not an': 31, 'an affordable': 2}\n"
     ]
    }
   ],
   "source": [
    "cv1 = CountVectorizer(ngram_range=(1, 2))\n",
    "# vocab\n",
    "bow_bi_gram = cv1.fit_transform(df['Text'])\n",
    "print(cv1.vocabulary_)"
   ]
  },
  {
   "cell_type": "code",
   "execution_count": 20,
   "id": "0c9e4752-d468-4d54-b695-07ddc729f7e5",
   "metadata": {},
   "outputs": [
    {
     "name": "stdout",
     "output_type": "stream",
     "text": [
      "{'this': 74, 'pasta': 47, 'is': 21, 'tasty': 70, 'this pasta': 75, 'pasta is': 48, 'is tasty': 33, 'this pasta is': 76, 'pasta is tasty': 51, 'not': 43, 'is not': 28, 'not tasty': 46, 'pasta is not': 50, 'is not tasty': 30, 'pasty': 58, 'delecious': 11, 'pasty is': 59, 'is delecious': 22, 'pasty is delecious': 60, 'like': 34, 'very': 77, 'much': 39, 'like pasta': 35, 'pasta very': 56, 'very much': 78, 'like pasta very': 36, 'pasta very much': 57, 'good': 12, 'but': 5, 'cost': 8, 'little': 37, 'high': 17, 'is good': 23, 'good but': 15, 'but cost': 6, 'cost is': 9, 'is little': 26, 'little high': 38, 'pasta is good': 49, 'is good but': 25, 'good but cost': 16, 'but cost is': 7, 'cost is little': 10, 'is little high': 27, 'tast': 67, 'and': 3, 'affordable': 0, 'pasta tast': 52, 'tast is': 68, 'good and': 13, 'and affordable': 4, 'pasta tast is': 53, 'tast is good': 69, 'is good and': 24, 'good and affordable': 14, 'test': 71, 'really': 64, 'nice': 40, 'however': 18, 'price': 61, 'an': 1, 'pasta test': 54, 'test is': 72, 'is really': 31, 'really nice': 65, 'nice however': 41, 'however price': 19, 'price is': 62, 'not an': 44, 'an affordable': 2, 'pasta test is': 55, 'test is really': 73, 'is really nice': 32, 'really nice however': 66, 'nice however price': 42, 'however price is': 20, 'price is not': 63, 'is not an': 29, 'not an affordable': 45}\n"
     ]
    }
   ],
   "source": [
    "cv2 = CountVectorizer(ngram_range=(1, 3))\n",
    "# vocab\n",
    "bow_tri_gram = cv2.fit_transform(df['Text'])\n",
    "print(cv2.vocabulary_)"
   ]
  },
  {
   "cell_type": "code",
   "execution_count": 21,
   "id": "1d66a8d6-3be8-411b-b9e1-7757dc9c922b",
   "metadata": {},
   "outputs": [
    {
     "name": "stdout",
     "output_type": "stream",
     "text": [
      "{'this pasta is': 25, 'pasta is tasty': 16, 'pasta is not': 15, 'is not tasty': 9, 'pasty is delecious': 20, 'like pasta very': 11, 'pasta very much': 19, 'pasta is good': 14, 'is good but': 6, 'good but cost': 3, 'but cost is': 0, 'cost is little': 1, 'is little high': 7, 'pasta tast is': 17, 'tast is good': 23, 'is good and': 5, 'good and affordable': 2, 'pasta test is': 18, 'test is really': 24, 'is really nice': 10, 'really nice however': 22, 'nice however price': 12, 'however price is': 4, 'price is not': 21, 'is not an': 8, 'not an affordable': 13}\n"
     ]
    }
   ],
   "source": [
    "cv3 = CountVectorizer(ngram_range=(3, 3))\n",
    "# vocab\n",
    "bow_tri_gram1 = cv3.fit_transform(df['Text'])\n",
    "print(cv3.vocabulary_)"
   ]
  },
  {
   "cell_type": "code",
   "execution_count": 22,
   "id": "5de87a12-103b-49a0-8986-4a48d45d9257",
   "metadata": {},
   "outputs": [
    {
     "name": "stdout",
     "output_type": "stream",
     "text": [
      "[[0 0 0 0 0 0 0 0 0 0 0 0 0 0 0 0 0 0 0 0 0 1 0 0 0 0 0 0 0 0 0 0 0 1 0 0\n",
      "  0 0 0 0 0 0 0 0 0 0 0 1 1 0 0 1 0 0 0 0 0 0 0 0 0 0 0 0 0 0 0 0 0 0 1 0\n",
      "  0 0 1 1 1 0 0]\n",
      " [0 0 0 0 0 0 0 0 0 0 0 0 0 0 0 0 0 0 0 0 0 1 0 0 0 0 0 0 1 0 1 0 0 0 0 0\n",
      "  0 0 0 0 0 0 0 1 0 0 1 1 1 0 1 0 0 0 0 0 0 0 0 0 0 0 0 0 0 0 0 0 0 0 1 0\n",
      "  0 0 1 1 1 0 0]\n",
      " [0 0 0 0 0 0 0 0 0 0 0 1 0 0 0 0 0 0 0 0 0 1 1 0 0 0 0 0 0 0 0 0 0 0 0 0\n",
      "  0 0 0 0 0 0 0 0 0 0 0 0 0 0 0 0 0 0 0 0 0 0 1 1 1 0 0 0 0 0 0 0 0 0 0 0\n",
      "  0 0 0 0 0 0 0]\n",
      " [0 0 0 0 0 0 0 0 0 0 0 0 0 0 0 0 0 0 0 0 0 0 0 0 0 0 0 0 0 0 0 0 0 0 1 1\n",
      "  1 0 0 1 0 0 0 0 0 0 0 1 0 0 0 0 0 0 0 0 1 1 0 0 0 0 0 0 0 0 0 0 0 0 0 0\n",
      "  0 0 0 0 0 1 1]\n",
      " [0 0 0 0 0 1 1 1 1 1 1 0 1 0 0 1 1 1 0 0 0 2 0 1 0 1 1 1 0 0 0 0 0 0 0 0\n",
      "  0 1 1 0 0 0 0 0 0 0 0 1 1 1 0 0 0 0 0 0 0 0 0 0 0 0 0 0 0 0 0 0 0 0 0 0\n",
      "  0 0 0 0 0 0 0]\n",
      " [1 0 0 1 1 0 0 0 0 0 0 0 1 1 1 0 0 0 0 0 0 1 0 1 1 0 0 0 0 0 0 0 0 0 0 0\n",
      "  0 0 0 0 0 0 0 0 0 0 0 1 0 0 0 0 1 1 0 0 0 0 0 0 0 0 0 0 0 0 0 1 1 1 0 0\n",
      "  0 0 0 0 0 0 0]\n",
      " [1 1 1 0 0 0 0 0 0 0 0 0 0 0 0 0 0 0 1 1 1 2 0 0 0 0 0 0 1 1 0 1 1 0 0 0\n",
      "  0 0 0 0 1 1 1 1 1 1 0 1 0 0 0 0 0 0 1 1 0 0 0 0 0 1 1 1 1 1 1 0 0 0 0 1\n",
      "  1 1 0 0 0 0 0]]\n"
     ]
    }
   ],
   "source": [
    "print(bow_tri_gram.toarray())"
   ]
  },
  {
   "cell_type": "code",
   "execution_count": null,
   "id": "67269745-da0f-49a8-91a2-9627699ab76f",
   "metadata": {},
   "outputs": [],
   "source": [
    "# N-Grams - \n",
    "### 1) sparsity, not diff significant words, OOV "
   ]
  },
  {
   "cell_type": "code",
   "execution_count": 23,
   "id": "e230e2bd-8a32-40f4-8418-68ddc0bcdf9e",
   "metadata": {},
   "outputs": [
    {
     "data": {
      "text/html": [
       "<div>\n",
       "<style scoped>\n",
       "    .dataframe tbody tr th:only-of-type {\n",
       "        vertical-align: middle;\n",
       "    }\n",
       "\n",
       "    .dataframe tbody tr th {\n",
       "        vertical-align: top;\n",
       "    }\n",
       "\n",
       "    .dataframe thead th {\n",
       "        text-align: right;\n",
       "    }\n",
       "</style>\n",
       "<table border=\"1\" class=\"dataframe\">\n",
       "  <thead>\n",
       "    <tr style=\"text-align: right;\">\n",
       "      <th></th>\n",
       "      <th>Text</th>\n",
       "      <th>Output</th>\n",
       "    </tr>\n",
       "  </thead>\n",
       "  <tbody>\n",
       "    <tr>\n",
       "      <th>0</th>\n",
       "      <td>This Pasta is Tasty</td>\n",
       "      <td>1</td>\n",
       "    </tr>\n",
       "    <tr>\n",
       "      <th>1</th>\n",
       "      <td>This Pasta is not Tasty</td>\n",
       "      <td>0</td>\n",
       "    </tr>\n",
       "    <tr>\n",
       "      <th>2</th>\n",
       "      <td>Pasty is delecious</td>\n",
       "      <td>1</td>\n",
       "    </tr>\n",
       "    <tr>\n",
       "      <th>3</th>\n",
       "      <td>I like pasta very much</td>\n",
       "      <td>1</td>\n",
       "    </tr>\n",
       "    <tr>\n",
       "      <th>4</th>\n",
       "      <td>Pasta is good but cost is little high</td>\n",
       "      <td>0</td>\n",
       "    </tr>\n",
       "    <tr>\n",
       "      <th>5</th>\n",
       "      <td>Pasta tast is good and affordable</td>\n",
       "      <td>1</td>\n",
       "    </tr>\n",
       "    <tr>\n",
       "      <th>6</th>\n",
       "      <td>Pasta test is really nice however price is not...</td>\n",
       "      <td>0</td>\n",
       "    </tr>\n",
       "  </tbody>\n",
       "</table>\n",
       "</div>"
      ],
      "text/plain": [
       "                                                Text  Output\n",
       "0                                This Pasta is Tasty       1\n",
       "1                            This Pasta is not Tasty       0\n",
       "2                                 Pasty is delecious       1\n",
       "3                             I like pasta very much       1\n",
       "4              Pasta is good but cost is little high       0\n",
       "5                  Pasta tast is good and affordable       1\n",
       "6  Pasta test is really nice however price is not...       0"
      ]
     },
     "execution_count": 23,
     "metadata": {},
     "output_type": "execute_result"
    }
   ],
   "source": [
    "df"
   ]
  },
  {
   "cell_type": "code",
   "execution_count": 26,
   "id": "3a5d2ba6-0759-4a2b-a90d-2cd1b85e195d",
   "metadata": {},
   "outputs": [],
   "source": [
    "df = pd.DataFrame({'Text':['This Pasta is Tasty', 'This Pasta is not Tasty'], 'Output':[1,0]})"
   ]
  },
  {
   "cell_type": "code",
   "execution_count": 30,
   "id": "87ce40d4-4ecd-4b9d-b971-353a21a381ef",
   "metadata": {},
   "outputs": [
    {
     "data": {
      "text/html": [
       "<div>\n",
       "<style scoped>\n",
       "    .dataframe tbody tr th:only-of-type {\n",
       "        vertical-align: middle;\n",
       "    }\n",
       "\n",
       "    .dataframe tbody tr th {\n",
       "        vertical-align: top;\n",
       "    }\n",
       "\n",
       "    .dataframe thead th {\n",
       "        text-align: right;\n",
       "    }\n",
       "</style>\n",
       "<table border=\"1\" class=\"dataframe\">\n",
       "  <thead>\n",
       "    <tr style=\"text-align: right;\">\n",
       "      <th></th>\n",
       "      <th>Text</th>\n",
       "      <th>Output</th>\n",
       "    </tr>\n",
       "  </thead>\n",
       "  <tbody>\n",
       "    <tr>\n",
       "      <th>0</th>\n",
       "      <td>This Pasta is Tasty</td>\n",
       "      <td>1</td>\n",
       "    </tr>\n",
       "    <tr>\n",
       "      <th>1</th>\n",
       "      <td>This Pasta is not Tasty</td>\n",
       "      <td>0</td>\n",
       "    </tr>\n",
       "    <tr>\n",
       "      <th>2</th>\n",
       "      <td>Pasty is delecious</td>\n",
       "      <td>1</td>\n",
       "    </tr>\n",
       "    <tr>\n",
       "      <th>3</th>\n",
       "      <td>I like pasta very much</td>\n",
       "      <td>1</td>\n",
       "    </tr>\n",
       "    <tr>\n",
       "      <th>4</th>\n",
       "      <td>Pasta is good but cost is little high</td>\n",
       "      <td>0</td>\n",
       "    </tr>\n",
       "    <tr>\n",
       "      <th>5</th>\n",
       "      <td>Pasta tast is good and affordable</td>\n",
       "      <td>1</td>\n",
       "    </tr>\n",
       "    <tr>\n",
       "      <th>6</th>\n",
       "      <td>Pasta test is really nice however price is not...</td>\n",
       "      <td>0</td>\n",
       "    </tr>\n",
       "  </tbody>\n",
       "</table>\n",
       "</div>"
      ],
      "text/plain": [
       "                                                Text  Output\n",
       "0                                This Pasta is Tasty       1\n",
       "1                            This Pasta is not Tasty       0\n",
       "2                                 Pasty is delecious       1\n",
       "3                             I like pasta very much       1\n",
       "4              Pasta is good but cost is little high       0\n",
       "5                  Pasta tast is good and affordable       1\n",
       "6  Pasta test is really nice however price is not...       0"
      ]
     },
     "execution_count": 30,
     "metadata": {},
     "output_type": "execute_result"
    }
   ],
   "source": [
    "df"
   ]
  },
  {
   "cell_type": "markdown",
   "id": "04d19147-a9b3-435d-b39a-253d4593cef1",
   "metadata": {},
   "source": [
    "# Term Frequency - Inverse Documents Frequency"
   ]
  },
  {
   "cell_type": "code",
   "execution_count": 31,
   "id": "f6d48acd-dae1-4984-aa48-7cd225496f2a",
   "metadata": {},
   "outputs": [
    {
     "data": {
      "text/plain": [
       "array([[0.        , 0.        , 0.        , 0.        , 0.        ,\n",
       "        0.        , 0.        , 0.        , 0.        , 0.35120361,\n",
       "        0.        , 0.        , 0.        , 0.        , 0.        ,\n",
       "        0.35120361, 0.        , 0.        , 0.        , 0.        ,\n",
       "        0.61372308, 0.        , 0.61372308, 0.        ],\n",
       "       [0.        , 0.        , 0.        , 0.        , 0.        ,\n",
       "        0.        , 0.        , 0.        , 0.        , 0.29932725,\n",
       "        0.        , 0.        , 0.        , 0.        , 0.52306991,\n",
       "        0.29932725, 0.        , 0.        , 0.        , 0.        ,\n",
       "        0.52306991, 0.        , 0.52306991, 0.        ],\n",
       "       [0.        , 0.        , 0.        , 0.        , 0.        ,\n",
       "        0.67030489, 0.        , 0.        , 0.        , 0.3184065 ,\n",
       "        0.        , 0.        , 0.        , 0.        , 0.        ,\n",
       "        0.        , 0.67030489, 0.        , 0.        , 0.        ,\n",
       "        0.        , 0.        , 0.        , 0.        ],\n",
       "       [0.        , 0.        , 0.        , 0.        , 0.        ,\n",
       "        0.        , 0.        , 0.        , 0.        , 0.        ,\n",
       "        0.55679067, 0.        , 0.55679067, 0.        , 0.        ,\n",
       "        0.26448527, 0.        , 0.        , 0.        , 0.        ,\n",
       "        0.        , 0.        , 0.        , 0.55679067],\n",
       "       [0.        , 0.        , 0.        , 0.41461129, 0.41461129,\n",
       "        0.        , 0.34416298, 0.41461129, 0.        , 0.39389517,\n",
       "        0.        , 0.41461129, 0.        , 0.        , 0.        ,\n",
       "        0.19694759, 0.        , 0.        , 0.        , 0.        ,\n",
       "        0.        , 0.        , 0.        , 0.        ],\n",
       "       [0.42418906, 0.        , 0.51101828, 0.        , 0.        ,\n",
       "        0.        , 0.42418906, 0.        , 0.        , 0.24274258,\n",
       "        0.        , 0.        , 0.        , 0.        , 0.        ,\n",
       "        0.24274258, 0.        , 0.        , 0.        , 0.51101828,\n",
       "        0.        , 0.        , 0.        , 0.        ],\n",
       "       [0.28461177, 0.34287027, 0.        , 0.        , 0.        ,\n",
       "        0.        , 0.        , 0.        , 0.34287027, 0.32573871,\n",
       "        0.        , 0.        , 0.        , 0.34287027, 0.28461177,\n",
       "        0.16286935, 0.        , 0.34287027, 0.34287027, 0.        ,\n",
       "        0.        , 0.34287027, 0.        , 0.        ]])"
      ]
     },
     "execution_count": 31,
     "metadata": {},
     "output_type": "execute_result"
    }
   ],
   "source": [
    "from sklearn.feature_extraction.text import TfidfVectorizer\n",
    "tfidf = TfidfVectorizer()\n",
    "tfidf.fit_transform(df['Text']).toarray()"
   ]
  },
  {
   "cell_type": "code",
   "execution_count": 32,
   "id": "47718df0-fe2c-4b1f-91be-f549793424d7",
   "metadata": {},
   "outputs": [
    {
     "data": {
      "text/plain": [
       "array([[0.        , 0.        , 0.        , 0.        , 0.        ,\n",
       "        0.        , 0.        , 0.        , 0.        , 0.        ,\n",
       "        0.        , 0.        , 0.        , 0.        , 0.        ,\n",
       "        0.        , 0.        , 0.        , 0.        , 0.        ,\n",
       "        0.        , 0.        , 0.        , 0.        , 0.        ,\n",
       "        0.18336634, 0.        , 0.        , 0.        , 0.        ,\n",
       "        0.        , 0.        , 0.        , 0.        , 0.        ,\n",
       "        0.        , 0.        , 0.        , 0.        , 0.        ,\n",
       "        0.        , 0.38602023, 0.        , 0.        , 0.        ,\n",
       "        0.        , 0.        , 0.        , 0.        , 0.        ,\n",
       "        0.        , 0.        , 0.        , 0.        , 0.        ,\n",
       "        0.        , 0.        , 0.18336634, 0.27389289, 0.        ,\n",
       "        0.        , 0.        , 0.        , 0.38602023, 0.        ,\n",
       "        0.        , 0.        , 0.        , 0.        , 0.        ,\n",
       "        0.        , 0.        , 0.        , 0.        , 0.        ,\n",
       "        0.        , 0.        , 0.        , 0.        , 0.        ,\n",
       "        0.        , 0.        , 0.        , 0.        , 0.        ,\n",
       "        0.        , 0.        , 0.32042994, 0.        , 0.        ,\n",
       "        0.        , 0.        , 0.32042994, 0.32042994, 0.32042994,\n",
       "        0.        , 0.38602023, 0.        , 0.        ],\n",
       "       [0.        , 0.        , 0.        , 0.        , 0.        ,\n",
       "        0.        , 0.        , 0.        , 0.        , 0.        ,\n",
       "        0.        , 0.        , 0.        , 0.        , 0.        ,\n",
       "        0.        , 0.        , 0.        , 0.        , 0.        ,\n",
       "        0.        , 0.        , 0.        , 0.        , 0.        ,\n",
       "        0.14954989, 0.        , 0.        , 0.        , 0.        ,\n",
       "        0.        , 0.        , 0.        , 0.        , 0.26133621,\n",
       "        0.        , 0.        , 0.31483033, 0.        , 0.        ,\n",
       "        0.        , 0.        , 0.        , 0.        , 0.        ,\n",
       "        0.        , 0.        , 0.        , 0.        , 0.        ,\n",
       "        0.        , 0.        , 0.        , 0.26133621, 0.        ,\n",
       "        0.        , 0.31483033, 0.14954989, 0.22338153, 0.        ,\n",
       "        0.        , 0.31483033, 0.31483033, 0.        , 0.        ,\n",
       "        0.        , 0.        , 0.        , 0.        , 0.        ,\n",
       "        0.        , 0.        , 0.        , 0.        , 0.        ,\n",
       "        0.        , 0.        , 0.        , 0.        , 0.        ,\n",
       "        0.        , 0.        , 0.        , 0.        , 0.        ,\n",
       "        0.        , 0.        , 0.26133621, 0.        , 0.        ,\n",
       "        0.        , 0.        , 0.26133621, 0.26133621, 0.26133621,\n",
       "        0.31483033, 0.        , 0.        , 0.        ],\n",
       "       [0.        , 0.        , 0.        , 0.        , 0.        ,\n",
       "        0.        , 0.        , 0.        , 0.        , 0.        ,\n",
       "        0.        , 0.        , 0.        , 0.43745178, 0.        ,\n",
       "        0.        , 0.        , 0.        , 0.        , 0.        ,\n",
       "        0.        , 0.        , 0.        , 0.        , 0.        ,\n",
       "        0.20779722, 0.43745178, 0.        , 0.        , 0.        ,\n",
       "        0.        , 0.        , 0.        , 0.        , 0.        ,\n",
       "        0.        , 0.        , 0.        , 0.        , 0.        ,\n",
       "        0.        , 0.        , 0.        , 0.        , 0.        ,\n",
       "        0.        , 0.        , 0.        , 0.        , 0.        ,\n",
       "        0.        , 0.        , 0.        , 0.        , 0.        ,\n",
       "        0.        , 0.        , 0.        , 0.        , 0.        ,\n",
       "        0.        , 0.        , 0.        , 0.        , 0.        ,\n",
       "        0.        , 0.        , 0.        , 0.        , 0.        ,\n",
       "        0.        , 0.        , 0.43745178, 0.43745178, 0.43745178,\n",
       "        0.        , 0.        , 0.        , 0.        , 0.        ,\n",
       "        0.        , 0.        , 0.        , 0.        , 0.        ,\n",
       "        0.        , 0.        , 0.        , 0.        , 0.        ,\n",
       "        0.        , 0.        , 0.        , 0.        , 0.        ,\n",
       "        0.        , 0.        , 0.        , 0.        ],\n",
       "       [0.        , 0.        , 0.        , 0.        , 0.        ,\n",
       "        0.        , 0.        , 0.        , 0.        , 0.        ,\n",
       "        0.        , 0.        , 0.        , 0.        , 0.        ,\n",
       "        0.        , 0.        , 0.        , 0.        , 0.        ,\n",
       "        0.        , 0.        , 0.        , 0.        , 0.        ,\n",
       "        0.        , 0.        , 0.        , 0.        , 0.        ,\n",
       "        0.        , 0.        , 0.        , 0.        , 0.        ,\n",
       "        0.        , 0.        , 0.        , 0.        , 0.        ,\n",
       "        0.        , 0.        , 0.32923175, 0.32923175, 0.32923175,\n",
       "        0.32923175, 0.        , 0.        , 0.32923175, 0.        ,\n",
       "        0.        , 0.        , 0.        , 0.        , 0.        ,\n",
       "        0.        , 0.        , 0.15639082, 0.        , 0.        ,\n",
       "        0.        , 0.        , 0.        , 0.        , 0.        ,\n",
       "        0.        , 0.        , 0.        , 0.        , 0.        ,\n",
       "        0.32923175, 0.32923175, 0.        , 0.        , 0.        ,\n",
       "        0.        , 0.        , 0.        , 0.        , 0.        ,\n",
       "        0.        , 0.        , 0.        , 0.        , 0.        ,\n",
       "        0.        , 0.        , 0.        , 0.        , 0.        ,\n",
       "        0.        , 0.        , 0.        , 0.        , 0.        ,\n",
       "        0.        , 0.        , 0.32923175, 0.32923175],\n",
       "       [0.        , 0.        , 0.        , 0.        , 0.        ,\n",
       "        0.20847034, 0.20847034, 0.20847034, 0.20847034, 0.20847034,\n",
       "        0.20847034, 0.20847034, 0.20847034, 0.        , 0.17304829,\n",
       "        0.        , 0.        , 0.20847034, 0.20847034, 0.20847034,\n",
       "        0.20847034, 0.        , 0.        , 0.        , 0.        ,\n",
       "        0.19805409, 0.        , 0.17304829, 0.        , 0.        ,\n",
       "        0.20847034, 0.20847034, 0.20847034, 0.20847034, 0.        ,\n",
       "        0.        , 0.        , 0.        , 0.        , 0.        ,\n",
       "        0.        , 0.        , 0.        , 0.        , 0.        ,\n",
       "        0.        , 0.20847034, 0.20847034, 0.        , 0.        ,\n",
       "        0.        , 0.        , 0.        , 0.        , 0.        ,\n",
       "        0.        , 0.        , 0.09902704, 0.14791594, 0.20847034,\n",
       "        0.20847034, 0.        , 0.        , 0.        , 0.        ,\n",
       "        0.        , 0.        , 0.        , 0.        , 0.        ,\n",
       "        0.        , 0.        , 0.        , 0.        , 0.        ,\n",
       "        0.        , 0.        , 0.        , 0.        , 0.        ,\n",
       "        0.        , 0.        , 0.        , 0.        , 0.        ,\n",
       "        0.        , 0.        , 0.        , 0.        , 0.        ,\n",
       "        0.        , 0.        , 0.        , 0.        , 0.        ,\n",
       "        0.        , 0.        , 0.        , 0.        ],\n",
       "       [0.21071692, 0.        , 0.        , 0.25384954, 0.25384954,\n",
       "        0.        , 0.        , 0.        , 0.        , 0.        ,\n",
       "        0.        , 0.        , 0.        , 0.        , 0.21071692,\n",
       "        0.25384954, 0.25384954, 0.        , 0.        , 0.        ,\n",
       "        0.        , 0.        , 0.        , 0.        , 0.        ,\n",
       "        0.12058295, 0.        , 0.21071692, 0.25384954, 0.25384954,\n",
       "        0.        , 0.        , 0.        , 0.        , 0.        ,\n",
       "        0.        , 0.        , 0.        , 0.        , 0.        ,\n",
       "        0.        , 0.        , 0.        , 0.        , 0.        ,\n",
       "        0.        , 0.        , 0.        , 0.        , 0.        ,\n",
       "        0.        , 0.        , 0.        , 0.        , 0.        ,\n",
       "        0.        , 0.        , 0.12058295, 0.        , 0.        ,\n",
       "        0.        , 0.        , 0.        , 0.        , 0.25384954,\n",
       "        0.25384954, 0.25384954, 0.        , 0.        , 0.        ,\n",
       "        0.        , 0.        , 0.        , 0.        , 0.        ,\n",
       "        0.        , 0.        , 0.        , 0.        , 0.        ,\n",
       "        0.        , 0.        , 0.        , 0.25384954, 0.25384954,\n",
       "        0.25384954, 0.25384954, 0.        , 0.        , 0.        ,\n",
       "        0.        , 0.        , 0.        , 0.        , 0.        ,\n",
       "        0.        , 0.        , 0.        , 0.        ],\n",
       "       [0.13992022, 0.16856113, 0.16856113, 0.        , 0.        ,\n",
       "        0.        , 0.        , 0.        , 0.        , 0.        ,\n",
       "        0.        , 0.        , 0.        , 0.        , 0.        ,\n",
       "        0.        , 0.        , 0.        , 0.        , 0.        ,\n",
       "        0.        , 0.16856113, 0.16856113, 0.16856113, 0.16856113,\n",
       "        0.16013895, 0.        , 0.        , 0.        , 0.        ,\n",
       "        0.        , 0.        , 0.        , 0.        , 0.13992022,\n",
       "        0.16856113, 0.16856113, 0.        , 0.16856113, 0.16856113,\n",
       "        0.16856113, 0.        , 0.        , 0.        , 0.        ,\n",
       "        0.        , 0.        , 0.        , 0.        , 0.16856113,\n",
       "        0.16856113, 0.16856113, 0.16856113, 0.13992022, 0.16856113,\n",
       "        0.16856113, 0.        , 0.08006948, 0.        , 0.        ,\n",
       "        0.        , 0.        , 0.        , 0.        , 0.        ,\n",
       "        0.        , 0.        , 0.16856113, 0.16856113, 0.16856113,\n",
       "        0.        , 0.        , 0.        , 0.        , 0.        ,\n",
       "        0.16856113, 0.16856113, 0.16856113, 0.16856113, 0.16856113,\n",
       "        0.16856113, 0.16856113, 0.16856113, 0.        , 0.        ,\n",
       "        0.        , 0.        , 0.        , 0.16856113, 0.16856113,\n",
       "        0.16856113, 0.16856113, 0.        , 0.        , 0.        ,\n",
       "        0.        , 0.        , 0.        , 0.        ]])"
      ]
     },
     "execution_count": 32,
     "metadata": {},
     "output_type": "execute_result"
    }
   ],
   "source": [
    "from sklearn.feature_extraction.text import TfidfVectorizer\n",
    "tfidf = TfidfVectorizer(ngram_range=(1,4))\n",
    "tfidf.fit_transform(df['Text']).toarray()"
   ]
  },
  {
   "cell_type": "code",
   "execution_count": 33,
   "id": "fd57757b-bcd7-423f-a82e-19ed618d482f",
   "metadata": {},
   "outputs": [
    {
     "data": {
      "text/plain": [
       "{'this': 92,\n",
       " 'pasta': 57,\n",
       " 'is': 25,\n",
       " 'tasty': 87,\n",
       " 'this pasta': 93,\n",
       " 'pasta is': 58,\n",
       " 'is tasty': 41,\n",
       " 'this pasta is': 94,\n",
       " 'pasta is tasty': 63,\n",
       " 'this pasta is tasty': 96,\n",
       " 'not': 53,\n",
       " 'is not': 34,\n",
       " 'not tasty': 56,\n",
       " 'pasta is not': 61,\n",
       " 'is not tasty': 37,\n",
       " 'this pasta is not': 95,\n",
       " 'pasta is not tasty': 62,\n",
       " 'pasty': 72,\n",
       " 'delecious': 13,\n",
       " 'pasty is': 73,\n",
       " 'is delecious': 26,\n",
       " 'pasty is delecious': 74,\n",
       " 'like': 42,\n",
       " 'very': 97,\n",
       " 'much': 48,\n",
       " 'like pasta': 43,\n",
       " 'pasta very': 70,\n",
       " 'very much': 98,\n",
       " 'like pasta very': 44,\n",
       " 'pasta very much': 71,\n",
       " 'like pasta very much': 45,\n",
       " 'good': 14,\n",
       " 'but': 5,\n",
       " 'cost': 9,\n",
       " 'little': 46,\n",
       " 'high': 20,\n",
       " 'is good': 27,\n",
       " 'good but': 17,\n",
       " 'but cost': 6,\n",
       " 'cost is': 10,\n",
       " 'is little': 32,\n",
       " 'little high': 47,\n",
       " 'pasta is good': 59,\n",
       " 'is good but': 30,\n",
       " 'good but cost': 18,\n",
       " 'but cost is': 7,\n",
       " 'cost is little': 11,\n",
       " 'is little high': 33,\n",
       " 'pasta is good but': 60,\n",
       " 'is good but cost': 31,\n",
       " 'good but cost is': 19,\n",
       " 'but cost is little': 8,\n",
       " 'cost is little high': 12,\n",
       " 'tast': 83,\n",
       " 'and': 3,\n",
       " 'affordable': 0,\n",
       " 'pasta tast': 64,\n",
       " 'tast is': 84,\n",
       " 'good and': 15,\n",
       " 'and affordable': 4,\n",
       " 'pasta tast is': 65,\n",
       " 'tast is good': 85,\n",
       " 'is good and': 28,\n",
       " 'good and affordable': 16,\n",
       " 'pasta tast is good': 66,\n",
       " 'tast is good and': 86,\n",
       " 'is good and affordable': 29,\n",
       " 'test': 88,\n",
       " 'really': 79,\n",
       " 'nice': 49,\n",
       " 'however': 21,\n",
       " 'price': 75,\n",
       " 'an': 1,\n",
       " 'pasta test': 67,\n",
       " 'test is': 89,\n",
       " 'is really': 38,\n",
       " 'really nice': 80,\n",
       " 'nice however': 50,\n",
       " 'however price': 22,\n",
       " 'price is': 76,\n",
       " 'not an': 54,\n",
       " 'an affordable': 2,\n",
       " 'pasta test is': 68,\n",
       " 'test is really': 90,\n",
       " 'is really nice': 39,\n",
       " 'really nice however': 81,\n",
       " 'nice however price': 51,\n",
       " 'however price is': 23,\n",
       " 'price is not': 77,\n",
       " 'is not an': 35,\n",
       " 'not an affordable': 55,\n",
       " 'pasta test is really': 69,\n",
       " 'test is really nice': 91,\n",
       " 'is really nice however': 40,\n",
       " 'really nice however price': 82,\n",
       " 'nice however price is': 52,\n",
       " 'however price is not': 24,\n",
       " 'price is not an': 78,\n",
       " 'is not an affordable': 36}"
      ]
     },
     "execution_count": 33,
     "metadata": {},
     "output_type": "execute_result"
    }
   ],
   "source": [
    "tfidf.vocabulary_"
   ]
  }
 ],
 "metadata": {
  "kernelspec": {
   "display_name": "Python 3 (ipykernel)",
   "language": "python",
   "name": "python3"
  },
  "language_info": {
   "codemirror_mode": {
    "name": "ipython",
    "version": 3
   },
   "file_extension": ".py",
   "mimetype": "text/x-python",
   "name": "python",
   "nbconvert_exporter": "python",
   "pygments_lexer": "ipython3",
   "version": "3.12.4"
  }
 },
 "nbformat": 4,
 "nbformat_minor": 5
}
