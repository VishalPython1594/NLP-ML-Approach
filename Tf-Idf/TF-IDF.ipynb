{
 "cells": [
  {
   "cell_type": "code",
   "execution_count": 1,
   "id": "966b41f8-f48f-4d18-b6ad-95394aa7ff57",
   "metadata": {},
   "outputs": [],
   "source": [
    "import pandas as pd\n",
    "import numpy as np"
   ]
  },
  {
   "cell_type": "code",
   "execution_count": 2,
   "id": "a61329a8-3de9-45f1-9a28-6bd450fb3090",
   "metadata": {},
   "outputs": [],
   "source": [
    "df = pd.DataFrame({'Text' : ['This Pasta is Tasty', 'This Pasta is not Tasty', 'Pasta is delicious', 'I like pasta very much',\n",
    "                             'Pasta is good but cost is little high', 'Pasta taste is good and affordable',\n",
    "                             'Pasta taste is really nice however price is not an affordable'],\n",
    "                   'Output' : [1,0,1,1,0,1,0]})"
   ]
  },
  {
   "cell_type": "code",
   "execution_count": 3,
   "id": "362d414e-5868-4e11-b024-608b8be7abc4",
   "metadata": {},
   "outputs": [
    {
     "data": {
      "text/html": [
       "<div>\n",
       "<style scoped>\n",
       "    .dataframe tbody tr th:only-of-type {\n",
       "        vertical-align: middle;\n",
       "    }\n",
       "\n",
       "    .dataframe tbody tr th {\n",
       "        vertical-align: top;\n",
       "    }\n",
       "\n",
       "    .dataframe thead th {\n",
       "        text-align: right;\n",
       "    }\n",
       "</style>\n",
       "<table border=\"1\" class=\"dataframe\">\n",
       "  <thead>\n",
       "    <tr style=\"text-align: right;\">\n",
       "      <th></th>\n",
       "      <th>Text</th>\n",
       "      <th>Output</th>\n",
       "    </tr>\n",
       "  </thead>\n",
       "  <tbody>\n",
       "    <tr>\n",
       "      <th>0</th>\n",
       "      <td>This Pasta is Tasty</td>\n",
       "      <td>1</td>\n",
       "    </tr>\n",
       "    <tr>\n",
       "      <th>1</th>\n",
       "      <td>This Pasta is not Tasty</td>\n",
       "      <td>0</td>\n",
       "    </tr>\n",
       "    <tr>\n",
       "      <th>2</th>\n",
       "      <td>Pasta is delicious</td>\n",
       "      <td>1</td>\n",
       "    </tr>\n",
       "    <tr>\n",
       "      <th>3</th>\n",
       "      <td>I like pasta very much</td>\n",
       "      <td>1</td>\n",
       "    </tr>\n",
       "    <tr>\n",
       "      <th>4</th>\n",
       "      <td>Pasta is good but cost is little high</td>\n",
       "      <td>0</td>\n",
       "    </tr>\n",
       "    <tr>\n",
       "      <th>5</th>\n",
       "      <td>Pasta taste is good and affordable</td>\n",
       "      <td>1</td>\n",
       "    </tr>\n",
       "    <tr>\n",
       "      <th>6</th>\n",
       "      <td>Pasta taste is really nice however price is no...</td>\n",
       "      <td>0</td>\n",
       "    </tr>\n",
       "  </tbody>\n",
       "</table>\n",
       "</div>"
      ],
      "text/plain": [
       "                                                Text  Output\n",
       "0                                This Pasta is Tasty       1\n",
       "1                            This Pasta is not Tasty       0\n",
       "2                                 Pasta is delicious       1\n",
       "3                             I like pasta very much       1\n",
       "4              Pasta is good but cost is little high       0\n",
       "5                 Pasta taste is good and affordable       1\n",
       "6  Pasta taste is really nice however price is no...       0"
      ]
     },
     "execution_count": 3,
     "metadata": {},
     "output_type": "execute_result"
    }
   ],
   "source": [
    "df"
   ]
  },
  {
   "cell_type": "code",
   "execution_count": 4,
   "id": "7ca9eac3-4129-43a3-bf0f-9971fc6cc49f",
   "metadata": {},
   "outputs": [],
   "source": [
    "from sklearn.feature_extraction.text import TfidfVectorizer"
   ]
  },
  {
   "cell_type": "code",
   "execution_count": 5,
   "id": "ea7114d9-7765-4639-a335-e3fbce8f2e90",
   "metadata": {},
   "outputs": [],
   "source": [
    "tfidf = TfidfVectorizer()"
   ]
  },
  {
   "cell_type": "code",
   "execution_count": 6,
   "id": "069b9703-5813-4f31-a854-30269cf03af2",
   "metadata": {},
   "outputs": [
    {
     "data": {
      "text/plain": [
       "array([[0.        , 0.        , 0.        , 0.        , 0.        ,\n",
       "        0.        , 0.        , 0.        , 0.        , 0.35610686,\n",
       "        0.        , 0.        , 0.        , 0.        , 0.        ,\n",
       "        0.31415703, 0.        , 0.        , 0.        , 0.62229144,\n",
       "        0.62229144, 0.        ],\n",
       "       [0.        , 0.        , 0.        , 0.        , 0.        ,\n",
       "        0.        , 0.        , 0.        , 0.        , 0.30234549,\n",
       "        0.        , 0.        , 0.        , 0.        , 0.52834425,\n",
       "        0.26672882, 0.        , 0.        , 0.        , 0.52834425,\n",
       "        0.52834425, 0.        ],\n",
       "       [0.        , 0.        , 0.        , 0.        , 0.        ,\n",
       "        0.84477641, 0.        , 0.        , 0.        , 0.40128351,\n",
       "        0.        , 0.        , 0.        , 0.        , 0.        ,\n",
       "        0.35401182, 0.        , 0.        , 0.        , 0.        ,\n",
       "        0.        , 0.        ],\n",
       "       [0.        , 0.        , 0.        , 0.        , 0.        ,\n",
       "        0.        , 0.        , 0.        , 0.        , 0.        ,\n",
       "        0.56115953, 0.        , 0.56115953, 0.        , 0.        ,\n",
       "        0.23515939, 0.        , 0.        , 0.        , 0.        ,\n",
       "        0.        , 0.56115953],\n",
       "       [0.        , 0.        , 0.        , 0.41640578, 0.41640578,\n",
       "        0.        , 0.34565256, 0.41640578, 0.        , 0.3956    ,\n",
       "        0.        , 0.41640578, 0.        , 0.        , 0.        ,\n",
       "        0.17449891, 0.        , 0.        , 0.        , 0.        ,\n",
       "        0.        , 0.        ],\n",
       "       [0.44571748, 0.        , 0.53695346, 0.        , 0.        ,\n",
       "        0.        , 0.44571748, 0.        , 0.        , 0.25506225,\n",
       "        0.        , 0.        , 0.        , 0.        , 0.        ,\n",
       "        0.2250156 , 0.        , 0.        , 0.44571748, 0.        ,\n",
       "        0.        , 0.        ],\n",
       "       [0.29085019, 0.35038566, 0.        , 0.        , 0.        ,\n",
       "        0.        , 0.        , 0.        , 0.35038566, 0.33287859,\n",
       "        0.        , 0.        , 0.        , 0.35038566, 0.29085019,\n",
       "        0.14683254, 0.35038566, 0.35038566, 0.29085019, 0.        ,\n",
       "        0.        , 0.        ]])"
      ]
     },
     "execution_count": 6,
     "metadata": {},
     "output_type": "execute_result"
    }
   ],
   "source": [
    "tfidf.fit_transform(df['Text']).toarray()"
   ]
  },
  {
   "cell_type": "code",
   "execution_count": null,
   "id": "ddea0f9c-72e0-4032-b388-5a64a8005f4a",
   "metadata": {},
   "outputs": [],
   "source": []
  }
 ],
 "metadata": {
  "kernelspec": {
   "display_name": "Python 3 (ipykernel)",
   "language": "python",
   "name": "python3"
  },
  "language_info": {
   "codemirror_mode": {
    "name": "ipython",
    "version": 3
   },
   "file_extension": ".py",
   "mimetype": "text/x-python",
   "name": "python",
   "nbconvert_exporter": "python",
   "pygments_lexer": "ipython3",
   "version": "3.12.4"
  }
 },
 "nbformat": 4,
 "nbformat_minor": 5
}
